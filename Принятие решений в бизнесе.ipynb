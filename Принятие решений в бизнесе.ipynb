{
 "cells": [
  {
   "cell_type": "markdown",
   "metadata": {},
   "source": [
    "**Название:** Аналитик крупного интернет-магазина.\n",
    "\n",
    "**Краткое описание:** Вместе с отделом маркетинга подготовлен список гипотез для увеличения выручки.\n",
    "\n",
    "**Цели и задачи:** Запустити A/B-тест и проанализировать результат.\n",
    "\n",
    "**Описание исходных данных:**\n",
    "\n",
    "    - Hypothesis: гипотезы\n",
    "    - Visitors, orders: результаты А/В тестов\n",
    "  \n",
    "**План (декомпозиция) анализа данных:**\n",
    "\n",
    "    - Шаг 1. Загржаем данные и подготовливаем их к анализу\n",
    "    - Шаг 2. Приоритизируем гипотезы.\n",
    "      - Применим фреймворк ICE для приоритизации гипотез. Отсортируем их по убыванию приоритета.\n",
    "      - Применим фреймворк RICE для приоритизации гипотез. Отсортируем их по убыванию приоритета.\n",
    "      - Сделаем выводы.\n",
    "    - Шаг 3. Проанализируем A/B-тест:\n",
    "      - Построим график кумулятивной выручки по группам. Сделаем выводы и предположения.\n",
    "      - Построим график кумулятивного среднего чека по группам. Сделаем выводы и предположения.\n",
    "      - Построим график относительного изменения кумулятивного среднего чека группы B к группе A. Сделаем выводы и предположения.\n",
    "      - Построим график кумулятивной конверсии по группам. Сделаем выводы и предположения.\n",
    "      - Построим график относительного изменения кумулятивной конверсии группы B к группе A. Сделаем выводы и предположения.\n",
    "      - Построим точечный график количества заказов по пользователям. Сделаем выводы и предположения.\n",
    "      - Посчитаем 95-й и 99-й перцентили количества заказов на пользователя. Выберем границу для определения аномальных пользователей.\n",
    "      - Постром точечный график стоимостей заказов. Сделаем выводы и предположения.\n",
    "      - Посчитаем 95-й и 99-й перцентили стоимости заказов. Выберем границу для определения аномальных заказов.\n",
    "      - Посчитаем статистическую значимость различий в конверсии между группами по «сырым» данным. Сделаем выводы и предположения.\n",
    "      - Посчитаем статистическую значимость различий в среднем чеке заказа между группами по «сырым» данным. Сделаем выводы и предположения.\n",
    "      - Посчитаем статистическую значимость различий в конверсии между группами по «очищенным» данным. Сделаем выводы и предположения.\n",
    "      - Посчитаем статистическую значимость различий в среднем чеке заказа между группами по «очищенным» данным. Сделаем выводы и предположения.\n",
    "    - Шаг 4. Сделаем общий вывод.\n"
   ]
  },
  {
   "cell_type": "markdown",
   "metadata": {},
   "source": [
    "## Шаг 1. Загружаем подготоваливаем данные к анализу"
   ]
  },
  {
   "cell_type": "code",
   "execution_count": 1,
   "metadata": {},
   "outputs": [],
   "source": [
    "import pandas as pd\n",
    "import numpy as np\n",
    "from scipy import stats as st\n",
    "from matplotlib import pyplot as plt\n",
    "import datetime as dt\n"
   ]
  },
  {
   "cell_type": "code",
   "execution_count": 2,
   "metadata": {},
   "outputs": [],
   "source": [
    "pd.set_option('display.max_colwidth', 150)"
   ]
  },
  {
   "cell_type": "code",
   "execution_count": 3,
   "metadata": {},
   "outputs": [],
   "source": [
    "hypothesis = pd.read_csv('/datasets/hypothesis.csv')\n",
    "orders = pd.read_csv('/datasets/orders.csv')\n",
    "visitors = pd.read_csv('/datasets/visitors.csv')"
   ]
  },
  {
   "cell_type": "code",
   "execution_count": 4,
   "metadata": {},
   "outputs": [
    {
     "data": {
      "text/html": [
       "<div>\n",
       "<style scoped>\n",
       "    .dataframe tbody tr th:only-of-type {\n",
       "        vertical-align: middle;\n",
       "    }\n",
       "\n",
       "    .dataframe tbody tr th {\n",
       "        vertical-align: top;\n",
       "    }\n",
       "\n",
       "    .dataframe thead th {\n",
       "        text-align: right;\n",
       "    }\n",
       "</style>\n",
       "<table border=\"1\" class=\"dataframe\">\n",
       "  <thead>\n",
       "    <tr style=\"text-align: right;\">\n",
       "      <th></th>\n",
       "      <th>Hypothesis</th>\n",
       "      <th>Reach</th>\n",
       "      <th>Impact</th>\n",
       "      <th>Confidence</th>\n",
       "      <th>Efforts</th>\n",
       "    </tr>\n",
       "  </thead>\n",
       "  <tbody>\n",
       "    <tr>\n",
       "      <th>0</th>\n",
       "      <td>Добавить два новых канала привлечения трафика, что позволит привлекать на 30% больше пользователей</td>\n",
       "      <td>3</td>\n",
       "      <td>10</td>\n",
       "      <td>8</td>\n",
       "      <td>6</td>\n",
       "    </tr>\n",
       "    <tr>\n",
       "      <th>1</th>\n",
       "      <td>Запустить собственную службу доставки, что сократит срок доставки заказов</td>\n",
       "      <td>2</td>\n",
       "      <td>5</td>\n",
       "      <td>4</td>\n",
       "      <td>10</td>\n",
       "    </tr>\n",
       "    <tr>\n",
       "      <th>2</th>\n",
       "      <td>Добавить блоки рекомендаций товаров на сайт интернет магазина, чтобы повысить конверсию и средний чек заказа</td>\n",
       "      <td>8</td>\n",
       "      <td>3</td>\n",
       "      <td>7</td>\n",
       "      <td>3</td>\n",
       "    </tr>\n",
       "    <tr>\n",
       "      <th>3</th>\n",
       "      <td>Изменить структура категорий, что увеличит конверсию, т.к. пользователи быстрее найдут нужный товар</td>\n",
       "      <td>8</td>\n",
       "      <td>3</td>\n",
       "      <td>3</td>\n",
       "      <td>8</td>\n",
       "    </tr>\n",
       "    <tr>\n",
       "      <th>4</th>\n",
       "      <td>Изменить цвет фона главной страницы, чтобы увеличить вовлеченность пользователей</td>\n",
       "      <td>3</td>\n",
       "      <td>1</td>\n",
       "      <td>1</td>\n",
       "      <td>1</td>\n",
       "    </tr>\n",
       "  </tbody>\n",
       "</table>\n",
       "</div>"
      ],
      "text/plain": [
       "                                                                                                     Hypothesis  \\\n",
       "0            Добавить два новых канала привлечения трафика, что позволит привлекать на 30% больше пользователей   \n",
       "1                                     Запустить собственную службу доставки, что сократит срок доставки заказов   \n",
       "2  Добавить блоки рекомендаций товаров на сайт интернет магазина, чтобы повысить конверсию и средний чек заказа   \n",
       "3           Изменить структура категорий, что увеличит конверсию, т.к. пользователи быстрее найдут нужный товар   \n",
       "4                              Изменить цвет фона главной страницы, чтобы увеличить вовлеченность пользователей   \n",
       "\n",
       "   Reach  Impact  Confidence  Efforts  \n",
       "0      3      10           8        6  \n",
       "1      2       5           4       10  \n",
       "2      8       3           7        3  \n",
       "3      8       3           3        8  \n",
       "4      3       1           1        1  "
      ]
     },
     "metadata": {},
     "output_type": "display_data"
    },
    {
     "data": {
      "text/html": [
       "<div>\n",
       "<style scoped>\n",
       "    .dataframe tbody tr th:only-of-type {\n",
       "        vertical-align: middle;\n",
       "    }\n",
       "\n",
       "    .dataframe tbody tr th {\n",
       "        vertical-align: top;\n",
       "    }\n",
       "\n",
       "    .dataframe thead th {\n",
       "        text-align: right;\n",
       "    }\n",
       "</style>\n",
       "<table border=\"1\" class=\"dataframe\">\n",
       "  <thead>\n",
       "    <tr style=\"text-align: right;\">\n",
       "      <th></th>\n",
       "      <th>transactionId</th>\n",
       "      <th>visitorId</th>\n",
       "      <th>date</th>\n",
       "      <th>revenue</th>\n",
       "      <th>group</th>\n",
       "    </tr>\n",
       "  </thead>\n",
       "  <tbody>\n",
       "    <tr>\n",
       "      <th>0</th>\n",
       "      <td>3667963787</td>\n",
       "      <td>3312258926</td>\n",
       "      <td>2019-08-15</td>\n",
       "      <td>1650</td>\n",
       "      <td>B</td>\n",
       "    </tr>\n",
       "    <tr>\n",
       "      <th>1</th>\n",
       "      <td>2804400009</td>\n",
       "      <td>3642806036</td>\n",
       "      <td>2019-08-15</td>\n",
       "      <td>730</td>\n",
       "      <td>B</td>\n",
       "    </tr>\n",
       "    <tr>\n",
       "      <th>2</th>\n",
       "      <td>2961555356</td>\n",
       "      <td>4069496402</td>\n",
       "      <td>2019-08-15</td>\n",
       "      <td>400</td>\n",
       "      <td>A</td>\n",
       "    </tr>\n",
       "    <tr>\n",
       "      <th>3</th>\n",
       "      <td>3797467345</td>\n",
       "      <td>1196621759</td>\n",
       "      <td>2019-08-15</td>\n",
       "      <td>9759</td>\n",
       "      <td>B</td>\n",
       "    </tr>\n",
       "    <tr>\n",
       "      <th>4</th>\n",
       "      <td>2282983706</td>\n",
       "      <td>2322279887</td>\n",
       "      <td>2019-08-15</td>\n",
       "      <td>2308</td>\n",
       "      <td>B</td>\n",
       "    </tr>\n",
       "  </tbody>\n",
       "</table>\n",
       "</div>"
      ],
      "text/plain": [
       "   transactionId   visitorId        date  revenue group\n",
       "0     3667963787  3312258926  2019-08-15     1650     B\n",
       "1     2804400009  3642806036  2019-08-15      730     B\n",
       "2     2961555356  4069496402  2019-08-15      400     A\n",
       "3     3797467345  1196621759  2019-08-15     9759     B\n",
       "4     2282983706  2322279887  2019-08-15     2308     B"
      ]
     },
     "metadata": {},
     "output_type": "display_data"
    },
    {
     "data": {
      "text/html": [
       "<div>\n",
       "<style scoped>\n",
       "    .dataframe tbody tr th:only-of-type {\n",
       "        vertical-align: middle;\n",
       "    }\n",
       "\n",
       "    .dataframe tbody tr th {\n",
       "        vertical-align: top;\n",
       "    }\n",
       "\n",
       "    .dataframe thead th {\n",
       "        text-align: right;\n",
       "    }\n",
       "</style>\n",
       "<table border=\"1\" class=\"dataframe\">\n",
       "  <thead>\n",
       "    <tr style=\"text-align: right;\">\n",
       "      <th></th>\n",
       "      <th>date</th>\n",
       "      <th>group</th>\n",
       "      <th>visitors</th>\n",
       "    </tr>\n",
       "  </thead>\n",
       "  <tbody>\n",
       "    <tr>\n",
       "      <th>0</th>\n",
       "      <td>2019-08-01</td>\n",
       "      <td>A</td>\n",
       "      <td>719</td>\n",
       "    </tr>\n",
       "    <tr>\n",
       "      <th>1</th>\n",
       "      <td>2019-08-02</td>\n",
       "      <td>A</td>\n",
       "      <td>619</td>\n",
       "    </tr>\n",
       "    <tr>\n",
       "      <th>2</th>\n",
       "      <td>2019-08-03</td>\n",
       "      <td>A</td>\n",
       "      <td>507</td>\n",
       "    </tr>\n",
       "    <tr>\n",
       "      <th>3</th>\n",
       "      <td>2019-08-04</td>\n",
       "      <td>A</td>\n",
       "      <td>717</td>\n",
       "    </tr>\n",
       "    <tr>\n",
       "      <th>4</th>\n",
       "      <td>2019-08-05</td>\n",
       "      <td>A</td>\n",
       "      <td>756</td>\n",
       "    </tr>\n",
       "  </tbody>\n",
       "</table>\n",
       "</div>"
      ],
      "text/plain": [
       "         date group  visitors\n",
       "0  2019-08-01     A       719\n",
       "1  2019-08-02     A       619\n",
       "2  2019-08-03     A       507\n",
       "3  2019-08-04     A       717\n",
       "4  2019-08-05     A       756"
      ]
     },
     "metadata": {},
     "output_type": "display_data"
    }
   ],
   "source": [
    "display(hypothesis.head(5))\n",
    "display(orders.head(5))\n",
    "display(visitors.head(5))"
   ]
  },
  {
   "cell_type": "code",
   "execution_count": 5,
   "metadata": {},
   "outputs": [],
   "source": [
    "orders['date'] = pd.to_datetime(orders['date'], format='%Y-%m-%d')\n",
    "visitors['date'] = pd.to_datetime(visitors['date'], format='%Y-%m-%d')"
   ]
  },
  {
   "cell_type": "code",
   "execution_count": 6,
   "metadata": {},
   "outputs": [
    {
     "data": {
      "text/html": [
       "<div>\n",
       "<style scoped>\n",
       "    .dataframe tbody tr th:only-of-type {\n",
       "        vertical-align: middle;\n",
       "    }\n",
       "\n",
       "    .dataframe tbody tr th {\n",
       "        vertical-align: top;\n",
       "    }\n",
       "\n",
       "    .dataframe thead th {\n",
       "        text-align: right;\n",
       "    }\n",
       "</style>\n",
       "<table border=\"1\" class=\"dataframe\">\n",
       "  <thead>\n",
       "    <tr style=\"text-align: right;\">\n",
       "      <th></th>\n",
       "      <th>hypothesis</th>\n",
       "      <th>reach</th>\n",
       "      <th>impact</th>\n",
       "      <th>confidence</th>\n",
       "      <th>efforts</th>\n",
       "    </tr>\n",
       "  </thead>\n",
       "  <tbody>\n",
       "    <tr>\n",
       "      <th>0</th>\n",
       "      <td>Добавить два новых канала привлечения трафика, что позволит привлекать на 30% больше пользователей</td>\n",
       "      <td>3</td>\n",
       "      <td>10</td>\n",
       "      <td>8</td>\n",
       "      <td>6</td>\n",
       "    </tr>\n",
       "  </tbody>\n",
       "</table>\n",
       "</div>"
      ],
      "text/plain": [
       "                                                                                           hypothesis  \\\n",
       "0  Добавить два новых канала привлечения трафика, что позволит привлекать на 30% больше пользователей   \n",
       "\n",
       "   reach  impact  confidence  efforts  \n",
       "0      3      10           8        6  "
      ]
     },
     "metadata": {},
     "output_type": "display_data"
    }
   ],
   "source": [
    "#hypothesis.rename(columns={'Hypothesis':'hypothesis', 'Reach':'reach', 'Impact':'impact', 'Confidence':'confidence', 'Efforts':'efforts'})\n",
    "hypothesis.columns = hypothesis.columns.str.lower()\n",
    "display(hypothesis.sample())\n"
   ]
  },
  {
   "cell_type": "code",
   "execution_count": 7,
   "metadata": {},
   "outputs": [],
   "source": [
    "#orders.rename(columns={'transactionId': 'transaction_id', 'visitorId': 'visitor_id'}).head(5)\n",
    "orders.columns = orders.columns.str.lower()"
   ]
  },
  {
   "cell_type": "code",
   "execution_count": 8,
   "metadata": {},
   "outputs": [
    {
     "name": "stdout",
     "output_type": "stream",
     "text": [
      "<class 'pandas.core.frame.DataFrame'>\n",
      "RangeIndex: 9 entries, 0 to 8\n",
      "Data columns (total 5 columns):\n",
      " #   Column      Non-Null Count  Dtype \n",
      "---  ------      --------------  ----- \n",
      " 0   hypothesis  9 non-null      object\n",
      " 1   reach       9 non-null      int64 \n",
      " 2   impact      9 non-null      int64 \n",
      " 3   confidence  9 non-null      int64 \n",
      " 4   efforts     9 non-null      int64 \n",
      "dtypes: int64(4), object(1)\n",
      "memory usage: 488.0+ bytes\n"
     ]
    },
    {
     "data": {
      "text/plain": [
       "None"
      ]
     },
     "metadata": {},
     "output_type": "display_data"
    },
    {
     "name": "stdout",
     "output_type": "stream",
     "text": [
      "<class 'pandas.core.frame.DataFrame'>\n",
      "RangeIndex: 1197 entries, 0 to 1196\n",
      "Data columns (total 5 columns):\n",
      " #   Column         Non-Null Count  Dtype         \n",
      "---  ------         --------------  -----         \n",
      " 0   transactionid  1197 non-null   int64         \n",
      " 1   visitorid      1197 non-null   int64         \n",
      " 2   date           1197 non-null   datetime64[ns]\n",
      " 3   revenue        1197 non-null   int64         \n",
      " 4   group          1197 non-null   object        \n",
      "dtypes: datetime64[ns](1), int64(3), object(1)\n",
      "memory usage: 46.9+ KB\n"
     ]
    },
    {
     "data": {
      "text/plain": [
       "None"
      ]
     },
     "metadata": {},
     "output_type": "display_data"
    },
    {
     "name": "stdout",
     "output_type": "stream",
     "text": [
      "<class 'pandas.core.frame.DataFrame'>\n",
      "RangeIndex: 62 entries, 0 to 61\n",
      "Data columns (total 3 columns):\n",
      " #   Column    Non-Null Count  Dtype         \n",
      "---  ------    --------------  -----         \n",
      " 0   date      62 non-null     datetime64[ns]\n",
      " 1   group     62 non-null     object        \n",
      " 2   visitors  62 non-null     int64         \n",
      "dtypes: datetime64[ns](1), int64(1), object(1)\n",
      "memory usage: 1.6+ KB\n"
     ]
    },
    {
     "data": {
      "text/plain": [
       "None"
      ]
     },
     "metadata": {},
     "output_type": "display_data"
    }
   ],
   "source": [
    "display(hypothesis.info())\n",
    "display(orders.info())\n",
    "display(visitors.info())"
   ]
  },
  {
   "cell_type": "markdown",
   "metadata": {},
   "source": [
    "### Вывод\n",
    "<br> 1) Импортировали и просмотрели таблицы.\n",
    "<br> 2) Провели проверку на пропущенные данные, привели названия столбцов к стандартам.\n",
    "<br> 3) Преобразовали данные о времени для дальнейших расчётов."
   ]
  },
  {
   "cell_type": "markdown",
   "metadata": {},
   "source": [
    "## Шаг 2. Приоритизируем гипотезы"
   ]
  },
  {
   "cell_type": "code",
   "execution_count": 9,
   "metadata": {},
   "outputs": [
    {
     "data": {
      "text/html": [
       "<div>\n",
       "<style scoped>\n",
       "    .dataframe tbody tr th:only-of-type {\n",
       "        vertical-align: middle;\n",
       "    }\n",
       "\n",
       "    .dataframe tbody tr th {\n",
       "        vertical-align: top;\n",
       "    }\n",
       "\n",
       "    .dataframe thead th {\n",
       "        text-align: right;\n",
       "    }\n",
       "</style>\n",
       "<table border=\"1\" class=\"dataframe\">\n",
       "  <thead>\n",
       "    <tr style=\"text-align: right;\">\n",
       "      <th></th>\n",
       "      <th>hypothesis</th>\n",
       "      <th>ICE</th>\n",
       "    </tr>\n",
       "  </thead>\n",
       "  <tbody>\n",
       "    <tr>\n",
       "      <th>8</th>\n",
       "      <td>Запустить акцию, дающую скидку на товар в день рождения</td>\n",
       "      <td>16.20</td>\n",
       "    </tr>\n",
       "    <tr>\n",
       "      <th>0</th>\n",
       "      <td>Добавить два новых канала привлечения трафика, что позволит привлекать на 30% больше пользователей</td>\n",
       "      <td>13.33</td>\n",
       "    </tr>\n",
       "    <tr>\n",
       "      <th>7</th>\n",
       "      <td>Добавить форму подписки на все основные страницы, чтобы собрать базу клиентов для email-рассылок</td>\n",
       "      <td>11.20</td>\n",
       "    </tr>\n",
       "    <tr>\n",
       "      <th>6</th>\n",
       "      <td>Показать на главной странице баннеры с актуальными акциями и распродажами, чтобы увеличить конверсию</td>\n",
       "      <td>8.00</td>\n",
       "    </tr>\n",
       "    <tr>\n",
       "      <th>2</th>\n",
       "      <td>Добавить блоки рекомендаций товаров на сайт интернет магазина, чтобы повысить конверсию и средний чек заказа</td>\n",
       "      <td>7.00</td>\n",
       "    </tr>\n",
       "    <tr>\n",
       "      <th>1</th>\n",
       "      <td>Запустить собственную службу доставки, что сократит срок доставки заказов</td>\n",
       "      <td>2.00</td>\n",
       "    </tr>\n",
       "    <tr>\n",
       "      <th>5</th>\n",
       "      <td>Добавить страницу отзывов клиентов о магазине, что позволит увеличить количество заказов</td>\n",
       "      <td>1.33</td>\n",
       "    </tr>\n",
       "    <tr>\n",
       "      <th>3</th>\n",
       "      <td>Изменить структура категорий, что увеличит конверсию, т.к. пользователи быстрее найдут нужный товар</td>\n",
       "      <td>1.12</td>\n",
       "    </tr>\n",
       "    <tr>\n",
       "      <th>4</th>\n",
       "      <td>Изменить цвет фона главной страницы, чтобы увеличить вовлеченность пользователей</td>\n",
       "      <td>1.00</td>\n",
       "    </tr>\n",
       "  </tbody>\n",
       "</table>\n",
       "</div>"
      ],
      "text/plain": [
       "                                                                                                     hypothesis  \\\n",
       "8                                                       Запустить акцию, дающую скидку на товар в день рождения   \n",
       "0            Добавить два новых канала привлечения трафика, что позволит привлекать на 30% больше пользователей   \n",
       "7              Добавить форму подписки на все основные страницы, чтобы собрать базу клиентов для email-рассылок   \n",
       "6          Показать на главной странице баннеры с актуальными акциями и распродажами, чтобы увеличить конверсию   \n",
       "2  Добавить блоки рекомендаций товаров на сайт интернет магазина, чтобы повысить конверсию и средний чек заказа   \n",
       "1                                     Запустить собственную службу доставки, что сократит срок доставки заказов   \n",
       "5                      Добавить страницу отзывов клиентов о магазине, что позволит увеличить количество заказов   \n",
       "3           Изменить структура категорий, что увеличит конверсию, т.к. пользователи быстрее найдут нужный товар   \n",
       "4                              Изменить цвет фона главной страницы, чтобы увеличить вовлеченность пользователей   \n",
       "\n",
       "     ICE  \n",
       "8  16.20  \n",
       "0  13.33  \n",
       "7  11.20  \n",
       "6   8.00  \n",
       "2   7.00  \n",
       "1   2.00  \n",
       "5   1.33  \n",
       "3   1.12  \n",
       "4   1.00  "
      ]
     },
     "metadata": {},
     "output_type": "display_data"
    }
   ],
   "source": [
    "#Применим фреймворк ICE для приоритизации гипотез. Отсортируем их по убыванию приоритета.\n",
    "hypothesis['ICE'] = round((hypothesis['impact']*hypothesis['confidence'])/ hypothesis['efforts'], 2)\n",
    "display(hypothesis[['hypothesis','ICE']].sort_values(by='ICE', ascending=False)) "
   ]
  },
  {
   "cell_type": "code",
   "execution_count": 10,
   "metadata": {},
   "outputs": [
    {
     "data": {
      "text/html": [
       "<div>\n",
       "<style scoped>\n",
       "    .dataframe tbody tr th:only-of-type {\n",
       "        vertical-align: middle;\n",
       "    }\n",
       "\n",
       "    .dataframe tbody tr th {\n",
       "        vertical-align: top;\n",
       "    }\n",
       "\n",
       "    .dataframe thead th {\n",
       "        text-align: right;\n",
       "    }\n",
       "</style>\n",
       "<table border=\"1\" class=\"dataframe\">\n",
       "  <thead>\n",
       "    <tr style=\"text-align: right;\">\n",
       "      <th></th>\n",
       "      <th>hypothesis</th>\n",
       "      <th>RICE</th>\n",
       "    </tr>\n",
       "  </thead>\n",
       "  <tbody>\n",
       "    <tr>\n",
       "      <th>7</th>\n",
       "      <td>Добавить форму подписки на все основные страницы, чтобы собрать базу клиентов для email-рассылок</td>\n",
       "      <td>112.0</td>\n",
       "    </tr>\n",
       "    <tr>\n",
       "      <th>2</th>\n",
       "      <td>Добавить блоки рекомендаций товаров на сайт интернет магазина, чтобы повысить конверсию и средний чек заказа</td>\n",
       "      <td>56.0</td>\n",
       "    </tr>\n",
       "    <tr>\n",
       "      <th>0</th>\n",
       "      <td>Добавить два новых канала привлечения трафика, что позволит привлекать на 30% больше пользователей</td>\n",
       "      <td>40.0</td>\n",
       "    </tr>\n",
       "    <tr>\n",
       "      <th>6</th>\n",
       "      <td>Показать на главной странице баннеры с актуальными акциями и распродажами, чтобы увеличить конверсию</td>\n",
       "      <td>40.0</td>\n",
       "    </tr>\n",
       "    <tr>\n",
       "      <th>8</th>\n",
       "      <td>Запустить акцию, дающую скидку на товар в день рождения</td>\n",
       "      <td>16.2</td>\n",
       "    </tr>\n",
       "    <tr>\n",
       "      <th>3</th>\n",
       "      <td>Изменить структура категорий, что увеличит конверсию, т.к. пользователи быстрее найдут нужный товар</td>\n",
       "      <td>9.0</td>\n",
       "    </tr>\n",
       "    <tr>\n",
       "      <th>1</th>\n",
       "      <td>Запустить собственную службу доставки, что сократит срок доставки заказов</td>\n",
       "      <td>4.0</td>\n",
       "    </tr>\n",
       "    <tr>\n",
       "      <th>5</th>\n",
       "      <td>Добавить страницу отзывов клиентов о магазине, что позволит увеличить количество заказов</td>\n",
       "      <td>4.0</td>\n",
       "    </tr>\n",
       "    <tr>\n",
       "      <th>4</th>\n",
       "      <td>Изменить цвет фона главной страницы, чтобы увеличить вовлеченность пользователей</td>\n",
       "      <td>3.0</td>\n",
       "    </tr>\n",
       "  </tbody>\n",
       "</table>\n",
       "</div>"
      ],
      "text/plain": [
       "                                                                                                     hypothesis  \\\n",
       "7              Добавить форму подписки на все основные страницы, чтобы собрать базу клиентов для email-рассылок   \n",
       "2  Добавить блоки рекомендаций товаров на сайт интернет магазина, чтобы повысить конверсию и средний чек заказа   \n",
       "0            Добавить два новых канала привлечения трафика, что позволит привлекать на 30% больше пользователей   \n",
       "6          Показать на главной странице баннеры с актуальными акциями и распродажами, чтобы увеличить конверсию   \n",
       "8                                                       Запустить акцию, дающую скидку на товар в день рождения   \n",
       "3           Изменить структура категорий, что увеличит конверсию, т.к. пользователи быстрее найдут нужный товар   \n",
       "1                                     Запустить собственную службу доставки, что сократит срок доставки заказов   \n",
       "5                      Добавить страницу отзывов клиентов о магазине, что позволит увеличить количество заказов   \n",
       "4                              Изменить цвет фона главной страницы, чтобы увеличить вовлеченность пользователей   \n",
       "\n",
       "    RICE  \n",
       "7  112.0  \n",
       "2   56.0  \n",
       "0   40.0  \n",
       "6   40.0  \n",
       "8   16.2  \n",
       "3    9.0  \n",
       "1    4.0  \n",
       "5    4.0  \n",
       "4    3.0  "
      ]
     },
     "metadata": {},
     "output_type": "display_data"
    }
   ],
   "source": [
    "#Применим фреймворк RICE для приоритизации гипотез. Отсортируем их по убыванию приоритета.\n",
    "hypothesis['RICE'] = (hypothesis['reach']*hypothesis['impact']*hypothesis['confidence'])/hypothesis['efforts']\n",
    "display(hypothesis[['hypothesis','RICE']].sort_values(by='RICE', ascending=False))"
   ]
  },
  {
   "cell_type": "markdown",
   "metadata": {},
   "source": [
    "### Вывод\n",
    "<br> Наиболее перспективные гипотезы по ICE 8,0,7\n",
    "<br> Наиболее перспективные гипотезы по RICE 7,2,8"
   ]
  },
  {
   "cell_type": "markdown",
   "metadata": {},
   "source": [
    "## Шаг 3. Проанализируем А/В тест"
   ]
  },
  {
   "cell_type": "markdown",
   "metadata": {},
   "source": [
    "### Построим график кумулятивной выручки по группам. Сделаем выводы и предположения."
   ]
  },
  {
   "cell_type": "code",
   "execution_count": 11,
   "metadata": {},
   "outputs": [],
   "source": [
    "datesGroups = orders[['date','group']].drop_duplicates() # создаем массив уникальных пар значений дат и групп теста"
   ]
  },
  {
   "cell_type": "code",
   "execution_count": 12,
   "metadata": {},
   "outputs": [],
   "source": [
    "# получаем агрегированные кумулятивные по дням данные о заказах \n",
    "ordersAggregated = (datesGroups\n",
    "                    .apply(lambda x: orders[(orders['date'] <= x['date']) & (orders['group'] == x['group'])]\n",
    "                        .agg({'date':'max', 'group':'max', 'transactionid':pd.Series.nunique, 'visitorid':pd.Series.nunique, 'revenue':'sum'}), axis=1)\n",
    "                    .sort_values(by=['date','group']) \n",
    "                   )"
   ]
  },
  {
   "cell_type": "code",
   "execution_count": 13,
   "metadata": {},
   "outputs": [],
   "source": [
    "# получаем агрегированные кумулятивные по дням данные о посетителях интернет-магазина\n",
    "visitorsAggregated = datesGroups.apply(lambda x: visitors[np.logical_and(visitors['date'] <= x['date'], visitors['group'] == x['group'])].agg({'date' : 'max', 'group' : 'max', 'visitors' : 'sum'}), axis=1).sort_values(by=['date','group'])"
   ]
  },
  {
   "cell_type": "code",
   "execution_count": 14,
   "metadata": {},
   "outputs": [
    {
     "data": {
      "text/html": [
       "<div>\n",
       "<style scoped>\n",
       "    .dataframe tbody tr th:only-of-type {\n",
       "        vertical-align: middle;\n",
       "    }\n",
       "\n",
       "    .dataframe tbody tr th {\n",
       "        vertical-align: top;\n",
       "    }\n",
       "\n",
       "    .dataframe thead th {\n",
       "        text-align: right;\n",
       "    }\n",
       "</style>\n",
       "<table border=\"1\" class=\"dataframe\">\n",
       "  <thead>\n",
       "    <tr style=\"text-align: right;\">\n",
       "      <th></th>\n",
       "      <th>date</th>\n",
       "      <th>group</th>\n",
       "      <th>orders</th>\n",
       "      <th>buyers</th>\n",
       "      <th>revenue</th>\n",
       "      <th>visitors</th>\n",
       "    </tr>\n",
       "  </thead>\n",
       "  <tbody>\n",
       "    <tr>\n",
       "      <th>0</th>\n",
       "      <td>2019-08-01</td>\n",
       "      <td>A</td>\n",
       "      <td>24</td>\n",
       "      <td>20</td>\n",
       "      <td>148579</td>\n",
       "      <td>719</td>\n",
       "    </tr>\n",
       "    <tr>\n",
       "      <th>1</th>\n",
       "      <td>2019-08-01</td>\n",
       "      <td>B</td>\n",
       "      <td>21</td>\n",
       "      <td>20</td>\n",
       "      <td>101217</td>\n",
       "      <td>713</td>\n",
       "    </tr>\n",
       "    <tr>\n",
       "      <th>2</th>\n",
       "      <td>2019-08-02</td>\n",
       "      <td>A</td>\n",
       "      <td>44</td>\n",
       "      <td>38</td>\n",
       "      <td>242401</td>\n",
       "      <td>1338</td>\n",
       "    </tr>\n",
       "    <tr>\n",
       "      <th>3</th>\n",
       "      <td>2019-08-02</td>\n",
       "      <td>B</td>\n",
       "      <td>45</td>\n",
       "      <td>43</td>\n",
       "      <td>266748</td>\n",
       "      <td>1294</td>\n",
       "    </tr>\n",
       "    <tr>\n",
       "      <th>4</th>\n",
       "      <td>2019-08-03</td>\n",
       "      <td>A</td>\n",
       "      <td>68</td>\n",
       "      <td>62</td>\n",
       "      <td>354874</td>\n",
       "      <td>1845</td>\n",
       "    </tr>\n",
       "  </tbody>\n",
       "</table>\n",
       "</div>"
      ],
      "text/plain": [
       "        date group  orders  buyers  revenue  visitors\n",
       "0 2019-08-01     A      24      20   148579       719\n",
       "1 2019-08-01     B      21      20   101217       713\n",
       "2 2019-08-02     A      44      38   242401      1338\n",
       "3 2019-08-02     B      45      43   266748      1294\n",
       "4 2019-08-03     A      68      62   354874      1845"
      ]
     },
     "execution_count": 14,
     "metadata": {},
     "output_type": "execute_result"
    }
   ],
   "source": [
    "# объединяем кумулятивные данные в одной таблице и присваиваем ее столбцам понятные названия\n",
    "cumulativeData = ordersAggregated.merge(visitorsAggregated, left_on=['date', 'group'], right_on=['date', 'group'])\n",
    "cumulativeData.columns = ['date', 'group', 'orders', 'buyers', 'revenue', 'visitors']\n",
    "cumulativeData.head(5)"
   ]
  },
  {
   "cell_type": "code",
   "execution_count": 15,
   "metadata": {},
   "outputs": [
    {
     "data": {
      "image/png": "[encoded data removed]",
      "text/plain": [
       "<Figure size 2160x576 with 1 Axes>"
      ]
     },
     "metadata": {
      "needs_background": "light"
     },
     "output_type": "display_data"
    }
   ],
   "source": [
    "cumulativeData.columns = [\n",
    "    'date',\n",
    "    'group',\n",
    "    'orders',\n",
    "    'buyers',\n",
    "    'revenue',\n",
    "    'visitors',\n",
    "]\n",
    "cumulativeRevenueA = cumulativeData[cumulativeData['group'] == 'A'][['date','revenue', 'orders']]\n",
    "cumulativeRevenueB = cumulativeData[cumulativeData['group'] == 'B'][['date','revenue', 'orders']]\n",
    "plt.figure(figsize=(30, 8))\n",
    "plt.plot(cumulativeRevenueA['date'], cumulativeRevenueA['revenue'], label='A')\n",
    "plt.plot(cumulativeRevenueB['date'], cumulativeRevenueB['revenue'], label='B')\n",
    "plt.title('Кумулятивная выручка по группам')\n",
    "plt.xlabel('Дата')\n",
    "plt.ylabel('Кумулятивная выручка')\n",
    "plt.legend()\n",
    "plt.show()\n"
   ]
  },
  {
   "cell_type": "markdown",
   "metadata": {},
   "source": [
    "#### Вывод\n",
    "В течение теста выручка до середины Августа равномерно увеличивалась, но выручка группы В в несколько раз возросла во второй половине Августа. Это может сигнализировать о вспелсках числа заказов, либо появлением дорогих заказов в выборке."
   ]
  },
  {
   "cell_type": "markdown",
   "metadata": {},
   "source": [
    "### Построим график кумулятивного среднего чека по группам. Сделаем выводы и предположения."
   ]
  },
  {
   "cell_type": "code",
   "execution_count": 16,
   "metadata": {},
   "outputs": [
    {
     "data": {
      "image/png": "[encoded data removed]",
      "text/plain": [
       "<Figure size 2160x576 with 1 Axes>"
      ]
     },
     "metadata": {
      "needs_background": "light"
     },
     "output_type": "display_data"
    }
   ],
   "source": [
    "plt.figure(figsize=(30, 8))\n",
    "plt.plot(cumulativeRevenueA['date'], cumulativeRevenueA['revenue']/cumulativeRevenueA['orders'], label='A')\n",
    "plt.plot(cumulativeRevenueB['date'], cumulativeRevenueB['revenue']/cumulativeRevenueB['orders'], label='B')\n",
    "plt.title('Кумулятивная среднего чека по группам')\n",
    "plt.xlabel('Дата', fontsize=12)\n",
    "plt.ylabel('Кумулятивная среднего чека', fontsize=12)\n",
    "plt.legend()\n",
    "plt.show()"
   ]
  },
  {
   "cell_type": "markdown",
   "metadata": {},
   "source": [
    "#### Вывод\n",
    "Средний чек для группы А установился ближе к концу теста, а у группы В виден резкий всплеск, возможно в эту группу попали крупные заказы."
   ]
  },
  {
   "cell_type": "markdown",
   "metadata": {},
   "source": [
    "### Построим график относительного изменения кумулятивного среднего чека группы B к группе A. Сделаем выводы и предположения."
   ]
  },
  {
   "cell_type": "code",
   "execution_count": 17,
   "metadata": {},
   "outputs": [
    {
     "data": {
      "image/png": "[encoded data removed]",
      "text/plain": [
       "<Figure size 2160x576 with 1 Axes>"
      ]
     },
     "metadata": {
      "needs_background": "light"
     },
     "output_type": "display_data"
    }
   ],
   "source": [
    "# собираем данные в одном датафрейме\n",
    "mergedCumulativeRevenue = cumulativeRevenueA.merge(cumulativeRevenueB, left_on='date', right_on='date', how='left', suffixes=['A', 'B'])\n",
    "\n",
    "# cтроим отношение средних чеков\n",
    "plt.figure(figsize=(30, 8))\n",
    "plt.plot(mergedCumulativeRevenue['date'], (mergedCumulativeRevenue['revenueB']/mergedCumulativeRevenue['ordersB'])/(mergedCumulativeRevenue['revenueA']/mergedCumulativeRevenue['ordersA'])-1)\n",
    "\n",
    "# добавляем ось X\n",
    "plt.axhline(y=0, color='black', linestyle='--') \n",
    "plt.title('График относительного изменения кумулятивного среднего чека группы B к группе A')\n",
    "plt.xlabel('Дата', fontsize=12)\n",
    "plt.ylabel('Средний чек группы В к группе А', fontsize=12)\n",
    "plt.show()"
   ]
  },
  {
   "cell_type": "markdown",
   "metadata": {},
   "source": [
    "#### Вывод\n",
    "В нескольких точках график различия между сегментами резко возрастает, вохможно всему виной крупные заказы и выборсы."
   ]
  },
  {
   "cell_type": "markdown",
   "metadata": {},
   "source": [
    "### Построим график кумулятивной конверсии по группам. Сделаем выводы и предположения."
   ]
  },
  {
   "cell_type": "code",
   "execution_count": 18,
   "metadata": {},
   "outputs": [
    {
     "data": {
      "image/png": "[encoded data removed]",
      "text/plain": [
       "<Figure size 432x288 with 1 Axes>"
      ]
     },
     "metadata": {
      "needs_background": "light"
     },
     "output_type": "display_data"
    }
   ],
   "source": [
    "# считаем кумулятивную конверсию\n",
    "cumulativeData['conversion'] = cumulativeData['orders']/cumulativeData['visitors']\n",
    "\n",
    "# отделяем данные по группе A\n",
    "cumulativeDataA = cumulativeData[cumulativeData['group']=='A']\n",
    "\n",
    "# отделяем данные по группе B\n",
    "cumulativeDataB = cumulativeData[cumulativeData['group']=='B']\n",
    "\n",
    "# строим графики\n",
    "plt.plot(cumulativeDataA['date'], cumulativeDataA['conversion'], label='A')\n",
    "plt.plot(cumulativeDataB['date'], cumulativeDataB['conversion'], label='B')\n",
    "plt.legend()\n",
    "\n",
    "# задаем масштаб осей\n",
    "\n",
    "plt.title('Кумулятивная конверсия по группам')\n",
    "plt.xlabel('Дата', fontsize=12)\n",
    "plt.ylabel('Конверсия', fontsize=12)\n",
    "plt.xticks(rotation=30)\n",
    "plt.show()"
   ]
  },
  {
   "cell_type": "markdown",
   "metadata": {},
   "source": [
    "#### Вывод\n",
    "Конверсия группы А просела и к концу теста колебалась около значений 0,030-0,031, а вот конверсия группы В вырвалась вперед и к концу теста колебалась около значений 0,033-0,035."
   ]
  },
  {
   "cell_type": "markdown",
   "metadata": {},
   "source": [
    "### Построим график относительного изменения кумулятивной конверсии группы B к группе A. Сделаем выводы и предположения."
   ]
  },
  {
   "cell_type": "code",
   "execution_count": 19,
   "metadata": {},
   "outputs": [
    {
     "data": {
      "image/png": "[encoded data removed]",
      "text/plain": [
       "<Figure size 720x360 with 1 Axes>"
      ]
     },
     "metadata": {
      "needs_background": "light"
     },
     "output_type": "display_data"
    }
   ],
   "source": [
    "mergedCumulativeConversions = cumulativeDataA[['date','conversion']].merge(cumulativeDataB[['date','conversion']], left_on='date', right_on='date', how='left', suffixes=['A', 'B'])\n",
    "plt.figure(figsize=(10,5))\n",
    "plt.plot(mergedCumulativeConversions['date'], mergedCumulativeConversions['conversionB']/mergedCumulativeConversions['conversionA']-1)\n",
    "\n",
    "plt.axhline(y=0, color='black', linestyle='--')\n",
    "plt.axhline(y=0.15, color='grey', linestyle='--')\n",
    "\n",
    "plt.title('Относительное изменение кумулятивной конверсии группы В к группе А')\n",
    "plt.xlabel('Дата', fontsize=12)\n",
    "plt.ylabel('(конверсия В/конверсия А) -1')\n",
    "plt.show()"
   ]
  },
  {
   "cell_type": "markdown",
   "metadata": {},
   "source": [
    "#### Вывод\n",
    "Конверсия группы В опередила конверсию группы А, в целом отношение конверсии ещё не установилось, и сейчас делать какие-либо выводы рано. Прежстоит проанализировать аномалии и проанализировать графики."
   ]
  },
  {
   "cell_type": "markdown",
   "metadata": {},
   "source": [
    "### Построим точечный график количества заказов по пользователям. Сделаем выводы и предположения."
   ]
  },
  {
   "cell_type": "code",
   "execution_count": 20,
   "metadata": {},
   "outputs": [
    {
     "data": {
      "text/plain": [
       "count    1031.000000\n",
       "mean        1.161009\n",
       "std         0.724919\n",
       "min         1.000000\n",
       "25%         1.000000\n",
       "50%         1.000000\n",
       "75%         1.000000\n",
       "max        11.000000\n",
       "Name: orders, dtype: float64"
      ]
     },
     "metadata": {},
     "output_type": "display_data"
    }
   ],
   "source": [
    "ordersByUsers = orders.groupby('visitorid', as_index=False).agg({'transactionid' : pd.Series.nunique})\n",
    "ordersByUsers.columns = ['visitorId', 'orders']\n",
    "display(ordersByUsers['orders'].describe())"
   ]
  },
  {
   "cell_type": "code",
   "execution_count": 21,
   "metadata": {},
   "outputs": [
    {
     "data": {
      "image/png": "[encoded data removed]",
      "text/plain": [
       "<Figure size 504x216 with 1 Axes>"
      ]
     },
     "metadata": {
      "needs_background": "light"
     },
     "output_type": "display_data"
    }
   ],
   "source": [
    "plt.figure(figsize=(7,3))\n",
    "plt.hist(ordersByUsers['orders']) \n",
    "plt.title('Количество заказов по пользователям')\n",
    "plt.xlabel('Количество заказов')\n",
    "plt.ylabel('Количество пользователей')\n",
    "plt.show()"
   ]
  },
  {
   "cell_type": "markdown",
   "metadata": {},
   "source": [
    "- Большинство пользователей оформляли заказ всего 1 раз."
   ]
  },
  {
   "cell_type": "code",
   "execution_count": 22,
   "metadata": {},
   "outputs": [
    {
     "data": {
      "image/png": "[encoded data removed]",
      "text/plain": [
       "<Figure size 432x288 with 1 Axes>"
      ]
     },
     "metadata": {
      "needs_background": "light"
     },
     "output_type": "display_data"
    }
   ],
   "source": [
    "x_values = pd.Series(range(0,len(ordersByUsers)))\n",
    "plt.scatter(x_values, ordersByUsers['orders']) \n",
    "plt.title('Количество заказов по пользователям')\n",
    "plt.show()"
   ]
  },
  {
   "cell_type": "markdown",
   "metadata": {},
   "source": [
    "#### Вывод\n",
    "На точечной диаграмме видим, что есть пользователи с 2-4 заказами, и их достаточно много."
   ]
  },
  {
   "cell_type": "markdown",
   "metadata": {},
   "source": [
    "### Посчитаем 95-й и 99-й перцентили количества заказов на пользователя. Выберем границу для определения аномальных пользователей."
   ]
  },
  {
   "cell_type": "code",
   "execution_count": 23,
   "metadata": {},
   "outputs": [
    {
     "data": {
      "text/plain": [
       "array([2., 4.])"
      ]
     },
     "metadata": {},
     "output_type": "display_data"
    }
   ],
   "source": [
    "display(np.percentile(ordersByUsers['orders'],[95,99]))"
   ]
  },
  {
   "cell_type": "markdown",
   "metadata": {},
   "source": [
    "#### Вывод \n",
    "Не более 5% оформляли 2 заказа, и не более 1% свыше 4 заказов.\n",
    "Границу для определения аномальных пользоватаелй определим в 3 заказа."
   ]
  },
  {
   "cell_type": "markdown",
   "metadata": {},
   "source": [
    "### Постром точечный график стоимостей заказов. Сделаем выводы и предположения."
   ]
  },
  {
   "cell_type": "code",
   "execution_count": 24,
   "metadata": {},
   "outputs": [
    {
     "data": {
      "text/plain": [
       "count    1.197000e+03\n",
       "mean     8.348006e+03\n",
       "std      3.919113e+04\n",
       "min      5.000000e+01\n",
       "25%      1.220000e+03\n",
       "50%      2.978000e+03\n",
       "75%      8.290000e+03\n",
       "max      1.294500e+06\n",
       "Name: revenue, dtype: float64"
      ]
     },
     "metadata": {},
     "output_type": "display_data"
    },
    {
     "data": {
      "image/png": "[encoded data removed]",
      "text/plain": [
       "<Figure size 504x360 with 1 Axes>"
      ]
     },
     "metadata": {
      "needs_background": "light"
     },
     "output_type": "display_data"
    },
    {
     "data": {
      "image/png": "[encoded data removed]",
      "text/plain": [
       "<Figure size 504x360 with 1 Axes>"
      ]
     },
     "metadata": {
      "needs_background": "light"
     },
     "output_type": "display_data"
    }
   ],
   "source": [
    "display(orders['revenue'].describe())\n",
    "x_values = pd.Series(range(0,len(orders['revenue'])))\n",
    "plt.figure(figsize=(7,5))\n",
    "plt.scatter(x_values, orders['revenue']) \n",
    "plt.title('Стоимость заказов')\n",
    "plt.show()\n",
    "\n",
    "plt.figure(figsize=(7,5))\n",
    "plt.ylim(0, 210000)\n",
    "plt.scatter(x_values, orders['revenue']) \n",
    "plt.title('Стоимость заказов')\n",
    "plt.show()"
   ]
  },
  {
   "cell_type": "markdown",
   "metadata": {},
   "source": [
    "#### Вывод\n",
    "По точечной диаграмме мы видим, что есть немного дорогих заказов, один из которых составляет 1.2+ млн. у.е., которые сильно искажает результат. "
   ]
  },
  {
   "cell_type": "markdown",
   "metadata": {},
   "source": [
    "### Посчитаем 95-й и 99-й перцентили стоимости заказов. Выберем границу для определения аномальных заказов."
   ]
  },
  {
   "cell_type": "code",
   "execution_count": 25,
   "metadata": {},
   "outputs": [
    {
     "data": {
      "text/plain": [
       "array([28000. , 58233.2])"
      ]
     },
     "metadata": {},
     "output_type": "display_data"
    }
   ],
   "source": [
    "display(np.percentile(orders['revenue'],[95,99]))"
   ]
  },
  {
   "cell_type": "markdown",
   "metadata": {},
   "source": [
    "#### Вывод\n",
    "Не более 5% заказов больше 28000 у.е., и не более 1% больше 58233,2 у.е.\n",
    "Границу для определения аномальных зазаков определим в 29000 у.е."
   ]
  },
  {
   "cell_type": "markdown",
   "metadata": {},
   "source": [
    "  ### Посчитаем статистическую значимость различий в конверсии между группами по «сырым» данным. Сделаем выводы и предположения."
   ]
  },
  {
   "cell_type": "markdown",
   "metadata": {},
   "source": [
    "Сформулируем гипотезы:\n",
    "    \n",
    "   3.10.1: \n",
    "          <br> а) H0: статистически значимых различий в конверсии между группами по \"сырым\" данным нет.\n",
    "          <br> б) Н1: статистически значимые различия в конверсии между группами по \"сырым\" данным есть.\n",
    "    \n",
    "   3.11.1: \n",
    "          <br> а) Н0: статистически значимых различий в среднем чеке заказа между группами по «сырым» данным нет.\n",
    "          <br> б) Н1: статистически значимые различия в среднем чеке заказа между группами по «сырым» данным есть.\n",
    "    \n",
    "   3.12.1: \n",
    "          <br> а) Н0: статистически значимых различий в конверсии между группами по «очищенным» данным нет.\n",
    "          <br> б) Н1: статистически значимые различия в конверсии между группами по «очищенным» данным есть.\n",
    "    \n",
    "   3.13.1: \n",
    "          <br> а) Н0: статистически значимых различий в среднем чеке заказа между группами по «очищенным» данным нет.\n",
    "          <br> б) Н1: статистически значимые различия в среднем чеке заказа между группами по «очищенным» данным есть."
   ]
  },
  {
   "cell_type": "code",
   "execution_count": 26,
   "metadata": {},
   "outputs": [
    {
     "data": {
      "text/html": [
       "<div>\n",
       "<style scoped>\n",
       "    .dataframe tbody tr th:only-of-type {\n",
       "        vertical-align: middle;\n",
       "    }\n",
       "\n",
       "    .dataframe tbody tr th {\n",
       "        vertical-align: top;\n",
       "    }\n",
       "\n",
       "    .dataframe thead th {\n",
       "        text-align: right;\n",
       "    }\n",
       "</style>\n",
       "<table border=\"1\" class=\"dataframe\">\n",
       "  <thead>\n",
       "    <tr style=\"text-align: right;\">\n",
       "      <th></th>\n",
       "      <th>date</th>\n",
       "      <th>ordersPerDateA</th>\n",
       "      <th>revenuePerDateA</th>\n",
       "      <th>ordersPerDateB</th>\n",
       "      <th>revenuePerDateB</th>\n",
       "      <th>ordersCummulativeA</th>\n",
       "      <th>revenueCummulativeA</th>\n",
       "      <th>ordersCummulativeB</th>\n",
       "      <th>revenueCummulativeB</th>\n",
       "      <th>visitorsPerDateA</th>\n",
       "      <th>visitorsPerDateB</th>\n",
       "      <th>visitorsCummulativeA</th>\n",
       "      <th>visitorsCummulativeB</th>\n",
       "    </tr>\n",
       "  </thead>\n",
       "  <tbody>\n",
       "    <tr>\n",
       "      <th>0</th>\n",
       "      <td>2019-08-01</td>\n",
       "      <td>24</td>\n",
       "      <td>148579</td>\n",
       "      <td>21</td>\n",
       "      <td>101217</td>\n",
       "      <td>24</td>\n",
       "      <td>148579</td>\n",
       "      <td>21</td>\n",
       "      <td>101217</td>\n",
       "      <td>719</td>\n",
       "      <td>713</td>\n",
       "      <td>719</td>\n",
       "      <td>713</td>\n",
       "    </tr>\n",
       "    <tr>\n",
       "      <th>1</th>\n",
       "      <td>2019-08-02</td>\n",
       "      <td>20</td>\n",
       "      <td>93822</td>\n",
       "      <td>24</td>\n",
       "      <td>165531</td>\n",
       "      <td>44</td>\n",
       "      <td>242401</td>\n",
       "      <td>45</td>\n",
       "      <td>266748</td>\n",
       "      <td>619</td>\n",
       "      <td>581</td>\n",
       "      <td>1338</td>\n",
       "      <td>1294</td>\n",
       "    </tr>\n",
       "    <tr>\n",
       "      <th>2</th>\n",
       "      <td>2019-08-03</td>\n",
       "      <td>24</td>\n",
       "      <td>112473</td>\n",
       "      <td>16</td>\n",
       "      <td>114248</td>\n",
       "      <td>68</td>\n",
       "      <td>354874</td>\n",
       "      <td>61</td>\n",
       "      <td>380996</td>\n",
       "      <td>507</td>\n",
       "      <td>509</td>\n",
       "      <td>1845</td>\n",
       "      <td>1803</td>\n",
       "    </tr>\n",
       "    <tr>\n",
       "      <th>3</th>\n",
       "      <td>2019-08-04</td>\n",
       "      <td>16</td>\n",
       "      <td>70825</td>\n",
       "      <td>17</td>\n",
       "      <td>108571</td>\n",
       "      <td>84</td>\n",
       "      <td>425699</td>\n",
       "      <td>78</td>\n",
       "      <td>489567</td>\n",
       "      <td>717</td>\n",
       "      <td>770</td>\n",
       "      <td>2562</td>\n",
       "      <td>2573</td>\n",
       "    </tr>\n",
       "    <tr>\n",
       "      <th>4</th>\n",
       "      <td>2019-08-05</td>\n",
       "      <td>25</td>\n",
       "      <td>124218</td>\n",
       "      <td>23</td>\n",
       "      <td>92428</td>\n",
       "      <td>109</td>\n",
       "      <td>549917</td>\n",
       "      <td>101</td>\n",
       "      <td>581995</td>\n",
       "      <td>756</td>\n",
       "      <td>707</td>\n",
       "      <td>3318</td>\n",
       "      <td>3280</td>\n",
       "    </tr>\n",
       "  </tbody>\n",
       "</table>\n",
       "</div>"
      ],
      "text/plain": [
       "        date  ordersPerDateA  revenuePerDateA  ordersPerDateB  \\\n",
       "0 2019-08-01              24           148579              21   \n",
       "1 2019-08-02              20            93822              24   \n",
       "2 2019-08-03              24           112473              16   \n",
       "3 2019-08-04              16            70825              17   \n",
       "4 2019-08-05              25           124218              23   \n",
       "\n",
       "   revenuePerDateB  ordersCummulativeA  revenueCummulativeA  \\\n",
       "0           101217                  24               148579   \n",
       "1           165531                  44               242401   \n",
       "2           114248                  68               354874   \n",
       "3           108571                  84               425699   \n",
       "4            92428                 109               549917   \n",
       "\n",
       "   ordersCummulativeB  revenueCummulativeB  visitorsPerDateA  \\\n",
       "0                  21               101217               719   \n",
       "1                  45               266748               619   \n",
       "2                  61               380996               507   \n",
       "3                  78               489567               717   \n",
       "4                 101               581995               756   \n",
       "\n",
       "   visitorsPerDateB  visitorsCummulativeA  visitorsCummulativeB  \n",
       "0               713                   719                   713  \n",
       "1               581                  1338                  1294  \n",
       "2               509                  1845                  1803  \n",
       "3               770                  2562                  2573  \n",
       "4               707                  3318                  3280  "
      ]
     },
     "metadata": {},
     "output_type": "display_data"
    }
   ],
   "source": [
    "# Подготовим датафрейм с фактическими и кумулятивными данными по дням:\n",
    "\n",
    "visitorsADaily = visitors[visitors['group']=='A'][['date', 'visitors']]\n",
    "visitorsADaily.columns = ['date', 'visitorsPerDateA']\n",
    "\n",
    "visitorsACummulative = (visitorsADaily\n",
    "                        .apply(lambda x: visitorsADaily[visitorsADaily['date'] <= x['date']]\n",
    "                               .agg({'date':'max', 'visitorsPerDateA':'sum'}), axis=1)\n",
    "                       )\n",
    "visitorsACummulative.columns = ['date', 'visitorsCummulativeA']\n",
    "\n",
    "visitorsBDaily = visitors[visitors['group']=='B'][['date', 'visitors']]\n",
    "visitorsBDaily.columns = ['date', 'visitorsPerDateB']\n",
    "\n",
    "visitorsBCummulative = (visitorsBDaily\n",
    "                        .apply(lambda x: visitorsBDaily[visitorsBDaily['date'] <= x['date']]\n",
    "                               .agg({'date':'max', 'visitorsPerDateB':'sum'}), axis=1)\n",
    "                       )\n",
    "visitorsBCummulative.columns = ['date', 'visitorsCummulativeB']\n",
    "\n",
    "ordersADaily = (orders[orders['group']=='A'][['date', 'transactionid', 'visitorid', 'revenue']]\n",
    "                .groupby('date', as_index=False)\n",
    "                .agg({'transactionid':pd.Series.nunique, 'revenue':'sum'})\n",
    "               )\n",
    "ordersADaily.columns = ['date', 'ordersPerDateA', 'revenuePerDateA']\n",
    "\n",
    "ordersACummulative = (ordersADaily\n",
    "                      .apply(lambda x:ordersADaily[ordersADaily['date'] <= x['date']]\n",
    "                             .agg({\n",
    "                                    'date':'max',\n",
    "                                    'ordersPerDateA':'sum',\n",
    "                                    'revenuePerDateA':'sum'}), axis=1)\n",
    "                      .sort_values(by=['date'])\n",
    "                     )\n",
    "ordersACummulative.columns = ['date', 'ordersCummulativeA', 'revenueCummulativeA']\n",
    "\n",
    "ordersBDaily = (orders[orders['group']=='B'][['date', 'transactionid', 'visitorid', 'revenue']]\n",
    "                .groupby('date', as_index=False)\n",
    "                .agg({'transactionid':pd.Series.nunique, 'revenue':'sum'})\n",
    "               )\n",
    "ordersBDaily.columns = ['date', 'ordersPerDateB', 'revenuePerDateB']\n",
    "\n",
    "ordersBCummulative = (ordersBDaily\n",
    "                      .apply(lambda x: ordersBDaily[ordersBDaily['date'] <= x['date']]\n",
    "                             .agg({\n",
    "                                    'date':'max',\n",
    "                                    'ordersPerDateB':'sum',\n",
    "                                    'revenuePerDateB' : 'sum'}), axis=1)\n",
    "                      .sort_values(by=['date'])\n",
    "                     )\n",
    "ordersBCummulative.columns = ['date', 'ordersCummulativeB', 'revenueCummulativeB']\n",
    "\n",
    "data = (ordersADaily\n",
    "        .merge(ordersBDaily, left_on='date', right_on='date', how='left')\n",
    "        .merge(ordersACummulative, left_on='date', right_on='date', how='left')\n",
    "        .merge(ordersBCummulative, left_on='date', right_on='date', how='left')\n",
    "        .merge(visitorsADaily, left_on='date', right_on='date', how='left')\n",
    "        .merge(visitorsBDaily, left_on='date', right_on='date', how='left')\n",
    "        .merge(visitorsACummulative, left_on='date', right_on='date', how='left')\n",
    "        .merge(visitorsBCummulative, left_on='date', right_on='date', how='left')\n",
    "       )\n",
    "\n",
    "display(data.head(5)) "
   ]
  },
  {
   "cell_type": "code",
   "execution_count": 27,
   "metadata": {},
   "outputs": [],
   "source": [
    "# Создадим для каждой группы датафрейм с количеством заказов на пользователя:\n",
    "\n",
    "ordersByUsersA = orders[orders['group']=='A'].groupby('visitorid', as_index=False).agg({'transactionid':pd.Series.nunique})\n",
    "ordersByUsersA.columns = ['visitorid', 'orders']\n",
    "\n",
    "ordersByUsersB = orders[orders['group']=='B'].groupby('visitorid', as_index=False).agg({'transactionid':pd.Series.nunique})\n",
    "ordersByUsersB.columns = ['visitorid', 'orders'] \n",
    "\n",
    "# Создадим списки с числом заказов каждого пользователя, включая нули:\n",
    "\n",
    "sampleA = pd.concat([ordersByUsersA['orders'],\n",
    "                     pd.Series(0, index=np.arange(data['visitorsPerDateA'].sum() - len(ordersByUsersA['orders'])), name='orders')],axis=0)\n",
    "sampleB = pd.concat([ordersByUsersB['orders'],\n",
    "                     pd.Series(0, index=np.arange(data['visitorsPerDateB'].sum() - len(ordersByUsersB['orders'])), name='orders')],axis=0)"
   ]
  },
  {
   "cell_type": "code",
   "execution_count": 28,
   "metadata": {},
   "outputs": [
    {
     "data": {
      "text/plain": [
       "'0.01679'"
      ]
     },
     "metadata": {},
     "output_type": "display_data"
    },
    {
     "data": {
      "text/plain": [
       "'0.138'"
      ]
     },
     "metadata": {},
     "output_type": "display_data"
    }
   ],
   "source": [
    "display(\"{0:.5f}\".format(st.mannwhitneyu(sampleA, sampleB)[1]))\n",
    "display(\"{0:.3f}\".format(sampleB.mean() / sampleA.mean() - 1))"
   ]
  },
  {
   "cell_type": "markdown",
   "metadata": {},
   "source": [
    "#### Вывод\n",
    "Нулевую гипотезу о том, что статистически значимых различий в конверсии между группами нет, отвергаем, между конверсиями групп А и В есть статистически значимая разница. Относительный проигрыш группы B равен 13.8% — второе число в выводе."
   ]
  },
  {
   "cell_type": "markdown",
   "metadata": {},
   "source": [
    "### Посчитаем статистическую значимость различий в среднем чеке заказа между группами по «сырым» данным. Сделаем выводы и предположения."
   ]
  },
  {
   "cell_type": "markdown",
   "metadata": {},
   "source": [
    "- Нулевая гипотеза: различий в среднем чеке между группами нет. Альтернативная гипотеза: различия в среднем чеке между группами есть."
   ]
  },
  {
   "cell_type": "code",
   "execution_count": 29,
   "metadata": {},
   "outputs": [
    {
     "data": {
      "text/plain": [
       "'0.729'"
      ]
     },
     "metadata": {},
     "output_type": "display_data"
    },
    {
     "data": {
      "text/plain": [
       "'0.259'"
      ]
     },
     "metadata": {},
     "output_type": "display_data"
    }
   ],
   "source": [
    "display('{0:.3f}'.format(st.mannwhitneyu(orders[orders['group']=='A']['revenue'], orders[orders['group']=='B']['revenue'])[1]))\n",
    "display('{0:.3f}'.format(orders[orders['group']=='B']['revenue'].mean()/orders[orders['group']=='A']['revenue'].mean()-1))   "
   ]
  },
  {
   "cell_type": "markdown",
   "metadata": {},
   "source": [
    "#### Вывод\n",
    "Нулевую гипотезу о том, что различий в среднем чеке между группами нет, не отвергаем, средний чек между группами А и В не отличается. Выигрыш среднего чека группы В относительно группы А равен 25.9% - второе число в выводе."
   ]
  },
  {
   "cell_type": "markdown",
   "metadata": {},
   "source": [
    "### Посчитаем статистическую значимость различий в конверсии между группами по «очищенным» данным. Сделаем выводы и предположения."
   ]
  },
  {
   "cell_type": "code",
   "execution_count": 30,
   "metadata": {},
   "outputs": [
    {
     "name": "stdout",
     "output_type": "stream",
     "text": [
      "1099    148427295\n",
      "18      199603092\n",
      "928     204675465\n",
      "23      237748145\n",
      "684     358944393\n",
      "Name: visitorid, dtype: int64\n",
      "59\n"
     ]
    }
   ],
   "source": [
    "# Узнаем сколько аномальных пользователей\n",
    "usersWithManyOrders = pd.concat(\n",
    "    [\n",
    "        ordersByUsersA[ordersByUsersA['orders'] > 3]['visitorid'],\n",
    "        ordersByUsersB[ordersByUsersB['orders'] > 3]['visitorid'],\n",
    "    ],\n",
    "    axis=0,\n",
    ")\n",
    "usersWithExpensiveOrders = orders[orders['revenue'] > 29000]['visitorid']\n",
    "abnormalUsers = (\n",
    "    pd.concat([usersWithManyOrders, usersWithExpensiveOrders], axis=0)\n",
    "    .drop_duplicates()\n",
    "    .sort_values()\n",
    ")\n",
    "print(abnormalUsers.head(5))\n",
    "print(abnormalUsers.shape[0]) "
   ]
  },
  {
   "cell_type": "markdown",
   "metadata": {},
   "source": [
    "- Всего 59 аномальных пользователей."
   ]
  },
  {
   "cell_type": "code",
   "execution_count": 31,
   "metadata": {},
   "outputs": [
    {
     "data": {
      "text/plain": [
       "'0.018'"
      ]
     },
     "metadata": {},
     "output_type": "display_data"
    },
    {
     "data": {
      "text/plain": [
       "'0.148'"
      ]
     },
     "metadata": {},
     "output_type": "display_data"
    }
   ],
   "source": [
    "sampleAFiltered = pd.concat(\n",
    "    [\n",
    "        ordersByUsersA[\n",
    "            np.logical_not(ordersByUsersA['visitorid'].isin(abnormalUsers))\n",
    "        ]['orders'],\n",
    "        pd.Series(\n",
    "            0,\n",
    "            index=np.arange(\n",
    "                data['visitorsPerDateA'].sum() - len(ordersByUsersA['orders'])\n",
    "            ),\n",
    "            name='orders',\n",
    "        ),\n",
    "    ],\n",
    "    axis=0,\n",
    ")\n",
    "\n",
    "sampleBFiltered = pd.concat(\n",
    "    [\n",
    "        ordersByUsersB[\n",
    "            np.logical_not(ordersByUsersB['visitorid'].isin(abnormalUsers))\n",
    "        ]['orders'],\n",
    "        pd.Series(\n",
    "            0,\n",
    "            index=np.arange(\n",
    "                data['visitorsPerDateB'].sum() - len(ordersByUsersB['orders'])\n",
    "            ),\n",
    "            name='orders',\n",
    "        ),\n",
    "    ],\n",
    "    axis=0,\n",
    ") \n",
    "display('{0:.3f}'.format(st.mannwhitneyu(sampleAFiltered, sampleBFiltered)[1]))\n",
    "display('{0:.3f}'.format(sampleBFiltered.mean()/sampleAFiltered.mean()-1)) "
   ]
  },
  {
   "cell_type": "markdown",
   "metadata": {},
   "source": [
    "#### Вывод\n",
    "По очищенным данным между конверсиями групп А и В практически осталась без изменения, статистически значимая разница есть.\n",
    "При этом относительный выигрыш группы В увеличился на 1% по сравнению с \"сырыми\" данными и стал равен 14.8%."
   ]
  },
  {
   "cell_type": "markdown",
   "metadata": {},
   "source": [
    "### Посчитаем статистическую значимость различий в среднем чеке заказа между группами по «очищенным» данным. Сделаем выводы и предположения"
   ]
  },
  {
   "cell_type": "code",
   "execution_count": 32,
   "metadata": {},
   "outputs": [
    {
     "data": {
      "text/plain": [
       "'0.964'"
      ]
     },
     "metadata": {},
     "output_type": "display_data"
    },
    {
     "data": {
      "text/plain": [
       "'-0.019'"
      ]
     },
     "metadata": {},
     "output_type": "display_data"
    }
   ],
   "source": [
    "display(\n",
    "    '{0:.3f}'.format(\n",
    "        st.mannwhitneyu(\n",
    "            orders[\n",
    "                np.logical_and(\n",
    "                    orders['group'] == 'A',\n",
    "                    np.logical_not(orders['visitorid'].isin(abnormalUsers)),\n",
    "                )\n",
    "            ]['revenue'],\n",
    "            orders[\n",
    "                np.logical_and(\n",
    "                    orders['group'] == 'B',\n",
    "                    np.logical_not(orders['visitorid'].isin(abnormalUsers)),\n",
    "                )\n",
    "            ]['revenue'],\n",
    "        )[1]\n",
    "    )\n",
    ")\n",
    "\n",
    "display(\n",
    "    \"{0:.3f}\".format(\n",
    "        orders[\n",
    "            np.logical_and(\n",
    "                orders['group'] == 'B',\n",
    "                np.logical_not(orders['visitorid'].isin(abnormalUsers)),\n",
    "            )\n",
    "        ]['revenue'].mean()\n",
    "        / orders[\n",
    "            np.logical_and(\n",
    "                orders['group'] == 'A',\n",
    "                np.logical_not(orders['visitorid'].isin(abnormalUsers)),\n",
    "            )\n",
    "        ]['revenue'].mean()\n",
    "        - 1\n",
    "    )\n",
    ") "
   ]
  },
  {
   "cell_type": "markdown",
   "metadata": {},
   "source": [
    "#### Вывод\n",
    "P-value увеличился, но и разница между сегментами сократилась с 25.9% до 1.9%."
   ]
  },
  {
   "cell_type": "markdown",
   "metadata": {},
   "source": [
    "## Шаг 4. Общий вывод"
   ]
  },
  {
   "cell_type": "markdown",
   "metadata": {},
   "source": [
    "- Есть статистически значимые различия по конверсии между группами по «сырым»,  по данным после фильтрации аномалий.\n",
    "- Нет статистически значимого различия по среднему чеку между группами ни по «сырым», ни по данным после фильтрации аномалий.\n",
    "- График различия конверсии между группами сообщает, что результаты группы А хуже группы В и есть тенденции к улучшению:\n",
    "  -График изменения кумулятивной конверсии группы B к группе A показывает, что результаты группы В стабильно лучше группы А.\n",
    "- Исходя из обнаруженных фактов, тест следует остановить и признать его успешным - победа группы В. "
   ]
  }
 ],
 "metadata": {
  "ExecuteTimeLog": [
   {
    "duration": 1648,
    "start_time": "2022-04-29T04:32:11.999Z"
   },
   {
    "duration": 159,
    "start_time": "2022-04-29T04:33:30.859Z"
   },
   {
    "duration": 32,
    "start_time": "2022-04-29T04:34:13.113Z"
   },
   {
    "duration": 13,
    "start_time": "2022-04-29T04:36:39.377Z"
   },
   {
    "duration": 231,
    "start_time": "2022-04-29T04:37:08.264Z"
   },
   {
    "duration": 7,
    "start_time": "2022-04-29T04:38:05.512Z"
   },
   {
    "duration": 7,
    "start_time": "2022-04-29T04:38:13.119Z"
   },
   {
    "duration": 4,
    "start_time": "2022-04-29T04:38:19.398Z"
   },
   {
    "duration": 69,
    "start_time": "2022-04-29T04:38:19.974Z"
   },
   {
    "duration": 35,
    "start_time": "2022-04-29T04:38:20.962Z"
   },
   {
    "duration": 8,
    "start_time": "2022-04-29T04:38:22.334Z"
   },
   {
    "duration": 13,
    "start_time": "2022-04-29T04:38:30.232Z"
   },
   {
    "duration": 5,
    "start_time": "2022-04-29T04:38:33.679Z"
   },
   {
    "duration": 59,
    "start_time": "2022-04-29T04:39:18.266Z"
   },
   {
    "duration": 4,
    "start_time": "2022-04-29T04:39:58.910Z"
   },
   {
    "duration": 71,
    "start_time": "2022-04-29T04:40:00.329Z"
   },
   {
    "duration": 25,
    "start_time": "2022-04-29T04:40:01.799Z"
   },
   {
    "duration": 13,
    "start_time": "2022-04-29T04:40:01.973Z"
   },
   {
    "duration": 41,
    "start_time": "2022-04-29T04:40:02.167Z"
   },
   {
    "duration": 208,
    "start_time": "2022-04-29T04:53:18.367Z"
   },
   {
    "duration": 12,
    "start_time": "2022-04-29T05:03:07.061Z"
   },
   {
    "duration": 19,
    "start_time": "2022-04-29T05:04:31.472Z"
   },
   {
    "duration": 13,
    "start_time": "2022-04-29T05:04:44.729Z"
   },
   {
    "duration": 12,
    "start_time": "2022-04-29T05:04:59.532Z"
   },
   {
    "duration": 1177,
    "start_time": "2022-04-30T10:43:29.721Z"
   },
   {
    "duration": 127,
    "start_time": "2022-04-30T10:43:30.901Z"
   },
   {
    "duration": 25,
    "start_time": "2022-04-30T10:43:31.030Z"
   },
   {
    "duration": 9,
    "start_time": "2022-04-30T10:43:31.372Z"
   },
   {
    "duration": 9,
    "start_time": "2022-04-30T10:43:32.491Z"
   },
   {
    "duration": 9,
    "start_time": "2022-04-30T10:43:33.210Z"
   },
   {
    "duration": 30,
    "start_time": "2022-04-30T10:43:33.921Z"
   },
   {
    "duration": 8,
    "start_time": "2022-04-30T10:50:38.375Z"
   },
   {
    "duration": 1799,
    "start_time": "2022-04-30T10:51:07.804Z"
   },
   {
    "duration": 3,
    "start_time": "2022-04-30T10:51:19.814Z"
   },
   {
    "duration": 40,
    "start_time": "2022-04-30T10:51:20.454Z"
   },
   {
    "duration": 18,
    "start_time": "2022-04-30T10:51:21.186Z"
   },
   {
    "duration": 8,
    "start_time": "2022-04-30T10:51:22.564Z"
   },
   {
    "duration": 9,
    "start_time": "2022-04-30T10:51:26.894Z"
   },
   {
    "duration": 9,
    "start_time": "2022-04-30T10:51:28.124Z"
   },
   {
    "duration": 29,
    "start_time": "2022-04-30T10:51:28.805Z"
   },
   {
    "duration": 8,
    "start_time": "2022-04-30T10:51:31.175Z"
   },
   {
    "duration": 8,
    "start_time": "2022-04-30T10:51:43.185Z"
   },
   {
    "duration": 9,
    "start_time": "2022-04-30T10:51:43.821Z"
   },
   {
    "duration": 26,
    "start_time": "2022-04-30T10:51:44.484Z"
   },
   {
    "duration": 1600,
    "start_time": "2022-04-30T10:51:46.854Z"
   },
   {
    "duration": 6,
    "start_time": "2022-04-30T10:52:06.164Z"
   },
   {
    "duration": 10,
    "start_time": "2022-04-30T10:52:38.923Z"
   },
   {
    "duration": 5,
    "start_time": "2022-04-30T10:52:49.374Z"
   },
   {
    "duration": 39,
    "start_time": "2022-04-30T10:52:49.746Z"
   },
   {
    "duration": 15,
    "start_time": "2022-04-30T10:52:50.316Z"
   },
   {
    "duration": 8,
    "start_time": "2022-04-30T10:52:50.986Z"
   },
   {
    "duration": 9,
    "start_time": "2022-04-30T10:52:52.174Z"
   },
   {
    "duration": 9,
    "start_time": "2022-04-30T10:52:53.023Z"
   },
   {
    "duration": 26,
    "start_time": "2022-04-30T10:52:53.784Z"
   },
   {
    "duration": 5,
    "start_time": "2022-04-30T10:52:56.024Z"
   },
   {
    "duration": 1745,
    "start_time": "2022-04-30T10:53:06.593Z"
   },
   {
    "duration": 1572,
    "start_time": "2022-04-30T10:53:18.153Z"
   },
   {
    "duration": 10,
    "start_time": "2022-04-30T10:53:46.905Z"
   },
   {
    "duration": 4,
    "start_time": "2022-04-30T10:54:08.414Z"
   },
   {
    "duration": 13,
    "start_time": "2022-04-30T10:55:54.336Z"
   },
   {
    "duration": 11,
    "start_time": "2022-04-30T10:56:23.455Z"
   },
   {
    "duration": 12,
    "start_time": "2022-04-30T10:58:57.105Z"
   },
   {
    "duration": 11,
    "start_time": "2022-04-30T11:04:23.022Z"
   },
   {
    "duration": 109,
    "start_time": "2022-04-30T11:08:32.461Z"
   },
   {
    "duration": 110,
    "start_time": "2022-04-30T11:09:45.836Z"
   },
   {
    "duration": 6,
    "start_time": "2022-04-30T11:13:31.044Z"
   },
   {
    "duration": 138,
    "start_time": "2022-04-30T11:13:38.072Z"
   },
   {
    "duration": 104,
    "start_time": "2022-04-30T11:13:38.585Z"
   },
   {
    "duration": 99,
    "start_time": "2022-04-30T11:13:53.133Z"
   },
   {
    "duration": 3,
    "start_time": "2022-04-30T11:14:10.884Z"
   },
   {
    "duration": 3,
    "start_time": "2022-04-30T11:14:11.434Z"
   },
   {
    "duration": 6,
    "start_time": "2022-04-30T11:14:14.825Z"
   },
   {
    "duration": 166,
    "start_time": "2022-04-30T11:17:48.719Z"
   },
   {
    "duration": 108,
    "start_time": "2022-04-30T11:18:34.204Z"
   },
   {
    "duration": 7,
    "start_time": "2022-04-30T11:19:24.485Z"
   },
   {
    "duration": 13,
    "start_time": "2022-04-30T11:19:43.785Z"
   },
   {
    "duration": 272,
    "start_time": "2022-04-30T11:21:58.275Z"
   },
   {
    "duration": 248,
    "start_time": "2022-04-30T11:24:58.548Z"
   },
   {
    "duration": 443,
    "start_time": "2022-04-30T11:27:01.338Z"
   },
   {
    "duration": 13,
    "start_time": "2022-04-30T11:29:29.268Z"
   },
   {
    "duration": 13,
    "start_time": "2022-04-30T11:29:35.807Z"
   },
   {
    "duration": 250,
    "start_time": "2022-04-30T11:29:43.809Z"
   },
   {
    "duration": 268,
    "start_time": "2022-04-30T11:29:50.316Z"
   },
   {
    "duration": 248,
    "start_time": "2022-04-30T11:30:10.967Z"
   },
   {
    "duration": 149,
    "start_time": "2022-04-30T11:30:17.706Z"
   },
   {
    "duration": 163,
    "start_time": "2022-04-30T11:30:25.168Z"
   },
   {
    "duration": 11,
    "start_time": "2022-04-30T11:32:11.587Z"
   },
   {
    "duration": 10,
    "start_time": "2022-04-30T11:32:42.823Z"
   },
   {
    "duration": 27,
    "start_time": "2022-04-30T11:32:45.209Z"
   },
   {
    "duration": 12,
    "start_time": "2022-04-30T11:32:56.606Z"
   },
   {
    "duration": 27,
    "start_time": "2022-04-30T11:32:57.238Z"
   },
   {
    "duration": 10,
    "start_time": "2022-04-30T11:33:58.467Z"
   },
   {
    "duration": 29,
    "start_time": "2022-04-30T11:34:00.229Z"
   },
   {
    "duration": 3,
    "start_time": "2022-04-30T11:34:12.391Z"
   },
   {
    "duration": 3,
    "start_time": "2022-04-30T11:34:26.537Z"
   },
   {
    "duration": 38,
    "start_time": "2022-04-30T11:34:27.129Z"
   },
   {
    "duration": 17,
    "start_time": "2022-04-30T11:34:27.749Z"
   },
   {
    "duration": 8,
    "start_time": "2022-04-30T11:34:28.378Z"
   },
   {
    "duration": 9,
    "start_time": "2022-04-30T11:34:29.083Z"
   },
   {
    "duration": 3,
    "start_time": "2022-04-30T11:34:29.908Z"
   },
   {
    "duration": 7,
    "start_time": "2022-04-30T11:34:48.967Z"
   },
   {
    "duration": 9,
    "start_time": "2022-04-30T11:34:50.773Z"
   },
   {
    "duration": 3,
    "start_time": "2022-04-30T11:34:51.878Z"
   },
   {
    "duration": 30,
    "start_time": "2022-04-30T11:34:52.687Z"
   },
   {
    "duration": 10,
    "start_time": "2022-04-30T11:35:06.808Z"
   },
   {
    "duration": 12,
    "start_time": "2022-04-30T11:35:23.158Z"
   },
   {
    "duration": 6,
    "start_time": "2022-04-30T11:35:26.880Z"
   },
   {
    "duration": 3,
    "start_time": "2022-04-30T11:35:27.317Z"
   },
   {
    "duration": 2,
    "start_time": "2022-04-30T11:35:27.818Z"
   },
   {
    "duration": 24,
    "start_time": "2022-04-30T11:35:28.340Z"
   },
   {
    "duration": 120,
    "start_time": "2022-04-30T11:35:28.888Z"
   },
   {
    "duration": 10,
    "start_time": "2022-04-30T11:35:54.808Z"
   },
   {
    "duration": 8,
    "start_time": "2022-04-30T11:36:29.427Z"
   },
   {
    "duration": 6,
    "start_time": "2022-04-30T11:36:31.058Z"
   },
   {
    "duration": 3,
    "start_time": "2022-04-30T11:36:31.996Z"
   },
   {
    "duration": 3,
    "start_time": "2022-04-30T11:36:32.357Z"
   },
   {
    "duration": 24,
    "start_time": "2022-04-30T11:36:33.059Z"
   },
   {
    "duration": 163,
    "start_time": "2022-04-30T11:37:33.850Z"
   },
   {
    "duration": 122,
    "start_time": "2022-04-30T11:38:00.160Z"
   },
   {
    "duration": 14,
    "start_time": "2022-04-30T11:38:05.007Z"
   },
   {
    "duration": 234,
    "start_time": "2022-04-30T11:38:06.239Z"
   },
   {
    "duration": 261,
    "start_time": "2022-04-30T11:38:10.532Z"
   },
   {
    "duration": 248,
    "start_time": "2022-04-30T11:38:14.125Z"
   },
   {
    "duration": 196,
    "start_time": "2022-04-30T11:38:28.452Z"
   },
   {
    "duration": 187,
    "start_time": "2022-04-30T11:38:44.027Z"
   },
   {
    "duration": 184,
    "start_time": "2022-04-30T11:39:58.177Z"
   },
   {
    "duration": 199,
    "start_time": "2022-04-30T11:40:38.417Z"
   },
   {
    "duration": 201,
    "start_time": "2022-04-30T11:40:58.245Z"
   },
   {
    "duration": 224,
    "start_time": "2022-04-30T11:41:36.807Z"
   },
   {
    "duration": 206,
    "start_time": "2022-04-30T11:41:53.118Z"
   },
   {
    "duration": 221,
    "start_time": "2022-04-30T11:41:59.268Z"
   },
   {
    "duration": 200,
    "start_time": "2022-04-30T11:42:13.647Z"
   },
   {
    "duration": 365,
    "start_time": "2022-04-30T11:42:24.989Z"
   },
   {
    "duration": 1412,
    "start_time": "2022-04-30T13:55:30.980Z"
   },
   {
    "duration": 186,
    "start_time": "2022-04-30T13:55:33.258Z"
   },
   {
    "duration": 28,
    "start_time": "2022-04-30T13:55:34.698Z"
   },
   {
    "duration": 6,
    "start_time": "2022-04-30T13:55:35.911Z"
   },
   {
    "duration": 9,
    "start_time": "2022-04-30T13:55:36.908Z"
   },
   {
    "duration": 3,
    "start_time": "2022-04-30T13:55:37.551Z"
   },
   {
    "duration": 43,
    "start_time": "2022-04-30T13:55:38.833Z"
   },
   {
    "duration": 18,
    "start_time": "2022-04-30T13:55:41.146Z"
   },
   {
    "duration": 14,
    "start_time": "2022-04-30T13:55:41.780Z"
   },
   {
    "duration": 9,
    "start_time": "2022-04-30T13:55:46.090Z"
   },
   {
    "duration": 7,
    "start_time": "2022-04-30T13:55:47.468Z"
   },
   {
    "duration": 3,
    "start_time": "2022-04-30T13:55:48.100Z"
   },
   {
    "duration": 2,
    "start_time": "2022-04-30T13:55:48.588Z"
   },
   {
    "duration": 192,
    "start_time": "2022-04-30T13:55:49.369Z"
   },
   {
    "duration": 126,
    "start_time": "2022-04-30T13:55:49.720Z"
   },
   {
    "duration": 14,
    "start_time": "2022-04-30T13:55:50.400Z"
   },
   {
    "duration": 353,
    "start_time": "2022-04-30T13:55:51.268Z"
   },
   {
    "duration": 171,
    "start_time": "2022-04-30T13:55:56.886Z"
   },
   {
    "duration": 317,
    "start_time": "2022-04-30T13:55:59.319Z"
   },
   {
    "duration": 289,
    "start_time": "2022-04-30T13:58:58.119Z"
   },
   {
    "duration": 318,
    "start_time": "2022-04-30T14:00:12.523Z"
   },
   {
    "duration": 192,
    "start_time": "2022-04-30T14:00:31.816Z"
   },
   {
    "duration": 214,
    "start_time": "2022-04-30T14:02:10.690Z"
   },
   {
    "duration": 398,
    "start_time": "2022-04-30T14:03:05.761Z"
   },
   {
    "duration": 300,
    "start_time": "2022-04-30T14:03:13.427Z"
   },
   {
    "duration": 317,
    "start_time": "2022-04-30T14:03:36.420Z"
   },
   {
    "duration": 156,
    "start_time": "2022-04-30T14:06:15.918Z"
   },
   {
    "duration": 270,
    "start_time": "2022-04-30T14:06:29.785Z"
   },
   {
    "duration": 376,
    "start_time": "2022-04-30T14:06:33.984Z"
   },
   {
    "duration": 295,
    "start_time": "2022-04-30T14:07:23.245Z"
   },
   {
    "duration": 297,
    "start_time": "2022-04-30T14:07:58.143Z"
   },
   {
    "duration": 342,
    "start_time": "2022-04-30T14:08:34.084Z"
   },
   {
    "duration": 351,
    "start_time": "2022-04-30T14:09:10.147Z"
   },
   {
    "duration": 378,
    "start_time": "2022-04-30T14:09:17.854Z"
   },
   {
    "duration": 309,
    "start_time": "2022-04-30T14:09:36.574Z"
   },
   {
    "duration": 502,
    "start_time": "2022-04-30T14:09:45.184Z"
   },
   {
    "duration": 358,
    "start_time": "2022-04-30T14:09:50.434Z"
   },
   {
    "duration": 353,
    "start_time": "2022-04-30T14:10:13.148Z"
   },
   {
    "duration": 291,
    "start_time": "2022-04-30T14:10:27.863Z"
   },
   {
    "duration": 346,
    "start_time": "2022-04-30T14:10:49.344Z"
   },
   {
    "duration": 9,
    "start_time": "2022-04-30T14:13:42.912Z"
   },
   {
    "duration": 5086,
    "start_time": "2022-04-30T14:14:47.802Z"
   },
   {
    "duration": 8270,
    "start_time": "2022-04-30T14:15:07.533Z"
   },
   {
    "duration": 211,
    "start_time": "2022-04-30T14:18:09.873Z"
   },
   {
    "duration": 209,
    "start_time": "2022-04-30T14:18:41.731Z"
   },
   {
    "duration": 209,
    "start_time": "2022-04-30T14:18:51.109Z"
   },
   {
    "duration": 144,
    "start_time": "2022-04-30T14:21:08.571Z"
   },
   {
    "duration": 135,
    "start_time": "2022-04-30T14:21:39.637Z"
   },
   {
    "duration": 160,
    "start_time": "2022-04-30T14:22:21.719Z"
   },
   {
    "duration": 135,
    "start_time": "2022-04-30T14:22:44.959Z"
   },
   {
    "duration": 143,
    "start_time": "2022-04-30T14:22:59.648Z"
   },
   {
    "duration": 127,
    "start_time": "2022-04-30T14:23:10.639Z"
   },
   {
    "duration": 135,
    "start_time": "2022-04-30T14:23:40.240Z"
   },
   {
    "duration": 167,
    "start_time": "2022-04-30T14:24:17.601Z"
   },
   {
    "duration": 136,
    "start_time": "2022-04-30T14:24:32.427Z"
   },
   {
    "duration": 125,
    "start_time": "2022-04-30T14:26:04.613Z"
   },
   {
    "duration": 7,
    "start_time": "2022-04-30T14:28:00.925Z"
   },
   {
    "duration": 7,
    "start_time": "2022-04-30T14:28:12.408Z"
   },
   {
    "duration": 6,
    "start_time": "2022-04-30T14:28:30.044Z"
   },
   {
    "duration": 3122,
    "start_time": "2022-04-30T14:30:51.465Z"
   },
   {
    "duration": 133,
    "start_time": "2022-04-30T14:31:13.838Z"
   },
   {
    "duration": 175,
    "start_time": "2022-04-30T14:31:29.337Z"
   },
   {
    "duration": 190,
    "start_time": "2022-04-30T14:32:21.075Z"
   },
   {
    "duration": 189,
    "start_time": "2022-04-30T14:33:29.641Z"
   },
   {
    "duration": 147,
    "start_time": "2022-04-30T14:34:14.021Z"
   },
   {
    "duration": 139,
    "start_time": "2022-04-30T14:34:29.519Z"
   },
   {
    "duration": 131,
    "start_time": "2022-04-30T14:34:40.059Z"
   },
   {
    "duration": 145,
    "start_time": "2022-04-30T14:34:47.696Z"
   },
   {
    "duration": 311,
    "start_time": "2022-04-30T14:35:20.147Z"
   },
   {
    "duration": 310,
    "start_time": "2022-04-30T14:35:53.777Z"
   },
   {
    "duration": 234,
    "start_time": "2022-04-30T14:36:07.941Z"
   },
   {
    "duration": 281,
    "start_time": "2022-04-30T14:36:53.107Z"
   },
   {
    "duration": 261,
    "start_time": "2022-04-30T14:37:10.181Z"
   },
   {
    "duration": 249,
    "start_time": "2022-04-30T14:37:34.627Z"
   },
   {
    "duration": 258,
    "start_time": "2022-04-30T14:37:45.657Z"
   },
   {
    "duration": 5,
    "start_time": "2022-04-30T14:39:05.005Z"
   },
   {
    "duration": 5,
    "start_time": "2022-04-30T14:41:31.982Z"
   },
   {
    "duration": 16,
    "start_time": "2022-04-30T14:43:13.973Z"
   },
   {
    "duration": 110,
    "start_time": "2022-04-30T14:44:53.782Z"
   },
   {
    "duration": 163,
    "start_time": "2022-04-30T14:45:55.681Z"
   },
   {
    "duration": 234,
    "start_time": "2022-04-30T14:46:40.280Z"
   },
   {
    "duration": 136,
    "start_time": "2022-04-30T14:48:33.435Z"
   },
   {
    "duration": 10,
    "start_time": "2022-04-30T14:48:48.717Z"
   },
   {
    "duration": 9,
    "start_time": "2022-04-30T14:49:38.227Z"
   },
   {
    "duration": 13,
    "start_time": "2022-04-30T14:50:06.067Z"
   },
   {
    "duration": 13,
    "start_time": "2022-04-30T14:50:18.690Z"
   },
   {
    "duration": 13,
    "start_time": "2022-04-30T14:53:35.877Z"
   },
   {
    "duration": 10,
    "start_time": "2022-04-30T14:53:40.661Z"
   },
   {
    "duration": 42,
    "start_time": "2022-04-30T14:53:46.857Z"
   },
   {
    "duration": 14,
    "start_time": "2022-04-30T14:54:05.222Z"
   },
   {
    "duration": 13,
    "start_time": "2022-04-30T14:54:10.700Z"
   },
   {
    "duration": 3228,
    "start_time": "2022-04-30T14:57:00.568Z"
   },
   {
    "duration": 3760,
    "start_time": "2022-04-30T14:57:38.115Z"
   },
   {
    "duration": 3532,
    "start_time": "2022-04-30T14:57:57.506Z"
   },
   {
    "duration": 3244,
    "start_time": "2022-04-30T15:01:57.767Z"
   },
   {
    "duration": 13,
    "start_time": "2022-04-30T15:02:48.638Z"
   },
   {
    "duration": 18,
    "start_time": "2022-04-30T15:04:03.927Z"
   },
   {
    "duration": 10,
    "start_time": "2022-04-30T15:04:12.277Z"
   },
   {
    "duration": 31,
    "start_time": "2022-04-30T15:04:46.050Z"
   },
   {
    "duration": 11,
    "start_time": "2022-04-30T15:06:40.017Z"
   },
   {
    "duration": 17,
    "start_time": "2022-04-30T15:06:52.776Z"
   },
   {
    "duration": 4,
    "start_time": "2022-04-30T15:08:22.469Z"
   },
   {
    "duration": 94,
    "start_time": "2022-04-30T15:08:23.129Z"
   },
   {
    "duration": 26,
    "start_time": "2022-04-30T15:08:24.420Z"
   },
   {
    "duration": 9,
    "start_time": "2022-04-30T15:08:29.448Z"
   },
   {
    "duration": 12,
    "start_time": "2022-04-30T15:08:30.346Z"
   },
   {
    "duration": 4,
    "start_time": "2022-04-30T15:08:31.777Z"
   },
   {
    "duration": 33,
    "start_time": "2022-04-30T15:08:32.669Z"
   },
   {
    "duration": 12,
    "start_time": "2022-04-30T15:08:35.467Z"
   },
   {
    "duration": 12,
    "start_time": "2022-04-30T15:08:36.682Z"
   },
   {
    "duration": 11,
    "start_time": "2022-04-30T15:08:41.357Z"
   },
   {
    "duration": 8,
    "start_time": "2022-04-30T15:08:43.447Z"
   },
   {
    "duration": 253,
    "start_time": "2022-04-30T15:08:57.578Z"
   },
   {
    "duration": 126,
    "start_time": "2022-04-30T15:09:02.497Z"
   },
   {
    "duration": 14,
    "start_time": "2022-04-30T15:09:03.757Z"
   },
   {
    "duration": 1370,
    "start_time": "2022-05-02T12:34:04.093Z"
   },
   {
    "duration": 121,
    "start_time": "2022-05-02T12:34:06.842Z"
   },
   {
    "duration": 20,
    "start_time": "2022-05-02T12:34:07.773Z"
   },
   {
    "duration": 7,
    "start_time": "2022-05-02T12:34:08.545Z"
   },
   {
    "duration": 7,
    "start_time": "2022-05-02T12:34:09.175Z"
   },
   {
    "duration": 3,
    "start_time": "2022-05-02T12:34:09.854Z"
   },
   {
    "duration": 29,
    "start_time": "2022-05-02T12:34:10.524Z"
   },
   {
    "duration": 13,
    "start_time": "2022-05-02T12:34:14.552Z"
   },
   {
    "duration": 10,
    "start_time": "2022-05-02T12:34:17.698Z"
   },
   {
    "duration": 8,
    "start_time": "2022-05-02T12:34:20.263Z"
   },
   {
    "duration": 8,
    "start_time": "2022-05-02T12:34:21.755Z"
   },
   {
    "duration": 233,
    "start_time": "2022-05-02T12:34:23.322Z"
   },
   {
    "duration": 154,
    "start_time": "2022-05-02T12:34:24.633Z"
   },
   {
    "duration": 16,
    "start_time": "2022-05-02T12:34:25.449Z"
   },
   {
    "duration": 264,
    "start_time": "2022-05-02T12:34:26.342Z"
   },
   {
    "duration": 160,
    "start_time": "2022-05-02T12:34:29.740Z"
   },
   {
    "duration": 297,
    "start_time": "2022-05-02T12:34:32.163Z"
   },
   {
    "duration": 175,
    "start_time": "2022-05-02T12:34:35.638Z"
   },
   {
    "duration": 277,
    "start_time": "2022-05-02T12:34:36.980Z"
   },
   {
    "duration": 116,
    "start_time": "2022-05-02T12:34:40.013Z"
   },
   {
    "duration": 108,
    "start_time": "2022-05-02T12:34:41.033Z"
   },
   {
    "duration": 110,
    "start_time": "2022-05-02T12:34:41.924Z"
   },
   {
    "duration": 5,
    "start_time": "2022-05-02T12:34:46.772Z"
   },
   {
    "duration": 477,
    "start_time": "2022-05-02T12:34:52.533Z"
   },
   {
    "duration": 5,
    "start_time": "2022-05-02T12:34:57.623Z"
   },
   {
    "duration": 411,
    "start_time": "2022-05-02T12:34:59.224Z"
   },
   {
    "duration": 141,
    "start_time": "2022-05-02T12:35:00.483Z"
   },
   {
    "duration": 24,
    "start_time": "2022-05-02T12:35:04.264Z"
   },
   {
    "duration": 14,
    "start_time": "2022-05-02T12:35:16.191Z"
   },
   {
    "duration": 10,
    "start_time": "2022-05-02T12:35:17.789Z"
   },
   {
    "duration": 28,
    "start_time": "2022-05-02T12:35:18.245Z"
   },
   {
    "duration": 16,
    "start_time": "2022-05-02T12:35:19.907Z"
   },
   {
    "duration": 10,
    "start_time": "2022-05-02T13:45:51.857Z"
   },
   {
    "duration": 29,
    "start_time": "2022-05-02T13:47:06.550Z"
   },
   {
    "duration": 14,
    "start_time": "2022-05-02T13:49:45.923Z"
   },
   {
    "duration": 133,
    "start_time": "2022-05-02T13:51:57.669Z"
   },
   {
    "duration": 198,
    "start_time": "2022-05-02T14:02:48.269Z"
   },
   {
    "duration": 2326,
    "start_time": "2022-05-05T07:01:46.243Z"
   },
   {
    "duration": 110,
    "start_time": "2022-05-05T07:01:48.572Z"
   },
   {
    "duration": 30,
    "start_time": "2022-05-05T07:01:48.894Z"
   },
   {
    "duration": 10,
    "start_time": "2022-05-05T07:01:49.837Z"
   },
   {
    "duration": 12,
    "start_time": "2022-05-05T07:01:50.390Z"
   },
   {
    "duration": 4,
    "start_time": "2022-05-05T07:01:50.955Z"
   },
   {
    "duration": 43,
    "start_time": "2022-05-05T07:01:51.406Z"
   },
   {
    "duration": 22,
    "start_time": "2022-05-05T07:01:53.576Z"
   },
   {
    "duration": 16,
    "start_time": "2022-05-05T07:01:55.372Z"
   },
   {
    "duration": 144,
    "start_time": "2022-05-05T07:02:17.951Z"
   },
   {
    "duration": 20,
    "start_time": "2022-05-05T07:02:25.286Z"
   },
   {
    "duration": 146,
    "start_time": "2022-05-05T07:25:00.684Z"
   },
   {
    "duration": 4,
    "start_time": "2022-05-05T07:25:08.516Z"
   },
   {
    "duration": 43,
    "start_time": "2022-05-05T07:25:09.306Z"
   },
   {
    "duration": 25,
    "start_time": "2022-05-05T07:25:09.650Z"
   },
   {
    "duration": 8,
    "start_time": "2022-05-05T07:25:09.994Z"
   },
   {
    "duration": 16,
    "start_time": "2022-05-05T07:25:10.430Z"
   },
   {
    "duration": 4,
    "start_time": "2022-05-05T07:25:10.754Z"
   },
   {
    "duration": 42,
    "start_time": "2022-05-05T07:25:11.136Z"
   },
   {
    "duration": 15,
    "start_time": "2022-05-05T07:25:12.937Z"
   },
   {
    "duration": 17,
    "start_time": "2022-05-05T07:25:13.977Z"
   },
   {
    "duration": 7,
    "start_time": "2022-05-05T07:25:18.603Z"
   },
   {
    "duration": 287,
    "start_time": "2022-05-05T07:25:19.292Z"
   },
   {
    "duration": 195,
    "start_time": "2022-05-05T07:25:20.668Z"
   },
   {
    "duration": 18,
    "start_time": "2022-05-05T07:25:22.994Z"
   },
   {
    "duration": 437,
    "start_time": "2022-05-05T07:25:24.818Z"
   },
   {
    "duration": 298,
    "start_time": "2022-05-05T07:26:23.650Z"
   },
   {
    "duration": 293,
    "start_time": "2022-05-05T07:26:39.679Z"
   },
   {
    "duration": 237,
    "start_time": "2022-05-05T07:26:59.932Z"
   },
   {
    "duration": 313,
    "start_time": "2022-05-05T07:27:13.816Z"
   },
   {
    "duration": 334,
    "start_time": "2022-05-05T07:30:46.603Z"
   },
   {
    "duration": 342,
    "start_time": "2022-05-05T07:30:59.849Z"
   },
   {
    "duration": 616,
    "start_time": "2022-05-05T07:33:07.057Z"
   },
   {
    "duration": 531,
    "start_time": "2022-05-05T07:33:23.401Z"
   },
   {
    "duration": 491,
    "start_time": "2022-05-05T07:33:35.896Z"
   },
   {
    "duration": 544,
    "start_time": "2022-05-05T07:33:50.120Z"
   },
   {
    "duration": 519,
    "start_time": "2022-05-05T07:34:20.721Z"
   },
   {
    "duration": 686,
    "start_time": "2022-05-05T07:34:52.449Z"
   },
   {
    "duration": 9,
    "start_time": "2022-05-05T07:40:12.309Z"
   },
   {
    "duration": 8,
    "start_time": "2022-05-05T07:40:30.405Z"
   },
   {
    "duration": 16,
    "start_time": "2022-05-05T07:40:51.328Z"
   },
   {
    "duration": 12,
    "start_time": "2022-05-05T07:45:24.288Z"
   },
   {
    "duration": 877,
    "start_time": "2022-05-05T07:45:41.184Z"
   },
   {
    "duration": 153,
    "start_time": "2022-05-05T07:49:04.101Z"
   },
   {
    "duration": 18,
    "start_time": "2022-05-05T07:49:16.854Z"
   },
   {
    "duration": 101,
    "start_time": "2022-05-05T07:49:48.569Z"
   },
   {
    "duration": 17,
    "start_time": "2022-05-05T07:49:54.685Z"
   },
   {
    "duration": 917,
    "start_time": "2022-05-05T07:50:12.236Z"
   },
   {
    "duration": 114,
    "start_time": "2022-05-05T07:54:03.086Z"
   },
   {
    "duration": 14,
    "start_time": "2022-05-05T08:15:41.248Z"
   },
   {
    "duration": 4,
    "start_time": "2022-05-05T08:25:20.136Z"
   },
   {
    "duration": 37,
    "start_time": "2022-05-05T08:25:20.940Z"
   },
   {
    "duration": 27,
    "start_time": "2022-05-05T08:25:21.702Z"
   },
   {
    "duration": 4,
    "start_time": "2022-05-05T08:28:36.561Z"
   },
   {
    "duration": 4,
    "start_time": "2022-05-05T08:28:37.007Z"
   },
   {
    "duration": 38,
    "start_time": "2022-05-05T08:28:37.233Z"
   },
   {
    "duration": 25,
    "start_time": "2022-05-05T08:28:37.457Z"
   },
   {
    "duration": 9,
    "start_time": "2022-05-05T08:28:37.702Z"
   },
   {
    "duration": 12,
    "start_time": "2022-05-05T08:28:37.920Z"
   },
   {
    "duration": 4,
    "start_time": "2022-05-05T08:28:38.145Z"
   },
   {
    "duration": 40,
    "start_time": "2022-05-05T08:28:38.362Z"
   },
   {
    "duration": 15,
    "start_time": "2022-05-05T08:28:39.216Z"
   },
   {
    "duration": 17,
    "start_time": "2022-05-05T08:28:39.865Z"
   },
   {
    "duration": 8,
    "start_time": "2022-05-05T08:28:40.935Z"
   },
   {
    "duration": 285,
    "start_time": "2022-05-05T08:28:41.158Z"
   },
   {
    "duration": 220,
    "start_time": "2022-05-05T08:28:41.446Z"
   },
   {
    "duration": 28,
    "start_time": "2022-05-05T08:28:41.669Z"
   },
   {
    "duration": 475,
    "start_time": "2022-05-05T08:28:42.264Z"
   },
   {
    "duration": 466,
    "start_time": "2022-05-05T08:28:43.133Z"
   },
   {
    "duration": 631,
    "start_time": "2022-05-05T08:28:43.840Z"
   },
   {
    "duration": 304,
    "start_time": "2022-05-05T08:28:44.497Z"
   },
   {
    "duration": 445,
    "start_time": "2022-05-05T08:28:45.147Z"
   },
   {
    "duration": 251,
    "start_time": "2022-05-05T08:28:46.051Z"
   },
   {
    "duration": 201,
    "start_time": "2022-05-05T08:28:46.305Z"
   },
   {
    "duration": 183,
    "start_time": "2022-05-05T08:28:46.702Z"
   },
   {
    "duration": 8,
    "start_time": "2022-05-05T08:28:47.384Z"
   },
   {
    "duration": 524,
    "start_time": "2022-05-05T08:28:48.281Z"
   },
   {
    "duration": 7,
    "start_time": "2022-05-05T08:28:48.918Z"
   },
   {
    "duration": 390,
    "start_time": "2022-05-05T08:28:50.868Z"
   },
   {
    "duration": 254,
    "start_time": "2022-05-05T08:28:51.516Z"
   },
   {
    "duration": 41,
    "start_time": "2022-05-05T08:28:51.773Z"
   },
   {
    "duration": 17,
    "start_time": "2022-05-05T08:28:52.233Z"
   },
   {
    "duration": 14,
    "start_time": "2022-05-05T08:28:52.929Z"
   },
   {
    "duration": 42,
    "start_time": "2022-05-05T08:28:53.633Z"
   },
   {
    "duration": 23,
    "start_time": "2022-05-05T08:28:54.350Z"
   },
   {
    "duration": 1088,
    "start_time": "2022-08-16T16:32:16.389Z"
   },
   {
    "duration": 3,
    "start_time": "2022-08-16T16:32:17.479Z"
   },
   {
    "duration": 253,
    "start_time": "2022-08-16T16:32:17.483Z"
   },
   {
    "duration": 21,
    "start_time": "2022-08-16T16:32:17.737Z"
   },
   {
    "duration": 6,
    "start_time": "2022-08-16T16:32:17.760Z"
   },
   {
    "duration": 10,
    "start_time": "2022-08-16T16:32:17.767Z"
   },
   {
    "duration": 6,
    "start_time": "2022-08-16T16:32:17.778Z"
   },
   {
    "duration": 28,
    "start_time": "2022-08-16T16:32:17.785Z"
   },
   {
    "duration": 10,
    "start_time": "2022-08-16T16:32:17.815Z"
   },
   {
    "duration": 10,
    "start_time": "2022-08-16T16:32:17.826Z"
   },
   {
    "duration": 6,
    "start_time": "2022-08-16T16:32:17.838Z"
   },
   {
    "duration": 184,
    "start_time": "2022-08-16T16:32:17.845Z"
   },
   {
    "duration": 123,
    "start_time": "2022-08-16T16:32:18.031Z"
   },
   {
    "duration": 11,
    "start_time": "2022-08-16T16:32:18.157Z"
   },
   {
    "duration": 340,
    "start_time": "2022-08-16T16:32:18.169Z"
   },
   {
    "duration": 259,
    "start_time": "2022-08-16T16:32:18.510Z"
   },
   {
    "duration": 342,
    "start_time": "2022-08-16T16:32:18.770Z"
   },
   {
    "duration": 192,
    "start_time": "2022-08-16T16:32:19.113Z"
   },
   {
    "duration": 321,
    "start_time": "2022-08-16T16:32:19.307Z"
   },
   {
    "duration": 125,
    "start_time": "2022-08-16T16:32:19.629Z"
   },
   {
    "duration": 113,
    "start_time": "2022-08-16T16:32:19.755Z"
   },
   {
    "duration": 111,
    "start_time": "2022-08-16T16:32:19.869Z"
   },
   {
    "duration": 4,
    "start_time": "2022-08-16T16:32:19.982Z"
   },
   {
    "duration": 279,
    "start_time": "2022-08-16T16:32:19.987Z"
   },
   {
    "duration": 5,
    "start_time": "2022-08-16T16:32:20.268Z"
   },
   {
    "duration": 292,
    "start_time": "2022-08-16T16:32:20.274Z"
   },
   {
    "duration": 129,
    "start_time": "2022-08-16T16:32:20.568Z"
   },
   {
    "duration": 25,
    "start_time": "2022-08-16T16:32:20.698Z"
   },
   {
    "duration": 9,
    "start_time": "2022-08-16T16:32:20.724Z"
   },
   {
    "duration": 7,
    "start_time": "2022-08-16T16:32:20.735Z"
   },
   {
    "duration": 36,
    "start_time": "2022-08-16T16:32:20.744Z"
   },
   {
    "duration": 29,
    "start_time": "2022-08-16T16:32:20.781Z"
   }
  ],
  "kernelspec": {
   "display_name": "Python 3 (ipykernel)",
   "language": "python",
   "name": "python3"
  },
  "language_info": {
   "codemirror_mode": {
    "name": "ipython",
    "version": 3
   },
   "file_extension": ".py",
   "mimetype": "text/x-python",
   "name": "python",
   "nbconvert_exporter": "python",
   "pygments_lexer": "ipython3",
   "version": "3.9.5"
  },
  "toc": {
   "base_numbering": 1,
   "nav_menu": {
    "height": "11.9676px",
    "width": "159.988px"
   },
   "number_sections": true,
   "sideBar": true,
   "skip_h1_title": true,
   "title_cell": "Table of Contents",
   "title_sidebar": "Contents",
   "toc_cell": false,
   "toc_position": {},
   "toc_section_display": true,
   "toc_window_display": false
  }
 },
 "nbformat": 4,
 "nbformat_minor": 2
}
