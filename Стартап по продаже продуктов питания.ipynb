{
 "cells": [
  {
   "cell_type": "markdown",
   "metadata": {},
   "source": [
    "**Название:** Мобильное приложение по продаже продуктов питания.\n",
    "\n",
    "**Краткое описание:** Необходимо проанализировать, как ведут себя пользователи мобильного приложения по продаже продуктов питания. В нашем распоряжении логи с событиями пользователей, а также результаты эксперимента.\n",
    "\n",
    "\n",
    "**Описание исходных данных:** \n",
    "- EventName — название события\n",
    "- DeviceIDHash — уникальный идентификатор пользователя\n",
    "- EventTimestamp — время события\n",
    "- ExpId — номер эксперимента: 246 и 247 — контрольные группы, а 248 — экспериментальная\n",
    "\n",
    "План (декомпозиция) анализа данных:\n",
    "\n",
    "- Шаг1. Загржаем данные и подготовливаем их к анализу\n",
    "- Шаг2. Анализ данных\n",
    "- Шаг3. Изучим результаты эксперимента\n",
    "- Шаг4. Общий вывод    \n",
    "         \n",
    "</div>"
   ]
  },
  {
   "cell_type": "markdown",
   "metadata": {},
   "source": [
    "## Шаг 1. Загружаем данные и подготавливаем их к анализу"
   ]
  },
  {
   "cell_type": "code",
   "execution_count": 1,
   "metadata": {},
   "outputs": [],
   "source": [
    "import pandas as pd\n",
    "import numpy as np\n",
    "from matplotlib import pyplot as plt\n",
    "from plotly import graph_objects as go\n",
    "import seaborn as sns\n",
    "import re\n",
    "from scipy import stats as st\n",
    "import warnings\n",
    "warnings.filterwarnings('ignore')"
   ]
  },
  {
   "cell_type": "markdown",
   "metadata": {},
   "source": [
    "### Изучим общую информацию"
   ]
  },
  {
   "cell_type": "code",
   "execution_count": 2,
   "metadata": {},
   "outputs": [
    {
     "data": {
      "text/html": [
       "<div>\n",
       "<style scoped>\n",
       "    .dataframe tbody tr th:only-of-type {\n",
       "        vertical-align: middle;\n",
       "    }\n",
       "\n",
       "    .dataframe tbody tr th {\n",
       "        vertical-align: top;\n",
       "    }\n",
       "\n",
       "    .dataframe thead th {\n",
       "        text-align: right;\n",
       "    }\n",
       "</style>\n",
       "<table border=\"1\" class=\"dataframe\">\n",
       "  <thead>\n",
       "    <tr style=\"text-align: right;\">\n",
       "      <th></th>\n",
       "      <th>EventName</th>\n",
       "      <th>DeviceIDHash</th>\n",
       "      <th>EventTimestamp</th>\n",
       "      <th>ExpId</th>\n",
       "    </tr>\n",
       "  </thead>\n",
       "  <tbody>\n",
       "    <tr>\n",
       "      <th>0</th>\n",
       "      <td>MainScreenAppear</td>\n",
       "      <td>4575588528974610257</td>\n",
       "      <td>1564029816</td>\n",
       "      <td>246</td>\n",
       "    </tr>\n",
       "    <tr>\n",
       "      <th>1</th>\n",
       "      <td>MainScreenAppear</td>\n",
       "      <td>7416695313311560658</td>\n",
       "      <td>1564053102</td>\n",
       "      <td>246</td>\n",
       "    </tr>\n",
       "    <tr>\n",
       "      <th>2</th>\n",
       "      <td>PaymentScreenSuccessful</td>\n",
       "      <td>3518123091307005509</td>\n",
       "      <td>1564054127</td>\n",
       "      <td>248</td>\n",
       "    </tr>\n",
       "    <tr>\n",
       "      <th>3</th>\n",
       "      <td>CartScreenAppear</td>\n",
       "      <td>3518123091307005509</td>\n",
       "      <td>1564054127</td>\n",
       "      <td>248</td>\n",
       "    </tr>\n",
       "    <tr>\n",
       "      <th>4</th>\n",
       "      <td>PaymentScreenSuccessful</td>\n",
       "      <td>6217807653094995999</td>\n",
       "      <td>1564055322</td>\n",
       "      <td>248</td>\n",
       "    </tr>\n",
       "  </tbody>\n",
       "</table>\n",
       "</div>"
      ],
      "text/plain": [
       "                 EventName         DeviceIDHash  EventTimestamp  ExpId\n",
       "0         MainScreenAppear  4575588528974610257      1564029816    246\n",
       "1         MainScreenAppear  7416695313311560658      1564053102    246\n",
       "2  PaymentScreenSuccessful  3518123091307005509      1564054127    248\n",
       "3         CartScreenAppear  3518123091307005509      1564054127    248\n",
       "4  PaymentScreenSuccessful  6217807653094995999      1564055322    248"
      ]
     },
     "execution_count": 2,
     "metadata": {},
     "output_type": "execute_result"
    }
   ],
   "source": [
    "logs=pd.read_csv('/datasets/logs_exp.csv', sep='\\t')#загружаем данные\n",
    "logs.head()"
   ]
  },
  {
   "cell_type": "code",
   "execution_count": 3,
   "metadata": {},
   "outputs": [
    {
     "name": "stdout",
     "output_type": "stream",
     "text": [
      "<class 'pandas.core.frame.DataFrame'>\n",
      "RangeIndex: 244126 entries, 0 to 244125\n",
      "Data columns (total 4 columns):\n",
      " #   Column          Non-Null Count   Dtype \n",
      "---  ------          --------------   ----- \n",
      " 0   EventName       244126 non-null  object\n",
      " 1   DeviceIDHash    244126 non-null  int64 \n",
      " 2   EventTimestamp  244126 non-null  int64 \n",
      " 3   ExpId           244126 non-null  int64 \n",
      "dtypes: int64(3), object(1)\n",
      "memory usage: 7.5+ MB\n"
     ]
    }
   ],
   "source": [
    "logs.info()"
   ]
  },
  {
   "cell_type": "code",
   "execution_count": 4,
   "metadata": {},
   "outputs": [
    {
     "data": {
      "text/plain": [
       "EventName         0\n",
       "DeviceIDHash      0\n",
       "EventTimestamp    0\n",
       "ExpId             0\n",
       "dtype: int64"
      ]
     },
     "execution_count": 4,
     "metadata": {},
     "output_type": "execute_result"
    }
   ],
   "source": [
    "logs.isna().sum()#проверяем наличие пропусков"
   ]
  },
  {
   "cell_type": "code",
   "execution_count": 5,
   "metadata": {},
   "outputs": [
    {
     "data": {
      "text/plain": [
       "413"
      ]
     },
     "execution_count": 5,
     "metadata": {},
     "output_type": "execute_result"
    }
   ],
   "source": [
    "logs.duplicated().sum()# проверяем наличи дубликатов"
   ]
  },
  {
   "cell_type": "markdown",
   "metadata": {},
   "source": [
    "#### Вывод\n",
    "<br>Дубликаты: 413 строк.\n",
    "<br>Пропуски: отсутствуют.\n",
    "<br>Требуется переименовать столбцы к нужному нам названию.\n",
    "<br>Преобразуем формат столбце с датой и временем."
   ]
  },
  {
   "cell_type": "code",
   "execution_count": 6,
   "metadata": {},
   "outputs": [
    {
     "data": {
      "text/plain": [
       "ExpId\n",
       "246    2489\n",
       "247    2520\n",
       "248    2542\n",
       "dtype: int64"
      ]
     },
     "execution_count": 6,
     "metadata": {},
     "output_type": "execute_result"
    }
   ],
   "source": [
    "logs1 = logs.groupby(['DeviceIDHash','ExpId']).size().unstack()\n",
    "logs1.count()"
   ]
  },
  {
   "cell_type": "code",
   "execution_count": 7,
   "metadata": {},
   "outputs": [
    {
     "data": {
      "text/plain": [
       "0"
      ]
     },
     "execution_count": 7,
     "metadata": {},
     "output_type": "execute_result"
    }
   ],
   "source": [
    "logs1.notnull().all().sum()"
   ]
  },
  {
   "cell_type": "markdown",
   "metadata": {},
   "source": [
    "### Преобразование данных"
   ]
  },
  {
   "cell_type": "code",
   "execution_count": 8,
   "metadata": {},
   "outputs": [],
   "source": [
    "#duplicated_logs=logs[logs.duplicated()].head()\n",
    "#duplicated_logs"
   ]
  },
  {
   "cell_type": "code",
   "execution_count": 9,
   "metadata": {},
   "outputs": [
    {
     "data": {
      "text/html": [
       "<div>\n",
       "<style scoped>\n",
       "    .dataframe tbody tr th:only-of-type {\n",
       "        vertical-align: middle;\n",
       "    }\n",
       "\n",
       "    .dataframe tbody tr th {\n",
       "        vertical-align: top;\n",
       "    }\n",
       "\n",
       "    .dataframe thead th {\n",
       "        text-align: right;\n",
       "    }\n",
       "</style>\n",
       "<table border=\"1\" class=\"dataframe\">\n",
       "  <thead>\n",
       "    <tr style=\"text-align: right;\">\n",
       "      <th></th>\n",
       "      <th>event_name</th>\n",
       "      <th>user_id</th>\n",
       "      <th>event_time</th>\n",
       "      <th>group</th>\n",
       "    </tr>\n",
       "  </thead>\n",
       "  <tbody>\n",
       "    <tr>\n",
       "      <th>0</th>\n",
       "      <td>MainScreenAppear</td>\n",
       "      <td>4575588528974610257</td>\n",
       "      <td>1564029816</td>\n",
       "      <td>246</td>\n",
       "    </tr>\n",
       "    <tr>\n",
       "      <th>1</th>\n",
       "      <td>MainScreenAppear</td>\n",
       "      <td>7416695313311560658</td>\n",
       "      <td>1564053102</td>\n",
       "      <td>246</td>\n",
       "    </tr>\n",
       "    <tr>\n",
       "      <th>2</th>\n",
       "      <td>PaymentScreenSuccessful</td>\n",
       "      <td>3518123091307005509</td>\n",
       "      <td>1564054127</td>\n",
       "      <td>248</td>\n",
       "    </tr>\n",
       "    <tr>\n",
       "      <th>3</th>\n",
       "      <td>CartScreenAppear</td>\n",
       "      <td>3518123091307005509</td>\n",
       "      <td>1564054127</td>\n",
       "      <td>248</td>\n",
       "    </tr>\n",
       "    <tr>\n",
       "      <th>4</th>\n",
       "      <td>PaymentScreenSuccessful</td>\n",
       "      <td>6217807653094995999</td>\n",
       "      <td>1564055322</td>\n",
       "      <td>248</td>\n",
       "    </tr>\n",
       "  </tbody>\n",
       "</table>\n",
       "</div>"
      ],
      "text/plain": [
       "                event_name              user_id  event_time  group\n",
       "0         MainScreenAppear  4575588528974610257  1564029816    246\n",
       "1         MainScreenAppear  7416695313311560658  1564053102    246\n",
       "2  PaymentScreenSuccessful  3518123091307005509  1564054127    248\n",
       "3         CartScreenAppear  3518123091307005509  1564054127    248\n",
       "4  PaymentScreenSuccessful  6217807653094995999  1564055322    248"
      ]
     },
     "execution_count": 9,
     "metadata": {},
     "output_type": "execute_result"
    }
   ],
   "source": [
    "logs=logs.rename(columns={'EventName':'event_name', 'DeviceIDHash':'user_id', \n",
    "                          'EventTimestamp':'event_time', 'ExpId':'group'}) #переименуем названия столбцов\n",
    "logs.head()"
   ]
  },
  {
   "cell_type": "code",
   "execution_count": 10,
   "metadata": {},
   "outputs": [
    {
     "name": "stdout",
     "output_type": "stream",
     "text": [
      "<class 'pandas.core.frame.DataFrame'>\n",
      "RangeIndex: 244126 entries, 0 to 244125\n",
      "Data columns (total 6 columns):\n",
      " #   Column      Non-Null Count   Dtype         \n",
      "---  ------      --------------   -----         \n",
      " 0   event_name  244126 non-null  object        \n",
      " 1   user_id     244126 non-null  int64         \n",
      " 2   event_time  244126 non-null  datetime64[ns]\n",
      " 3   group       244126 non-null  int64         \n",
      " 4   date        244126 non-null  datetime64[ns]\n",
      " 5   time        244126 non-null  object        \n",
      "dtypes: datetime64[ns](2), int64(2), object(2)\n",
      "memory usage: 11.2+ MB\n"
     ]
    }
   ],
   "source": [
    "logs['event_time'] = logs['event_time'].astype('datetime64[s]')\n",
    "logs['date'] = [d.date() for d in logs['event_time']]\n",
    "logs['time'] = [d.time() for d in logs['event_time']]\n",
    "logs['date'] = pd.to_datetime(logs.date)\n",
    "logs.info()"
   ]
  },
  {
   "cell_type": "code",
   "execution_count": 11,
   "metadata": {},
   "outputs": [
    {
     "data": {
      "text/plain": [
       "0"
      ]
     },
     "execution_count": 11,
     "metadata": {},
     "output_type": "execute_result"
    }
   ],
   "source": [
    "logs=logs.drop_duplicates()#удаляем дубликаты\n",
    "logs.duplicated().sum()"
   ]
  },
  {
   "cell_type": "markdown",
   "metadata": {},
   "source": [
    "## Шаг 2. Анализ данных"
   ]
  },
  {
   "cell_type": "markdown",
   "metadata": {},
   "source": [
    "### Ответим на вопросы:\n",
    "<br> Сколько всего событий в логе?\n",
    "<br>Сколько всего пользователей в логе?\n",
    "<br>Сколько в среднем событий приходится на пользователя?\n",
    "<br>Данными за какой период вы располагаете? Найдите максимальную и минимальную дату. Постройте гистограмму по дате и времени. Можно ли быть уверенным, что у вас одинаково полные данные за весь период? Технически в логи новых дней по некоторым пользователям могут «доезжать» события из прошлого — это может «перекашивать данные». Определите, с какого момента данные полные и отбросьте более старые. Данными за какой период времени вы располагаете на самом деле?\n",
    "<br>Много ли событий и пользователей вы потеряли, отбросив старые данные?\n",
    "<br>Проверьте, что у вас есть пользователи из всех трёх экспериментальных групп."
   ]
  },
  {
   "cell_type": "markdown",
   "metadata": {},
   "source": [
    "### Сколько всего событий в логе?"
   ]
  },
  {
   "cell_type": "code",
   "execution_count": 12,
   "metadata": {},
   "outputs": [
    {
     "data": {
      "text/html": [
       "<div>\n",
       "<style scoped>\n",
       "    .dataframe tbody tr th:only-of-type {\n",
       "        vertical-align: middle;\n",
       "    }\n",
       "\n",
       "    .dataframe tbody tr th {\n",
       "        vertical-align: top;\n",
       "    }\n",
       "\n",
       "    .dataframe thead th {\n",
       "        text-align: right;\n",
       "    }\n",
       "</style>\n",
       "<table border=\"1\" class=\"dataframe\">\n",
       "  <thead>\n",
       "    <tr style=\"text-align: right;\">\n",
       "      <th></th>\n",
       "      <th>event_name</th>\n",
       "      <th>user_id</th>\n",
       "    </tr>\n",
       "  </thead>\n",
       "  <tbody>\n",
       "    <tr>\n",
       "      <th>0</th>\n",
       "      <td>CartScreenAppear</td>\n",
       "      <td>42668</td>\n",
       "    </tr>\n",
       "    <tr>\n",
       "      <th>1</th>\n",
       "      <td>MainScreenAppear</td>\n",
       "      <td>119101</td>\n",
       "    </tr>\n",
       "    <tr>\n",
       "      <th>2</th>\n",
       "      <td>OffersScreenAppear</td>\n",
       "      <td>46808</td>\n",
       "    </tr>\n",
       "    <tr>\n",
       "      <th>3</th>\n",
       "      <td>PaymentScreenSuccessful</td>\n",
       "      <td>34118</td>\n",
       "    </tr>\n",
       "    <tr>\n",
       "      <th>4</th>\n",
       "      <td>Tutorial</td>\n",
       "      <td>1018</td>\n",
       "    </tr>\n",
       "  </tbody>\n",
       "</table>\n",
       "</div>"
      ],
      "text/plain": [
       "                event_name  user_id\n",
       "0         CartScreenAppear    42668\n",
       "1         MainScreenAppear   119101\n",
       "2       OffersScreenAppear    46808\n",
       "3  PaymentScreenSuccessful    34118\n",
       "4                 Tutorial     1018"
      ]
     },
     "execution_count": 12,
     "metadata": {},
     "output_type": "execute_result"
    }
   ],
   "source": [
    "logs.groupby('event_name')['user_id'].count().reset_index()"
   ]
  },
  {
   "cell_type": "markdown",
   "metadata": {},
   "source": [
    "#### Вывод\n",
    "В логе представлены 5 событий: CartScreenAppear, MainScreenAppear, OffersScreenAppear, PaymentScreenSuccessful, Tutorial"
   ]
  },
  {
   "cell_type": "markdown",
   "metadata": {},
   "source": [
    "### Сколько всего пользователей в логе?"
   ]
  },
  {
   "cell_type": "code",
   "execution_count": 13,
   "metadata": {},
   "outputs": [
    {
     "data": {
      "text/plain": [
       "7551"
      ]
     },
     "execution_count": 13,
     "metadata": {},
     "output_type": "execute_result"
    }
   ],
   "source": [
    "logs['user_id'].nunique()"
   ]
  },
  {
   "cell_type": "markdown",
   "metadata": {},
   "source": [
    "#### Вывод\n",
    "В логе представлено 7551 пользователей"
   ]
  },
  {
   "cell_type": "markdown",
   "metadata": {},
   "source": [
    "### Сколько в среднем событий приходится на пользователя?"
   ]
  },
  {
   "cell_type": "code",
   "execution_count": 14,
   "metadata": {},
   "outputs": [
    {
     "data": {
      "text/plain": [
       "32.27559263673685"
      ]
     },
     "execution_count": 14,
     "metadata": {},
     "output_type": "execute_result"
    }
   ],
   "source": [
    "logs.groupby('user_id')['event_name'].count().mean()"
   ]
  },
  {
   "cell_type": "markdown",
   "metadata": {},
   "source": [
    "#### Вывод\n",
    "В среднем 32 события приходится на пользователя."
   ]
  },
  {
   "cell_type": "markdown",
   "metadata": {},
   "source": [
    "### Данными за какой период мы располагаем? Найдем максимальную и минимальную дату. Построим гистограмму по дате и времени. Можно ли быть уверенным, что у нас одинаково полные данные за весь период? Технически в логи новых дней по некоторым пользователям могут «доезжать» события из прошлого — это может «перекашивать данные». Определим, с какого момента данные полные и отбросьте более старые. Данными за какой период времени вы располагаете на самом деле?"
   ]
  },
  {
   "cell_type": "code",
   "execution_count": 15,
   "metadata": {},
   "outputs": [
    {
     "data": {
      "text/plain": [
       "count                  243713\n",
       "unique                     14\n",
       "top       2019-08-01 00:00:00\n",
       "freq                    36141\n",
       "first     2019-07-25 00:00:00\n",
       "last      2019-08-07 00:00:00\n",
       "Name: date, dtype: object"
      ]
     },
     "execution_count": 15,
     "metadata": {},
     "output_type": "execute_result"
    }
   ],
   "source": [
    "logs['date'].describe()"
   ]
  },
  {
   "cell_type": "markdown",
   "metadata": {},
   "source": [
    "Представлены даты в период с 25.07.2019г. - по 07.08.2019г."
   ]
  },
  {
   "cell_type": "code",
   "execution_count": 16,
   "metadata": {},
   "outputs": [
    {
     "data": {
      "image/png": "[encoded data removed]",
      "text/plain": [
       "<Figure size 1440x432 with 1 Axes>"
      ]
     },
     "metadata": {
      "needs_background": "light"
     },
     "output_type": "display_data"
    }
   ],
   "source": [
    "plt.figure(figsize =(20, 6))\n",
    "logs['date'].hist(bins=30)\n",
    "plt.title('Распределение по дате')\n",
    "plt.xlabel('Дата')\n",
    "plt.xticks(rotation=45)\n",
    "plt.ylabel('')\n",
    "plt.show()"
   ]
  },
  {
   "cell_type": "markdown",
   "metadata": {},
   "source": [
    "#### Вывод\n",
    "В логе с 25.07.2019 по 31.07.2019 наблюдаем не полные данные, значит за этот период отбрасываем данные и берем в расчет перид с 01.08.2019 по 07.08.2019."
   ]
  },
  {
   "cell_type": "code",
   "execution_count": 17,
   "metadata": {},
   "outputs": [
    {
     "name": "stdout",
     "output_type": "stream",
     "text": [
      "Всего событий: 243713\n",
      "Всего пользователей: 7551\n"
     ]
    }
   ],
   "source": [
    "logs_before = len(logs)\n",
    "users_before = logs['user_id'].nunique()\n",
    "print('Всего событий:', logs_before)\n",
    "print('Всего пользователей:', users_before)\n",
    "\n",
    "logs = logs[logs['date'] >= '2019-08-01'].copy()\n",
    "\n",
    "\n"
   ]
  },
  {
   "cell_type": "code",
   "execution_count": 18,
   "metadata": {},
   "outputs": [
    {
     "name": "stdout",
     "output_type": "stream",
     "text": [
      "Событий после корректировки периода: 240887\n",
      "Пользователей после корректировки периода: 7534\n",
      "Изменение количества логов: -2826 (-1.2%)\n",
      "Изменение количества пользователей: -17 (-0.2%)\n"
     ]
    }
   ],
   "source": [
    "# Посмотрим, сколько всего событий и пользователей осталось в логах:\n",
    "print('Событий после корректировки периода:', len(logs))\n",
    "print('Пользователей после корректировки периода:', logs['user_id'].nunique())\n",
    "\n",
    "# Изменения:\n",
    "print('Изменение количества логов:', len(logs)-logs_before, '({:.1%})'.format((len(logs)-logs_before)/logs_before))\n",
    "print('Изменение количества пользователей:', logs['user_id'].nunique()-users_before, '({:.1%})'.format((logs['user_id'].nunique()-users_before)/users_before))"
   ]
  },
  {
   "cell_type": "markdown",
   "metadata": {},
   "source": [
    "#### Вывод\n",
    "После корректировки событиый, данные уменьшились на 2826(1.2%) лога  и 17(0.2%) пользователей. "
   ]
  },
  {
   "cell_type": "code",
   "execution_count": 19,
   "metadata": {},
   "outputs": [
    {
     "data": {
      "text/html": [
       "<div>\n",
       "<style scoped>\n",
       "    .dataframe tbody tr th:only-of-type {\n",
       "        vertical-align: middle;\n",
       "    }\n",
       "\n",
       "    .dataframe tbody tr th {\n",
       "        vertical-align: top;\n",
       "    }\n",
       "\n",
       "    .dataframe thead th {\n",
       "        text-align: right;\n",
       "    }\n",
       "</style>\n",
       "<table border=\"1\" class=\"dataframe\">\n",
       "  <thead>\n",
       "    <tr style=\"text-align: right;\">\n",
       "      <th></th>\n",
       "      <th>user_id</th>\n",
       "      <th>%</th>\n",
       "    </tr>\n",
       "    <tr>\n",
       "      <th>group</th>\n",
       "      <th></th>\n",
       "      <th></th>\n",
       "    </tr>\n",
       "  </thead>\n",
       "  <tbody>\n",
       "    <tr>\n",
       "      <th>246</th>\n",
       "      <td>2484</td>\n",
       "      <td>32.970534</td>\n",
       "    </tr>\n",
       "    <tr>\n",
       "      <th>247</th>\n",
       "      <td>2513</td>\n",
       "      <td>33.355455</td>\n",
       "    </tr>\n",
       "    <tr>\n",
       "      <th>248</th>\n",
       "      <td>2537</td>\n",
       "      <td>33.674011</td>\n",
       "    </tr>\n",
       "  </tbody>\n",
       "</table>\n",
       "</div>"
      ],
      "text/plain": [
       "       user_id          %\n",
       "group                    \n",
       "246       2484  32.970534\n",
       "247       2513  33.355455\n",
       "248       2537  33.674011"
      ]
     },
     "execution_count": 19,
     "metadata": {},
     "output_type": "execute_result"
    }
   ],
   "source": [
    "logs_gid = logs.groupby('group')['user_id'].nunique().to_frame()\n",
    "logs_gid['%'] = logs_gid['user_id'] / logs_gid['user_id'].sum() * 100\n",
    "logs_gid"
   ]
  },
  {
   "cell_type": "markdown",
   "metadata": {},
   "source": [
    "### Воронка событий"
   ]
  },
  {
   "cell_type": "markdown",
   "metadata": {},
   "source": [
    "#### Посмотрим, какие события есть в логах, как часто они встречаются. Отсортируем события по частоте."
   ]
  },
  {
   "cell_type": "code",
   "execution_count": 20,
   "metadata": {},
   "outputs": [
    {
     "data": {
      "text/html": [
       "<div>\n",
       "<style scoped>\n",
       "    .dataframe tbody tr th:only-of-type {\n",
       "        vertical-align: middle;\n",
       "    }\n",
       "\n",
       "    .dataframe tbody tr th {\n",
       "        vertical-align: top;\n",
       "    }\n",
       "\n",
       "    .dataframe thead th {\n",
       "        text-align: right;\n",
       "    }\n",
       "</style>\n",
       "<table border=\"1\" class=\"dataframe\">\n",
       "  <thead>\n",
       "    <tr style=\"text-align: right;\">\n",
       "      <th></th>\n",
       "      <th>event_name</th>\n",
       "      <th>count</th>\n",
       "    </tr>\n",
       "  </thead>\n",
       "  <tbody>\n",
       "    <tr>\n",
       "      <th>0</th>\n",
       "      <td>MainScreenAppear</td>\n",
       "      <td>117328</td>\n",
       "    </tr>\n",
       "    <tr>\n",
       "      <th>1</th>\n",
       "      <td>OffersScreenAppear</td>\n",
       "      <td>46333</td>\n",
       "    </tr>\n",
       "    <tr>\n",
       "      <th>2</th>\n",
       "      <td>CartScreenAppear</td>\n",
       "      <td>42303</td>\n",
       "    </tr>\n",
       "    <tr>\n",
       "      <th>3</th>\n",
       "      <td>PaymentScreenSuccessful</td>\n",
       "      <td>33918</td>\n",
       "    </tr>\n",
       "    <tr>\n",
       "      <th>4</th>\n",
       "      <td>Tutorial</td>\n",
       "      <td>1005</td>\n",
       "    </tr>\n",
       "  </tbody>\n",
       "</table>\n",
       "</div>"
      ],
      "text/plain": [
       "                event_name   count\n",
       "0         MainScreenAppear  117328\n",
       "1       OffersScreenAppear   46333\n",
       "2         CartScreenAppear   42303\n",
       "3  PaymentScreenSuccessful   33918\n",
       "4                 Tutorial    1005"
      ]
     },
     "metadata": {},
     "output_type": "display_data"
    }
   ],
   "source": [
    "# Сгруппируем логи по событиям и посмотрим их количество:\n",
    "event = logs.groupby('event_name').agg(count = ('user_id', 'count')).sort_values('count', ascending=False).reset_index()\n",
    "display(event)\n"
   ]
  },
  {
   "cell_type": "code",
   "execution_count": 21,
   "metadata": {},
   "outputs": [
    {
     "data": {
      "image/png": "[encoded data removed]",
      "text/plain": [
       "<Figure size 864x360 with 1 Axes>"
      ]
     },
     "metadata": {
      "needs_background": "light"
     },
     "output_type": "display_data"
    }
   ],
   "source": [
    "plt.figure(figsize=(12, 5))\n",
    "plt.title('Количество событий в логах')\n",
    "sns.barplot(y=event['event_name'], x=event['count'], palette='rocket', orient='h')\n",
    "for i, q in enumerate(event['count'].values):\n",
    "    plt.text(q + 800, i - 0.1, str(q), color='black', fontsize = 10)\n",
    "    plt.text(q + 800, i + 0.2, '({:.2%})'.format(q / event['count'].sum()), color='black', fontsize = 10)\n",
    "plt.show()"
   ]
  },
  {
   "cell_type": "markdown",
   "metadata": {},
   "source": [
    "#### Вывод\n",
    "<br> 1. MainScreenAppear  117328 событий\n",
    "<br> 2. OffersScreenAppear  46333 события\n",
    "<br> 3. CartScreenAppear  42303 события\n",
    "<br> 4. PaymentScreenSuccessful  33918 событий\n",
    "<br> 5. Tutorial 1005 событий"
   ]
  },
  {
   "cell_type": "markdown",
   "metadata": {},
   "source": [
    "#### Посчитаем, сколько пользователей совершали каждое из этих событий. Отсортируем события по числу пользователей. Посчитаем долю пользователей, которые хоть раз совершали событие."
   ]
  },
  {
   "cell_type": "code",
   "execution_count": 22,
   "metadata": {},
   "outputs": [
    {
     "data": {
      "text/html": [
       "<div>\n",
       "<style scoped>\n",
       "    .dataframe tbody tr th:only-of-type {\n",
       "        vertical-align: middle;\n",
       "    }\n",
       "\n",
       "    .dataframe tbody tr th {\n",
       "        vertical-align: top;\n",
       "    }\n",
       "\n",
       "    .dataframe thead th {\n",
       "        text-align: right;\n",
       "    }\n",
       "</style>\n",
       "<table border=\"1\" class=\"dataframe\">\n",
       "  <thead>\n",
       "    <tr style=\"text-align: right;\">\n",
       "      <th></th>\n",
       "      <th>event_name</th>\n",
       "      <th>users</th>\n",
       "    </tr>\n",
       "  </thead>\n",
       "  <tbody>\n",
       "    <tr>\n",
       "      <th>0</th>\n",
       "      <td>MainScreenAppear</td>\n",
       "      <td>7419</td>\n",
       "    </tr>\n",
       "    <tr>\n",
       "      <th>1</th>\n",
       "      <td>OffersScreenAppear</td>\n",
       "      <td>4593</td>\n",
       "    </tr>\n",
       "    <tr>\n",
       "      <th>2</th>\n",
       "      <td>CartScreenAppear</td>\n",
       "      <td>3734</td>\n",
       "    </tr>\n",
       "    <tr>\n",
       "      <th>3</th>\n",
       "      <td>PaymentScreenSuccessful</td>\n",
       "      <td>3539</td>\n",
       "    </tr>\n",
       "    <tr>\n",
       "      <th>4</th>\n",
       "      <td>Tutorial</td>\n",
       "      <td>840</td>\n",
       "    </tr>\n",
       "  </tbody>\n",
       "</table>\n",
       "</div>"
      ],
      "text/plain": [
       "                event_name  users\n",
       "0         MainScreenAppear   7419\n",
       "1       OffersScreenAppear   4593\n",
       "2         CartScreenAppear   3734\n",
       "3  PaymentScreenSuccessful   3539\n",
       "4                 Tutorial    840"
      ]
     },
     "execution_count": 22,
     "metadata": {},
     "output_type": "execute_result"
    }
   ],
   "source": [
    "users_event = logs.groupby('event_name').agg(users=('user_id','nunique')).sort_values('users', ascending=False).reset_index()\n",
    "users_event"
   ]
  },
  {
   "cell_type": "code",
   "execution_count": 23,
   "metadata": {},
   "outputs": [
    {
     "data": {
      "image/png": "[encoded data removed]",
      "text/plain": [
       "<Figure size 864x360 with 1 Axes>"
      ]
     },
     "metadata": {
      "needs_background": "light"
     },
     "output_type": "display_data"
    }
   ],
   "source": [
    "plt.figure(figsize=(12, 5))\n",
    "plt.title('Количество пользователей, совершивших событие и их доля от общего числа пользователей')\n",
    "sns.barplot(y=users_event['event_name'], x=users_event['users'], palette='rocket', orient='h')\n",
    "\n",
    "for i, q in enumerate(users_event['users'].values):\n",
    "    plt.text(q + 100, i - 0.1, str(q), color='black', fontsize = 10)\n",
    "    plt.text(q + 100, i + 0.2, '({:.2%})'.format(q / logs['user_id'].nunique()), color='black', fontsize = 10)\n",
    "plt.show()    "
   ]
  },
  {
   "cell_type": "markdown",
   "metadata": {},
   "source": [
    "#### Вывод\n",
    "<br> 1.MainScreenAppear 7419 пользователей (98.47% от общего числа пользователей) совершили действие\n",
    "<br> 2.OffersScreenAppear 4593 пользователей (60,96% от общего числа пользователей) совершили действие\n",
    "<br> 3.CartScreenAppear 3734 пользователя (49.56% от общего числа пользователей) совершили действие\n",
    "<br> 4.PaymentScreenSuccessful 3539 пользователей (46,97% от общего числа пользователей) совершили действие\n",
    "<br> 5.Tutorial\t 840 пользователей (11,15% от общего числа пользователей) совершили действие"
   ]
  },
  {
   "cell_type": "markdown",
   "metadata": {},
   "source": [
    "#### Предположим, в каком порядке происходят события. Все ли они выстраиваются в последовательную цепочку? Их не нужно учитывать при расчёте воронки."
   ]
  },
  {
   "cell_type": "markdown",
   "metadata": {},
   "source": [
    "Последовательность цепочки событий выстраивается следующим образом: MainScreenAppear → OffersScreenAppear → CartScreenAppear → PaymentScreenSuccessful."
   ]
  },
  {
   "cell_type": "markdown",
   "metadata": {},
   "source": [
    "Сгруппируем по экспериментальным группам и посмотрим на то, согласуются ли данные разных групп между собой:"
   ]
  },
  {
   "cell_type": "code",
   "execution_count": 24,
   "metadata": {},
   "outputs": [
    {
     "data": {
      "text/html": [
       "<div>\n",
       "<style scoped>\n",
       "    .dataframe tbody tr th:only-of-type {\n",
       "        vertical-align: middle;\n",
       "    }\n",
       "\n",
       "    .dataframe tbody tr th {\n",
       "        vertical-align: top;\n",
       "    }\n",
       "\n",
       "    .dataframe thead th {\n",
       "        text-align: right;\n",
       "    }\n",
       "</style>\n",
       "<table border=\"1\" class=\"dataframe\">\n",
       "  <thead>\n",
       "    <tr style=\"text-align: right;\">\n",
       "      <th></th>\n",
       "      <th>event_name</th>\n",
       "      <th>246</th>\n",
       "      <th>247</th>\n",
       "      <th>248</th>\n",
       "    </tr>\n",
       "  </thead>\n",
       "  <tbody>\n",
       "    <tr>\n",
       "      <th>1</th>\n",
       "      <td>MainScreenAppear</td>\n",
       "      <td>2450</td>\n",
       "      <td>2476</td>\n",
       "      <td>2493</td>\n",
       "    </tr>\n",
       "    <tr>\n",
       "      <th>2</th>\n",
       "      <td>OffersScreenAppear</td>\n",
       "      <td>1542</td>\n",
       "      <td>1520</td>\n",
       "      <td>1531</td>\n",
       "    </tr>\n",
       "    <tr>\n",
       "      <th>0</th>\n",
       "      <td>CartScreenAppear</td>\n",
       "      <td>1266</td>\n",
       "      <td>1238</td>\n",
       "      <td>1230</td>\n",
       "    </tr>\n",
       "    <tr>\n",
       "      <th>3</th>\n",
       "      <td>PaymentScreenSuccessful</td>\n",
       "      <td>1200</td>\n",
       "      <td>1158</td>\n",
       "      <td>1181</td>\n",
       "    </tr>\n",
       "    <tr>\n",
       "      <th>4</th>\n",
       "      <td>Tutorial</td>\n",
       "      <td>278</td>\n",
       "      <td>283</td>\n",
       "      <td>279</td>\n",
       "    </tr>\n",
       "  </tbody>\n",
       "</table>\n",
       "</div>"
      ],
      "text/plain": [
       "                event_name   246   247   248\n",
       "1         MainScreenAppear  2450  2476  2493\n",
       "2       OffersScreenAppear  1542  1520  1531\n",
       "0         CartScreenAppear  1266  1238  1230\n",
       "3  PaymentScreenSuccessful  1200  1158  1181\n",
       "4                 Tutorial   278   283   279"
      ]
     },
     "execution_count": 24,
     "metadata": {},
     "output_type": "execute_result"
    }
   ],
   "source": [
    "event_groups=logs.pivot_table(index=['event_name'], values='user_id', columns='group', aggfunc={'nunique'}).reset_index()\n",
    "event_groups.columns = ['event_name', '246', '247', '248']\n",
    "event_groups = event_groups.sort_values(by='248', ascending=False)\n",
    "event_groups"
   ]
  },
  {
   "cell_type": "markdown",
   "metadata": {},
   "source": [
    "#### Вывод\n",
    "Данные разных группы согласуются между собой."
   ]
  },
  {
   "cell_type": "markdown",
   "metadata": {},
   "source": [
    "#### По воронке событий посчитаем, какая доля пользователей проходит на следующий шаг воронки (от числа пользователей на предыдущем). То есть для последовательности событий A → B → C посчитаем отношение числа пользователей с событием B к количеству пользователей с событием A, а также отношение числа пользователей с событием C к количеству пользователей с событием B.\n",
    "- На каком шаге теряете больше всего пользователей?\n",
    "- Какая доля пользователей доходит от первого события до оплаты?"
   ]
  },
  {
   "cell_type": "code",
   "execution_count": 25,
   "metadata": {},
   "outputs": [
    {
     "data": {
      "text/html": [
       "<div>\n",
       "<style scoped>\n",
       "    .dataframe tbody tr th:only-of-type {\n",
       "        vertical-align: middle;\n",
       "    }\n",
       "\n",
       "    .dataframe tbody tr th {\n",
       "        vertical-align: top;\n",
       "    }\n",
       "\n",
       "    .dataframe thead th {\n",
       "        text-align: right;\n",
       "    }\n",
       "</style>\n",
       "<table border=\"1\" class=\"dataframe\">\n",
       "  <thead>\n",
       "    <tr style=\"text-align: right;\">\n",
       "      <th></th>\n",
       "      <th>event_name</th>\n",
       "      <th>users</th>\n",
       "      <th>share</th>\n",
       "    </tr>\n",
       "  </thead>\n",
       "  <tbody>\n",
       "    <tr>\n",
       "      <th>0</th>\n",
       "      <td>MainScreenAppear</td>\n",
       "      <td>7419</td>\n",
       "      <td>nan%</td>\n",
       "    </tr>\n",
       "    <tr>\n",
       "      <th>1</th>\n",
       "      <td>OffersScreenAppear</td>\n",
       "      <td>4593</td>\n",
       "      <td>61.91%</td>\n",
       "    </tr>\n",
       "    <tr>\n",
       "      <th>2</th>\n",
       "      <td>CartScreenAppear</td>\n",
       "      <td>3734</td>\n",
       "      <td>81.30%</td>\n",
       "    </tr>\n",
       "    <tr>\n",
       "      <th>3</th>\n",
       "      <td>PaymentScreenSuccessful</td>\n",
       "      <td>3539</td>\n",
       "      <td>94.78%</td>\n",
       "    </tr>\n",
       "    <tr>\n",
       "      <th>4</th>\n",
       "      <td>Tutorial</td>\n",
       "      <td>840</td>\n",
       "      <td>23.74%</td>\n",
       "    </tr>\n",
       "  </tbody>\n",
       "</table>\n",
       "</div>"
      ],
      "text/plain": [
       "                event_name  users   share\n",
       "0         MainScreenAppear   7419    nan%\n",
       "1       OffersScreenAppear   4593  61.91%\n",
       "2         CartScreenAppear   3734  81.30%\n",
       "3  PaymentScreenSuccessful   3539  94.78%\n",
       "4                 Tutorial    840  23.74%"
      ]
     },
     "execution_count": 25,
     "metadata": {},
     "output_type": "execute_result"
    }
   ],
   "source": [
    "users_event['share']=users_event['users']/users_event['users'].shift(1)\n",
    "users_event['share']=(users_event['share']*100).round(2).map('{0:.2f}%'.format)\n",
    "users_event.sort_values(by='users', ascending=False)"
   ]
  },
  {
   "cell_type": "markdown",
   "metadata": {},
   "source": [
    "#### Вывод\n",
    "Пользователи, которые проходят на следующий шаг воронки (от числа пользователей предыдущего шага):\n",
    "\n",
    "61,91% переходят на шаг от MainScreenAppear до OffersScreenAppear\n",
    "81,3% переходят на шаг от OffersScreenAppear до CartScreenAppear\n",
    "94,78% переходят на шаг от CartScreenAppear до PaymentScreenSuccessful\n",
    "23,74% переходят на шаг от PaymentScreenSuccessful до Tutorial"
   ]
  },
  {
   "cell_type": "code",
   "execution_count": 36,
   "metadata": {},
   "outputs": [
    {
     "data": {
      "application/vnd.plotly.v1+json": {
       "config": {
        "plotlyServerURL": "https://plot.ly"
       },
       "data": [
        {
         "textinfo": "value+percent initial",
         "type": "funnel",
         "x": [
          7419,
          4593,
          3734,
          3539,
          840
         ],
         "y": [
          "Главный экран",
          "Предложения/товары",
          "Корзина",
          "Оплата"
         ]
        }
       ],
       "layout": {
        "template": {
         "data": {
          "bar": [
           {
            "error_x": {
             "color": "#2a3f5f"
            },
            "error_y": {
             "color": "#2a3f5f"
            },
            "marker": {
             "line": {
              "color": "#E5ECF6",
              "width": 0.5
             },
             "pattern": {
              "fillmode": "overlay",
              "size": 10,
              "solidity": 0.2
             }
            },
            "type": "bar"
           }
          ],
          "barpolar": [
           {
            "marker": {
             "line": {
              "color": "#E5ECF6",
              "width": 0.5
             },
             "pattern": {
              "fillmode": "overlay",
              "size": 10,
              "solidity": 0.2
             }
            },
            "type": "barpolar"
           }
          ],
          "carpet": [
           {
            "aaxis": {
             "endlinecolor": "#2a3f5f",
             "gridcolor": "white",
             "linecolor": "white",
             "minorgridcolor": "white",
             "startlinecolor": "#2a3f5f"
            },
            "baxis": {
             "endlinecolor": "#2a3f5f",
             "gridcolor": "white",
             "linecolor": "white",
             "minorgridcolor": "white",
             "startlinecolor": "#2a3f5f"
            },
            "type": "carpet"
           }
          ],
          "choropleth": [
           {
            "colorbar": {
             "outlinewidth": 0,
             "ticks": ""
            },
            "type": "choropleth"
           }
          ],
          "contour": [
           {
            "colorbar": {
             "outlinewidth": 0,
             "ticks": ""
            },
            "colorscale": [
             [
              0,
              "#0d0887"
             ],
             [
              0.1111111111111111,
              "#46039f"
             ],
             [
              0.2222222222222222,
              "#7201a8"
             ],
             [
              0.3333333333333333,
              "#9c179e"
             ],
             [
              0.4444444444444444,
              "#bd3786"
             ],
             [
              0.5555555555555556,
              "#d8576b"
             ],
             [
              0.6666666666666666,
              "#ed7953"
             ],
             [
              0.7777777777777778,
              "#fb9f3a"
             ],
             [
              0.8888888888888888,
              "#fdca26"
             ],
             [
              1,
              "#f0f921"
             ]
            ],
            "type": "contour"
           }
          ],
          "contourcarpet": [
           {
            "colorbar": {
             "outlinewidth": 0,
             "ticks": ""
            },
            "type": "contourcarpet"
           }
          ],
          "heatmap": [
           {
            "colorbar": {
             "outlinewidth": 0,
             "ticks": ""
            },
            "colorscale": [
             [
              0,
              "#0d0887"
             ],
             [
              0.1111111111111111,
              "#46039f"
             ],
             [
              0.2222222222222222,
              "#7201a8"
             ],
             [
              0.3333333333333333,
              "#9c179e"
             ],
             [
              0.4444444444444444,
              "#bd3786"
             ],
             [
              0.5555555555555556,
              "#d8576b"
             ],
             [
              0.6666666666666666,
              "#ed7953"
             ],
             [
              0.7777777777777778,
              "#fb9f3a"
             ],
             [
              0.8888888888888888,
              "#fdca26"
             ],
             [
              1,
              "#f0f921"
             ]
            ],
            "type": "heatmap"
           }
          ],
          "heatmapgl": [
           {
            "colorbar": {
             "outlinewidth": 0,
             "ticks": ""
            },
            "colorscale": [
             [
              0,
              "#0d0887"
             ],
             [
              0.1111111111111111,
              "#46039f"
             ],
             [
              0.2222222222222222,
              "#7201a8"
             ],
             [
              0.3333333333333333,
              "#9c179e"
             ],
             [
              0.4444444444444444,
              "#bd3786"
             ],
             [
              0.5555555555555556,
              "#d8576b"
             ],
             [
              0.6666666666666666,
              "#ed7953"
             ],
             [
              0.7777777777777778,
              "#fb9f3a"
             ],
             [
              0.8888888888888888,
              "#fdca26"
             ],
             [
              1,
              "#f0f921"
             ]
            ],
            "type": "heatmapgl"
           }
          ],
          "histogram": [
           {
            "marker": {
             "pattern": {
              "fillmode": "overlay",
              "size": 10,
              "solidity": 0.2
             }
            },
            "type": "histogram"
           }
          ],
          "histogram2d": [
           {
            "colorbar": {
             "outlinewidth": 0,
             "ticks": ""
            },
            "colorscale": [
             [
              0,
              "#0d0887"
             ],
             [
              0.1111111111111111,
              "#46039f"
             ],
             [
              0.2222222222222222,
              "#7201a8"
             ],
             [
              0.3333333333333333,
              "#9c179e"
             ],
             [
              0.4444444444444444,
              "#bd3786"
             ],
             [
              0.5555555555555556,
              "#d8576b"
             ],
             [
              0.6666666666666666,
              "#ed7953"
             ],
             [
              0.7777777777777778,
              "#fb9f3a"
             ],
             [
              0.8888888888888888,
              "#fdca26"
             ],
             [
              1,
              "#f0f921"
             ]
            ],
            "type": "histogram2d"
           }
          ],
          "histogram2dcontour": [
           {
            "colorbar": {
             "outlinewidth": 0,
             "ticks": ""
            },
            "colorscale": [
             [
              0,
              "#0d0887"
             ],
             [
              0.1111111111111111,
              "#46039f"
             ],
             [
              0.2222222222222222,
              "#7201a8"
             ],
             [
              0.3333333333333333,
              "#9c179e"
             ],
             [
              0.4444444444444444,
              "#bd3786"
             ],
             [
              0.5555555555555556,
              "#d8576b"
             ],
             [
              0.6666666666666666,
              "#ed7953"
             ],
             [
              0.7777777777777778,
              "#fb9f3a"
             ],
             [
              0.8888888888888888,
              "#fdca26"
             ],
             [
              1,
              "#f0f921"
             ]
            ],
            "type": "histogram2dcontour"
           }
          ],
          "mesh3d": [
           {
            "colorbar": {
             "outlinewidth": 0,
             "ticks": ""
            },
            "type": "mesh3d"
           }
          ],
          "parcoords": [
           {
            "line": {
             "colorbar": {
              "outlinewidth": 0,
              "ticks": ""
             }
            },
            "type": "parcoords"
           }
          ],
          "pie": [
           {
            "automargin": true,
            "type": "pie"
           }
          ],
          "scatter": [
           {
            "marker": {
             "colorbar": {
              "outlinewidth": 0,
              "ticks": ""
             }
            },
            "type": "scatter"
           }
          ],
          "scatter3d": [
           {
            "line": {
             "colorbar": {
              "outlinewidth": 0,
              "ticks": ""
             }
            },
            "marker": {
             "colorbar": {
              "outlinewidth": 0,
              "ticks": ""
             }
            },
            "type": "scatter3d"
           }
          ],
          "scattercarpet": [
           {
            "marker": {
             "colorbar": {
              "outlinewidth": 0,
              "ticks": ""
             }
            },
            "type": "scattercarpet"
           }
          ],
          "scattergeo": [
           {
            "marker": {
             "colorbar": {
              "outlinewidth": 0,
              "ticks": ""
             }
            },
            "type": "scattergeo"
           }
          ],
          "scattergl": [
           {
            "marker": {
             "colorbar": {
              "outlinewidth": 0,
              "ticks": ""
             }
            },
            "type": "scattergl"
           }
          ],
          "scattermapbox": [
           {
            "marker": {
             "colorbar": {
              "outlinewidth": 0,
              "ticks": ""
             }
            },
            "type": "scattermapbox"
           }
          ],
          "scatterpolar": [
           {
            "marker": {
             "colorbar": {
              "outlinewidth": 0,
              "ticks": ""
             }
            },
            "type": "scatterpolar"
           }
          ],
          "scatterpolargl": [
           {
            "marker": {
             "colorbar": {
              "outlinewidth": 0,
              "ticks": ""
             }
            },
            "type": "scatterpolargl"
           }
          ],
          "scatterternary": [
           {
            "marker": {
             "colorbar": {
              "outlinewidth": 0,
              "ticks": ""
             }
            },
            "type": "scatterternary"
           }
          ],
          "surface": [
           {
            "colorbar": {
             "outlinewidth": 0,
             "ticks": ""
            },
            "colorscale": [
             [
              0,
              "#0d0887"
             ],
             [
              0.1111111111111111,
              "#46039f"
             ],
             [
              0.2222222222222222,
              "#7201a8"
             ],
             [
              0.3333333333333333,
              "#9c179e"
             ],
             [
              0.4444444444444444,
              "#bd3786"
             ],
             [
              0.5555555555555556,
              "#d8576b"
             ],
             [
              0.6666666666666666,
              "#ed7953"
             ],
             [
              0.7777777777777778,
              "#fb9f3a"
             ],
             [
              0.8888888888888888,
              "#fdca26"
             ],
             [
              1,
              "#f0f921"
             ]
            ],
            "type": "surface"
           }
          ],
          "table": [
           {
            "cells": {
             "fill": {
              "color": "#EBF0F8"
             },
             "line": {
              "color": "white"
             }
            },
            "header": {
             "fill": {
              "color": "#C8D4E3"
             },
             "line": {
              "color": "white"
             }
            },
            "type": "table"
           }
          ]
         },
         "layout": {
          "annotationdefaults": {
           "arrowcolor": "#2a3f5f",
           "arrowhead": 0,
           "arrowwidth": 1
          },
          "autotypenumbers": "strict",
          "coloraxis": {
           "colorbar": {
            "outlinewidth": 0,
            "ticks": ""
           }
          },
          "colorscale": {
           "diverging": [
            [
             0,
             "#8e0152"
            ],
            [
             0.1,
             "#c51b7d"
            ],
            [
             0.2,
             "#de77ae"
            ],
            [
             0.3,
             "#f1b6da"
            ],
            [
             0.4,
             "#fde0ef"
            ],
            [
             0.5,
             "#f7f7f7"
            ],
            [
             0.6,
             "#e6f5d0"
            ],
            [
             0.7,
             "#b8e186"
            ],
            [
             0.8,
             "#7fbc41"
            ],
            [
             0.9,
             "#4d9221"
            ],
            [
             1,
             "#276419"
            ]
           ],
           "sequential": [
            [
             0,
             "#0d0887"
            ],
            [
             0.1111111111111111,
             "#46039f"
            ],
            [
             0.2222222222222222,
             "#7201a8"
            ],
            [
             0.3333333333333333,
             "#9c179e"
            ],
            [
             0.4444444444444444,
             "#bd3786"
            ],
            [
             0.5555555555555556,
             "#d8576b"
            ],
            [
             0.6666666666666666,
             "#ed7953"
            ],
            [
             0.7777777777777778,
             "#fb9f3a"
            ],
            [
             0.8888888888888888,
             "#fdca26"
            ],
            [
             1,
             "#f0f921"
            ]
           ],
           "sequentialminus": [
            [
             0,
             "#0d0887"
            ],
            [
             0.1111111111111111,
             "#46039f"
            ],
            [
             0.2222222222222222,
             "#7201a8"
            ],
            [
             0.3333333333333333,
             "#9c179e"
            ],
            [
             0.4444444444444444,
             "#bd3786"
            ],
            [
             0.5555555555555556,
             "#d8576b"
            ],
            [
             0.6666666666666666,
             "#ed7953"
            ],
            [
             0.7777777777777778,
             "#fb9f3a"
            ],
            [
             0.8888888888888888,
             "#fdca26"
            ],
            [
             1,
             "#f0f921"
            ]
           ]
          },
          "colorway": [
           "#636efa",
           "#EF553B",
           "#00cc96",
           "#ab63fa",
           "#FFA15A",
           "#19d3f3",
           "#FF6692",
           "#B6E880",
           "#FF97FF",
           "#FECB52"
          ],
          "font": {
           "color": "#2a3f5f"
          },
          "geo": {
           "bgcolor": "white",
           "lakecolor": "white",
           "landcolor": "#E5ECF6",
           "showlakes": true,
           "showland": true,
           "subunitcolor": "white"
          },
          "hoverlabel": {
           "align": "left"
          },
          "hovermode": "closest",
          "mapbox": {
           "style": "light"
          },
          "paper_bgcolor": "white",
          "plot_bgcolor": "#E5ECF6",
          "polar": {
           "angularaxis": {
            "gridcolor": "white",
            "linecolor": "white",
            "ticks": ""
           },
           "bgcolor": "#E5ECF6",
           "radialaxis": {
            "gridcolor": "white",
            "linecolor": "white",
            "ticks": ""
           }
          },
          "scene": {
           "xaxis": {
            "backgroundcolor": "#E5ECF6",
            "gridcolor": "white",
            "gridwidth": 2,
            "linecolor": "white",
            "showbackground": true,
            "ticks": "",
            "zerolinecolor": "white"
           },
           "yaxis": {
            "backgroundcolor": "#E5ECF6",
            "gridcolor": "white",
            "gridwidth": 2,
            "linecolor": "white",
            "showbackground": true,
            "ticks": "",
            "zerolinecolor": "white"
           },
           "zaxis": {
            "backgroundcolor": "#E5ECF6",
            "gridcolor": "white",
            "gridwidth": 2,
            "linecolor": "white",
            "showbackground": true,
            "ticks": "",
            "zerolinecolor": "white"
           }
          },
          "shapedefaults": {
           "line": {
            "color": "#2a3f5f"
           }
          },
          "ternary": {
           "aaxis": {
            "gridcolor": "white",
            "linecolor": "white",
            "ticks": ""
           },
           "baxis": {
            "gridcolor": "white",
            "linecolor": "white",
            "ticks": ""
           },
           "bgcolor": "#E5ECF6",
           "caxis": {
            "gridcolor": "white",
            "linecolor": "white",
            "ticks": ""
           }
          },
          "title": {
           "x": 0.05
          },
          "xaxis": {
           "automargin": true,
           "gridcolor": "white",
           "linecolor": "white",
           "ticks": "",
           "title": {
            "standoff": 15
           },
           "zerolinecolor": "white",
           "zerolinewidth": 2
          },
          "yaxis": {
           "automargin": true,
           "gridcolor": "white",
           "linecolor": "white",
           "ticks": "",
           "title": {
            "standoff": 15
           },
           "zerolinecolor": "white",
           "zerolinewidth": 2
          }
         }
        },
        "title": {
         "text": "Воронка событий"
        }
       }
      },
      "text/html": [
       "<div>                            <div id=\"6e88389c-529e-493c-8817-e623d1ef6cbf\" class=\"plotly-graph-div\" style=\"height:525px; width:100%;\"></div>            <script type=\"text/javascript\">                require([\"plotly\"], function(Plotly) {                    window.PLOTLYENV=window.PLOTLYENV || {};                                    if (document.getElementById(\"6e88389c-529e-493c-8817-e623d1ef6cbf\")) {                    Plotly.newPlot(                        \"6e88389c-529e-493c-8817-e623d1ef6cbf\",                        [{\"textinfo\":\"value+percent initial\",\"x\":[7419,4593,3734,3539,840],\"y\":[\"\\u0413\\u043b\\u0430\\u0432\\u043d\\u044b\\u0439 \\u044d\\u043a\\u0440\\u0430\\u043d\",\"\\u041f\\u0440\\u0435\\u0434\\u043b\\u043e\\u0436\\u0435\\u043d\\u0438\\u044f/\\u0442\\u043e\\u0432\\u0430\\u0440\\u044b\",\"\\u041a\\u043e\\u0440\\u0437\\u0438\\u043d\\u0430\",\"\\u041e\\u043f\\u043b\\u0430\\u0442\\u0430\"],\"type\":\"funnel\"}],                        {\"template\":{\"data\":{\"bar\":[{\"error_x\":{\"color\":\"#2a3f5f\"},\"error_y\":{\"color\":\"#2a3f5f\"},\"marker\":{\"line\":{\"color\":\"#E5ECF6\",\"width\":0.5},\"pattern\":{\"fillmode\":\"overlay\",\"size\":10,\"solidity\":0.2}},\"type\":\"bar\"}],\"barpolar\":[{\"marker\":{\"line\":{\"color\":\"#E5ECF6\",\"width\":0.5},\"pattern\":{\"fillmode\":\"overlay\",\"size\":10,\"solidity\":0.2}},\"type\":\"barpolar\"}],\"carpet\":[{\"aaxis\":{\"endlinecolor\":\"#2a3f5f\",\"gridcolor\":\"white\",\"linecolor\":\"white\",\"minorgridcolor\":\"white\",\"startlinecolor\":\"#2a3f5f\"},\"baxis\":{\"endlinecolor\":\"#2a3f5f\",\"gridcolor\":\"white\",\"linecolor\":\"white\",\"minorgridcolor\":\"white\",\"startlinecolor\":\"#2a3f5f\"},\"type\":\"carpet\"}],\"choropleth\":[{\"colorbar\":{\"outlinewidth\":0,\"ticks\":\"\"},\"type\":\"choropleth\"}],\"contour\":[{\"colorbar\":{\"outlinewidth\":0,\"ticks\":\"\"},\"colorscale\":[[0.0,\"#0d0887\"],[0.1111111111111111,\"#46039f\"],[0.2222222222222222,\"#7201a8\"],[0.3333333333333333,\"#9c179e\"],[0.4444444444444444,\"#bd3786\"],[0.5555555555555556,\"#d8576b\"],[0.6666666666666666,\"#ed7953\"],[0.7777777777777778,\"#fb9f3a\"],[0.8888888888888888,\"#fdca26\"],[1.0,\"#f0f921\"]],\"type\":\"contour\"}],\"contourcarpet\":[{\"colorbar\":{\"outlinewidth\":0,\"ticks\":\"\"},\"type\":\"contourcarpet\"}],\"heatmap\":[{\"colorbar\":{\"outlinewidth\":0,\"ticks\":\"\"},\"colorscale\":[[0.0,\"#0d0887\"],[0.1111111111111111,\"#46039f\"],[0.2222222222222222,\"#7201a8\"],[0.3333333333333333,\"#9c179e\"],[0.4444444444444444,\"#bd3786\"],[0.5555555555555556,\"#d8576b\"],[0.6666666666666666,\"#ed7953\"],[0.7777777777777778,\"#fb9f3a\"],[0.8888888888888888,\"#fdca26\"],[1.0,\"#f0f921\"]],\"type\":\"heatmap\"}],\"heatmapgl\":[{\"colorbar\":{\"outlinewidth\":0,\"ticks\":\"\"},\"colorscale\":[[0.0,\"#0d0887\"],[0.1111111111111111,\"#46039f\"],[0.2222222222222222,\"#7201a8\"],[0.3333333333333333,\"#9c179e\"],[0.4444444444444444,\"#bd3786\"],[0.5555555555555556,\"#d8576b\"],[0.6666666666666666,\"#ed7953\"],[0.7777777777777778,\"#fb9f3a\"],[0.8888888888888888,\"#fdca26\"],[1.0,\"#f0f921\"]],\"type\":\"heatmapgl\"}],\"histogram\":[{\"marker\":{\"pattern\":{\"fillmode\":\"overlay\",\"size\":10,\"solidity\":0.2}},\"type\":\"histogram\"}],\"histogram2d\":[{\"colorbar\":{\"outlinewidth\":0,\"ticks\":\"\"},\"colorscale\":[[0.0,\"#0d0887\"],[0.1111111111111111,\"#46039f\"],[0.2222222222222222,\"#7201a8\"],[0.3333333333333333,\"#9c179e\"],[0.4444444444444444,\"#bd3786\"],[0.5555555555555556,\"#d8576b\"],[0.6666666666666666,\"#ed7953\"],[0.7777777777777778,\"#fb9f3a\"],[0.8888888888888888,\"#fdca26\"],[1.0,\"#f0f921\"]],\"type\":\"histogram2d\"}],\"histogram2dcontour\":[{\"colorbar\":{\"outlinewidth\":0,\"ticks\":\"\"},\"colorscale\":[[0.0,\"#0d0887\"],[0.1111111111111111,\"#46039f\"],[0.2222222222222222,\"#7201a8\"],[0.3333333333333333,\"#9c179e\"],[0.4444444444444444,\"#bd3786\"],[0.5555555555555556,\"#d8576b\"],[0.6666666666666666,\"#ed7953\"],[0.7777777777777778,\"#fb9f3a\"],[0.8888888888888888,\"#fdca26\"],[1.0,\"#f0f921\"]],\"type\":\"histogram2dcontour\"}],\"mesh3d\":[{\"colorbar\":{\"outlinewidth\":0,\"ticks\":\"\"},\"type\":\"mesh3d\"}],\"parcoords\":[{\"line\":{\"colorbar\":{\"outlinewidth\":0,\"ticks\":\"\"}},\"type\":\"parcoords\"}],\"pie\":[{\"automargin\":true,\"type\":\"pie\"}],\"scatter\":[{\"marker\":{\"colorbar\":{\"outlinewidth\":0,\"ticks\":\"\"}},\"type\":\"scatter\"}],\"scatter3d\":[{\"line\":{\"colorbar\":{\"outlinewidth\":0,\"ticks\":\"\"}},\"marker\":{\"colorbar\":{\"outlinewidth\":0,\"ticks\":\"\"}},\"type\":\"scatter3d\"}],\"scattercarpet\":[{\"marker\":{\"colorbar\":{\"outlinewidth\":0,\"ticks\":\"\"}},\"type\":\"scattercarpet\"}],\"scattergeo\":[{\"marker\":{\"colorbar\":{\"outlinewidth\":0,\"ticks\":\"\"}},\"type\":\"scattergeo\"}],\"scattergl\":[{\"marker\":{\"colorbar\":{\"outlinewidth\":0,\"ticks\":\"\"}},\"type\":\"scattergl\"}],\"scattermapbox\":[{\"marker\":{\"colorbar\":{\"outlinewidth\":0,\"ticks\":\"\"}},\"type\":\"scattermapbox\"}],\"scatterpolar\":[{\"marker\":{\"colorbar\":{\"outlinewidth\":0,\"ticks\":\"\"}},\"type\":\"scatterpolar\"}],\"scatterpolargl\":[{\"marker\":{\"colorbar\":{\"outlinewidth\":0,\"ticks\":\"\"}},\"type\":\"scatterpolargl\"}],\"scatterternary\":[{\"marker\":{\"colorbar\":{\"outlinewidth\":0,\"ticks\":\"\"}},\"type\":\"scatterternary\"}],\"surface\":[{\"colorbar\":{\"outlinewidth\":0,\"ticks\":\"\"},\"colorscale\":[[0.0,\"#0d0887\"],[0.1111111111111111,\"#46039f\"],[0.2222222222222222,\"#7201a8\"],[0.3333333333333333,\"#9c179e\"],[0.4444444444444444,\"#bd3786\"],[0.5555555555555556,\"#d8576b\"],[0.6666666666666666,\"#ed7953\"],[0.7777777777777778,\"#fb9f3a\"],[0.8888888888888888,\"#fdca26\"],[1.0,\"#f0f921\"]],\"type\":\"surface\"}],\"table\":[{\"cells\":{\"fill\":{\"color\":\"#EBF0F8\"},\"line\":{\"color\":\"white\"}},\"header\":{\"fill\":{\"color\":\"#C8D4E3\"},\"line\":{\"color\":\"white\"}},\"type\":\"table\"}]},\"layout\":{\"annotationdefaults\":{\"arrowcolor\":\"#2a3f5f\",\"arrowhead\":0,\"arrowwidth\":1},\"autotypenumbers\":\"strict\",\"coloraxis\":{\"colorbar\":{\"outlinewidth\":0,\"ticks\":\"\"}},\"colorscale\":{\"diverging\":[[0,\"#8e0152\"],[0.1,\"#c51b7d\"],[0.2,\"#de77ae\"],[0.3,\"#f1b6da\"],[0.4,\"#fde0ef\"],[0.5,\"#f7f7f7\"],[0.6,\"#e6f5d0\"],[0.7,\"#b8e186\"],[0.8,\"#7fbc41\"],[0.9,\"#4d9221\"],[1,\"#276419\"]],\"sequential\":[[0.0,\"#0d0887\"],[0.1111111111111111,\"#46039f\"],[0.2222222222222222,\"#7201a8\"],[0.3333333333333333,\"#9c179e\"],[0.4444444444444444,\"#bd3786\"],[0.5555555555555556,\"#d8576b\"],[0.6666666666666666,\"#ed7953\"],[0.7777777777777778,\"#fb9f3a\"],[0.8888888888888888,\"#fdca26\"],[1.0,\"#f0f921\"]],\"sequentialminus\":[[0.0,\"#0d0887\"],[0.1111111111111111,\"#46039f\"],[0.2222222222222222,\"#7201a8\"],[0.3333333333333333,\"#9c179e\"],[0.4444444444444444,\"#bd3786\"],[0.5555555555555556,\"#d8576b\"],[0.6666666666666666,\"#ed7953\"],[0.7777777777777778,\"#fb9f3a\"],[0.8888888888888888,\"#fdca26\"],[1.0,\"#f0f921\"]]},\"colorway\":[\"#636efa\",\"#EF553B\",\"#00cc96\",\"#ab63fa\",\"#FFA15A\",\"#19d3f3\",\"#FF6692\",\"#B6E880\",\"#FF97FF\",\"#FECB52\"],\"font\":{\"color\":\"#2a3f5f\"},\"geo\":{\"bgcolor\":\"white\",\"lakecolor\":\"white\",\"landcolor\":\"#E5ECF6\",\"showlakes\":true,\"showland\":true,\"subunitcolor\":\"white\"},\"hoverlabel\":{\"align\":\"left\"},\"hovermode\":\"closest\",\"mapbox\":{\"style\":\"light\"},\"paper_bgcolor\":\"white\",\"plot_bgcolor\":\"#E5ECF6\",\"polar\":{\"angularaxis\":{\"gridcolor\":\"white\",\"linecolor\":\"white\",\"ticks\":\"\"},\"bgcolor\":\"#E5ECF6\",\"radialaxis\":{\"gridcolor\":\"white\",\"linecolor\":\"white\",\"ticks\":\"\"}},\"scene\":{\"xaxis\":{\"backgroundcolor\":\"#E5ECF6\",\"gridcolor\":\"white\",\"gridwidth\":2,\"linecolor\":\"white\",\"showbackground\":true,\"ticks\":\"\",\"zerolinecolor\":\"white\"},\"yaxis\":{\"backgroundcolor\":\"#E5ECF6\",\"gridcolor\":\"white\",\"gridwidth\":2,\"linecolor\":\"white\",\"showbackground\":true,\"ticks\":\"\",\"zerolinecolor\":\"white\"},\"zaxis\":{\"backgroundcolor\":\"#E5ECF6\",\"gridcolor\":\"white\",\"gridwidth\":2,\"linecolor\":\"white\",\"showbackground\":true,\"ticks\":\"\",\"zerolinecolor\":\"white\"}},\"shapedefaults\":{\"line\":{\"color\":\"#2a3f5f\"}},\"ternary\":{\"aaxis\":{\"gridcolor\":\"white\",\"linecolor\":\"white\",\"ticks\":\"\"},\"baxis\":{\"gridcolor\":\"white\",\"linecolor\":\"white\",\"ticks\":\"\"},\"bgcolor\":\"#E5ECF6\",\"caxis\":{\"gridcolor\":\"white\",\"linecolor\":\"white\",\"ticks\":\"\"}},\"title\":{\"x\":0.05},\"xaxis\":{\"automargin\":true,\"gridcolor\":\"white\",\"linecolor\":\"white\",\"ticks\":\"\",\"title\":{\"standoff\":15},\"zerolinecolor\":\"white\",\"zerolinewidth\":2},\"yaxis\":{\"automargin\":true,\"gridcolor\":\"white\",\"linecolor\":\"white\",\"ticks\":\"\",\"title\":{\"standoff\":15},\"zerolinecolor\":\"white\",\"zerolinewidth\":2}}},\"title\":{\"text\":\"\\u0412\\u043e\\u0440\\u043e\\u043d\\u043a\\u0430 \\u0441\\u043e\\u0431\\u044b\\u0442\\u0438\\u0439\"}},                        {\"responsive\": true}                    ).then(function(){\n",
       "                            \n",
       "var gd = document.getElementById('6e88389c-529e-493c-8817-e623d1ef6cbf');\n",
       "var x = new MutationObserver(function (mutations, observer) {{\n",
       "        var display = window.getComputedStyle(gd).display;\n",
       "        if (!display || display === 'none') {{\n",
       "            console.log([gd, 'removed!']);\n",
       "            Plotly.purge(gd);\n",
       "            observer.disconnect();\n",
       "        }}\n",
       "}});\n",
       "\n",
       "// Listen for the removal of the full notebook cells\n",
       "var notebookContainer = gd.closest('#notebook-container');\n",
       "if (notebookContainer) {{\n",
       "    x.observe(notebookContainer, {childList: true});\n",
       "}}\n",
       "\n",
       "// Listen for the clearing of the current output cell\n",
       "var outputEl = gd.closest('.output');\n",
       "if (outputEl) {{\n",
       "    x.observe(outputEl, {childList: true});\n",
       "}}\n",
       "\n",
       "                        })                };                });            </script>        </div>"
      ]
     },
     "metadata": {},
     "output_type": "display_data"
    }
   ],
   "source": [
    "fig = go.Figure(go.Funnel(\n",
    "    y = [\"Главный экран\",\"Предложения/товары\", \"Корзина\", \"Оплата\"],\n",
    "    x = users_event['users'],\n",
    "    textinfo = \"value+percent initial\"\n",
    "))\n",
    "fig.update_layout(title_text='Воронка событий')\n",
    "fig.show()"
   ]
  },
  {
   "cell_type": "markdown",
   "metadata": {},
   "source": [
    "#### Вывод \n",
    "<br> Больше всего пользователей теряет на после 1ого шага (38.1%), на втором шаге остается 61.9% пользователей.\n",
    "<br> 47.7% пользователей доходит до конца."
   ]
  },
  {
   "cell_type": "markdown",
   "metadata": {},
   "source": [
    "## Шаг3. Изучим результаты эксперимента"
   ]
  },
  {
   "cell_type": "markdown",
   "metadata": {},
   "source": [
    "### Сколько пользователей в каждой экспериментальной группе?"
   ]
  },
  {
   "cell_type": "code",
   "execution_count": 27,
   "metadata": {},
   "outputs": [
    {
     "data": {
      "text/html": [
       "<div>\n",
       "<style scoped>\n",
       "    .dataframe tbody tr th:only-of-type {\n",
       "        vertical-align: middle;\n",
       "    }\n",
       "\n",
       "    .dataframe tbody tr th {\n",
       "        vertical-align: top;\n",
       "    }\n",
       "\n",
       "    .dataframe thead th {\n",
       "        text-align: right;\n",
       "    }\n",
       "</style>\n",
       "<table border=\"1\" class=\"dataframe\">\n",
       "  <thead>\n",
       "    <tr style=\"text-align: right;\">\n",
       "      <th></th>\n",
       "      <th>count</th>\n",
       "    </tr>\n",
       "    <tr>\n",
       "      <th>group</th>\n",
       "      <th></th>\n",
       "    </tr>\n",
       "  </thead>\n",
       "  <tbody>\n",
       "    <tr>\n",
       "      <th>246</th>\n",
       "      <td>2484</td>\n",
       "    </tr>\n",
       "    <tr>\n",
       "      <th>247</th>\n",
       "      <td>2513</td>\n",
       "    </tr>\n",
       "    <tr>\n",
       "      <th>248</th>\n",
       "      <td>2537</td>\n",
       "    </tr>\n",
       "  </tbody>\n",
       "</table>\n",
       "</div>"
      ],
      "text/plain": [
       "       count\n",
       "group       \n",
       "246     2484\n",
       "247     2513\n",
       "248     2537"
      ]
     },
     "execution_count": 27,
     "metadata": {},
     "output_type": "execute_result"
    }
   ],
   "source": [
    "groups = logs.groupby('group').agg(count=('user_id', 'nunique'))\n",
    "groups"
   ]
  },
  {
   "cell_type": "markdown",
   "metadata": {},
   "source": [
    "### Статистическая разница между контрольными группами"
   ]
  },
  {
   "cell_type": "markdown",
   "metadata": {},
   "source": [
    "# При проверке гипотез о равенстве среднего будем применять Z-тест, т.к. будем проводить сравнения двух независимых выборок большого размера. Критический уровень статистической значимости возьмем равным 1%."
   ]
  },
  {
   "cell_type": "markdown",
   "metadata": {},
   "source": [
    "<br>**Сформилуруем гипотезы:\n",
    "<br>H0: статистическая разница между группами отсутствует, т.е. доли пользователей совершивших событие в сравниваемых группах одинаковы.\n",
    "<br>H1: статистическая разница между группами присутствует, т.е. доли пользователей совершивших событие в сравниваемых группах различны.**\n"
   ]
  },
  {
   "cell_type": "code",
   "execution_count": 28,
   "metadata": {},
   "outputs": [],
   "source": [
    "def z_test(successes1, successes2, event, alpha):\n",
    "    alpha = alpha\n",
    "\n",
    "    # число пользователей в группе 1 и группе 2:\n",
    "    n_users = np.array([successes1['user_id'].nunique(), successes2['user_id'].nunique()])\n",
    "\n",
    "    # число пользователей, совершивших событие в группе 1 и группе 2\n",
    "    success = np.array([successes1[successes1['event_name'] == event]['user_id'].nunique(), successes2[successes2['event_name'] == event]['user_id'].nunique()])\n",
    "\n",
    "    # пропорции успехов в группах:\n",
    "    p1 = success[0]/n_users[0]\n",
    "    p2 = success[1]/n_users[1] \n",
    "    # пропорция успехов в комбинированном датасете:\n",
    "    p_combined = (success[0] + success[1]) / (n_users[0] + n_users[1])\n",
    "\n",
    "    # разница пропорций в датасетах\n",
    "    difference = p1 - p2 \n",
    "\n",
    "    z_value = difference / np.sqrt(p_combined * (1 - p_combined) * (1/n_users[0] + 1/n_users[1]))\n",
    "\n",
    "    # задаем стандартное нормальное распределение (среднее 0, ст.отклонение 1)\n",
    "    distr = st.norm(0, 1)  \n",
    "\n",
    "    p_value = (1 - distr.cdf(abs(z_value))) * 2\n",
    "\n",
    "    print('\\n'+'\\033[1m' + event + ':' + '\\033[0m')\n",
    "    print('p-значение: ', p_value)\n",
    "\n",
    "    if (p_value < alpha):\n",
    "        print('Отвергаем нулевую гипотезу: между долями есть значимая разница')\n",
    "    else:\n",
    "        print('Не получилось отвергнуть нулевую гипотезу, нет оснований считать доли разными')"
   ]
  },
  {
   "cell_type": "code",
   "execution_count": 29,
   "metadata": {},
   "outputs": [],
   "source": [
    "# Составим список всех возможных событий:\n",
    "events_total = logs['event_name'].unique()\n",
    "# Зададим критический уровень статистической значимости:\n",
    "alpha = 0.1/16"
   ]
  },
  {
   "cell_type": "markdown",
   "metadata": {},
   "source": [
    "<div id='link'></div> "
   ]
  },
  {
   "cell_type": "code",
   "execution_count": 30,
   "metadata": {},
   "outputs": [
    {
     "name": "stdout",
     "output_type": "stream",
     "text": [
      "\n",
      "\u001b[1mTutorial:\u001b[0m\n",
      "p-значение:  0.9376996189257114\n",
      "Не получилось отвергнуть нулевую гипотезу, нет оснований считать доли разными\n",
      "\n",
      "\u001b[1mMainScreenAppear:\u001b[0m\n",
      "p-значение:  0.7570597232046099\n",
      "Не получилось отвергнуть нулевую гипотезу, нет оснований считать доли разными\n",
      "\n",
      "\u001b[1mOffersScreenAppear:\u001b[0m\n",
      "p-значение:  0.2480954578522181\n",
      "Не получилось отвергнуть нулевую гипотезу, нет оснований считать доли разными\n",
      "\n",
      "\u001b[1mCartScreenAppear:\u001b[0m\n",
      "p-значение:  0.22883372237997213\n",
      "Не получилось отвергнуть нулевую гипотезу, нет оснований считать доли разными\n",
      "\n",
      "\u001b[1mPaymentScreenSuccessful:\u001b[0m\n",
      "p-значение:  0.11456679313141849\n",
      "Не получилось отвергнуть нулевую гипотезу, нет оснований считать доли разными\n"
     ]
    }
   ],
   "source": [
    "# Проверим, есть ли статистически значимая разница между контрольными группами 246 и 247:\n",
    "for event in events_total:\n",
    "    z_test(logs[logs['group'] == 246], logs[logs['group'] == 247], event, alpha)"
   ]
  },
  {
   "cell_type": "markdown",
   "metadata": {},
   "source": [
    "#### Вывод\n",
    "При заданном уровне значимости нет оснований считать группы 246 и 247 разными.\n"
   ]
  },
  {
   "cell_type": "markdown",
   "metadata": {},
   "source": [
    "Для A/A/B-теста пользователей разбили на 3 группы: 2 контрольные(246 и 247) со старыми шрифтами и одну экспериментальную(248) — с новыми.\n",
    "В 246 группе 2484 пользователей\n",
    "В 247 группе 2513 пользователей\n",
    "В 248 группе 2537 пользователей "
   ]
  },
  {
   "cell_type": "code",
   "execution_count": 31,
   "metadata": {},
   "outputs": [
    {
     "name": "stdout",
     "output_type": "stream",
     "text": [
      "\n",
      "\u001b[1mTutorial:\u001b[0m\n",
      "p-значение:  0.8264294010087645\n",
      "Не получилось отвергнуть нулевую гипотезу, нет оснований считать доли разными\n",
      "\n",
      "\u001b[1mMainScreenAppear:\u001b[0m\n",
      "p-значение:  0.2949721933554552\n",
      "Не получилось отвергнуть нулевую гипотезу, нет оснований считать доли разными\n",
      "\n",
      "\u001b[1mOffersScreenAppear:\u001b[0m\n",
      "p-значение:  0.20836205402738917\n",
      "Не получилось отвергнуть нулевую гипотезу, нет оснований считать доли разными\n",
      "\n",
      "\u001b[1mCartScreenAppear:\u001b[0m\n",
      "p-значение:  0.07842923237520116\n",
      "Не получилось отвергнуть нулевую гипотезу, нет оснований считать доли разными\n",
      "\n",
      "\u001b[1mPaymentScreenSuccessful:\u001b[0m\n",
      "p-значение:  0.2122553275697796\n",
      "Не получилось отвергнуть нулевую гипотезу, нет оснований считать доли разными\n"
     ]
    }
   ],
   "source": [
    "# Проверим, есть ли статистически значимая разница между контрольными группами 246 и 248:\n",
    "for event in events_total:\n",
    "    z_test(logs[logs['group'] == 246], logs[logs['group'] == 248], event, alpha)"
   ]
  },
  {
   "cell_type": "markdown",
   "metadata": {},
   "source": [
    "#### Вывод \n",
    "При заданном уровне значимости нет оснований считать группы 246 и 248 разными."
   ]
  },
  {
   "cell_type": "code",
   "execution_count": 32,
   "metadata": {},
   "outputs": [
    {
     "name": "stdout",
     "output_type": "stream",
     "text": [
      "\n",
      "\u001b[1mTutorial:\u001b[0m\n",
      "p-значение:  0.765323922474501\n",
      "Не получилось отвергнуть нулевую гипотезу, нет оснований считать доли разными\n",
      "\n",
      "\u001b[1mMainScreenAppear:\u001b[0m\n",
      "p-значение:  0.4587053616621515\n",
      "Не получилось отвергнуть нулевую гипотезу, нет оснований считать доли разными\n",
      "\n",
      "\u001b[1mOffersScreenAppear:\u001b[0m\n",
      "p-значение:  0.9197817830592261\n",
      "Не получилось отвергнуть нулевую гипотезу, нет оснований считать доли разными\n",
      "\n",
      "\u001b[1mCartScreenAppear:\u001b[0m\n",
      "p-значение:  0.5786197879539783\n",
      "Не получилось отвергнуть нулевую гипотезу, нет оснований считать доли разными\n",
      "\n",
      "\u001b[1mPaymentScreenSuccessful:\u001b[0m\n",
      "p-значение:  0.7373415053803964\n",
      "Не получилось отвергнуть нулевую гипотезу, нет оснований считать доли разными\n"
     ]
    }
   ],
   "source": [
    "# Проверим, есть ли статистически значимая разница между контрольными группами 247 и 248:\n",
    "for event in events_total:\n",
    "    z_test(logs[logs['group'] == 247], logs[logs['group'] == 248], event, alpha)"
   ]
  },
  {
   "cell_type": "markdown",
   "metadata": {},
   "source": [
    "#### Вывод\n",
    "При заданном уровне значимости нет оснований считать группы 247 и 248 разными."
   ]
  },
  {
   "cell_type": "code",
   "execution_count": 33,
   "metadata": {},
   "outputs": [
    {
     "name": "stdout",
     "output_type": "stream",
     "text": [
      "\n",
      "\u001b[1mTutorial:\u001b[0m\n",
      "p-значение:  0.764862472531507\n",
      "Не получилось отвергнуть нулевую гипотезу, нет оснований считать доли разными\n",
      "\n",
      "\u001b[1mMainScreenAppear:\u001b[0m\n",
      "p-значение:  0.29424526837179577\n",
      "Не получилось отвергнуть нулевую гипотезу, нет оснований считать доли разными\n",
      "\n",
      "\u001b[1mOffersScreenAppear:\u001b[0m\n",
      "p-значение:  0.43425549655188256\n",
      "Не получилось отвергнуть нулевую гипотезу, нет оснований считать доли разными\n",
      "\n",
      "\u001b[1mCartScreenAppear:\u001b[0m\n",
      "p-значение:  0.18175875284404386\n",
      "Не получилось отвергнуть нулевую гипотезу, нет оснований считать доли разными\n",
      "\n",
      "\u001b[1mPaymentScreenSuccessful:\u001b[0m\n",
      "p-значение:  0.6004294282308704\n",
      "Не получилось отвергнуть нулевую гипотезу, нет оснований считать доли разными\n"
     ]
    }
   ],
   "source": [
    "# Проверим есть ли статистически значимая разница между объединённой контрольной и экпериментальной 248 группами:\n",
    "for event in events_total:\n",
    "    z_test(pd.concat([logs[logs['group'] == 246], logs[logs['group'] == 247]]), logs[logs['group'] == 248], \n",
    "           event, alpha)"
   ]
  },
  {
   "cell_type": "markdown",
   "metadata": {},
   "source": [
    "#### Вывод \n",
    "При заданном уровне значимости нет оснований считать доли разными, изменение шрифта в приложении на поведение пользователей не повлияло."
   ]
  },
  {
   "cell_type": "markdown",
   "metadata": {},
   "source": [
    "## Шаг4. Общий вывод\n"
   ]
  },
  {
   "cell_type": "markdown",
   "metadata": {},
   "source": [
    "<br> Для корректного анализа данных мобильного приложения по продаже продуктов питания была проведена предобработка датасета - проверено наличие дубликатов, отсутствующих значений в столбцах, заменены типы данных, изменены названия столбцов.\n",
    "<br> Проанализировали данные и выявили следующее:\n",
    "<br>-В логе представлены 5 событий: CartScreenAppear, MainScreenAppear, OffersScreenAppear, PaymentScreenSuccessful, Tutorial и 7551 пользователей. В среднем 32 события приходится на пользователя. В исследовании участвовали 7534 пользователя и 240887 события.\n",
    "\n",
    "Воронка пользователей:\n",
    "<br> 1.MainScreenAppear 7419 пользователей (98.47% от общего числа пользователей) совершили действие\n",
    "<br> 2.OffersScreenAppear 4593 пользователей (60,96% от общего числа пользователей) совершили действие\n",
    "<br> 3.CartScreenAppear 3734 пользователя (49.56% от общего числа пользователей) совершили действие\n",
    "<br> 4.PaymentScreenSuccessful 3539 пользователей (46,97% от общего числа пользователей) совершили действие\n",
    "<br> 5.Tutorial\t 840 пользователей (11,15% от общего числа пользователей) совершили действие\n",
    "<br> Чаще всего встречается событие с переходом на главный экран.\n",
    "\n",
    "<br> Больше всего пользователей теряется после первого шага.\n",
    "\n",
    "<br> При проведенных тестах по каждому из событий, статистически значимой разницы между группами не обнаружено. Изменение шрифта  в приложении на поведение пользователей не повлияло.\n",
    "\n",
    "\n"
   ]
  },
  {
   "cell_type": "code",
   "execution_count": null,
   "metadata": {},
   "outputs": [],
   "source": []
  }
 ],
 "metadata": {
  "ExecuteTimeLog": [
   {
    "duration": 72,
    "start_time": "2022-05-21T06:32:21.340Z"
   },
   {
    "duration": 1453,
    "start_time": "2022-05-21T06:32:21.577Z"
   },
   {
    "duration": 3,
    "start_time": "2022-05-21T06:32:31.678Z"
   },
   {
    "duration": 713,
    "start_time": "2022-05-21T06:33:12.501Z"
   },
   {
    "duration": 42,
    "start_time": "2022-05-21T06:33:37.203Z"
   },
   {
    "duration": 196,
    "start_time": "2022-05-21T06:33:53.715Z"
   },
   {
    "duration": 30,
    "start_time": "2022-05-21T06:33:54.505Z"
   },
   {
    "duration": 127,
    "start_time": "2022-05-21T06:34:52.669Z"
   },
   {
    "duration": 67,
    "start_time": "2022-05-21T06:35:55.675Z"
   },
   {
    "duration": 71,
    "start_time": "2022-05-21T06:37:17.520Z"
   },
   {
    "duration": 3,
    "start_time": "2022-05-21T06:39:13.605Z"
   },
   {
    "duration": 6,
    "start_time": "2022-05-21T06:41:37.968Z"
   },
   {
    "duration": 14,
    "start_time": "2022-05-21T06:41:41.638Z"
   },
   {
    "duration": 9,
    "start_time": "2022-05-21T06:41:48.799Z"
   },
   {
    "duration": 20,
    "start_time": "2022-05-21T06:42:07.169Z"
   },
   {
    "duration": 13,
    "start_time": "2022-05-21T06:42:24.970Z"
   },
   {
    "duration": 45,
    "start_time": "2022-05-21T06:44:36.105Z"
   },
   {
    "duration": 14,
    "start_time": "2022-05-21T06:44:58.687Z"
   },
   {
    "duration": 37,
    "start_time": "2022-05-21T06:45:10.966Z"
   },
   {
    "duration": 50,
    "start_time": "2022-05-21T06:45:17.505Z"
   },
   {
    "duration": 100,
    "start_time": "2022-05-21T06:45:30.168Z"
   },
   {
    "duration": 140,
    "start_time": "2022-05-21T06:45:42.093Z"
   },
   {
    "duration": 115,
    "start_time": "2022-05-21T06:46:21.625Z"
   },
   {
    "duration": 113,
    "start_time": "2022-05-21T06:46:29.470Z"
   },
   {
    "duration": 1257,
    "start_time": "2022-05-22T07:14:09.975Z"
   },
   {
    "duration": 635,
    "start_time": "2022-05-22T07:14:11.234Z"
   },
   {
    "duration": 28,
    "start_time": "2022-05-22T07:14:13.181Z"
   },
   {
    "duration": 59,
    "start_time": "2022-05-22T07:14:20.428Z"
   },
   {
    "duration": 2,
    "start_time": "2022-05-22T07:14:21.252Z"
   },
   {
    "duration": 94,
    "start_time": "2022-05-22T07:14:21.951Z"
   },
   {
    "duration": 15,
    "start_time": "2022-05-22T07:14:28.809Z"
   },
   {
    "duration": 14,
    "start_time": "2022-05-22T07:14:38.680Z"
   },
   {
    "duration": 2,
    "start_time": "2022-05-22T07:14:50.301Z"
   },
   {
    "duration": 11,
    "start_time": "2022-05-22T07:14:50.851Z"
   },
   {
    "duration": 103,
    "start_time": "2022-05-22T07:15:07.387Z"
   },
   {
    "duration": 1360,
    "start_time": "2022-05-22T11:43:33.626Z"
   },
   {
    "duration": 576,
    "start_time": "2022-05-22T11:43:34.989Z"
   },
   {
    "duration": 30,
    "start_time": "2022-05-22T11:43:35.567Z"
   },
   {
    "duration": 69,
    "start_time": "2022-05-22T11:43:35.599Z"
   },
   {
    "duration": 2,
    "start_time": "2022-05-22T11:43:35.670Z"
   },
   {
    "duration": 22,
    "start_time": "2022-05-22T11:43:35.673Z"
   },
   {
    "duration": 131,
    "start_time": "2022-05-22T11:43:35.696Z"
   },
   {
    "duration": 20,
    "start_time": "2022-05-22T11:47:19.324Z"
   },
   {
    "duration": 116,
    "start_time": "2022-05-22T11:48:03.794Z"
   },
   {
    "duration": 154,
    "start_time": "2022-05-22T11:49:24.680Z"
   },
   {
    "duration": 23,
    "start_time": "2022-05-22T11:49:26.906Z"
   },
   {
    "duration": 156,
    "start_time": "2022-05-22T11:49:41.166Z"
   },
   {
    "duration": 24,
    "start_time": "2022-05-22T11:49:42.525Z"
   },
   {
    "duration": 54,
    "start_time": "2022-05-22T11:49:46.137Z"
   },
   {
    "duration": 2,
    "start_time": "2022-05-22T11:49:46.766Z"
   },
   {
    "duration": 12,
    "start_time": "2022-05-22T11:49:47.190Z"
   },
   {
    "duration": 112,
    "start_time": "2022-05-22T11:49:47.775Z"
   },
   {
    "duration": 27,
    "start_time": "2022-05-22T11:50:24.367Z"
   },
   {
    "duration": 26,
    "start_time": "2022-05-22T11:50:37.215Z"
   },
   {
    "duration": 13,
    "start_time": "2022-05-22T11:54:51.301Z"
   },
   {
    "duration": 23,
    "start_time": "2022-05-22T11:54:56.123Z"
   },
   {
    "duration": 3,
    "start_time": "2022-05-22T11:55:03.552Z"
   },
   {
    "duration": 166,
    "start_time": "2022-05-22T11:55:03.557Z"
   },
   {
    "duration": 19,
    "start_time": "2022-05-22T11:55:03.725Z"
   },
   {
    "duration": 16,
    "start_time": "2022-05-22T11:55:03.747Z"
   },
   {
    "duration": 83,
    "start_time": "2022-05-22T11:55:03.764Z"
   },
   {
    "duration": 2,
    "start_time": "2022-05-22T11:55:03.850Z"
   },
   {
    "duration": 20,
    "start_time": "2022-05-22T11:55:03.854Z"
   },
   {
    "duration": 129,
    "start_time": "2022-05-22T11:55:03.876Z"
   },
   {
    "duration": 112,
    "start_time": "2022-05-22T11:55:53.047Z"
   },
   {
    "duration": 107,
    "start_time": "2022-05-22T11:56:59.504Z"
   },
   {
    "duration": 209,
    "start_time": "2022-05-22T11:57:04.692Z"
   },
   {
    "duration": 164,
    "start_time": "2022-05-22T11:57:18.024Z"
   },
   {
    "duration": 24,
    "start_time": "2022-05-22T12:02:50.687Z"
   },
   {
    "duration": 8,
    "start_time": "2022-05-22T12:05:09.431Z"
   },
   {
    "duration": 31,
    "start_time": "2022-05-22T12:06:47.182Z"
   },
   {
    "duration": 382,
    "start_time": "2022-05-22T12:09:25.316Z"
   },
   {
    "duration": 731,
    "start_time": "2022-05-22T12:14:00.973Z"
   },
   {
    "duration": 424,
    "start_time": "2022-05-22T12:14:14.377Z"
   },
   {
    "duration": 502,
    "start_time": "2022-05-22T12:14:42.915Z"
   },
   {
    "duration": 484,
    "start_time": "2022-05-22T12:14:56.694Z"
   },
   {
    "duration": 510,
    "start_time": "2022-05-22T12:15:08.212Z"
   },
   {
    "duration": 508,
    "start_time": "2022-05-22T12:16:16.015Z"
   },
   {
    "duration": 638,
    "start_time": "2022-05-22T12:16:29.735Z"
   },
   {
    "duration": 558,
    "start_time": "2022-05-22T12:16:42.374Z"
   },
   {
    "duration": 475,
    "start_time": "2022-05-22T12:16:51.670Z"
   },
   {
    "duration": 469,
    "start_time": "2022-05-22T12:16:57.703Z"
   },
   {
    "duration": 176,
    "start_time": "2022-05-22T12:22:41.031Z"
   },
   {
    "duration": 92,
    "start_time": "2022-05-22T12:22:48.000Z"
   },
   {
    "duration": 126,
    "start_time": "2022-05-22T12:23:30.623Z"
   },
   {
    "duration": 137,
    "start_time": "2022-05-22T12:26:00.462Z"
   },
   {
    "duration": 50,
    "start_time": "2022-05-22T12:26:20.624Z"
   },
   {
    "duration": 1156,
    "start_time": "2022-05-22T12:26:36.724Z"
   },
   {
    "duration": 173,
    "start_time": "2022-05-22T12:26:37.881Z"
   },
   {
    "duration": 21,
    "start_time": "2022-05-22T12:26:38.056Z"
   },
   {
    "duration": 15,
    "start_time": "2022-05-22T12:26:38.079Z"
   },
   {
    "duration": 85,
    "start_time": "2022-05-22T12:26:38.095Z"
   },
   {
    "duration": 3,
    "start_time": "2022-05-22T12:26:38.182Z"
   },
   {
    "duration": 17,
    "start_time": "2022-05-22T12:26:38.186Z"
   },
   {
    "duration": 160,
    "start_time": "2022-05-22T12:26:38.205Z"
   },
   {
    "duration": 0,
    "start_time": "2022-05-22T12:26:38.368Z"
   },
   {
    "duration": 0,
    "start_time": "2022-05-22T12:26:38.369Z"
   },
   {
    "duration": 0,
    "start_time": "2022-05-22T12:26:38.371Z"
   },
   {
    "duration": 0,
    "start_time": "2022-05-22T12:26:38.373Z"
   },
   {
    "duration": 0,
    "start_time": "2022-05-22T12:26:38.374Z"
   },
   {
    "duration": 0,
    "start_time": "2022-05-22T12:26:38.375Z"
   },
   {
    "duration": 0,
    "start_time": "2022-05-22T12:26:38.377Z"
   },
   {
    "duration": 0,
    "start_time": "2022-05-22T12:26:38.378Z"
   },
   {
    "duration": 1367,
    "start_time": "2022-05-22T12:30:22.567Z"
   },
   {
    "duration": 343,
    "start_time": "2022-05-22T12:30:28.998Z"
   },
   {
    "duration": 43,
    "start_time": "2022-05-22T12:30:32.037Z"
   },
   {
    "duration": 9,
    "start_time": "2022-05-22T12:30:34.294Z"
   },
   {
    "duration": 21,
    "start_time": "2022-05-22T12:30:36.673Z"
   },
   {
    "duration": 388,
    "start_time": "2022-05-22T12:30:38.782Z"
   },
   {
    "duration": 382,
    "start_time": "2022-05-22T12:30:39.867Z"
   },
   {
    "duration": 37,
    "start_time": "2022-05-22T12:31:07.179Z"
   },
   {
    "duration": 13,
    "start_time": "2022-05-22T12:31:14.334Z"
   },
   {
    "duration": 49,
    "start_time": "2022-05-22T12:31:20.473Z"
   },
   {
    "duration": 13,
    "start_time": "2022-05-22T12:32:17.767Z"
   },
   {
    "duration": 14,
    "start_time": "2022-05-22T12:32:22.859Z"
   },
   {
    "duration": 32,
    "start_time": "2022-05-22T12:38:50.212Z"
   },
   {
    "duration": 46,
    "start_time": "2022-05-22T12:39:08.631Z"
   },
   {
    "duration": 546,
    "start_time": "2022-05-22T12:43:44.592Z"
   },
   {
    "duration": 38,
    "start_time": "2022-05-22T12:43:53.742Z"
   },
   {
    "duration": 45,
    "start_time": "2022-05-22T12:44:29.920Z"
   },
   {
    "duration": 37,
    "start_time": "2022-05-22T12:44:46.460Z"
   },
   {
    "duration": 10,
    "start_time": "2022-05-22T12:44:56.069Z"
   },
   {
    "duration": 1177,
    "start_time": "2022-05-22T13:01:07.855Z"
   },
   {
    "duration": 175,
    "start_time": "2022-05-22T13:01:09.034Z"
   },
   {
    "duration": 28,
    "start_time": "2022-05-22T13:01:09.212Z"
   },
   {
    "duration": 15,
    "start_time": "2022-05-22T13:01:09.243Z"
   },
   {
    "duration": 91,
    "start_time": "2022-05-22T13:01:09.260Z"
   },
   {
    "duration": 3,
    "start_time": "2022-05-22T13:01:09.352Z"
   },
   {
    "duration": 17,
    "start_time": "2022-05-22T13:01:09.357Z"
   },
   {
    "duration": 1264,
    "start_time": "2022-05-22T13:01:09.376Z"
   },
   {
    "duration": 249,
    "start_time": "2022-05-22T13:01:10.643Z"
   },
   {
    "duration": 43,
    "start_time": "2022-05-22T13:01:10.894Z"
   },
   {
    "duration": 9,
    "start_time": "2022-05-22T13:01:10.939Z"
   },
   {
    "duration": 20,
    "start_time": "2022-05-22T13:01:10.950Z"
   },
   {
    "duration": 142,
    "start_time": "2022-05-22T13:01:10.972Z"
   },
   {
    "duration": 0,
    "start_time": "2022-05-22T13:01:11.116Z"
   },
   {
    "duration": 0,
    "start_time": "2022-05-22T13:01:11.117Z"
   },
   {
    "duration": 0,
    "start_time": "2022-05-22T13:01:11.192Z"
   },
   {
    "duration": 15,
    "start_time": "2022-05-22T13:01:47.600Z"
   },
   {
    "duration": 359,
    "start_time": "2022-05-22T13:01:54.960Z"
   },
   {
    "duration": 30,
    "start_time": "2022-05-22T13:01:57.558Z"
   },
   {
    "duration": 9,
    "start_time": "2022-05-22T13:02:06.759Z"
   },
   {
    "duration": 54,
    "start_time": "2022-05-22T13:02:47.988Z"
   },
   {
    "duration": 18,
    "start_time": "2022-05-22T13:03:19.270Z"
   },
   {
    "duration": 36,
    "start_time": "2022-05-22T13:07:51.599Z"
   },
   {
    "duration": 27,
    "start_time": "2022-05-22T13:08:06.927Z"
   },
   {
    "duration": 25,
    "start_time": "2022-05-22T13:08:11.108Z"
   },
   {
    "duration": 16,
    "start_time": "2022-05-22T13:08:16.959Z"
   },
   {
    "duration": 924,
    "start_time": "2022-05-22T13:08:52.669Z"
   },
   {
    "duration": 32,
    "start_time": "2022-05-22T13:09:25.059Z"
   },
   {
    "duration": 922,
    "start_time": "2022-05-22T13:09:29.458Z"
   },
   {
    "duration": 152,
    "start_time": "2022-05-22T13:11:05.592Z"
   },
   {
    "duration": 169,
    "start_time": "2022-05-22T13:12:13.463Z"
   },
   {
    "duration": 152,
    "start_time": "2022-05-22T13:12:27.479Z"
   },
   {
    "duration": 160,
    "start_time": "2022-05-22T13:12:37.131Z"
   },
   {
    "duration": 184,
    "start_time": "2022-05-22T13:12:49.800Z"
   },
   {
    "duration": 68,
    "start_time": "2022-05-22T13:17:49.671Z"
   },
   {
    "duration": 74,
    "start_time": "2022-05-22T13:19:14.154Z"
   },
   {
    "duration": 179,
    "start_time": "2022-05-22T13:20:20.132Z"
   },
   {
    "duration": 291,
    "start_time": "2022-05-22T13:20:29.390Z"
   },
   {
    "duration": 80,
    "start_time": "2022-05-22T13:29:06.333Z"
   },
   {
    "duration": 79,
    "start_time": "2022-05-22T13:29:18.179Z"
   },
   {
    "duration": 509,
    "start_time": "2022-05-22T13:32:11.672Z"
   },
   {
    "duration": 36,
    "start_time": "2022-05-22T13:41:25.151Z"
   },
   {
    "duration": 6,
    "start_time": "2022-05-22T13:48:13.279Z"
   },
   {
    "duration": 2,
    "start_time": "2022-05-22T14:07:30.832Z"
   },
   {
    "duration": 17,
    "start_time": "2022-05-22T14:08:38.690Z"
   },
   {
    "duration": 78,
    "start_time": "2022-05-22T14:08:50.101Z"
   },
   {
    "duration": 30,
    "start_time": "2022-05-22T14:13:20.008Z"
   },
   {
    "duration": 7,
    "start_time": "2022-05-22T14:13:39.454Z"
   },
   {
    "duration": 389,
    "start_time": "2022-05-22T14:15:47.977Z"
   },
   {
    "duration": 17,
    "start_time": "2022-05-22T14:15:57.986Z"
   },
   {
    "duration": 36,
    "start_time": "2022-05-22T14:16:33.750Z"
   },
   {
    "duration": 17,
    "start_time": "2022-05-22T14:17:00.950Z"
   },
   {
    "duration": 41,
    "start_time": "2022-05-22T14:17:02.078Z"
   },
   {
    "duration": 1180,
    "start_time": "2022-05-22T14:18:21.459Z"
   },
   {
    "duration": 206,
    "start_time": "2022-05-22T14:18:22.642Z"
   },
   {
    "duration": 23,
    "start_time": "2022-05-22T14:18:22.850Z"
   },
   {
    "duration": 15,
    "start_time": "2022-05-22T14:18:22.875Z"
   },
   {
    "duration": 83,
    "start_time": "2022-05-22T14:18:22.892Z"
   },
   {
    "duration": 2,
    "start_time": "2022-05-22T14:18:22.978Z"
   },
   {
    "duration": 17,
    "start_time": "2022-05-22T14:18:22.982Z"
   },
   {
    "duration": 1283,
    "start_time": "2022-05-22T14:18:23.001Z"
   },
   {
    "duration": 257,
    "start_time": "2022-05-22T14:18:24.286Z"
   },
   {
    "duration": 25,
    "start_time": "2022-05-22T14:18:24.545Z"
   },
   {
    "duration": 7,
    "start_time": "2022-05-22T14:18:24.572Z"
   },
   {
    "duration": 20,
    "start_time": "2022-05-22T14:18:24.581Z"
   },
   {
    "duration": 105,
    "start_time": "2022-05-22T14:18:24.603Z"
   },
   {
    "duration": 370,
    "start_time": "2022-05-22T14:18:24.711Z"
   },
   {
    "duration": 41,
    "start_time": "2022-05-22T14:18:25.083Z"
   },
   {
    "duration": 14,
    "start_time": "2022-05-22T14:18:25.126Z"
   },
   {
    "duration": 37,
    "start_time": "2022-05-22T14:18:25.142Z"
   },
   {
    "duration": 212,
    "start_time": "2022-05-22T14:18:25.181Z"
   },
   {
    "duration": 63,
    "start_time": "2022-05-22T14:18:25.395Z"
   },
   {
    "duration": 216,
    "start_time": "2022-05-22T14:18:25.459Z"
   },
   {
    "duration": 90,
    "start_time": "2022-05-22T14:18:25.677Z"
   },
   {
    "duration": 130,
    "start_time": "2022-05-22T14:18:25.768Z"
   },
   {
    "duration": 65,
    "start_time": "2022-05-22T14:18:25.901Z"
   },
   {
    "duration": 9,
    "start_time": "2022-05-22T14:18:26.022Z"
   },
   {
    "duration": 29,
    "start_time": "2022-05-22T14:18:26.033Z"
   },
   {
    "duration": 182,
    "start_time": "2022-05-22T14:18:26.064Z"
   },
   {
    "duration": 3,
    "start_time": "2022-05-22T14:19:18.468Z"
   },
   {
    "duration": 1165,
    "start_time": "2022-05-22T14:19:23.330Z"
   },
   {
    "duration": 178,
    "start_time": "2022-05-22T14:19:24.497Z"
   },
   {
    "duration": 23,
    "start_time": "2022-05-22T14:19:24.676Z"
   },
   {
    "duration": 23,
    "start_time": "2022-05-22T14:19:24.701Z"
   },
   {
    "duration": 65,
    "start_time": "2022-05-22T14:19:24.726Z"
   },
   {
    "duration": 2,
    "start_time": "2022-05-22T14:19:24.793Z"
   },
   {
    "duration": 34,
    "start_time": "2022-05-22T14:19:24.797Z"
   },
   {
    "duration": 1234,
    "start_time": "2022-05-22T14:19:24.833Z"
   },
   {
    "duration": 229,
    "start_time": "2022-05-22T14:19:26.069Z"
   },
   {
    "duration": 27,
    "start_time": "2022-05-22T14:19:26.301Z"
   },
   {
    "duration": 75,
    "start_time": "2022-05-22T14:19:26.329Z"
   },
   {
    "duration": 32,
    "start_time": "2022-05-22T14:19:26.405Z"
   },
   {
    "duration": 13,
    "start_time": "2022-05-22T14:19:26.438Z"
   },
   {
    "duration": 361,
    "start_time": "2022-05-22T14:19:26.453Z"
   },
   {
    "duration": 36,
    "start_time": "2022-05-22T14:19:26.816Z"
   },
   {
    "duration": 15,
    "start_time": "2022-05-22T14:19:26.854Z"
   },
   {
    "duration": 62,
    "start_time": "2022-05-22T14:19:26.871Z"
   },
   {
    "duration": 179,
    "start_time": "2022-05-22T14:19:26.934Z"
   },
   {
    "duration": 56,
    "start_time": "2022-05-22T14:19:27.123Z"
   },
   {
    "duration": 217,
    "start_time": "2022-05-22T14:19:27.181Z"
   },
   {
    "duration": 87,
    "start_time": "2022-05-22T14:19:27.400Z"
   },
   {
    "duration": 142,
    "start_time": "2022-05-22T14:19:27.489Z"
   },
   {
    "duration": 37,
    "start_time": "2022-05-22T14:19:27.633Z"
   },
   {
    "duration": 52,
    "start_time": "2022-05-22T14:19:27.671Z"
   },
   {
    "duration": 21,
    "start_time": "2022-05-22T14:19:27.725Z"
   },
   {
    "duration": 199,
    "start_time": "2022-05-22T14:19:27.749Z"
   },
   {
    "duration": 156,
    "start_time": "2022-05-22T14:21:15.610Z"
   },
   {
    "duration": 154,
    "start_time": "2022-05-22T14:22:02.245Z"
   },
   {
    "duration": 416,
    "start_time": "2022-05-22T14:23:57.145Z"
   },
   {
    "duration": 16,
    "start_time": "2022-05-22T14:27:23.811Z"
   },
   {
    "duration": 152,
    "start_time": "2022-05-22T14:27:25.399Z"
   },
   {
    "duration": 154,
    "start_time": "2022-05-22T14:27:28.576Z"
   },
   {
    "duration": 157,
    "start_time": "2022-05-22T14:27:30.124Z"
   },
   {
    "duration": 389,
    "start_time": "2022-05-22T14:27:31.257Z"
   },
   {
    "duration": 1142,
    "start_time": "2022-05-22T15:03:00.234Z"
   },
   {
    "duration": 167,
    "start_time": "2022-05-22T15:03:01.378Z"
   },
   {
    "duration": 21,
    "start_time": "2022-05-22T15:03:01.547Z"
   },
   {
    "duration": 15,
    "start_time": "2022-05-22T15:03:01.570Z"
   },
   {
    "duration": 85,
    "start_time": "2022-05-22T15:03:01.586Z"
   },
   {
    "duration": 3,
    "start_time": "2022-05-22T15:03:01.672Z"
   },
   {
    "duration": 19,
    "start_time": "2022-05-22T15:03:01.676Z"
   },
   {
    "duration": 1356,
    "start_time": "2022-05-22T15:03:01.697Z"
   },
   {
    "duration": 238,
    "start_time": "2022-05-22T15:03:03.054Z"
   },
   {
    "duration": 103,
    "start_time": "2022-05-22T15:03:03.294Z"
   },
   {
    "duration": 7,
    "start_time": "2022-05-22T15:03:03.399Z"
   },
   {
    "duration": 28,
    "start_time": "2022-05-22T15:03:03.407Z"
   },
   {
    "duration": 14,
    "start_time": "2022-05-22T15:03:03.437Z"
   },
   {
    "duration": 367,
    "start_time": "2022-05-22T15:03:03.452Z"
   },
   {
    "duration": 34,
    "start_time": "2022-05-22T15:03:03.822Z"
   },
   {
    "duration": 15,
    "start_time": "2022-05-22T15:03:03.858Z"
   },
   {
    "duration": 56,
    "start_time": "2022-05-22T15:03:03.875Z"
   },
   {
    "duration": 192,
    "start_time": "2022-05-22T15:03:03.933Z"
   },
   {
    "duration": 60,
    "start_time": "2022-05-22T15:03:04.127Z"
   },
   {
    "duration": 214,
    "start_time": "2022-05-22T15:03:04.189Z"
   },
   {
    "duration": 94,
    "start_time": "2022-05-22T15:03:04.404Z"
   },
   {
    "duration": 134,
    "start_time": "2022-05-22T15:03:04.500Z"
   },
   {
    "duration": 37,
    "start_time": "2022-05-22T15:03:04.636Z"
   },
   {
    "duration": 51,
    "start_time": "2022-05-22T15:03:04.675Z"
   },
   {
    "duration": 23,
    "start_time": "2022-05-22T15:03:04.728Z"
   },
   {
    "duration": 186,
    "start_time": "2022-05-22T15:03:04.753Z"
   },
   {
    "duration": 152,
    "start_time": "2022-05-22T15:03:04.941Z"
   },
   {
    "duration": 148,
    "start_time": "2022-05-22T15:03:05.096Z"
   },
   {
    "duration": 363,
    "start_time": "2022-05-22T15:03:05.246Z"
   },
   {
    "duration": 1106,
    "start_time": "2022-05-22T15:31:47.680Z"
   },
   {
    "duration": 1182,
    "start_time": "2022-05-22T15:31:48.788Z"
   },
   {
    "duration": 24,
    "start_time": "2022-05-22T15:31:49.972Z"
   },
   {
    "duration": 15,
    "start_time": "2022-05-22T15:31:49.998Z"
   },
   {
    "duration": 72,
    "start_time": "2022-05-22T15:31:50.016Z"
   },
   {
    "duration": 2,
    "start_time": "2022-05-22T15:31:50.090Z"
   },
   {
    "duration": 18,
    "start_time": "2022-05-22T15:31:50.094Z"
   },
   {
    "duration": 1721,
    "start_time": "2022-05-22T15:31:50.114Z"
   },
   {
    "duration": 527,
    "start_time": "2022-05-22T15:31:51.836Z"
   },
   {
    "duration": 86,
    "start_time": "2022-05-22T15:31:52.364Z"
   },
   {
    "duration": 10,
    "start_time": "2022-05-22T15:31:52.452Z"
   },
   {
    "duration": 88,
    "start_time": "2022-05-22T15:31:52.468Z"
   },
   {
    "duration": 126,
    "start_time": "2022-05-22T15:31:52.557Z"
   },
   {
    "duration": 892,
    "start_time": "2022-05-22T15:31:52.687Z"
   },
   {
    "duration": 86,
    "start_time": "2022-05-22T15:31:53.581Z"
   },
   {
    "duration": 18,
    "start_time": "2022-05-22T15:31:53.668Z"
   },
   {
    "duration": 161,
    "start_time": "2022-05-22T15:31:53.687Z"
   },
   {
    "duration": 273,
    "start_time": "2022-05-22T15:31:53.850Z"
   },
   {
    "duration": 70,
    "start_time": "2022-05-22T15:31:54.124Z"
   },
   {
    "duration": 218,
    "start_time": "2022-05-22T15:31:54.196Z"
   },
   {
    "duration": 93,
    "start_time": "2022-05-22T15:31:54.415Z"
   },
   {
    "duration": 119,
    "start_time": "2022-05-22T15:31:54.509Z"
   },
   {
    "duration": 48,
    "start_time": "2022-05-22T15:31:54.629Z"
   },
   {
    "duration": 10,
    "start_time": "2022-05-22T15:31:54.680Z"
   },
   {
    "duration": 110,
    "start_time": "2022-05-22T15:31:54.692Z"
   },
   {
    "duration": 205,
    "start_time": "2022-05-22T15:31:54.805Z"
   },
   {
    "duration": 190,
    "start_time": "2022-05-22T15:31:55.012Z"
   },
   {
    "duration": 175,
    "start_time": "2022-05-22T15:31:55.204Z"
   },
   {
    "duration": 389,
    "start_time": "2022-05-22T15:31:55.381Z"
   },
   {
    "duration": 11,
    "start_time": "2022-05-22T16:38:40.615Z"
   },
   {
    "duration": 27,
    "start_time": "2022-05-22T16:39:07.164Z"
   },
   {
    "duration": 4,
    "start_time": "2022-05-22T17:03:49.042Z"
   },
   {
    "duration": 32,
    "start_time": "2022-05-22T17:10:07.678Z"
   },
   {
    "duration": 57,
    "start_time": "2022-05-22T17:10:13.930Z"
   },
   {
    "duration": 21,
    "start_time": "2022-05-22T17:12:53.988Z"
   },
   {
    "duration": 1305,
    "start_time": "2022-05-23T07:00:52.873Z"
   },
   {
    "duration": 711,
    "start_time": "2022-05-23T07:00:54.181Z"
   },
   {
    "duration": 20,
    "start_time": "2022-05-23T07:00:54.893Z"
   },
   {
    "duration": 14,
    "start_time": "2022-05-23T07:00:54.915Z"
   },
   {
    "duration": 71,
    "start_time": "2022-05-23T07:00:54.932Z"
   },
   {
    "duration": 2,
    "start_time": "2022-05-23T07:00:55.005Z"
   },
   {
    "duration": 18,
    "start_time": "2022-05-23T07:00:55.008Z"
   },
   {
    "duration": 1164,
    "start_time": "2022-05-23T07:00:55.028Z"
   },
   {
    "duration": 202,
    "start_time": "2022-05-23T07:00:56.193Z"
   },
   {
    "duration": 27,
    "start_time": "2022-05-23T07:00:56.396Z"
   },
   {
    "duration": 7,
    "start_time": "2022-05-23T07:00:56.424Z"
   },
   {
    "duration": 20,
    "start_time": "2022-05-23T07:00:56.432Z"
   },
   {
    "duration": 98,
    "start_time": "2022-05-23T07:00:56.453Z"
   },
   {
    "duration": 405,
    "start_time": "2022-05-23T07:00:56.553Z"
   },
   {
    "duration": 30,
    "start_time": "2022-05-23T07:00:56.959Z"
   },
   {
    "duration": 16,
    "start_time": "2022-05-23T07:00:57.001Z"
   },
   {
    "duration": 37,
    "start_time": "2022-05-23T07:00:57.019Z"
   },
   {
    "duration": 199,
    "start_time": "2022-05-23T07:00:57.058Z"
   },
   {
    "duration": 65,
    "start_time": "2022-05-23T07:00:57.258Z"
   },
   {
    "duration": 234,
    "start_time": "2022-05-23T07:00:57.325Z"
   },
   {
    "duration": 83,
    "start_time": "2022-05-23T07:00:57.560Z"
   },
   {
    "duration": 128,
    "start_time": "2022-05-23T07:00:57.644Z"
   },
   {
    "duration": 51,
    "start_time": "2022-05-23T07:00:57.774Z"
   },
   {
    "duration": 5,
    "start_time": "2022-05-23T07:00:57.827Z"
   },
   {
    "duration": 75,
    "start_time": "2022-05-23T07:00:57.834Z"
   },
   {
    "duration": 172,
    "start_time": "2022-05-23T07:00:57.910Z"
   },
   {
    "duration": 143,
    "start_time": "2022-05-23T07:00:58.084Z"
   },
   {
    "duration": 146,
    "start_time": "2022-05-23T07:00:58.229Z"
   },
   {
    "duration": 396,
    "start_time": "2022-05-23T07:00:58.376Z"
   },
   {
    "duration": 1335,
    "start_time": "2022-05-23T07:41:58.075Z"
   },
   {
    "duration": 1251,
    "start_time": "2022-05-23T07:41:59.413Z"
   },
   {
    "duration": 23,
    "start_time": "2022-05-23T07:42:01.165Z"
   },
   {
    "duration": 15,
    "start_time": "2022-05-23T07:42:02.819Z"
   },
   {
    "duration": 86,
    "start_time": "2022-05-23T07:42:04.025Z"
   },
   {
    "duration": 39,
    "start_time": "2022-05-23T07:44:13.363Z"
   },
   {
    "duration": 42,
    "start_time": "2022-05-23T07:44:20.802Z"
   },
   {
    "duration": 39,
    "start_time": "2022-05-23T07:44:53.229Z"
   },
   {
    "duration": 57,
    "start_time": "2022-05-23T07:46:18.297Z"
   },
   {
    "duration": 63,
    "start_time": "2022-05-23T07:47:46.915Z"
   },
   {
    "duration": 397,
    "start_time": "2022-05-23T07:49:20.161Z"
   },
   {
    "duration": 152,
    "start_time": "2022-05-23T07:51:36.217Z"
   },
   {
    "duration": 12,
    "start_time": "2022-05-23T07:52:14.091Z"
   },
   {
    "duration": 12,
    "start_time": "2022-05-23T07:52:17.582Z"
   },
   {
    "duration": 9,
    "start_time": "2022-05-23T07:54:24.414Z"
   },
   {
    "duration": 11,
    "start_time": "2022-05-23T07:54:33.564Z"
   },
   {
    "duration": 165,
    "start_time": "2022-05-23T07:54:51.958Z"
   },
   {
    "duration": 126,
    "start_time": "2022-05-23T07:55:01.840Z"
   },
   {
    "duration": 27,
    "start_time": "2022-05-23T07:55:21.090Z"
   },
   {
    "duration": 24,
    "start_time": "2022-05-23T07:55:44.611Z"
   },
   {
    "duration": 6,
    "start_time": "2022-05-23T07:56:35.158Z"
   },
   {
    "duration": 2,
    "start_time": "2022-05-23T07:57:06.132Z"
   },
   {
    "duration": 23,
    "start_time": "2022-05-23T07:57:06.764Z"
   },
   {
    "duration": 6,
    "start_time": "2022-05-23T07:57:08.078Z"
   },
   {
    "duration": 5,
    "start_time": "2022-05-23T07:57:38.877Z"
   },
   {
    "duration": 6,
    "start_time": "2022-05-23T07:58:18.058Z"
   },
   {
    "duration": 108,
    "start_time": "2022-05-23T07:59:18.717Z"
   },
   {
    "duration": 22,
    "start_time": "2022-05-23T08:00:25.296Z"
   },
   {
    "duration": 6,
    "start_time": "2022-05-23T08:00:25.821Z"
   },
   {
    "duration": 612,
    "start_time": "2022-05-23T08:04:24.734Z"
   },
   {
    "duration": 3,
    "start_time": "2022-05-23T08:04:40.388Z"
   },
   {
    "duration": 10,
    "start_time": "2022-05-23T08:04:40.817Z"
   },
   {
    "duration": 1289,
    "start_time": "2022-05-23T08:04:42.570Z"
   },
   {
    "duration": 257,
    "start_time": "2022-05-23T08:04:43.861Z"
   },
   {
    "duration": 38,
    "start_time": "2022-05-23T08:04:46.375Z"
   },
   {
    "duration": 10,
    "start_time": "2022-05-23T08:04:48.672Z"
   },
   {
    "duration": 18,
    "start_time": "2022-05-23T08:04:51.952Z"
   },
   {
    "duration": 11,
    "start_time": "2022-05-23T08:04:53.487Z"
   },
   {
    "duration": 686,
    "start_time": "2022-05-23T08:04:54.511Z"
   },
   {
    "duration": 33,
    "start_time": "2022-05-23T08:04:56.782Z"
   },
   {
    "duration": 15,
    "start_time": "2022-05-23T08:04:57.584Z"
   },
   {
    "duration": 8,
    "start_time": "2022-05-23T08:05:01.018Z"
   },
   {
    "duration": 231,
    "start_time": "2022-05-23T08:05:58.965Z"
   },
   {
    "duration": 41,
    "start_time": "2022-05-23T08:08:56.972Z"
   },
   {
    "duration": 48,
    "start_time": "2022-05-23T08:09:34.668Z"
   },
   {
    "duration": 12,
    "start_time": "2022-05-23T08:15:24.756Z"
   },
   {
    "duration": 62,
    "start_time": "2022-05-23T08:17:21.265Z"
   },
   {
    "duration": 61,
    "start_time": "2022-05-23T08:18:15.105Z"
   },
   {
    "duration": 49,
    "start_time": "2022-05-23T08:18:35.676Z"
   },
   {
    "duration": 172,
    "start_time": "2022-05-23T08:19:02.050Z"
   },
   {
    "duration": 10,
    "start_time": "2022-05-23T08:20:36.437Z"
   },
   {
    "duration": 1120,
    "start_time": "2022-05-23T08:20:57.867Z"
   },
   {
    "duration": 171,
    "start_time": "2022-05-23T08:20:58.989Z"
   },
   {
    "duration": 23,
    "start_time": "2022-05-23T08:20:59.162Z"
   },
   {
    "duration": 15,
    "start_time": "2022-05-23T08:20:59.187Z"
   },
   {
    "duration": 88,
    "start_time": "2022-05-23T08:20:59.204Z"
   },
   {
    "duration": 27,
    "start_time": "2022-05-23T08:20:59.294Z"
   },
   {
    "duration": 20,
    "start_time": "2022-05-23T08:20:59.322Z"
   },
   {
    "duration": 2,
    "start_time": "2022-05-23T08:20:59.344Z"
   },
   {
    "duration": 24,
    "start_time": "2022-05-23T08:20:59.349Z"
   },
   {
    "duration": 1260,
    "start_time": "2022-05-23T08:20:59.376Z"
   },
   {
    "duration": 248,
    "start_time": "2022-05-23T08:21:00.637Z"
   },
   {
    "duration": 25,
    "start_time": "2022-05-23T08:21:00.887Z"
   },
   {
    "duration": 8,
    "start_time": "2022-05-23T08:21:00.914Z"
   },
   {
    "duration": 34,
    "start_time": "2022-05-23T08:21:00.924Z"
   },
   {
    "duration": 95,
    "start_time": "2022-05-23T08:21:00.959Z"
   },
   {
    "duration": 389,
    "start_time": "2022-05-23T08:21:01.055Z"
   },
   {
    "duration": 31,
    "start_time": "2022-05-23T08:21:01.445Z"
   },
   {
    "duration": 15,
    "start_time": "2022-05-23T08:21:01.477Z"
   },
   {
    "duration": 57,
    "start_time": "2022-05-23T08:21:01.494Z"
   },
   {
    "duration": 38,
    "start_time": "2022-05-23T08:21:01.553Z"
   },
   {
    "duration": 199,
    "start_time": "2022-05-23T08:21:01.592Z"
   },
   {
    "duration": 73,
    "start_time": "2022-05-23T08:21:01.793Z"
   },
   {
    "duration": 252,
    "start_time": "2022-05-23T08:21:01.868Z"
   },
   {
    "duration": 99,
    "start_time": "2022-05-23T08:21:02.122Z"
   },
   {
    "duration": 120,
    "start_time": "2022-05-23T08:21:02.223Z"
   },
   {
    "duration": 0,
    "start_time": "2022-05-23T08:21:02.345Z"
   },
   {
    "duration": 0,
    "start_time": "2022-05-23T08:21:02.347Z"
   },
   {
    "duration": 0,
    "start_time": "2022-05-23T08:21:02.348Z"
   },
   {
    "duration": 0,
    "start_time": "2022-05-23T08:21:02.350Z"
   },
   {
    "duration": 0,
    "start_time": "2022-05-23T08:21:02.352Z"
   },
   {
    "duration": 0,
    "start_time": "2022-05-23T08:21:02.354Z"
   },
   {
    "duration": 0,
    "start_time": "2022-05-23T08:21:02.356Z"
   },
   {
    "duration": 0,
    "start_time": "2022-05-23T08:21:02.357Z"
   },
   {
    "duration": 0,
    "start_time": "2022-05-23T08:21:02.360Z"
   },
   {
    "duration": 11,
    "start_time": "2022-05-23T08:21:29.614Z"
   },
   {
    "duration": 10,
    "start_time": "2022-05-23T08:23:22.788Z"
   },
   {
    "duration": 493,
    "start_time": "2022-05-23T08:25:32.941Z"
   },
   {
    "duration": 40,
    "start_time": "2022-05-23T08:31:57.337Z"
   },
   {
    "duration": 91,
    "start_time": "2022-05-23T08:32:04.284Z"
   },
   {
    "duration": 107,
    "start_time": "2022-05-23T08:32:10.194Z"
   },
   {
    "duration": 135,
    "start_time": "2022-05-23T08:32:14.324Z"
   },
   {
    "duration": 14,
    "start_time": "2022-05-23T08:34:31.875Z"
   },
   {
    "duration": 14,
    "start_time": "2022-05-23T08:34:43.191Z"
   },
   {
    "duration": 6,
    "start_time": "2022-05-23T08:34:57.757Z"
   },
   {
    "duration": 10,
    "start_time": "2022-05-23T08:35:16.148Z"
   },
   {
    "duration": 37,
    "start_time": "2022-05-23T08:38:42.617Z"
   },
   {
    "duration": 2,
    "start_time": "2022-05-23T08:38:53.116Z"
   },
   {
    "duration": 2,
    "start_time": "2022-05-23T08:38:58.942Z"
   },
   {
    "duration": 18,
    "start_time": "2022-05-23T08:38:59.875Z"
   },
   {
    "duration": 38,
    "start_time": "2022-05-23T08:39:03.240Z"
   },
   {
    "duration": 5,
    "start_time": "2022-05-23T08:39:25.568Z"
   },
   {
    "duration": 17,
    "start_time": "2022-05-23T08:39:26.801Z"
   },
   {
    "duration": 141,
    "start_time": "2022-05-23T08:39:41.265Z"
   },
   {
    "duration": 134,
    "start_time": "2022-05-23T08:42:59.548Z"
   },
   {
    "duration": 149,
    "start_time": "2022-05-23T08:43:01.439Z"
   },
   {
    "duration": 352,
    "start_time": "2022-05-23T08:43:02.258Z"
   },
   {
    "duration": 10,
    "start_time": "2022-05-23T08:53:52.573Z"
   },
   {
    "duration": 36,
    "start_time": "2022-05-23T08:54:45.930Z"
   },
   {
    "duration": 36,
    "start_time": "2022-05-23T08:54:53.023Z"
   },
   {
    "duration": 6,
    "start_time": "2022-05-23T08:54:57.323Z"
   },
   {
    "duration": 16,
    "start_time": "2022-05-23T08:55:12.925Z"
   },
   {
    "duration": 149,
    "start_time": "2022-05-23T08:55:14.941Z"
   },
   {
    "duration": 11,
    "start_time": "2022-05-23T08:55:19.587Z"
   },
   {
    "duration": 11,
    "start_time": "2022-05-23T08:55:36.011Z"
   },
   {
    "duration": 3,
    "start_time": "2022-05-23T08:57:29.174Z"
   },
   {
    "duration": 139,
    "start_time": "2022-05-23T08:58:56.682Z"
   },
   {
    "duration": 7,
    "start_time": "2022-05-23T09:05:45.973Z"
   },
   {
    "duration": 2,
    "start_time": "2022-05-23T09:06:30.051Z"
   },
   {
    "duration": 1120,
    "start_time": "2022-05-23T09:06:35.576Z"
   },
   {
    "duration": 183,
    "start_time": "2022-05-23T09:06:36.697Z"
   },
   {
    "duration": 28,
    "start_time": "2022-05-23T09:06:36.882Z"
   },
   {
    "duration": 30,
    "start_time": "2022-05-23T09:06:36.912Z"
   },
   {
    "duration": 76,
    "start_time": "2022-05-23T09:06:36.945Z"
   },
   {
    "duration": 58,
    "start_time": "2022-05-23T09:06:37.022Z"
   },
   {
    "duration": 6,
    "start_time": "2022-05-23T09:06:37.082Z"
   },
   {
    "duration": 20,
    "start_time": "2022-05-23T09:06:37.090Z"
   },
   {
    "duration": 23,
    "start_time": "2022-05-23T09:06:37.111Z"
   },
   {
    "duration": 1193,
    "start_time": "2022-05-23T09:06:37.141Z"
   },
   {
    "duration": 218,
    "start_time": "2022-05-23T09:06:38.335Z"
   },
   {
    "duration": 23,
    "start_time": "2022-05-23T09:06:38.555Z"
   },
   {
    "duration": 7,
    "start_time": "2022-05-23T09:06:38.580Z"
   },
   {
    "duration": 96,
    "start_time": "2022-05-23T09:06:38.589Z"
   },
   {
    "duration": 11,
    "start_time": "2022-05-23T09:06:38.687Z"
   },
   {
    "duration": 368,
    "start_time": "2022-05-23T09:06:38.700Z"
   },
   {
    "duration": 30,
    "start_time": "2022-05-23T09:06:39.070Z"
   },
   {
    "duration": 14,
    "start_time": "2022-05-23T09:06:39.102Z"
   },
   {
    "duration": 54,
    "start_time": "2022-05-23T09:06:39.118Z"
   },
   {
    "duration": 38,
    "start_time": "2022-05-23T09:06:39.174Z"
   },
   {
    "duration": 193,
    "start_time": "2022-05-23T09:06:39.213Z"
   },
   {
    "duration": 65,
    "start_time": "2022-05-23T09:06:39.408Z"
   },
   {
    "duration": 208,
    "start_time": "2022-05-23T09:06:39.475Z"
   },
   {
    "duration": 89,
    "start_time": "2022-05-23T09:06:39.684Z"
   },
   {
    "duration": 141,
    "start_time": "2022-05-23T09:06:39.775Z"
   },
   {
    "duration": 7,
    "start_time": "2022-05-23T09:06:39.918Z"
   },
   {
    "duration": 27,
    "start_time": "2022-05-23T09:06:39.927Z"
   },
   {
    "duration": 102,
    "start_time": "2022-05-23T09:06:39.956Z"
   },
   {
    "duration": 6,
    "start_time": "2022-05-23T09:06:40.060Z"
   },
   {
    "duration": 45,
    "start_time": "2022-05-23T09:06:40.068Z"
   },
   {
    "duration": 156,
    "start_time": "2022-05-23T09:06:40.115Z"
   },
   {
    "duration": 145,
    "start_time": "2022-05-23T09:06:40.272Z"
   },
   {
    "duration": 151,
    "start_time": "2022-05-23T09:06:40.419Z"
   },
   {
    "duration": 363,
    "start_time": "2022-05-23T09:06:40.572Z"
   },
   {
    "duration": 999,
    "start_time": "2022-05-23T09:09:01.087Z"
   },
   {
    "duration": 713,
    "start_time": "2022-05-23T09:09:17.977Z"
   },
   {
    "duration": 10,
    "start_time": "2022-05-23T09:09:24.146Z"
   },
   {
    "duration": 11,
    "start_time": "2022-05-23T09:09:52.662Z"
   },
   {
    "duration": 11,
    "start_time": "2022-05-23T09:10:34.074Z"
   },
   {
    "duration": 10,
    "start_time": "2022-05-23T09:14:03.414Z"
   },
   {
    "duration": 39,
    "start_time": "2022-05-23T09:17:00.788Z"
   },
   {
    "duration": 10,
    "start_time": "2022-05-23T09:17:09.743Z"
   },
   {
    "duration": 24,
    "start_time": "2022-05-23T09:17:56.706Z"
   },
   {
    "duration": 16,
    "start_time": "2022-05-23T09:23:17.233Z"
   },
   {
    "duration": 43,
    "start_time": "2022-05-23T09:23:22.371Z"
   },
   {
    "duration": 10,
    "start_time": "2022-05-23T09:23:41.578Z"
   },
   {
    "duration": 1378,
    "start_time": "2022-05-24T06:05:56.507Z"
   },
   {
    "duration": 584,
    "start_time": "2022-05-24T06:05:57.887Z"
   },
   {
    "duration": 24,
    "start_time": "2022-05-24T06:05:58.473Z"
   },
   {
    "duration": 17,
    "start_time": "2022-05-24T06:05:58.499Z"
   },
   {
    "duration": 74,
    "start_time": "2022-05-24T06:05:58.517Z"
   },
   {
    "duration": 52,
    "start_time": "2022-05-24T06:05:58.593Z"
   },
   {
    "duration": 6,
    "start_time": "2022-05-24T06:05:58.647Z"
   },
   {
    "duration": 4,
    "start_time": "2022-05-24T06:05:58.656Z"
   },
   {
    "duration": 19,
    "start_time": "2022-05-24T06:05:58.661Z"
   },
   {
    "duration": 1393,
    "start_time": "2022-05-24T06:05:58.681Z"
   },
   {
    "duration": 276,
    "start_time": "2022-05-24T06:06:00.076Z"
   },
   {
    "duration": 37,
    "start_time": "2022-05-24T06:06:00.355Z"
   },
   {
    "duration": 9,
    "start_time": "2022-05-24T06:06:00.394Z"
   },
   {
    "duration": 26,
    "start_time": "2022-05-24T06:06:00.422Z"
   },
   {
    "duration": 98,
    "start_time": "2022-05-24T06:06:00.450Z"
   },
   {
    "duration": 409,
    "start_time": "2022-05-24T06:06:00.551Z"
   },
   {
    "duration": 32,
    "start_time": "2022-05-24T06:06:00.962Z"
   },
   {
    "duration": 40,
    "start_time": "2022-05-24T06:06:00.995Z"
   },
   {
    "duration": 38,
    "start_time": "2022-05-24T06:06:01.037Z"
   },
   {
    "duration": 71,
    "start_time": "2022-05-24T06:06:01.078Z"
   },
   {
    "duration": 252,
    "start_time": "2022-05-24T06:06:01.152Z"
   },
   {
    "duration": 85,
    "start_time": "2022-05-24T06:06:01.406Z"
   },
   {
    "duration": 236,
    "start_time": "2022-05-24T06:06:01.494Z"
   },
   {
    "duration": 99,
    "start_time": "2022-05-24T06:06:01.731Z"
   },
   {
    "duration": 14,
    "start_time": "2022-05-24T06:06:01.832Z"
   },
   {
    "duration": 189,
    "start_time": "2022-05-24T06:06:01.849Z"
   },
   {
    "duration": 100,
    "start_time": "2022-05-24T06:06:02.039Z"
   },
   {
    "duration": 9,
    "start_time": "2022-05-24T06:06:02.141Z"
   },
   {
    "duration": 87,
    "start_time": "2022-05-24T06:06:02.152Z"
   },
   {
    "duration": 182,
    "start_time": "2022-05-24T06:06:02.241Z"
   },
   {
    "duration": 186,
    "start_time": "2022-05-24T06:06:02.425Z"
   },
   {
    "duration": 210,
    "start_time": "2022-05-24T06:06:02.613Z"
   },
   {
    "duration": 420,
    "start_time": "2022-05-24T06:06:02.826Z"
   },
   {
    "duration": 10,
    "start_time": "2022-05-24T06:07:45.408Z"
   },
   {
    "duration": 36,
    "start_time": "2022-05-24T06:08:16.377Z"
   },
   {
    "duration": 43,
    "start_time": "2022-05-24T06:08:28.909Z"
   },
   {
    "duration": 105,
    "start_time": "2022-05-24T06:14:28.364Z"
   },
   {
    "duration": 129,
    "start_time": "2022-05-24T06:14:41.330Z"
   },
   {
    "duration": 12,
    "start_time": "2022-05-24T06:15:45.342Z"
   },
   {
    "duration": 1245,
    "start_time": "2022-08-16T16:21:49.637Z"
   },
   {
    "duration": 510,
    "start_time": "2022-08-16T16:21:50.884Z"
   },
   {
    "duration": 21,
    "start_time": "2022-08-16T16:21:51.395Z"
   },
   {
    "duration": 15,
    "start_time": "2022-08-16T16:21:51.418Z"
   },
   {
    "duration": 58,
    "start_time": "2022-08-16T16:21:51.434Z"
   },
   {
    "duration": 27,
    "start_time": "2022-08-16T16:21:51.508Z"
   },
   {
    "duration": 4,
    "start_time": "2022-08-16T16:21:51.537Z"
   },
   {
    "duration": 5,
    "start_time": "2022-08-16T16:21:51.543Z"
   },
   {
    "duration": 29,
    "start_time": "2022-08-16T16:21:51.549Z"
   },
   {
    "duration": 1124,
    "start_time": "2022-08-16T16:21:51.580Z"
   },
   {
    "duration": 200,
    "start_time": "2022-08-16T16:21:52.709Z"
   },
   {
    "duration": 22,
    "start_time": "2022-08-16T16:21:52.911Z"
   },
   {
    "duration": 6,
    "start_time": "2022-08-16T16:21:52.935Z"
   },
   {
    "duration": 18,
    "start_time": "2022-08-16T16:21:52.942Z"
   },
   {
    "duration": 11,
    "start_time": "2022-08-16T16:21:52.961Z"
   },
   {
    "duration": 334,
    "start_time": "2022-08-16T16:21:52.973Z"
   },
   {
    "duration": 28,
    "start_time": "2022-08-16T16:21:53.309Z"
   },
   {
    "duration": 13,
    "start_time": "2022-08-16T16:21:53.338Z"
   },
   {
    "duration": 33,
    "start_time": "2022-08-16T16:21:53.353Z"
   },
   {
    "duration": 41,
    "start_time": "2022-08-16T16:21:53.409Z"
   },
   {
    "duration": 195,
    "start_time": "2022-08-16T16:21:53.452Z"
   },
   {
    "duration": 61,
    "start_time": "2022-08-16T16:21:53.649Z"
   },
   {
    "duration": 185,
    "start_time": "2022-08-16T16:21:53.712Z"
   },
   {
    "duration": 77,
    "start_time": "2022-08-16T16:21:53.899Z"
   },
   {
    "duration": 9,
    "start_time": "2022-08-16T16:21:53.978Z"
   },
   {
    "duration": 178,
    "start_time": "2022-08-16T16:21:53.988Z"
   },
   {
    "duration": 52,
    "start_time": "2022-08-16T16:21:54.168Z"
   },
   {
    "duration": 6,
    "start_time": "2022-08-16T16:21:54.223Z"
   },
   {
    "duration": 23,
    "start_time": "2022-08-16T16:21:54.231Z"
   },
   {
    "duration": 183,
    "start_time": "2022-08-16T16:21:54.256Z"
   },
   {
    "duration": 149,
    "start_time": "2022-08-16T16:21:54.440Z"
   },
   {
    "duration": 207,
    "start_time": "2022-08-16T16:21:54.591Z"
   },
   {
    "duration": 298,
    "start_time": "2022-08-16T16:21:54.800Z"
   },
   {
    "duration": 51,
    "start_time": "2022-08-16T16:22:46.675Z"
   },
   {
    "duration": 12,
    "start_time": "2022-08-16T16:22:57.624Z"
   },
   {
    "duration": 9,
    "start_time": "2022-08-16T16:23:20.496Z"
   }
  ],
  "kernelspec": {
   "display_name": "Python 3 (ipykernel)",
   "language": "python",
   "name": "python3"
  },
  "language_info": {
   "codemirror_mode": {
    "name": "ipython",
    "version": 3
   },
   "file_extension": ".py",
   "mimetype": "text/x-python",
   "name": "python",
   "nbconvert_exporter": "python",
   "pygments_lexer": "ipython3",
   "version": "3.9.5"
  },
  "toc": {
   "base_numbering": 1,
   "nav_menu": {},
   "number_sections": true,
   "sideBar": true,
   "skip_h1_title": true,
   "title_cell": "Table of Contents",
   "title_sidebar": "Contents",
   "toc_cell": false,
   "toc_position": {
    "height": "calc(100% - 180px)",
    "left": "10px",
    "top": "150px",
    "width": "287.188px"
   },
   "toc_section_display": true,
   "toc_window_display": false
  }
 },
 "nbformat": 4,
 "nbformat_minor": 2
}
