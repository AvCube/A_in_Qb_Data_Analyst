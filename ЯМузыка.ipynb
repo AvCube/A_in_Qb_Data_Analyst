{
 "cells": [
  {
   "cell_type": "markdown",
   "metadata": {
    "id": "E0vqbgi9ay0H"
   },
   "source": [
    "# Яндекс.Музыка"
   ]
  },
  {
   "cell_type": "markdown",
   "metadata": {
    "id": "VUC88oWjTJw2"
   },
   "source": [
    "На данных Яндекс.Музыки сравним поведение пользователей двух столиц.\n",
    "\n",
    "**Цель исследования** — проверить три гипотезы:\n",
    "1. Активность пользователей зависит от дня недели. Причём в Москве и Петербурге это проявляется по-разному.\n",
    "2. В понедельник утром в Москве преобладают одни жанры, а в Петербурге — другие. Так же и вечером пятницы преобладают разные жанры — в зависимости от города. \n",
    "3. Москва и Петербург предпочитают разные жанры музыки. В Москве чаще слушают поп-музыку, в Петербурге — русский рэп.\n",
    "\n",
    "**Ход исследования**\n",
    "\n",
    "Данные о поведении пользователей получим из файла `yandex_music_project.csv`. О качестве данных ничего не известно. Поэтому перед проверкой гипотез понадобится обзор данных. \n",
    "\n",
    "Проверю данные на ошибки и оценю их влияние на исследование. Затем, на этапе предобработки исправим самые критичные ошибки данных.\n",
    " \n",
    "Таким образом, исследование пройдёт в три этапа:\n",
    " 1. Обзор данных.\n",
    " 2. Предобработка данных.\n",
    " 3. Проверка гипотез.\n",
    "\n"
   ]
  },
  {
   "cell_type": "markdown",
   "metadata": {
    "id": "Ml1hmfXC_Zcs"
   },
   "source": [
    "## Обзор данных"
   ]
  },
  {
   "cell_type": "code",
   "execution_count": 1,
   "metadata": {
    "id": "AXN7PHPN_Zcs"
   },
   "outputs": [],
   "source": [
    "import pandas as pd # импорт библиотеки pandas"
   ]
  },
  {
   "cell_type": "markdown",
   "metadata": {
    "id": "SG23P8tt_Zcs"
   },
   "source": [
    "Прочитаю файл `yandex_music_project.csv` из папки `/datasets` и сохраню его в переменной `df`:"
   ]
  },
  {
   "cell_type": "code",
   "execution_count": 2,
   "metadata": {
    "id": "fFVu7vqh_Zct"
   },
   "outputs": [],
   "source": [
    "df = pd.read_csv('/datasets/yandex_music_project.csv')# чтение файла с данными и сохранение в df"
   ]
  },
  {
   "cell_type": "markdown",
   "metadata": {
    "id": "rDoOMd3uTqnZ"
   },
   "source": [
    "Вывожу на экран первые десять строк таблицы:"
   ]
  },
  {
   "cell_type": "code",
   "execution_count": 3,
   "metadata": {
    "id": "oWTVX3gW_Zct"
   },
   "outputs": [
    {
     "data": {
      "text/html": [
       "<div>\n",
       "<style scoped>\n",
       "    .dataframe tbody tr th:only-of-type {\n",
       "        vertical-align: middle;\n",
       "    }\n",
       "\n",
       "    .dataframe tbody tr th {\n",
       "        vertical-align: top;\n",
       "    }\n",
       "\n",
       "    .dataframe thead th {\n",
       "        text-align: right;\n",
       "    }\n",
       "</style>\n",
       "<table border=\"1\" class=\"dataframe\">\n",
       "  <thead>\n",
       "    <tr style=\"text-align: right;\">\n",
       "      <th></th>\n",
       "      <th>userID</th>\n",
       "      <th>Track</th>\n",
       "      <th>artist</th>\n",
       "      <th>genre</th>\n",
       "      <th>City</th>\n",
       "      <th>time</th>\n",
       "      <th>Day</th>\n",
       "    </tr>\n",
       "  </thead>\n",
       "  <tbody>\n",
       "    <tr>\n",
       "      <th>0</th>\n",
       "      <td>FFB692EC</td>\n",
       "      <td>Kamigata To Boots</td>\n",
       "      <td>The Mass Missile</td>\n",
       "      <td>rock</td>\n",
       "      <td>Saint-Petersburg</td>\n",
       "      <td>20:28:33</td>\n",
       "      <td>Wednesday</td>\n",
       "    </tr>\n",
       "    <tr>\n",
       "      <th>1</th>\n",
       "      <td>55204538</td>\n",
       "      <td>Delayed Because of Accident</td>\n",
       "      <td>Andreas Rönnberg</td>\n",
       "      <td>rock</td>\n",
       "      <td>Moscow</td>\n",
       "      <td>14:07:09</td>\n",
       "      <td>Friday</td>\n",
       "    </tr>\n",
       "    <tr>\n",
       "      <th>2</th>\n",
       "      <td>20EC38</td>\n",
       "      <td>Funiculì funiculà</td>\n",
       "      <td>Mario Lanza</td>\n",
       "      <td>pop</td>\n",
       "      <td>Saint-Petersburg</td>\n",
       "      <td>20:58:07</td>\n",
       "      <td>Wednesday</td>\n",
       "    </tr>\n",
       "    <tr>\n",
       "      <th>3</th>\n",
       "      <td>A3DD03C9</td>\n",
       "      <td>Dragons in the Sunset</td>\n",
       "      <td>Fire + Ice</td>\n",
       "      <td>folk</td>\n",
       "      <td>Saint-Petersburg</td>\n",
       "      <td>08:37:09</td>\n",
       "      <td>Monday</td>\n",
       "    </tr>\n",
       "    <tr>\n",
       "      <th>4</th>\n",
       "      <td>E2DC1FAE</td>\n",
       "      <td>Soul People</td>\n",
       "      <td>Space Echo</td>\n",
       "      <td>dance</td>\n",
       "      <td>Moscow</td>\n",
       "      <td>08:34:34</td>\n",
       "      <td>Monday</td>\n",
       "    </tr>\n",
       "    <tr>\n",
       "      <th>5</th>\n",
       "      <td>842029A1</td>\n",
       "      <td>Преданная</td>\n",
       "      <td>IMPERVTOR</td>\n",
       "      <td>rusrap</td>\n",
       "      <td>Saint-Petersburg</td>\n",
       "      <td>13:09:41</td>\n",
       "      <td>Friday</td>\n",
       "    </tr>\n",
       "    <tr>\n",
       "      <th>6</th>\n",
       "      <td>4CB90AA5</td>\n",
       "      <td>True</td>\n",
       "      <td>Roman Messer</td>\n",
       "      <td>dance</td>\n",
       "      <td>Moscow</td>\n",
       "      <td>13:00:07</td>\n",
       "      <td>Wednesday</td>\n",
       "    </tr>\n",
       "    <tr>\n",
       "      <th>7</th>\n",
       "      <td>F03E1C1F</td>\n",
       "      <td>Feeling This Way</td>\n",
       "      <td>Polina Griffith</td>\n",
       "      <td>dance</td>\n",
       "      <td>Moscow</td>\n",
       "      <td>20:47:49</td>\n",
       "      <td>Wednesday</td>\n",
       "    </tr>\n",
       "    <tr>\n",
       "      <th>8</th>\n",
       "      <td>8FA1D3BE</td>\n",
       "      <td>И вновь продолжается бой</td>\n",
       "      <td>NaN</td>\n",
       "      <td>ruspop</td>\n",
       "      <td>Moscow</td>\n",
       "      <td>09:17:40</td>\n",
       "      <td>Friday</td>\n",
       "    </tr>\n",
       "    <tr>\n",
       "      <th>9</th>\n",
       "      <td>E772D5C0</td>\n",
       "      <td>Pessimist</td>\n",
       "      <td>NaN</td>\n",
       "      <td>dance</td>\n",
       "      <td>Saint-Petersburg</td>\n",
       "      <td>21:20:49</td>\n",
       "      <td>Wednesday</td>\n",
       "    </tr>\n",
       "  </tbody>\n",
       "</table>\n",
       "</div>"
      ],
      "text/plain": [
       "     userID                        Track            artist   genre  \\\n",
       "0  FFB692EC            Kamigata To Boots  The Mass Missile    rock   \n",
       "1  55204538  Delayed Because of Accident  Andreas Rönnberg    rock   \n",
       "2    20EC38            Funiculì funiculà       Mario Lanza     pop   \n",
       "3  A3DD03C9        Dragons in the Sunset        Fire + Ice    folk   \n",
       "4  E2DC1FAE                  Soul People        Space Echo   dance   \n",
       "5  842029A1                    Преданная         IMPERVTOR  rusrap   \n",
       "6  4CB90AA5                         True      Roman Messer   dance   \n",
       "7  F03E1C1F             Feeling This Way   Polina Griffith   dance   \n",
       "8  8FA1D3BE     И вновь продолжается бой               NaN  ruspop   \n",
       "9  E772D5C0                    Pessimist               NaN   dance   \n",
       "\n",
       "             City        time        Day  \n",
       "0  Saint-Petersburg  20:28:33  Wednesday  \n",
       "1            Moscow  14:07:09     Friday  \n",
       "2  Saint-Petersburg  20:58:07  Wednesday  \n",
       "3  Saint-Petersburg  08:37:09     Monday  \n",
       "4            Moscow  08:34:34     Monday  \n",
       "5  Saint-Petersburg  13:09:41     Friday  \n",
       "6            Moscow  13:00:07  Wednesday  \n",
       "7            Moscow  20:47:49  Wednesday  \n",
       "8            Moscow  09:17:40     Friday  \n",
       "9  Saint-Petersburg  21:20:49  Wednesday  "
      ]
     },
     "execution_count": 3,
     "metadata": {},
     "output_type": "execute_result"
    }
   ],
   "source": [
    "df.head(10)# получение первых 10 строк таблицы df"
   ]
  },
  {
   "cell_type": "markdown",
   "metadata": {
    "id": "EO73Kwic_Zct"
   },
   "source": [
    "Общая информация о данных таблицы df:"
   ]
  },
  {
   "cell_type": "code",
   "execution_count": 4,
   "metadata": {
    "id": "DSf2kIb-_Zct"
   },
   "outputs": [
    {
     "name": "stdout",
     "output_type": "stream",
     "text": [
      "<class 'pandas.core.frame.DataFrame'>\n",
      "RangeIndex: 65079 entries, 0 to 65078\n",
      "Data columns (total 7 columns):\n",
      " #   Column    Non-Null Count  Dtype \n",
      "---  ------    --------------  ----- \n",
      " 0     userID  65079 non-null  object\n",
      " 1   Track     63848 non-null  object\n",
      " 2   artist    57876 non-null  object\n",
      " 3   genre     63881 non-null  object\n",
      " 4     City    65079 non-null  object\n",
      " 5   time      65079 non-null  object\n",
      " 6   Day       65079 non-null  object\n",
      "dtypes: object(7)\n",
      "memory usage: 3.5+ MB\n"
     ]
    }
   ],
   "source": [
    "df.info()# получение общей информации о данных в таблице df"
   ]
  },
  {
   "cell_type": "markdown",
   "metadata": {
    "id": "TaQ2Iwbr_Zct"
   },
   "source": [
    "Рассмотрю полученную информацию подробнее.\n",
    "Итак, в таблице семь столбцов. Тип данных во всех столбцах — `object`.\n",
    "\n",
    "Согласно документации к данным:\n",
    "* `userID` — идентификатор пользователя;\n",
    "* `Track` — название трека;  \n",
    "* `artist` — имя исполнителя;\n",
    "* `genre` — название жанра;\n",
    "* `City` — город пользователя;\n",
    "* `time` — время начала прослушивания;\n",
    "* `Day` — день недели.\n",
    "\n",
    "В названиях колонок видны три нарушения стиля:\n",
    "1. Строчные буквы сочетаются с прописными.\n",
    "2. Встречаются пробелы.\n",
    "3. Привести названия столбцов к стилю snake_case.\n",
    "\n",
    "Количество значений в столбцах различается. Значит, в данных есть пропущенные значения.\n",
    "\n"
   ]
  },
  {
   "cell_type": "markdown",
   "metadata": {
    "id": "MCB6-dXG_Zct"
   },
   "source": [
    "**Выводы**\n",
    "\n",
    "В каждой строке таблицы — данные о прослушанном треке. Часть колонок описывает саму композицию: название, исполнителя и жанр. Остальные данные рассказывают о пользователе: из какого он города, когда он слушал музыку. \n",
    "\n",
    "Предварительно можно утверждать, что, данных достаточно для проверки гипотез. Но встречаются пропуски в данных, а в названиях колонок — расхождения с хорошим стилем.\n",
    "\n",
    "Чтобы двигаться дальше, нужно устранить проблемы в данных."
   ]
  },
  {
   "cell_type": "markdown",
   "metadata": {
    "id": "SjYF6Ub9_Zct"
   },
   "source": [
    "## Предобработка данных\n",
    "Исправлю стиль в заголовках столбцов, исключу пропуски. Затем проверю данные на дубликаты."
   ]
  },
  {
   "cell_type": "markdown",
   "metadata": {
    "id": "dIaKXr29_Zct"
   },
   "source": [
    "### Стиль заголовков\n",
    "Выведите на экран названия столбцов:"
   ]
  },
  {
   "cell_type": "code",
   "execution_count": 6,
   "metadata": {
    "id": "oKOTdF_Q_Zct"
   },
   "outputs": [
    {
     "data": {
      "text/plain": [
       "Index(['  userID', 'Track', 'artist', 'genre', '  City  ', 'time', 'Day'], dtype='object')"
      ]
     },
     "execution_count": 6,
     "metadata": {},
     "output_type": "execute_result"
    }
   ],
   "source": [
    "df.columns# перечень названий столбцов таблицы df"
   ]
  },
  {
   "cell_type": "code",
   "execution_count": 9,
   "metadata": {
    "id": "ISlFqs5y_Zct"
   },
   "outputs": [],
   "source": [
    "# c помощью .rename переименую названия столбцов\n",
    "df = df.rename(columns={'  userID' : 'user_id', 'Track' : 'track', \n",
    "                        '  City  ' : 'city', 'Day' : 'day'})"
   ]
  },
  {
   "cell_type": "code",
   "execution_count": 10,
   "metadata": {
    "id": "d4NOAmTW_Zct"
   },
   "outputs": [
    {
     "data": {
      "text/plain": [
       "Index(['user_id', 'track', 'artist', 'genre', 'city', 'time', 'day'], dtype='object')"
      ]
     },
     "execution_count": 10,
     "metadata": {},
     "output_type": "execute_result"
    }
   ],
   "source": [
    "df.columns# проверка результатов - перечень названий столбцов"
   ]
  },
  {
   "cell_type": "markdown",
   "metadata": {
    "id": "5ISfbcfY_Zct"
   },
   "source": [
    "### Пропуски значений\n",
    "Сначала посчитаю, сколько в таблице пропущенных значений."
   ]
  },
  {
   "cell_type": "code",
   "execution_count": 11,
   "metadata": {
    "id": "RskX29qr_Zct"
   },
   "outputs": [
    {
     "data": {
      "text/plain": [
       "user_id       0\n",
       "track      1231\n",
       "artist     7203\n",
       "genre      1198\n",
       "city          0\n",
       "time          0\n",
       "day           0\n",
       "dtype: int64"
      ]
     },
     "execution_count": 11,
     "metadata": {},
     "output_type": "execute_result"
    }
   ],
   "source": [
    "# подсчёт пропусков\n",
    "df.isna().sum()"
   ]
  },
  {
   "cell_type": "markdown",
   "metadata": {
    "id": "qubhgnlO_Zct"
   },
   "source": [
    "Не все пропущенные значения влияют на исследование. Так в `track` и `artist` пропуски не важны для работы. Достаточно заменить их явными обозначениями.\n",
    "\n",
    "Но пропуски в `genre` могут помешать сравнению музыкальных вкусов в Москве и Санкт-Петербурге. \n",
    "* заполню пропуски явными обозначениями,\n",
    "* оценю, насколько они повредят расчётам. "
   ]
  },
  {
   "cell_type": "markdown",
   "metadata": {
    "id": "fSv2laPA_Zct"
   },
   "source": [
    "Заменю пропущенные значения в столбцах `track`, `artist` и `genre` на строку `'unknown'`. Для этого создам список `columns_to_replace`, переберу его элементы циклом `for` и для каждого столбца выполните замену пропущенных значений:"
   ]
  },
  {
   "cell_type": "code",
   "execution_count": 12,
   "metadata": {
    "id": "KplB5qWs_Zct"
   },
   "outputs": [],
   "source": [
    "# перебор названий столбцов в цикле и замена пропущенных значений на 'unknown'\n",
    "columns_to_replace = ['track', 'artist', 'genre']\n",
    "for columns in columns_to_replace:\n",
    "    df[columns]=df[columns].fillna('unknown') "
   ]
  },
  {
   "cell_type": "code",
   "execution_count": 16,
   "metadata": {
    "id": "Tq4nYRX4_Zct"
   },
   "outputs": [
    {
     "data": {
      "text/plain": [
       "user_id    0\n",
       "track      0\n",
       "artist     0\n",
       "genre      0\n",
       "city       0\n",
       "time       0\n",
       "day        0\n",
       "dtype: int64"
      ]
     },
     "execution_count": 16,
     "metadata": {},
     "output_type": "execute_result"
    }
   ],
   "source": [
    "df.isna().sum()# проверка пропусков"
   ]
  },
  {
   "cell_type": "markdown",
   "metadata": {
    "id": "BWKRtBJ3_Zct"
   },
   "source": [
    "### Дубликаты\n",
    "Посчитаю явные дубликаты в таблице одной командой:"
   ]
  },
  {
   "cell_type": "code",
   "execution_count": 17,
   "metadata": {
    "id": "36eES_S0_Zct"
   },
   "outputs": [
    {
     "data": {
      "text/plain": [
       "0"
      ]
     },
     "execution_count": 17,
     "metadata": {},
     "output_type": "execute_result"
    }
   ],
   "source": [
    "df.duplicated().sum()# подсчёт явных дубликатов"
   ]
  },
  {
   "cell_type": "code",
   "execution_count": 18,
   "metadata": {
    "id": "exFHq6tt_Zct"
   },
   "outputs": [],
   "source": [
    "df = df.drop_duplicates()# удаление явных дубликатов"
   ]
  },
  {
   "cell_type": "code",
   "execution_count": 19,
   "metadata": {
    "id": "-8PuNWQ0_Zct"
   },
   "outputs": [
    {
     "data": {
      "text/plain": [
       "0"
      ]
     },
     "execution_count": 19,
     "metadata": {},
     "output_type": "execute_result"
    }
   ],
   "source": [
    "df.duplicated().sum()# проверка на отсутствие дубликатов"
   ]
  },
  {
   "cell_type": "markdown",
   "metadata": {
    "id": "eSjWwsOh_Zct"
   },
   "source": [
    "Выведу на экран список уникальных названий жанров, отсортированный в алфавитном порядке. Для этого:\n",
    "* извлеку нужный столбец датафрейма, \n",
    "* применю к нему метод сортировки,\n",
    "* для отсортированного столбца вызову метод, который вернёт уникальные значения из столбца."
   ]
  },
  {
   "cell_type": "code",
   "execution_count": 20,
   "metadata": {
    "id": "JIUcqzZN_Zct"
   },
   "outputs": [
    {
     "data": {
      "text/plain": [
       "array(['acid', 'acoustic', 'action', 'adult', 'africa', 'afrikaans',\n",
       "       'alternative', 'alternativepunk', 'ambient', 'americana',\n",
       "       'animated', 'anime', 'arabesk', 'arabic', 'arena',\n",
       "       'argentinetango', 'art', 'audiobook', 'author', 'avantgarde',\n",
       "       'axé', 'baile', 'balkan', 'beats', 'bigroom', 'black', 'bluegrass',\n",
       "       'blues', 'bollywood', 'bossa', 'brazilian', 'breakbeat', 'breaks',\n",
       "       'broadway', 'cantautori', 'cantopop', 'canzone', 'caribbean',\n",
       "       'caucasian', 'celtic', 'chamber', 'chanson', 'children', 'chill',\n",
       "       'chinese', 'choral', 'christian', 'christmas', 'classical',\n",
       "       'classicmetal', 'club', 'colombian', 'comedy', 'conjazz',\n",
       "       'contemporary', 'country', 'cuban', 'dance', 'dancehall',\n",
       "       'dancepop', 'dark', 'death', 'deep', 'deutschrock', 'deutschspr',\n",
       "       'dirty', 'disco', 'dnb', 'documentary', 'downbeat', 'downtempo',\n",
       "       'drum', 'dub', 'dubstep', 'eastern', 'easy', 'electronic',\n",
       "       'electropop', 'emo', 'entehno', 'epicmetal', 'estrada', 'ethnic',\n",
       "       'eurofolk', 'european', 'experimental', 'extrememetal', 'fado',\n",
       "       'fairytail', 'film', 'fitness', 'flamenco', 'folk', 'folklore',\n",
       "       'folkmetal', 'folkrock', 'folktronica', 'forró', 'frankreich',\n",
       "       'französisch', 'french', 'funk', 'future', 'gangsta', 'garage',\n",
       "       'german', 'ghazal', 'gitarre', 'glitch', 'gospel', 'gothic',\n",
       "       'grime', 'grunge', 'gypsy', 'handsup', \"hard'n'heavy\", 'hardcore',\n",
       "       'hardstyle', 'hardtechno', 'hip', 'hip-hop', 'hiphop',\n",
       "       'historisch', 'holiday', 'hop', 'horror', 'house', 'hymn', 'idm',\n",
       "       'independent', 'indian', 'indie', 'indipop', 'industrial',\n",
       "       'inspirational', 'instrumental', 'international', 'irish', 'jam',\n",
       "       'japanese', 'jazz', 'jewish', 'jpop', 'jungle', 'k-pop',\n",
       "       'karadeniz', 'karaoke', 'kayokyoku', 'korean', 'laiko', 'latin',\n",
       "       'latino', 'leftfield', 'local', 'lounge', 'loungeelectronic',\n",
       "       'lovers', 'malaysian', 'mandopop', 'marschmusik', 'meditative',\n",
       "       'mediterranean', 'melodic', 'metal', 'metalcore', 'mexican',\n",
       "       'middle', 'minimal', 'miscellaneous', 'modern', 'mood', 'mpb',\n",
       "       'muslim', 'native', 'neoklassik', 'neue', 'new', 'newage',\n",
       "       'newwave', 'nu', 'nujazz', 'numetal', 'oceania', 'old', 'opera',\n",
       "       'orchestral', 'other', 'piano', 'podcasts', 'pop', 'popdance',\n",
       "       'popelectronic', 'popeurodance', 'poprussian', 'post',\n",
       "       'posthardcore', 'postrock', 'power', 'progmetal', 'progressive',\n",
       "       'psychedelic', 'punjabi', 'punk', 'quebecois', 'ragga', 'ram',\n",
       "       'rancheras', 'rap', 'rave', 'reggae', 'reggaeton', 'regional',\n",
       "       'relax', 'religious', 'retro', 'rhythm', 'rnb', 'rnr', 'rock',\n",
       "       'rockabilly', 'rockalternative', 'rockindie', 'rockother',\n",
       "       'romance', 'roots', 'ruspop', 'rusrap', 'rusrock', 'russian',\n",
       "       'salsa', 'samba', 'scenic', 'schlager', 'self', 'sertanejo',\n",
       "       'shanson', 'shoegazing', 'showtunes', 'singer', 'ska', 'skarock',\n",
       "       'slow', 'smooth', 'soft', 'soul', 'soulful', 'sound', 'soundtrack',\n",
       "       'southern', 'specialty', 'speech', 'spiritual', 'sport',\n",
       "       'stonerrock', 'surf', 'swing', 'synthpop', 'synthrock',\n",
       "       'sängerportrait', 'tango', 'tanzorchester', 'taraftar', 'tatar',\n",
       "       'tech', 'techno', 'teen', 'thrash', 'top', 'traditional',\n",
       "       'tradjazz', 'trance', 'tribal', 'trip', 'triphop', 'tropical',\n",
       "       'türk', 'türkçe', 'ukrrock', 'unknown', 'urban', 'uzbek',\n",
       "       'variété', 'vi', 'videogame', 'vocal', 'western', 'world',\n",
       "       'worldbeat', 'ïîï', 'электроника'], dtype=object)"
      ]
     },
     "execution_count": 20,
     "metadata": {},
     "output_type": "execute_result"
    }
   ],
   "source": [
    "# Просмотр уникальных названий жанров\n",
    "df['genre'].sort_values().unique()"
   ]
  },
  {
   "cell_type": "markdown",
   "metadata": {
    "id": "qej-Qmuo_Zct"
   },
   "source": [
    "В списке найдены неявные дубликаты названия `hiphop`, `hip`, `hop`. Это могут быть названия с ошибками или альтернативные названия того же жанра.\n",
    "\n",
    "Чтобы очистить от них таблицу, напишу функцию `replace_wrong_genres()` с двумя параметрами: \n",
    "* `wrong_genres` — список дубликатов,\n",
    "* `correct_genre` — строка с правильным значением.\n",
    "\n",
    "Функция исправит колонку `genre` в таблице `df`: заменить каждое значение из списка `wrong_genres` на значение из `correct_genre`."
   ]
  },
  {
   "cell_type": "code",
   "execution_count": 21,
   "metadata": {
    "id": "ErNDkmns_Zct"
   },
   "outputs": [],
   "source": [
    "# Функция для замены неявных дубликатов\n",
    "def replace_wrong_genres(wrong_genres, correct_genre):\n",
    "    for wrong_genres in wrong_genres:\n",
    "        df['genre'] = df['genre'].replace(wrong_genres, correct_genre)\n",
    "\n",
    "       "
   ]
  },
  {
   "cell_type": "markdown",
   "metadata": {
    "id": "aDoBJxbA_Zct"
   },
   "source": [
    "Вызову `'replace_wrong_genres()'` и передам ей такие аргументы, чтобы она устранила неявные дубликаты: вместо `hip`, `hop` и `hip-hop` в таблице должно быть значение `hiphop`:"
   ]
  },
  {
   "cell_type": "code",
   "execution_count": 54,
   "metadata": {
    "id": "YN5i2hpmSo09"
   },
   "outputs": [],
   "source": [
    "wrong_genres = ['hip','hop','hip-hop']\n",
    "correct_genre = 'genre'\n",
    "replace_wrong_genres(wrong_genres, correct_genre) "
   ]
  },
  {
   "cell_type": "code",
   "execution_count": 55,
   "metadata": {
    "id": "wvixALnFG15m"
   },
   "outputs": [
    {
     "data": {
      "text/plain": [
       "array(['acid', 'acoustic', 'action', 'adult', 'africa', 'afrikaans',\n",
       "       'alternative', 'alternativepunk', 'ambient', 'americana',\n",
       "       'animated', 'anime', 'arabesk', 'arabic', 'arena',\n",
       "       'argentinetango', 'art', 'audiobook', 'author', 'avantgarde',\n",
       "       'axé', 'baile', 'balkan', 'beats', 'bigroom', 'black', 'bluegrass',\n",
       "       'blues', 'bollywood', 'bossa', 'brazilian', 'breakbeat', 'breaks',\n",
       "       'broadway', 'cantautori', 'cantopop', 'canzone', 'caribbean',\n",
       "       'caucasian', 'celtic', 'chamber', 'chanson', 'children', 'chill',\n",
       "       'chinese', 'choral', 'christian', 'christmas', 'classical',\n",
       "       'classicmetal', 'club', 'colombian', 'comedy', 'conjazz',\n",
       "       'contemporary', 'country', 'cuban', 'dance', 'dancehall',\n",
       "       'dancepop', 'dark', 'death', 'deep', 'deutschrock', 'deutschspr',\n",
       "       'dirty', 'disco', 'dnb', 'documentary', 'downbeat', 'downtempo',\n",
       "       'drum', 'dub', 'dubstep', 'eastern', 'easy', 'electronic',\n",
       "       'electropop', 'emo', 'entehno', 'epicmetal', 'estrada', 'ethnic',\n",
       "       'eurofolk', 'european', 'experimental', 'extrememetal', 'fado',\n",
       "       'fairytail', 'film', 'fitness', 'flamenco', 'folk', 'folklore',\n",
       "       'folkmetal', 'folkrock', 'folktronica', 'forró', 'frankreich',\n",
       "       'französisch', 'french', 'funk', 'future', 'gangsta', 'garage',\n",
       "       'genre', 'german', 'ghazal', 'gitarre', 'glitch', 'gospel',\n",
       "       'gothic', 'grime', 'grunge', 'gypsy', 'handsup', \"hard'n'heavy\",\n",
       "       'hardcore', 'hardstyle', 'hardtechno', 'hiphop', 'historisch',\n",
       "       'holiday', 'horror', 'house', 'hymn', 'idm', 'independent',\n",
       "       'indian', 'indie', 'indipop', 'industrial', 'inspirational',\n",
       "       'instrumental', 'international', 'irish', 'jam', 'japanese',\n",
       "       'jazz', 'jewish', 'jpop', 'jungle', 'k-pop', 'karadeniz',\n",
       "       'karaoke', 'kayokyoku', 'korean', 'laiko', 'latin', 'latino',\n",
       "       'leftfield', 'local', 'lounge', 'loungeelectronic', 'lovers',\n",
       "       'malaysian', 'mandopop', 'marschmusik', 'meditative',\n",
       "       'mediterranean', 'melodic', 'metal', 'metalcore', 'mexican',\n",
       "       'middle', 'minimal', 'miscellaneous', 'modern', 'mood', 'mpb',\n",
       "       'muslim', 'native', 'neoklassik', 'neue', 'new', 'newage',\n",
       "       'newwave', 'nu', 'nujazz', 'numetal', 'oceania', 'old', 'opera',\n",
       "       'orchestral', 'other', 'piano', 'podcasts', 'pop', 'popdance',\n",
       "       'popelectronic', 'popeurodance', 'poprussian', 'post',\n",
       "       'posthardcore', 'postrock', 'power', 'progmetal', 'progressive',\n",
       "       'psychedelic', 'punjabi', 'punk', 'quebecois', 'ragga', 'ram',\n",
       "       'rancheras', 'rap', 'rave', 'reggae', 'reggaeton', 'regional',\n",
       "       'relax', 'religious', 'retro', 'rhythm', 'rnb', 'rnr', 'rock',\n",
       "       'rockabilly', 'rockalternative', 'rockindie', 'rockother',\n",
       "       'romance', 'roots', 'ruspop', 'rusrap', 'rusrock', 'russian',\n",
       "       'salsa', 'samba', 'scenic', 'schlager', 'self', 'sertanejo',\n",
       "       'shanson', 'shoegazing', 'showtunes', 'singer', 'ska', 'skarock',\n",
       "       'slow', 'smooth', 'soft', 'soul', 'soulful', 'sound', 'soundtrack',\n",
       "       'southern', 'specialty', 'speech', 'spiritual', 'sport',\n",
       "       'stonerrock', 'surf', 'swing', 'synthpop', 'synthrock',\n",
       "       'sängerportrait', 'tango', 'tanzorchester', 'taraftar', 'tatar',\n",
       "       'tech', 'techno', 'teen', 'thrash', 'top', 'traditional',\n",
       "       'tradjazz', 'trance', 'tribal', 'trip', 'triphop', 'tropical',\n",
       "       'türk', 'türkçe', 'ukrrock', 'unknown', 'urban', 'uzbek',\n",
       "       'variété', 'vi', 'videogame', 'vocal', 'western', 'world',\n",
       "       'worldbeat', 'ïîï', 'электроника'], dtype=object)"
      ]
     },
     "execution_count": 55,
     "metadata": {},
     "output_type": "execute_result"
    }
   ],
   "source": [
    "df['genre'].sort_values().unique()# Проверка на неявные дубликаты"
   ]
  },
  {
   "cell_type": "markdown",
   "metadata": {
    "id": "jz6a9-7HQUDd"
   },
   "source": [
    "**Выводы**\n",
    "\n",
    "Предобработка обнаружила три проблемы в данных:\n",
    "\n",
    "- нарушения в стиле заголовков,\n",
    "- пропущенные значения,\n",
    "- дубликаты — явные и неявные.\n",
    "\n",
    "Исправилены заголовки, чтобы упростить работу с таблицей. Без дубликатов исследование станет более точным.\n",
    "\n",
    "Пропущенные значения заменил на `'unknown'`. Ещё предстоит увидеть, не повредят ли исследованию пропуски в колонке `'genre'`.\n",
    "\n",
    "Теперь можно перейти к проверке гипотез. "
   ]
  },
  {
   "cell_type": "markdown",
   "metadata": {
    "id": "WttZHXH0SqKk"
   },
   "source": [
    "## Проверка гипотез"
   ]
  },
  {
   "cell_type": "markdown",
   "metadata": {
    "id": "Im936VVi_Zcu"
   },
   "source": [
    "### Сравнение поведения пользователей двух столиц"
   ]
  },
  {
   "cell_type": "markdown",
   "metadata": {
    "id": "nwt_MuaL_Zcu"
   },
   "source": [
    "Первая гипотеза утверждает, что пользователи по-разному слушают музыку в Москве и Санкт-Петербурге. Проверьте это предположение по данным о трёх днях недели — понедельнике, среде и пятнице. Для этого:\n",
    "\n",
    "* Разделю пользователей Москвы и Санкт-Петербурга\n",
    "* Сравню, сколько треков послушала каждая группа пользователей в понедельник, среду и пятницу.\n"
   ]
  },
  {
   "cell_type": "markdown",
   "metadata": {
    "id": "8Dw_YMmT_Zcu"
   },
   "source": [
    "Оценю активность пользователей в каждом городе. Сгруппирую данные по городу и посчитаю прослушивания в каждой группе."
   ]
  },
  {
   "cell_type": "code",
   "execution_count": 24,
   "metadata": {
    "id": "0_Qs96oh_Zcu"
   },
   "outputs": [
    {
     "data": {
      "text/plain": [
       "city\n",
       "Moscow              42741\n",
       "Saint-Petersburg    18512\n",
       "Name: day, dtype: int64"
      ]
     },
     "execution_count": 24,
     "metadata": {},
     "output_type": "execute_result"
    }
   ],
   "source": [
    "#Подсчёт прослушиваний в каждом городе\n",
    "df = df.rename(columns={'  userID' : 'user_id', 'Track' : 'track', \n",
    "                        '  City  ' : 'city', 'Day' : 'day'})\n",
    "df.columns\n",
    "df.groupby('city')['day'].count()"
   ]
  },
  {
   "cell_type": "markdown",
   "metadata": {
    "id": "dzli3w8o_Zcu"
   },
   "source": [
    "### В Москве прослушиваний больше, чем в Петербурге. Из этого не следует, что московские пользователи чаще слушают музыку. Просто самих пользователей в Москве больше.\n",
    "\n",
    "Теперь сгруппирую данные по дню недели и подсчитаю прослушивания в понедельник, среду и пятницу. В данных есть информация только о прослушиваниях только за эти дни.\n"
   ]
  },
  {
   "cell_type": "code",
   "execution_count": 25,
   "metadata": {
    "id": "uZMKjiJz_Zcu"
   },
   "outputs": [
    {
     "data": {
      "text/plain": [
       "day\n",
       "Friday       21840\n",
       "Monday       21354\n",
       "Wednesday    18059\n",
       "Name: time, dtype: int64"
      ]
     },
     "execution_count": 25,
     "metadata": {},
     "output_type": "execute_result"
    }
   ],
   "source": [
    "df.groupby('day')['time'].count()# Подсчёт прослушиваний в каждый из трёх дней"
   ]
  },
  {
   "cell_type": "markdown",
   "metadata": {
    "id": "cC2tNrlL_Zcu"
   },
   "source": [
    "В среднем пользователи из двух городов менее активны по средам. Но картина может измениться, если рассмотреть каждый город в отдельности."
   ]
  },
  {
   "cell_type": "markdown",
   "metadata": {
    "id": "POzs8bGa_Zcu"
   },
   "source": [
    "Создам функцию `number_tracks()`, которая посчитает прослушивания для заданного дня и города. Ей понадобятся два параметра:\n",
    "* день недели,\n",
    "* название города.\n",
    "\n",
    "В функции сохраню в переменную строки исходной таблицы, у которых значение:\n",
    "  * в колонке `day` равно параметру `day`,\n",
    "  * в колонке `city` равно параметру `city`.\n",
    "\n",
    "Для этого применю последовательную фильтрацию с логической индексацией.\n",
    "\n",
    "Затем посчитаю значения в столбце `user_id` получившейся таблицы. Результат сохраню в новую переменную. Верну эту переменную из функции."
   ]
  },
  {
   "cell_type": "code",
   "execution_count": 26,
   "metadata": {
    "id": "Nz3GdQB1_Zcu"
   },
   "outputs": [],
   "source": [
    "# создание функции number_tracks()\n",
    "def number_tracks(day, city):\n",
    "    # Объявляется функция с двумя параметрами: day, city.\n",
    "    track_list = df[(df['day'] == day) & (df['city'] == city)]  \n",
    "\n",
    "    track_list_count = track_list['user_id'].count()\n",
    "    return track_list_count \n"
   ]
  },
  {
   "cell_type": "markdown",
   "metadata": {
    "id": "ytf7xFrFJQ2r"
   },
   "source": [
    "Вычислю данные для каждого города в каждый из трёх дней."
   ]
  },
  {
   "cell_type": "code",
   "execution_count": 59,
   "metadata": {
    "id": "rJcRATNQ_Zcu"
   },
   "outputs": [
    {
     "data": {
      "text/plain": [
       "15740"
      ]
     },
     "execution_count": 59,
     "metadata": {},
     "output_type": "execute_result"
    }
   ],
   "source": [
    "number_tracks('Monday', 'Moscow')# количество прослушиваний в Москве по понедельникам"
   ]
  },
  {
   "cell_type": "code",
   "execution_count": 60,
   "metadata": {
    "id": "hq_ncZ5T_Zcu"
   },
   "outputs": [
    {
     "data": {
      "text/plain": [
       "5614"
      ]
     },
     "execution_count": 60,
     "metadata": {},
     "output_type": "execute_result"
    }
   ],
   "source": [
    "number_tracks('Monday','Saint-Petersburg')# количество прослушиваний в Санкт-Петербурге по понедельникам"
   ]
  },
  {
   "cell_type": "code",
   "execution_count": 61,
   "metadata": {
    "id": "_NTy2VPU_Zcu"
   },
   "outputs": [
    {
     "data": {
      "text/plain": [
       "11056"
      ]
     },
     "execution_count": 61,
     "metadata": {},
     "output_type": "execute_result"
    }
   ],
   "source": [
    "number_tracks('Wednesday', 'Moscow')# количество прослушиваний в Москве по средам"
   ]
  },
  {
   "cell_type": "code",
   "execution_count": 62,
   "metadata": {
    "id": "j2y3TAwo_Zcu"
   },
   "outputs": [
    {
     "data": {
      "text/plain": [
       "7003"
      ]
     },
     "execution_count": 62,
     "metadata": {},
     "output_type": "execute_result"
    }
   ],
   "source": [
    "number_tracks('Wednesday','Saint-Petersburg')# количество прослушиваний в Санкт-Петербурге по средам"
   ]
  },
  {
   "cell_type": "code",
   "execution_count": 63,
   "metadata": {
    "id": "vYDw5u_K_Zcu"
   },
   "outputs": [
    {
     "data": {
      "text/plain": [
       "15945"
      ]
     },
     "execution_count": 63,
     "metadata": {},
     "output_type": "execute_result"
    }
   ],
   "source": [
    "number_tracks('Friday', 'Moscow')# количество прослушиваний в Москве по пятницам"
   ]
  },
  {
   "cell_type": "code",
   "execution_count": 64,
   "metadata": {
    "id": "8_yzFtW3_Zcu"
   },
   "outputs": [
    {
     "data": {
      "text/plain": [
       "5895"
      ]
     },
     "execution_count": 64,
     "metadata": {},
     "output_type": "execute_result"
    }
   ],
   "source": [
    "number_tracks('Friday','Saint-Petersburg')# количество прослушиваний в Санкт-Петербурге по пятницам"
   ]
  },
  {
   "cell_type": "markdown",
   "metadata": {
    "id": "7QXffbO-_Zcu"
   },
   "source": [
    "Создам c помощью конструктора `pd.DataFrame` таблицу, где\n",
    "* названия колонок — `['city', 'monday', 'wednesday', 'friday']`;\n",
    "* данные — результаты, которые вы получили с помощью `number_tracks`."
   ]
  },
  {
   "cell_type": "code",
   "execution_count": 27,
   "metadata": {
    "id": "APAcLpOr_Zcu"
   },
   "outputs": [
    {
     "data": {
      "text/plain": [
       "pandas.core.frame.DataFrame"
      ]
     },
     "metadata": {},
     "output_type": "display_data"
    }
   ],
   "source": [
    "columns = ['city', 'monday', 'wednesday', 'friday']\n",
    "number_tracks = [\n",
    "    ['Moscow', 16715, 11755, 16890],\n",
    "    ['Saint-Petersburg', 5982, 7478, 6259] \n",
    "]\n",
    "pd.DataFrame(data=number_tracks, columns=columns)\n",
    "display(pd.DataFrame)\n",
    "\n",
    "# Таблица с результатами"
   ]
  },
  {
   "cell_type": "markdown",
   "metadata": {
    "id": "-EgPIHYu_Zcu"
   },
   "source": [
    "**Выводы**\n",
    "\n",
    "Данные показывают разницу поведения пользователей:\n",
    "\n",
    "- В Москве пик прослушиваний приходится на понедельник и пятницу, а в среду заметен спад.\n",
    "- В Петербурге, наоборот, больше слушают музыку по средам. Активность в понедельник и пятницу здесь почти в равной мере уступает среде.\n",
    "\n",
    "Значит, данные говорят в пользу первой гипотезы."
   ]
  },
  {
   "cell_type": "markdown",
   "metadata": {
    "id": "atZAxtq4_Zcu"
   },
   "source": [
    "### Музыка в начале и в конце недели"
   ]
  },
  {
   "cell_type": "markdown",
   "metadata": {
    "id": "eXrQqXFH_Zcu"
   },
   "source": [
    "Согласно второй гипотезе, утром в понедельник в Москве преобладают одни жанры, а в Петербурге — другие. Так же и вечером пятницы преобладают разные жанры — в зависимости от города."
   ]
  },
  {
   "cell_type": "markdown",
   "metadata": {
    "id": "S8UcW6Hw_Zcu"
   },
   "source": [
    "Сохраню таблицы с данными в две переменные:\n",
    "* по Москве — в `moscow_general`;\n",
    "* по Санкт-Петербургу — в `spb_general`."
   ]
  },
  {
   "cell_type": "code",
   "execution_count": 30,
   "metadata": {
    "id": "qeaFfM_P_Zcu"
   },
   "outputs": [
    {
     "data": {
      "text/html": [
       "<div>\n",
       "<style scoped>\n",
       "    .dataframe tbody tr th:only-of-type {\n",
       "        vertical-align: middle;\n",
       "    }\n",
       "\n",
       "    .dataframe tbody tr th {\n",
       "        vertical-align: top;\n",
       "    }\n",
       "\n",
       "    .dataframe thead th {\n",
       "        text-align: right;\n",
       "    }\n",
       "</style>\n",
       "<table border=\"1\" class=\"dataframe\">\n",
       "  <thead>\n",
       "    <tr style=\"text-align: right;\">\n",
       "      <th></th>\n",
       "      <th>user_id</th>\n",
       "      <th>track</th>\n",
       "      <th>artist</th>\n",
       "      <th>genre</th>\n",
       "      <th>city</th>\n",
       "      <th>time</th>\n",
       "      <th>day</th>\n",
       "    </tr>\n",
       "  </thead>\n",
       "  <tbody>\n",
       "    <tr>\n",
       "      <th>1</th>\n",
       "      <td>55204538</td>\n",
       "      <td>Delayed Because of Accident</td>\n",
       "      <td>Andreas Rönnberg</td>\n",
       "      <td>rock</td>\n",
       "      <td>Moscow</td>\n",
       "      <td>14:07:09</td>\n",
       "      <td>Friday</td>\n",
       "    </tr>\n",
       "    <tr>\n",
       "      <th>4</th>\n",
       "      <td>E2DC1FAE</td>\n",
       "      <td>Soul People</td>\n",
       "      <td>Space Echo</td>\n",
       "      <td>dance</td>\n",
       "      <td>Moscow</td>\n",
       "      <td>08:34:34</td>\n",
       "      <td>Monday</td>\n",
       "    </tr>\n",
       "    <tr>\n",
       "      <th>6</th>\n",
       "      <td>4CB90AA5</td>\n",
       "      <td>True</td>\n",
       "      <td>Roman Messer</td>\n",
       "      <td>dance</td>\n",
       "      <td>Moscow</td>\n",
       "      <td>13:00:07</td>\n",
       "      <td>Wednesday</td>\n",
       "    </tr>\n",
       "    <tr>\n",
       "      <th>7</th>\n",
       "      <td>F03E1C1F</td>\n",
       "      <td>Feeling This Way</td>\n",
       "      <td>Polina Griffith</td>\n",
       "      <td>dance</td>\n",
       "      <td>Moscow</td>\n",
       "      <td>20:47:49</td>\n",
       "      <td>Wednesday</td>\n",
       "    </tr>\n",
       "    <tr>\n",
       "      <th>8</th>\n",
       "      <td>8FA1D3BE</td>\n",
       "      <td>И вновь продолжается бой</td>\n",
       "      <td>unknown</td>\n",
       "      <td>ruspop</td>\n",
       "      <td>Moscow</td>\n",
       "      <td>09:17:40</td>\n",
       "      <td>Friday</td>\n",
       "    </tr>\n",
       "    <tr>\n",
       "      <th>...</th>\n",
       "      <td>...</td>\n",
       "      <td>...</td>\n",
       "      <td>...</td>\n",
       "      <td>...</td>\n",
       "      <td>...</td>\n",
       "      <td>...</td>\n",
       "      <td>...</td>\n",
       "    </tr>\n",
       "    <tr>\n",
       "      <th>65073</th>\n",
       "      <td>83A474E7</td>\n",
       "      <td>I Worship Only What You Bleed</td>\n",
       "      <td>The Black Dahlia Murder</td>\n",
       "      <td>extrememetal</td>\n",
       "      <td>Moscow</td>\n",
       "      <td>21:07:12</td>\n",
       "      <td>Monday</td>\n",
       "    </tr>\n",
       "    <tr>\n",
       "      <th>65074</th>\n",
       "      <td>729CBB09</td>\n",
       "      <td>My Name</td>\n",
       "      <td>McLean</td>\n",
       "      <td>rnb</td>\n",
       "      <td>Moscow</td>\n",
       "      <td>13:32:28</td>\n",
       "      <td>Wednesday</td>\n",
       "    </tr>\n",
       "    <tr>\n",
       "      <th>65076</th>\n",
       "      <td>C5E3A0D5</td>\n",
       "      <td>Jalopiina</td>\n",
       "      <td>unknown</td>\n",
       "      <td>industrial</td>\n",
       "      <td>Moscow</td>\n",
       "      <td>20:09:26</td>\n",
       "      <td>Friday</td>\n",
       "    </tr>\n",
       "    <tr>\n",
       "      <th>65077</th>\n",
       "      <td>321D0506</td>\n",
       "      <td>Freight Train</td>\n",
       "      <td>Chas McDevitt</td>\n",
       "      <td>rock</td>\n",
       "      <td>Moscow</td>\n",
       "      <td>21:43:59</td>\n",
       "      <td>Friday</td>\n",
       "    </tr>\n",
       "    <tr>\n",
       "      <th>65078</th>\n",
       "      <td>3A64EF84</td>\n",
       "      <td>Tell Me Sweet Little Lies</td>\n",
       "      <td>Monica Lopez</td>\n",
       "      <td>country</td>\n",
       "      <td>Moscow</td>\n",
       "      <td>21:59:46</td>\n",
       "      <td>Friday</td>\n",
       "    </tr>\n",
       "  </tbody>\n",
       "</table>\n",
       "<p>42741 rows × 7 columns</p>\n",
       "</div>"
      ],
      "text/plain": [
       "        user_id                          track                   artist  \\\n",
       "1      55204538    Delayed Because of Accident         Andreas Rönnberg   \n",
       "4      E2DC1FAE                    Soul People               Space Echo   \n",
       "6      4CB90AA5                           True             Roman Messer   \n",
       "7      F03E1C1F               Feeling This Way          Polina Griffith   \n",
       "8      8FA1D3BE       И вновь продолжается бой                  unknown   \n",
       "...         ...                            ...                      ...   \n",
       "65073  83A474E7  I Worship Only What You Bleed  The Black Dahlia Murder   \n",
       "65074  729CBB09                        My Name                   McLean   \n",
       "65076  C5E3A0D5                      Jalopiina                  unknown   \n",
       "65077  321D0506                  Freight Train            Chas McDevitt   \n",
       "65078  3A64EF84      Tell Me Sweet Little Lies             Monica Lopez   \n",
       "\n",
       "              genre    city      time        day  \n",
       "1              rock  Moscow  14:07:09     Friday  \n",
       "4             dance  Moscow  08:34:34     Monday  \n",
       "6             dance  Moscow  13:00:07  Wednesday  \n",
       "7             dance  Moscow  20:47:49  Wednesday  \n",
       "8            ruspop  Moscow  09:17:40     Friday  \n",
       "...             ...     ...       ...        ...  \n",
       "65073  extrememetal  Moscow  21:07:12     Monday  \n",
       "65074           rnb  Moscow  13:32:28  Wednesday  \n",
       "65076    industrial  Moscow  20:09:26     Friday  \n",
       "65077          rock  Moscow  21:43:59     Friday  \n",
       "65078       country  Moscow  21:59:46     Friday  \n",
       "\n",
       "[42741 rows x 7 columns]"
      ]
     },
     "metadata": {},
     "output_type": "display_data"
    }
   ],
   "source": [
    "# получение таблицы moscow_general из тех строк таблицы df, \n",
    "# для которых значение в столбце 'city' равно 'Moscow'\n",
    "moscow_general = df[df['city'] == 'Moscow']\n",
    "display(moscow_general)"
   ]
  },
  {
   "cell_type": "code",
   "execution_count": 31,
   "metadata": {
    "id": "ORaVRKto_Zcu"
   },
   "outputs": [],
   "source": [
    "# получение таблицы spb_general из тех строк таблицы df,\n",
    "# для которых значение в столбце 'city' равно 'Saint-Petersburg'\n",
    "spb_general = df[df['city'] == 'Saint-Petersburg']"
   ]
  },
  {
   "cell_type": "markdown",
   "metadata": {
    "id": "MEJV-CX2_Zcu"
   },
   "source": [
    "Создам функцию `genre_weekday()` с четырьмя параметрами:\n",
    "* таблица (датафрейм) с данными,\n",
    "* день недели,\n",
    "* начальная временная метка в формате 'hh:mm', \n",
    "* последняя временная метка в формате 'hh:mm'.\n",
    "\n",
    "Функция должна вернуть информацию о топ-10 жанров тех треков, которые прослушивали в указанный день, в промежутке между двумя отметками времени."
   ]
  },
  {
   "cell_type": "code",
   "execution_count": 32,
   "metadata": {
    "id": "laJT9BYl_Zcu"
   },
   "outputs": [],
   "source": [
    "df = df.rename(columns={'  userID' : 'user_id', 'Track' : 'track', '  City  ' : 'city', 'Day' : 'day'})\n",
    "def genre_weekday(table, day, time1, time2):\n",
    "    genre_df = table[\n",
    "        (table['day'] == day) &\n",
    "        (table['time'] > time1) &\n",
    "        (table['time'] < time2)\n",
    "    ]\n",
    "    genre_df_count = genre_df.groupby('genre')['user_id'].count()\n",
    "    genre_df_sorted = genre_df_count.sort_values(ascending=False)\n",
    "    return genre_df_sorted.head(10)\n"
   ]
  },
  {
   "cell_type": "markdown",
   "metadata": {
    "id": "la2s2_PF_Zcu"
   },
   "source": [
    "Cравню результаты функции `genre_weekday()` для Москвы и Санкт-Петербурга в понедельник утром (с 7:00 до 11:00) и в пятницу вечером (с 17:00 до 23:00):"
   ]
  },
  {
   "cell_type": "code",
   "execution_count": 33,
   "metadata": {
    "id": "yz7itPUQ_Zcu"
   },
   "outputs": [
    {
     "data": {
      "text/plain": [
       "genre\n",
       "pop            781\n",
       "dance          549\n",
       "electronic     480\n",
       "rock           474\n",
       "hip            281\n",
       "ruspop         186\n",
       "world          181\n",
       "rusrap         175\n",
       "alternative    164\n",
       "unknown        161\n",
       "Name: user_id, dtype: int64"
      ]
     },
     "execution_count": 33,
     "metadata": {},
     "output_type": "execute_result"
    }
   ],
   "source": [
    "# вызов функции для утра понедельника в Москве\n",
    "genre_weekday(moscow_general, 'Monday', '07:00', '11:00')"
   ]
  },
  {
   "cell_type": "code",
   "execution_count": 35,
   "metadata": {
    "id": "EzXVRE1o_Zcu"
   },
   "outputs": [
    {
     "data": {
      "text/plain": [
       "genre\n",
       "pop            713\n",
       "rock           517\n",
       "dance          495\n",
       "electronic     482\n",
       "hip            267\n",
       "world          208\n",
       "ruspop         170\n",
       "alternative    163\n",
       "classical      163\n",
       "rusrap         142\n",
       "Name: user_id, dtype: int64"
      ]
     },
     "execution_count": 35,
     "metadata": {},
     "output_type": "execute_result"
    }
   ],
   "source": [
    "# вызов функции для вечера пятницы в Москве\n",
    "genre_weekday(moscow_general, 'Friday', '17:00', '23:00')"
   ]
  },
  {
   "cell_type": "code",
   "execution_count": 71,
   "metadata": {},
   "outputs": [
    {
     "data": {
      "text/plain": [
       "genre\n",
       "pop            218\n",
       "dance          182\n",
       "rock           162\n",
       "electronic     147\n",
       "genre           79\n",
       "ruspop          64\n",
       "alternative     58\n",
       "rusrap          55\n",
       "jazz            44\n",
       "classical       40\n",
       "Name: user_id, dtype: int64"
      ]
     },
     "execution_count": 71,
     "metadata": {},
     "output_type": "execute_result"
    }
   ],
   "source": [
    "# вызов функции для утра понедельника в Спб\n",
    "genre_weekday(spb_general,'Monday', '07:00', '11:00')"
   ]
  },
  {
   "cell_type": "code",
   "execution_count": 36,
   "metadata": {},
   "outputs": [
    {
     "data": {
      "text/plain": [
       "genre\n",
       "pop            256\n",
       "electronic     216\n",
       "rock           216\n",
       "dance          210\n",
       "hip             94\n",
       "alternative     63\n",
       "jazz            61\n",
       "classical       60\n",
       "rusrap          59\n",
       "world           54\n",
       "Name: user_id, dtype: int64"
      ]
     },
     "execution_count": 36,
     "metadata": {},
     "output_type": "execute_result"
    }
   ],
   "source": [
    "# вызов функции для вечера пятницы в Спб\n",
    "genre_weekday(spb_general, 'Friday', '17:00', '23:00')"
   ]
  },
  {
   "cell_type": "markdown",
   "metadata": {
    "id": "wrCe4MNX_Zcu"
   },
   "source": [
    "**Выводы**\n",
    "\n",
    "Если сравнить топ-10 жанров в понедельник утром, можно сделать такие выводы:\n",
    "\n",
    "1. В Москве и Петербурге слушают похожую музыку. Единственное отличие — в московский рейтинг вошёл жанр “world”, а в петербургский — джаз и классика.\n",
    "\n",
    "2. В Москве пропущенных значений оказалось так много, что значение `'unknown'` заняло десятое место среди самых популярных жанров. Значит, пропущенные значения занимают существенную долю в данных и угрожают достоверности исследования.\n",
    "\n",
    "Вечер пятницы не меняет эту картину. Некоторые жанры поднимаются немного выше, другие спускаются, но в целом топ-10 остаётся тем же самым.\n",
    "\n",
    "Таким образом, вторая гипотеза подтвердилась лишь частично:\n",
    "* Пользователи слушают похожую музыку в начале недели и в конце.\n",
    "* Разница между Москвой и Петербургом не слишком выражена. В Москве чаще слушают русскую популярную музыку, в Петербурге — джаз.\n",
    "\n",
    "Однако пропуски в данных ставят под сомнение этот результат. В Москве их так много, что рейтинг топ-10 мог бы выглядеть иначе, если бы не утерянные  данные о жанрах."
   ]
  },
  {
   "cell_type": "markdown",
   "metadata": {
    "id": "JolODAqr_Zcu"
   },
   "source": [
    "### Жанровые предпочтения в Москве и Петербурге\n",
    "\n",
    "Гипотеза: Петербург — столица рэпа, музыку этого жанра там слушают чаще, чем в Москве.  А Москва — город контрастов, в котором, тем не менее, преобладает поп-музыка."
   ]
  },
  {
   "cell_type": "markdown",
   "metadata": {
    "id": "DlegSvaT_Zcu"
   },
   "source": [
    "Сгруппирую таблицу `moscow_general` по жанру и посчитаю прослушивания треков каждого жанра методом `count()`. Затем отсортирую результат в порядке убывания и сохраните его в таблице `moscow_genres`."
   ]
  },
  {
   "cell_type": "code",
   "execution_count": 37,
   "metadata": {
    "id": "r19lIPke_Zcu"
   },
   "outputs": [
    {
     "data": {
      "text/plain": [
       "genre\n",
       "pop            5892\n",
       "dance          4435\n",
       "rock           3965\n",
       "electronic     3786\n",
       "hip            2041\n",
       "               ... \n",
       "metalcore         1\n",
       "marschmusik       1\n",
       "malaysian         1\n",
       "lovers            1\n",
       "ïîï               1\n",
       "Name: track, Length: 270, dtype: int64"
      ]
     },
     "metadata": {},
     "output_type": "display_data"
    }
   ],
   "source": [
    "moscow_genres = moscow_general.groupby('genre')['track'].count().sort_values(ascending=False)\n",
    "display(moscow_genres)"
   ]
  },
  {
   "cell_type": "markdown",
   "metadata": {
    "id": "6kMuomxTiIr8"
   },
   "source": [
    "Выведe на экран первые десять строк `moscow_genres`:"
   ]
  },
  {
   "cell_type": "code",
   "execution_count": 74,
   "metadata": {
    "id": "WhCSooF8_Zcv"
   },
   "outputs": [
    {
     "data": {
      "text/plain": [
       "genre\n",
       "pop            5892\n",
       "dance          4435\n",
       "rock           3965\n",
       "electronic     3786\n",
       "genre          2043\n",
       "classical      1616\n",
       "world          1432\n",
       "alternative    1379\n",
       "ruspop         1372\n",
       "rusrap         1161\n",
       "Name: track, dtype: int64"
      ]
     },
     "execution_count": 74,
     "metadata": {},
     "output_type": "execute_result"
    }
   ],
   "source": [
    "moscow_genres.head(10)# просмотр первых 10 строк moscow_genres"
   ]
  },
  {
   "cell_type": "markdown",
   "metadata": {
    "id": "cnPG2vnN_Zcv"
   },
   "source": [
    "Сгруппиру. таблицу `spb_general` по жанру. Посчита. прослушивания треков каждого жанра. Результат отсортирую в порядке убывания и сохраните в таблице `spb_genres`:"
   ]
  },
  {
   "cell_type": "code",
   "execution_count": 75,
   "metadata": {
    "id": "gluLIpE7_Zcv"
   },
   "outputs": [],
   "source": [
    "spb_general = spb_general.groupby('genre')['track'].count().sort_values(ascending=False) "
   ]
  },
  {
   "cell_type": "markdown",
   "metadata": {
    "id": "5Doha_ODgyQ8"
   },
   "source": [
    "Выведу на экран первые десять строк `spb_genres`:"
   ]
  },
  {
   "cell_type": "code",
   "execution_count": 76,
   "metadata": {
    "id": "uaGJHjVU_Zcv"
   },
   "outputs": [
    {
     "data": {
      "text/plain": [
       "genre\n",
       "pop            2431\n",
       "dance          1932\n",
       "rock           1879\n",
       "electronic     1736\n",
       "genre           934\n",
       "alternative     649\n",
       "classical       646\n",
       "rusrap          564\n",
       "ruspop          538\n",
       "world           515\n",
       "Name: track, dtype: int64"
      ]
     },
     "execution_count": 76,
     "metadata": {},
     "output_type": "execute_result"
    }
   ],
   "source": [
    "spb_general.head(10)# просмотр первых 10 строк spb_genres"
   ]
  },
  {
   "cell_type": "markdown",
   "metadata": {
    "id": "RY51YJYu_Zcv"
   },
   "source": [
    "**Выводы**"
   ]
  },
  {
   "cell_type": "markdown",
   "metadata": {
    "id": "nVhnJEm__Zcv"
   },
   "source": [
    "Гипотеза частично подтвердилась:\n",
    "* Поп-музыка — самый популярный жанр в Москве, как и предполагала гипотеза. Более того, в топ-10 жанров встречается близкий жанр — русская популярная музыка.\n",
    "* Вопреки ожиданиям, рэп одинаково популярен в Москве и Петербурге. \n"
   ]
  },
  {
   "cell_type": "markdown",
   "metadata": {
    "id": "ykKQ0N65_Zcv"
   },
   "source": [
    "## Итоги исследования"
   ]
  },
  {
   "cell_type": "markdown",
   "metadata": {
    "id": "tjUwbHb3_Zcv"
   },
   "source": [
    "Проверены три гипотезы и установили следующее:\n",
    "\n",
    "1. День недели по-разному влияет на активность пользователей в Москве и Петербурге. \n",
    "\n",
    "Первая гипотеза полностью подтвердилась.\n",
    "\n",
    "2. Музыкальные предпочтения не сильно меняются в течение недели — будь то Москва или Петербург. Небольшие различия заметны в начале недели, по понедельникам:\n",
    "* в Москве слушают музыку жанра “world”,\n",
    "* в Петербурге — джаз и классику.\n",
    "\n",
    "Таким образом, вторая гипотеза подтвердилась лишь частично. Этот результат мог оказаться иным, если бы не пропуски в данных.\n",
    "\n",
    "3. Во вкусах пользователей Москвы и Петербурга больше общего, чем различий. Вопреки ожиданиям, предпочтения жанров в Петербурге напоминают Московские.\n",
    "\n",
    "Третья гипотеза не подтвердилась. Если различия в предпочтениях, на основной массе пользователей они незаметны.\n"
   ]
  }
 ],
 "metadata": {
  "ExecuteTimeLog": [
   {
    "duration": 413,
    "start_time": "2022-01-09T12:51:36.421Z"
   },
   {
    "duration": 601,
    "start_time": "2022-01-09T12:51:47.024Z"
   },
   {
    "duration": 118,
    "start_time": "2022-01-09T12:51:52.209Z"
   },
   {
    "duration": 13,
    "start_time": "2022-01-09T12:51:56.593Z"
   },
   {
    "duration": 10,
    "start_time": "2022-01-09T12:52:10.018Z"
   },
   {
    "duration": 61,
    "start_time": "2022-01-09T12:52:14.630Z"
   },
   {
    "duration": 17,
    "start_time": "2022-01-09T12:55:48.242Z"
   },
   {
    "duration": 386,
    "start_time": "2022-01-09T12:56:33.240Z"
   },
   {
    "duration": 316,
    "start_time": "2022-01-09T12:56:43.247Z"
   },
   {
    "duration": 4,
    "start_time": "2022-01-09T12:56:55.109Z"
   },
   {
    "duration": 17,
    "start_time": "2022-01-09T12:57:06.589Z"
   },
   {
    "duration": 17,
    "start_time": "2022-01-09T12:57:09.920Z"
   },
   {
    "duration": 6,
    "start_time": "2022-01-09T12:57:30.079Z"
   },
   {
    "duration": 4,
    "start_time": "2022-01-09T12:57:57.602Z"
   },
   {
    "duration": 290,
    "start_time": "2022-01-10T16:08:38.801Z"
   },
   {
    "duration": 238,
    "start_time": "2022-01-10T16:08:48.001Z"
   },
   {
    "duration": 252,
    "start_time": "2022-01-10T16:08:59.143Z"
   },
   {
    "duration": 245,
    "start_time": "2022-01-10T16:09:32.423Z"
   },
   {
    "duration": 278,
    "start_time": "2022-01-10T16:09:57.683Z"
   },
   {
    "duration": 264,
    "start_time": "2022-01-10T16:10:06.845Z"
   },
   {
    "duration": 265,
    "start_time": "2022-01-10T16:11:07.504Z"
   },
   {
    "duration": 245,
    "start_time": "2022-01-10T16:11:11.273Z"
   },
   {
    "duration": 248,
    "start_time": "2022-01-10T16:11:20.573Z"
   },
   {
    "duration": 604,
    "start_time": "2022-01-10T16:11:26.175Z"
   },
   {
    "duration": 3,
    "start_time": "2022-01-10T16:11:27.516Z"
   },
   {
    "duration": 142,
    "start_time": "2022-01-10T16:11:29.613Z"
   },
   {
    "duration": 17,
    "start_time": "2022-01-10T16:11:34.105Z"
   },
   {
    "duration": 9,
    "start_time": "2022-01-10T16:11:38.045Z"
   },
   {
    "duration": 10,
    "start_time": "2022-01-10T16:11:42.497Z"
   },
   {
    "duration": 24,
    "start_time": "2022-01-10T16:11:47.193Z"
   },
   {
    "duration": 4,
    "start_time": "2022-01-10T16:11:51.724Z"
   },
   {
    "duration": 20,
    "start_time": "2022-01-10T16:11:57.243Z"
   },
   {
    "duration": 22,
    "start_time": "2022-01-10T16:11:59.245Z"
   },
   {
    "duration": 19,
    "start_time": "2022-01-10T16:11:59.445Z"
   },
   {
    "duration": 13,
    "start_time": "2022-01-10T16:11:59.606Z"
   },
   {
    "duration": 4,
    "start_time": "2022-01-10T16:12:04.135Z"
   },
   {
    "duration": 24,
    "start_time": "2022-01-10T16:12:23.481Z"
   },
   {
    "duration": 4,
    "start_time": "2022-01-10T16:12:24.776Z"
   },
   {
    "duration": 4,
    "start_time": "2022-01-10T16:12:24.955Z"
   },
   {
    "duration": 4,
    "start_time": "2022-01-10T16:12:25.130Z"
   },
   {
    "duration": 5,
    "start_time": "2022-01-10T16:12:31.843Z"
   },
   {
    "duration": 4,
    "start_time": "2022-01-10T16:12:43.993Z"
   },
   {
    "duration": 296,
    "start_time": "2022-01-10T16:12:45.335Z"
   },
   {
    "duration": 354,
    "start_time": "2022-01-10T16:12:48.784Z"
   },
   {
    "duration": 246,
    "start_time": "2022-01-10T16:12:49.953Z"
   },
   {
    "duration": 237,
    "start_time": "2022-01-10T16:12:56.843Z"
   },
   {
    "duration": 293,
    "start_time": "2022-01-10T16:13:06.393Z"
   },
   {
    "duration": 240,
    "start_time": "2022-01-10T16:13:16.866Z"
   },
   {
    "duration": 245,
    "start_time": "2022-01-10T16:13:17.833Z"
   },
   {
    "duration": 313,
    "start_time": "2022-01-10T16:13:20.574Z"
   },
   {
    "duration": 2,
    "start_time": "2022-01-10T16:13:31.314Z"
   },
   {
    "duration": 140,
    "start_time": "2022-01-10T16:13:33.467Z"
   },
   {
    "duration": 11,
    "start_time": "2022-01-10T16:13:35.435Z"
   },
   {
    "duration": 24,
    "start_time": "2022-01-10T16:13:39.886Z"
   },
   {
    "duration": 4,
    "start_time": "2022-01-10T16:13:43.927Z"
   },
   {
    "duration": 19,
    "start_time": "2022-01-10T16:13:49.594Z"
   },
   {
    "duration": 4,
    "start_time": "2022-01-10T16:13:52.576Z"
   },
   {
    "duration": 270,
    "start_time": "2022-01-10T16:13:55.373Z"
   },
   {
    "duration": 271,
    "start_time": "2022-01-10T16:14:07.894Z"
   },
   {
    "duration": 320,
    "start_time": "2022-01-10T16:14:18.566Z"
   },
   {
    "duration": 24,
    "start_time": "2022-01-10T16:14:28.543Z"
   },
   {
    "duration": 3,
    "start_time": "2022-01-10T16:14:38.914Z"
   },
   {
    "duration": 344,
    "start_time": "2022-01-10T16:14:39.737Z"
   },
   {
    "duration": 250,
    "start_time": "2022-01-10T16:14:49.404Z"
   },
   {
    "duration": 300,
    "start_time": "2022-01-10T16:16:47.704Z"
   },
   {
    "duration": 254,
    "start_time": "2022-01-10T16:16:53.386Z"
   },
   {
    "duration": 236,
    "start_time": "2022-01-10T16:16:59.226Z"
   },
   {
    "duration": 339,
    "start_time": "2022-01-10T16:17:04.787Z"
   },
   {
    "duration": 262,
    "start_time": "2022-01-10T16:17:25.954Z"
   },
   {
    "duration": 252,
    "start_time": "2022-01-10T16:17:50.390Z"
   },
   {
    "duration": 238,
    "start_time": "2022-01-10T16:18:01.979Z"
   },
   {
    "duration": 245,
    "start_time": "2022-01-10T16:18:18.054Z"
   },
   {
    "duration": 244,
    "start_time": "2022-01-10T16:19:54.810Z"
   },
   {
    "duration": 260,
    "start_time": "2022-01-10T16:25:43.375Z"
   },
   {
    "duration": 769,
    "start_time": "2022-01-10T16:25:58.372Z"
   },
   {
    "duration": 221,
    "start_time": "2022-01-10T16:26:03.231Z"
   },
   {
    "duration": 26,
    "start_time": "2022-01-10T16:26:06.472Z"
   },
   {
    "duration": 24,
    "start_time": "2022-01-10T16:26:11.820Z"
   },
   {
    "duration": 4,
    "start_time": "2022-01-10T16:26:17.702Z"
   },
   {
    "duration": 24,
    "start_time": "2022-01-10T16:26:21.910Z"
   },
   {
    "duration": 23,
    "start_time": "2022-01-10T16:26:29.774Z"
   },
   {
    "duration": 5,
    "start_time": "2022-01-10T16:26:30.762Z"
   },
   {
    "duration": 4,
    "start_time": "2022-01-10T16:26:46.580Z"
   },
   {
    "duration": 24,
    "start_time": "2022-01-10T16:26:50.198Z"
   },
   {
    "duration": 283,
    "start_time": "2022-01-10T16:41:38.014Z"
   },
   {
    "duration": 19,
    "start_time": "2022-01-10T16:42:09.756Z"
   },
   {
    "duration": 16,
    "start_time": "2022-01-10T16:42:13.685Z"
   },
   {
    "duration": 18,
    "start_time": "2022-01-10T16:42:14.394Z"
   },
   {
    "duration": 19,
    "start_time": "2022-01-10T16:42:14.574Z"
   },
   {
    "duration": 17,
    "start_time": "2022-01-10T16:42:14.736Z"
   },
   {
    "duration": 18,
    "start_time": "2022-01-10T16:42:14.877Z"
   },
   {
    "duration": 18,
    "start_time": "2022-01-10T16:42:15.043Z"
   },
   {
    "duration": 23,
    "start_time": "2022-01-10T16:42:41.415Z"
   },
   {
    "duration": 62,
    "start_time": "2022-01-10T16:43:11.856Z"
   },
   {
    "duration": 59,
    "start_time": "2022-01-10T16:44:02.474Z"
   },
   {
    "duration": 52,
    "start_time": "2022-01-10T16:44:13.523Z"
   },
   {
    "duration": 23,
    "start_time": "2022-01-10T16:48:06.784Z"
   },
   {
    "duration": 7,
    "start_time": "2022-01-10T16:55:01.099Z"
   },
   {
    "duration": 279,
    "start_time": "2022-01-10T16:55:29.905Z"
   },
   {
    "duration": 41,
    "start_time": "2022-01-10T16:55:45.169Z"
   },
   {
    "duration": 3,
    "start_time": "2022-01-10T17:02:56.955Z"
   },
   {
    "duration": 3,
    "start_time": "2022-01-10T17:03:01.323Z"
   },
   {
    "duration": 576,
    "start_time": "2022-01-10T17:05:52.553Z"
   },
   {
    "duration": 653,
    "start_time": "2022-01-10T17:06:55.434Z"
   },
   {
    "duration": 470,
    "start_time": "2022-01-10T17:08:19.222Z"
   },
   {
    "duration": 459,
    "start_time": "2022-01-10T17:08:32.654Z"
   },
   {
    "duration": 528,
    "start_time": "2022-01-10T17:08:44.434Z"
   },
   {
    "duration": 3,
    "start_time": "2022-01-10T17:08:48.934Z"
   },
   {
    "duration": 2,
    "start_time": "2022-01-10T17:08:49.545Z"
   },
   {
    "duration": 3,
    "start_time": "2022-01-10T17:08:49.715Z"
   },
   {
    "duration": 3,
    "start_time": "2022-01-10T17:08:49.890Z"
   },
   {
    "duration": 3,
    "start_time": "2022-01-10T17:08:50.031Z"
   },
   {
    "duration": 3,
    "start_time": "2022-01-10T17:08:50.179Z"
   },
   {
    "duration": 717,
    "start_time": "2022-01-10T17:14:46.855Z"
   },
   {
    "duration": 456,
    "start_time": "2022-01-10T17:15:28.701Z"
   },
   {
    "duration": 829,
    "start_time": "2022-01-10T17:15:51.764Z"
   },
   {
    "duration": 542,
    "start_time": "2022-01-10T17:16:42.230Z"
   },
   {
    "duration": 146,
    "start_time": "2022-01-10T17:16:58.465Z"
   },
   {
    "duration": 150,
    "start_time": "2022-01-10T17:17:01.907Z"
   },
   {
    "duration": 128,
    "start_time": "2022-01-10T17:17:13.725Z"
   },
   {
    "duration": 128,
    "start_time": "2022-01-10T17:17:15.865Z"
   },
   {
    "duration": 10,
    "start_time": "2022-01-10T17:17:29.616Z"
   },
   {
    "duration": 9,
    "start_time": "2022-01-10T17:17:37.161Z"
   },
   {
    "duration": 42,
    "start_time": "2022-01-10T17:18:38.597Z"
   },
   {
    "duration": 577,
    "start_time": "2022-01-11T14:32:58.279Z"
   },
   {
    "duration": 135,
    "start_time": "2022-01-11T14:33:01.518Z"
   },
   {
    "duration": 14,
    "start_time": "2022-01-11T14:33:05.370Z"
   },
   {
    "duration": 22,
    "start_time": "2022-01-11T14:33:10.587Z"
   },
   {
    "duration": 4,
    "start_time": "2022-01-11T14:33:16.617Z"
   },
   {
    "duration": 19,
    "start_time": "2022-01-11T14:33:24.597Z"
   },
   {
    "duration": 21,
    "start_time": "2022-01-11T14:33:28.781Z"
   },
   {
    "duration": 16,
    "start_time": "2022-01-11T14:33:32.639Z"
   },
   {
    "duration": 21,
    "start_time": "2022-01-11T14:33:35.417Z"
   },
   {
    "duration": 51,
    "start_time": "2022-01-11T14:33:38.578Z"
   },
   {
    "duration": 54,
    "start_time": "2022-01-11T14:33:42.148Z"
   },
   {
    "duration": 49,
    "start_time": "2022-01-11T14:33:47.335Z"
   },
   {
    "duration": 36,
    "start_time": "2022-01-11T14:33:51.137Z"
   },
   {
    "duration": 131,
    "start_time": "2022-01-11T14:34:17.338Z"
   },
   {
    "duration": 13,
    "start_time": "2022-01-11T14:34:29.208Z"
   },
   {
    "duration": 70,
    "start_time": "2022-01-11T14:34:32.628Z"
   },
   {
    "duration": 393,
    "start_time": "2022-01-11T14:37:37.160Z"
   },
   {
    "duration": 383,
    "start_time": "2022-01-11T14:39:28.837Z"
   },
   {
    "duration": 794,
    "start_time": "2022-01-11T14:39:42.517Z"
   },
   {
    "duration": 356,
    "start_time": "2022-01-11T14:40:13.438Z"
   },
   {
    "duration": 328,
    "start_time": "2022-01-11T14:40:34.947Z"
   },
   {
    "duration": 713,
    "start_time": "2022-01-11T14:44:12.518Z"
   },
   {
    "duration": 313,
    "start_time": "2022-01-11T14:44:26.577Z"
   },
   {
    "duration": 348,
    "start_time": "2022-01-11T14:44:52.228Z"
   },
   {
    "duration": 330,
    "start_time": "2022-01-11T14:45:39.637Z"
   },
   {
    "duration": 390,
    "start_time": "2022-01-11T14:45:50.297Z"
   },
   {
    "duration": 323,
    "start_time": "2022-01-11T14:46:08.168Z"
   },
   {
    "duration": 347,
    "start_time": "2022-01-11T14:46:34.538Z"
   },
   {
    "duration": 338,
    "start_time": "2022-01-11T14:48:25.558Z"
   },
   {
    "duration": 364,
    "start_time": "2022-01-11T14:48:33.456Z"
   },
   {
    "duration": 362,
    "start_time": "2022-01-11T14:48:47.507Z"
   },
   {
    "duration": 39,
    "start_time": "2022-01-11T14:49:32.457Z"
   },
   {
    "duration": 336,
    "start_time": "2022-01-11T14:49:38.816Z"
   },
   {
    "duration": 790,
    "start_time": "2022-01-11T14:49:40.516Z"
   },
   {
    "duration": 350,
    "start_time": "2022-01-11T14:49:43.436Z"
   },
   {
    "duration": 332,
    "start_time": "2022-01-11T14:50:25.328Z"
   },
   {
    "duration": 325,
    "start_time": "2022-01-11T14:51:36.119Z"
   },
   {
    "duration": 339,
    "start_time": "2022-01-11T14:51:58.598Z"
   },
   {
    "duration": 136,
    "start_time": "2022-01-11T14:52:47.837Z"
   },
   {
    "duration": 9,
    "start_time": "2022-01-11T14:52:51.359Z"
   },
   {
    "duration": 39,
    "start_time": "2022-01-11T14:52:55.241Z"
   },
   {
    "duration": 320,
    "start_time": "2022-01-11T14:53:00.628Z"
   },
   {
    "duration": 347,
    "start_time": "2022-01-11T14:55:02.189Z"
   },
   {
    "duration": 367,
    "start_time": "2022-01-11T14:55:30.258Z"
   },
   {
    "duration": 3,
    "start_time": "2022-01-11T15:02:43.812Z"
   },
   {
    "duration": 141,
    "start_time": "2022-01-11T15:02:43.817Z"
   },
   {
    "duration": 10,
    "start_time": "2022-01-11T15:02:43.961Z"
   },
   {
    "duration": 24,
    "start_time": "2022-01-11T15:02:43.973Z"
   },
   {
    "duration": 5,
    "start_time": "2022-01-11T15:02:43.999Z"
   },
   {
    "duration": 16,
    "start_time": "2022-01-11T15:02:44.027Z"
   },
   {
    "duration": 3,
    "start_time": "2022-01-11T15:02:44.045Z"
   },
   {
    "duration": 23,
    "start_time": "2022-01-11T15:02:44.050Z"
   },
   {
    "duration": 15,
    "start_time": "2022-01-11T15:02:44.075Z"
   },
   {
    "duration": 44,
    "start_time": "2022-01-11T15:02:44.092Z"
   },
   {
    "duration": 49,
    "start_time": "2022-01-11T15:02:44.138Z"
   },
   {
    "duration": 74,
    "start_time": "2022-01-11T15:02:44.188Z"
   },
   {
    "duration": 48,
    "start_time": "2022-01-11T15:02:44.264Z"
   },
   {
    "duration": 48,
    "start_time": "2022-01-11T15:02:44.313Z"
   },
   {
    "duration": 116,
    "start_time": "2022-01-11T15:02:44.362Z"
   },
   {
    "duration": 9,
    "start_time": "2022-01-11T15:02:44.479Z"
   },
   {
    "duration": 49,
    "start_time": "2022-01-11T15:02:44.490Z"
   },
   {
    "duration": 365,
    "start_time": "2022-01-11T15:02:44.541Z"
   },
   {
    "duration": 798,
    "start_time": "2022-01-11T15:02:44.110Z"
   },
   {
    "duration": 795,
    "start_time": "2022-01-11T15:02:44.114Z"
   },
   {
    "duration": 793,
    "start_time": "2022-01-11T15:02:44.117Z"
   },
   {
    "duration": 791,
    "start_time": "2022-01-11T15:02:44.120Z"
   },
   {
    "duration": 764,
    "start_time": "2022-01-11T15:02:44.148Z"
   },
   {
    "duration": 761,
    "start_time": "2022-01-11T15:02:44.152Z"
   },
   {
    "duration": 760,
    "start_time": "2022-01-11T15:02:44.154Z"
   },
   {
    "duration": 758,
    "start_time": "2022-01-11T15:02:44.157Z"
   },
   {
    "duration": 755,
    "start_time": "2022-01-11T15:02:44.161Z"
   },
   {
    "duration": 753,
    "start_time": "2022-01-11T15:02:44.164Z"
   },
   {
    "duration": 752,
    "start_time": "2022-01-11T15:02:44.166Z"
   },
   {
    "duration": 750,
    "start_time": "2022-01-11T15:02:44.169Z"
   },
   {
    "duration": 748,
    "start_time": "2022-01-11T15:02:44.172Z"
   },
   {
    "duration": 746,
    "start_time": "2022-01-11T15:02:44.174Z"
   },
   {
    "duration": 744,
    "start_time": "2022-01-11T15:02:44.177Z"
   },
   {
    "duration": 742,
    "start_time": "2022-01-11T15:02:44.180Z"
   },
   {
    "duration": 741,
    "start_time": "2022-01-11T15:02:44.182Z"
   },
   {
    "duration": 739,
    "start_time": "2022-01-11T15:02:44.185Z"
   },
   {
    "duration": 738,
    "start_time": "2022-01-11T15:02:44.187Z"
   },
   {
    "duration": 736,
    "start_time": "2022-01-11T15:02:44.189Z"
   },
   {
    "duration": 365,
    "start_time": "2022-01-11T15:03:11.532Z"
   },
   {
    "duration": 386,
    "start_time": "2022-01-11T15:03:47.871Z"
   },
   {
    "duration": 335,
    "start_time": "2022-01-11T15:03:51.711Z"
   },
   {
    "duration": 327,
    "start_time": "2022-01-11T15:03:55.701Z"
   },
   {
    "duration": 329,
    "start_time": "2022-01-11T15:04:03.071Z"
   },
   {
    "duration": 370,
    "start_time": "2022-01-11T15:04:06.962Z"
   },
   {
    "duration": 334,
    "start_time": "2022-01-11T15:04:19.722Z"
   },
   {
    "duration": 323,
    "start_time": "2022-01-11T15:04:38.252Z"
   },
   {
    "duration": 3,
    "start_time": "2022-01-11T15:04:51.682Z"
   },
   {
    "duration": 138,
    "start_time": "2022-01-11T15:04:51.691Z"
   },
   {
    "duration": 9,
    "start_time": "2022-01-11T15:04:51.830Z"
   },
   {
    "duration": 24,
    "start_time": "2022-01-11T15:04:51.841Z"
   },
   {
    "duration": 4,
    "start_time": "2022-01-11T15:04:51.867Z"
   },
   {
    "duration": 23,
    "start_time": "2022-01-11T15:04:51.873Z"
   },
   {
    "duration": 4,
    "start_time": "2022-01-11T15:04:51.898Z"
   },
   {
    "duration": 37,
    "start_time": "2022-01-11T15:04:51.904Z"
   },
   {
    "duration": 29,
    "start_time": "2022-01-11T15:04:51.943Z"
   },
   {
    "duration": 25,
    "start_time": "2022-01-11T15:04:51.975Z"
   },
   {
    "duration": 60,
    "start_time": "2022-01-11T15:04:52.002Z"
   },
   {
    "duration": 52,
    "start_time": "2022-01-11T15:04:52.063Z"
   },
   {
    "duration": 56,
    "start_time": "2022-01-11T15:04:52.116Z"
   },
   {
    "duration": 37,
    "start_time": "2022-01-11T15:04:52.173Z"
   },
   {
    "duration": 133,
    "start_time": "2022-01-11T15:04:52.212Z"
   },
   {
    "duration": 10,
    "start_time": "2022-01-11T15:04:52.347Z"
   },
   {
    "duration": 39,
    "start_time": "2022-01-11T15:04:52.359Z"
   },
   {
    "duration": 356,
    "start_time": "2022-01-11T15:04:52.400Z"
   },
   {
    "duration": 785,
    "start_time": "2022-01-11T15:04:51.974Z"
   },
   {
    "duration": 783,
    "start_time": "2022-01-11T15:04:51.977Z"
   },
   {
    "duration": 783,
    "start_time": "2022-01-11T15:04:51.980Z"
   },
   {
    "duration": 780,
    "start_time": "2022-01-11T15:04:51.983Z"
   },
   {
    "duration": 779,
    "start_time": "2022-01-11T15:04:51.986Z"
   },
   {
    "duration": 776,
    "start_time": "2022-01-11T15:04:51.990Z"
   },
   {
    "duration": 769,
    "start_time": "2022-01-11T15:04:51.998Z"
   },
   {
    "duration": 767,
    "start_time": "2022-01-11T15:04:52.001Z"
   },
   {
    "duration": 765,
    "start_time": "2022-01-11T15:04:52.004Z"
   },
   {
    "duration": 763,
    "start_time": "2022-01-11T15:04:52.006Z"
   },
   {
    "duration": 761,
    "start_time": "2022-01-11T15:04:52.009Z"
   },
   {
    "duration": 759,
    "start_time": "2022-01-11T15:04:52.012Z"
   },
   {
    "duration": 758,
    "start_time": "2022-01-11T15:04:52.014Z"
   },
   {
    "duration": 757,
    "start_time": "2022-01-11T15:04:52.016Z"
   },
   {
    "duration": 747,
    "start_time": "2022-01-11T15:04:52.026Z"
   },
   {
    "duration": 744,
    "start_time": "2022-01-11T15:04:52.030Z"
   },
   {
    "duration": 742,
    "start_time": "2022-01-11T15:04:52.033Z"
   },
   {
    "duration": 739,
    "start_time": "2022-01-11T15:04:52.036Z"
   },
   {
    "duration": 738,
    "start_time": "2022-01-11T15:04:52.038Z"
   },
   {
    "duration": 735,
    "start_time": "2022-01-11T15:04:52.041Z"
   },
   {
    "duration": 332,
    "start_time": "2022-01-11T15:05:00.538Z"
   },
   {
    "duration": 3,
    "start_time": "2022-01-11T15:05:09.561Z"
   },
   {
    "duration": 116,
    "start_time": "2022-01-11T15:05:14.331Z"
   },
   {
    "duration": 10,
    "start_time": "2022-01-11T15:05:17.361Z"
   },
   {
    "duration": 109,
    "start_time": "2022-01-11T15:05:21.970Z"
   },
   {
    "duration": 9,
    "start_time": "2022-01-11T15:05:26.600Z"
   },
   {
    "duration": 9,
    "start_time": "2022-01-11T15:05:30.751Z"
   },
   {
    "duration": 21,
    "start_time": "2022-01-11T15:05:34.181Z"
   },
   {
    "duration": 4,
    "start_time": "2022-01-11T15:05:39.991Z"
   },
   {
    "duration": 12,
    "start_time": "2022-01-11T15:05:48.371Z"
   },
   {
    "duration": 4,
    "start_time": "2022-01-11T15:05:52.791Z"
   },
   {
    "duration": 22,
    "start_time": "2022-01-11T15:05:56.001Z"
   },
   {
    "duration": 16,
    "start_time": "2022-01-11T15:05:59.501Z"
   },
   {
    "duration": 21,
    "start_time": "2022-01-11T15:06:02.701Z"
   },
   {
    "duration": 51,
    "start_time": "2022-01-11T15:06:06.915Z"
   },
   {
    "duration": 59,
    "start_time": "2022-01-11T15:06:10.211Z"
   },
   {
    "duration": 49,
    "start_time": "2022-01-11T15:06:14.081Z"
   },
   {
    "duration": 36,
    "start_time": "2022-01-11T15:06:17.071Z"
   },
   {
    "duration": 131,
    "start_time": "2022-01-11T15:06:23.301Z"
   },
   {
    "duration": 10,
    "start_time": "2022-01-11T15:06:26.084Z"
   },
   {
    "duration": 41,
    "start_time": "2022-01-11T15:06:29.214Z"
   },
   {
    "duration": 340,
    "start_time": "2022-01-11T15:06:34.432Z"
   },
   {
    "duration": 13,
    "start_time": "2022-01-11T15:07:44.301Z"
   },
   {
    "duration": 3,
    "start_time": "2022-01-11T15:07:49.358Z"
   },
   {
    "duration": 9,
    "start_time": "2022-01-11T15:08:05.761Z"
   },
   {
    "duration": 15,
    "start_time": "2022-01-11T15:08:24.871Z"
   },
   {
    "duration": 4,
    "start_time": "2022-01-11T15:08:27.840Z"
   },
   {
    "duration": 394,
    "start_time": "2022-01-11T15:08:38.811Z"
   },
   {
    "duration": 9,
    "start_time": "2022-01-11T15:09:06.592Z"
   },
   {
    "duration": 3,
    "start_time": "2022-01-11T15:09:09.731Z"
   },
   {
    "duration": 9,
    "start_time": "2022-01-11T15:09:17.771Z"
   },
   {
    "duration": 10,
    "start_time": "2022-01-11T15:09:23.491Z"
   },
   {
    "duration": 10,
    "start_time": "2022-01-11T15:11:42.336Z"
   },
   {
    "duration": 327,
    "start_time": "2022-01-11T15:21:47.543Z"
   },
   {
    "duration": 425,
    "start_time": "2022-01-11T15:22:13.705Z"
   },
   {
    "duration": 365,
    "start_time": "2022-01-11T15:22:22.071Z"
   },
   {
    "duration": 115,
    "start_time": "2022-01-11T15:23:00.871Z"
   },
   {
    "duration": 141,
    "start_time": "2022-01-11T15:24:04.659Z"
   },
   {
    "duration": 124,
    "start_time": "2022-01-11T15:24:09.701Z"
   },
   {
    "duration": 3,
    "start_time": "2022-01-11T15:24:31.611Z"
   },
   {
    "duration": 3,
    "start_time": "2022-01-11T15:24:46.103Z"
   },
   {
    "duration": 3,
    "start_time": "2022-01-11T15:24:46.893Z"
   },
   {
    "duration": 3,
    "start_time": "2022-01-11T15:24:47.049Z"
   },
   {
    "duration": 9,
    "start_time": "2022-01-11T15:25:02.401Z"
   },
   {
    "duration": 3,
    "start_time": "2022-01-11T15:25:04.171Z"
   },
   {
    "duration": 3,
    "start_time": "2022-01-11T15:25:04.337Z"
   },
   {
    "duration": 3,
    "start_time": "2022-01-11T15:25:04.531Z"
   },
   {
    "duration": 2,
    "start_time": "2022-01-11T15:25:04.732Z"
   },
   {
    "duration": 1613,
    "start_time": "2022-01-11T15:32:27.882Z"
   },
   {
    "duration": 1675,
    "start_time": "2022-01-11T15:32:58.153Z"
   },
   {
    "duration": 1968,
    "start_time": "2022-01-11T15:33:10.186Z"
   },
   {
    "duration": 1836,
    "start_time": "2022-01-11T15:33:36.161Z"
   },
   {
    "duration": 408,
    "start_time": "2022-01-11T15:34:22.322Z"
   },
   {
    "duration": 1699,
    "start_time": "2022-01-11T15:34:54.822Z"
   },
   {
    "duration": 2117,
    "start_time": "2022-01-11T15:35:14.941Z"
   },
   {
    "duration": 4,
    "start_time": "2022-01-11T15:36:32.309Z"
   },
   {
    "duration": 11,
    "start_time": "2022-01-11T15:36:48.561Z"
   },
   {
    "duration": 15,
    "start_time": "2022-01-11T15:37:44.951Z"
   },
   {
    "duration": 16,
    "start_time": "2022-01-11T15:37:57.632Z"
   },
   {
    "duration": 10,
    "start_time": "2022-01-11T15:38:19.274Z"
   },
   {
    "duration": 11,
    "start_time": "2022-01-11T15:38:23.102Z"
   },
   {
    "duration": 15,
    "start_time": "2022-01-11T15:38:38.471Z"
   },
   {
    "duration": 13,
    "start_time": "2022-01-11T15:38:58.085Z"
   },
   {
    "duration": 15,
    "start_time": "2022-01-11T15:39:13.160Z"
   },
   {
    "duration": 14,
    "start_time": "2022-01-11T15:39:28.341Z"
   },
   {
    "duration": 833,
    "start_time": "2022-01-11T15:45:36.111Z"
   },
   {
    "duration": 949,
    "start_time": "2022-01-11T15:45:43.932Z"
   },
   {
    "duration": 109,
    "start_time": "2022-01-11T15:45:56.341Z"
   },
   {
    "duration": 340,
    "start_time": "2022-01-11T15:49:26.842Z"
   },
   {
    "duration": 351,
    "start_time": "2022-01-11T15:49:43.122Z"
   },
   {
    "duration": 371,
    "start_time": "2022-01-11T15:53:50.942Z"
   },
   {
    "duration": 334,
    "start_time": "2022-01-11T15:56:42.849Z"
   },
   {
    "duration": 447,
    "start_time": "2022-01-11T15:58:23.348Z"
   },
   {
    "duration": 355,
    "start_time": "2022-01-11T15:58:31.067Z"
   },
   {
    "duration": 4,
    "start_time": "2022-01-11T16:00:18.267Z"
   },
   {
    "duration": 5,
    "start_time": "2022-01-11T16:00:23.509Z"
   },
   {
    "duration": 4,
    "start_time": "2022-01-11T16:00:28.819Z"
   },
   {
    "duration": 322,
    "start_time": "2022-01-11T16:00:38.238Z"
   },
   {
    "duration": 318,
    "start_time": "2022-01-11T16:00:54.730Z"
   },
   {
    "duration": 3,
    "start_time": "2022-01-11T16:01:24.137Z"
   },
   {
    "duration": 185,
    "start_time": "2022-01-11T16:01:24.154Z"
   },
   {
    "duration": 13,
    "start_time": "2022-01-11T16:01:24.341Z"
   },
   {
    "duration": 51,
    "start_time": "2022-01-11T16:01:24.356Z"
   },
   {
    "duration": 4,
    "start_time": "2022-01-11T16:01:24.409Z"
   },
   {
    "duration": 17,
    "start_time": "2022-01-11T16:01:24.414Z"
   },
   {
    "duration": 3,
    "start_time": "2022-01-11T16:01:24.433Z"
   },
   {
    "duration": 22,
    "start_time": "2022-01-11T16:01:24.438Z"
   },
   {
    "duration": 17,
    "start_time": "2022-01-11T16:01:24.462Z"
   },
   {
    "duration": 49,
    "start_time": "2022-01-11T16:01:24.481Z"
   },
   {
    "duration": 50,
    "start_time": "2022-01-11T16:01:24.532Z"
   },
   {
    "duration": 65,
    "start_time": "2022-01-11T16:01:24.584Z"
   },
   {
    "duration": 46,
    "start_time": "2022-01-11T16:01:24.650Z"
   },
   {
    "duration": 50,
    "start_time": "2022-01-11T16:01:24.698Z"
   },
   {
    "duration": 118,
    "start_time": "2022-01-11T16:01:24.749Z"
   },
   {
    "duration": 8,
    "start_time": "2022-01-11T16:01:24.869Z"
   },
   {
    "duration": 49,
    "start_time": "2022-01-11T16:01:24.879Z"
   },
   {
    "duration": 330,
    "start_time": "2022-01-11T16:01:24.929Z"
   },
   {
    "duration": 767,
    "start_time": "2022-01-11T16:01:24.494Z"
   },
   {
    "duration": 765,
    "start_time": "2022-01-11T16:01:24.497Z"
   },
   {
    "duration": 763,
    "start_time": "2022-01-11T16:01:24.500Z"
   },
   {
    "duration": 761,
    "start_time": "2022-01-11T16:01:24.503Z"
   },
   {
    "duration": 760,
    "start_time": "2022-01-11T16:01:24.505Z"
   },
   {
    "duration": 758,
    "start_time": "2022-01-11T16:01:24.508Z"
   },
   {
    "duration": 756,
    "start_time": "2022-01-11T16:01:24.511Z"
   },
   {
    "duration": 755,
    "start_time": "2022-01-11T16:01:24.513Z"
   },
   {
    "duration": 753,
    "start_time": "2022-01-11T16:01:24.516Z"
   },
   {
    "duration": 751,
    "start_time": "2022-01-11T16:01:24.518Z"
   },
   {
    "duration": 749,
    "start_time": "2022-01-11T16:01:24.521Z"
   },
   {
    "duration": 746,
    "start_time": "2022-01-11T16:01:24.525Z"
   },
   {
    "duration": 744,
    "start_time": "2022-01-11T16:01:24.528Z"
   },
   {
    "duration": 713,
    "start_time": "2022-01-11T16:01:24.559Z"
   },
   {
    "duration": 712,
    "start_time": "2022-01-11T16:01:24.561Z"
   },
   {
    "duration": 710,
    "start_time": "2022-01-11T16:01:24.564Z"
   },
   {
    "duration": 709,
    "start_time": "2022-01-11T16:01:24.566Z"
   },
   {
    "duration": 706,
    "start_time": "2022-01-11T16:01:24.570Z"
   },
   {
    "duration": 703,
    "start_time": "2022-01-11T16:01:24.574Z"
   },
   {
    "duration": 701,
    "start_time": "2022-01-11T16:01:24.576Z"
   },
   {
    "duration": 329,
    "start_time": "2022-01-11T16:01:37.500Z"
   },
   {
    "duration": 327,
    "start_time": "2022-01-11T16:01:43.519Z"
   },
   {
    "duration": 336,
    "start_time": "2022-01-11T16:01:51.536Z"
   },
   {
    "duration": 312,
    "start_time": "2022-01-11T16:04:54.624Z"
   },
   {
    "duration": 336,
    "start_time": "2022-01-11T16:15:07.818Z"
   },
   {
    "duration": 508,
    "start_time": "2022-01-11T16:18:18.959Z"
   },
   {
    "duration": 4,
    "start_time": "2022-01-11T16:19:07.059Z"
   },
   {
    "duration": 4,
    "start_time": "2022-01-11T16:19:30.827Z"
   },
   {
    "duration": 3,
    "start_time": "2022-01-11T16:19:30.989Z"
   },
   {
    "duration": 4,
    "start_time": "2022-01-11T16:19:31.179Z"
   },
   {
    "duration": 3,
    "start_time": "2022-01-11T16:19:31.370Z"
   },
   {
    "duration": 4,
    "start_time": "2022-01-11T16:19:31.549Z"
   },
   {
    "duration": 4,
    "start_time": "2022-01-11T16:19:32.029Z"
   },
   {
    "duration": 4,
    "start_time": "2022-01-11T16:19:32.629Z"
   },
   {
    "duration": 3,
    "start_time": "2022-01-11T16:19:35.350Z"
   },
   {
    "duration": 4,
    "start_time": "2022-01-11T16:19:35.839Z"
   },
   {
    "duration": 4,
    "start_time": "2022-01-11T16:19:36.189Z"
   },
   {
    "duration": 4,
    "start_time": "2022-01-11T16:19:36.449Z"
   },
   {
    "duration": 4,
    "start_time": "2022-01-11T16:19:36.689Z"
   },
   {
    "duration": 4,
    "start_time": "2022-01-11T16:19:36.920Z"
   },
   {
    "duration": 4,
    "start_time": "2022-01-11T16:19:37.127Z"
   },
   {
    "duration": 4,
    "start_time": "2022-01-11T16:19:37.279Z"
   },
   {
    "duration": 1012,
    "start_time": "2022-01-11T16:19:44.679Z"
   },
   {
    "duration": 397,
    "start_time": "2022-01-11T16:19:53.687Z"
   },
   {
    "duration": 1125,
    "start_time": "2022-01-11T16:20:05.406Z"
   },
   {
    "duration": 384,
    "start_time": "2022-01-11T16:20:34.197Z"
   },
   {
    "duration": 3,
    "start_time": "2022-01-11T16:20:39.908Z"
   },
   {
    "duration": 125,
    "start_time": "2022-01-11T16:20:39.912Z"
   },
   {
    "duration": 9,
    "start_time": "2022-01-11T16:20:40.039Z"
   },
   {
    "duration": 24,
    "start_time": "2022-01-11T16:20:40.049Z"
   },
   {
    "duration": 3,
    "start_time": "2022-01-11T16:20:40.074Z"
   },
   {
    "duration": 12,
    "start_time": "2022-01-11T16:20:40.079Z"
   },
   {
    "duration": 3,
    "start_time": "2022-01-11T16:20:40.093Z"
   },
   {
    "duration": 43,
    "start_time": "2022-01-11T16:20:40.098Z"
   },
   {
    "duration": 16,
    "start_time": "2022-01-11T16:20:40.143Z"
   },
   {
    "duration": 21,
    "start_time": "2022-01-11T16:20:40.161Z"
   },
   {
    "duration": 72,
    "start_time": "2022-01-11T16:20:40.184Z"
   },
   {
    "duration": 60,
    "start_time": "2022-01-11T16:20:40.257Z"
   },
   {
    "duration": 49,
    "start_time": "2022-01-11T16:20:40.318Z"
   },
   {
    "duration": 37,
    "start_time": "2022-01-11T16:20:40.368Z"
   },
   {
    "duration": 124,
    "start_time": "2022-01-11T16:20:40.407Z"
   },
   {
    "duration": 9,
    "start_time": "2022-01-11T16:20:40.533Z"
   },
   {
    "duration": 41,
    "start_time": "2022-01-11T16:20:40.544Z"
   },
   {
    "duration": 317,
    "start_time": "2022-01-11T16:20:40.587Z"
   },
   {
    "duration": 756,
    "start_time": "2022-01-11T16:20:40.150Z"
   },
   {
    "duration": 753,
    "start_time": "2022-01-11T16:20:40.154Z"
   },
   {
    "duration": 750,
    "start_time": "2022-01-11T16:20:40.158Z"
   },
   {
    "duration": 748,
    "start_time": "2022-01-11T16:20:40.161Z"
   },
   {
    "duration": 747,
    "start_time": "2022-01-11T16:20:40.163Z"
   },
   {
    "duration": 744,
    "start_time": "2022-01-11T16:20:40.166Z"
   },
   {
    "duration": 743,
    "start_time": "2022-01-11T16:20:40.169Z"
   },
   {
    "duration": 742,
    "start_time": "2022-01-11T16:20:40.171Z"
   },
   {
    "duration": 741,
    "start_time": "2022-01-11T16:20:40.173Z"
   },
   {
    "duration": 739,
    "start_time": "2022-01-11T16:20:40.176Z"
   },
   {
    "duration": 736,
    "start_time": "2022-01-11T16:20:40.180Z"
   },
   {
    "duration": 678,
    "start_time": "2022-01-11T16:20:40.239Z"
   },
   {
    "duration": 674,
    "start_time": "2022-01-11T16:20:40.244Z"
   },
   {
    "duration": 665,
    "start_time": "2022-01-11T16:20:40.254Z"
   },
   {
    "duration": 659,
    "start_time": "2022-01-11T16:20:40.260Z"
   },
   {
    "duration": 658,
    "start_time": "2022-01-11T16:20:40.262Z"
   },
   {
    "duration": 656,
    "start_time": "2022-01-11T16:20:40.265Z"
   },
   {
    "duration": 655,
    "start_time": "2022-01-11T16:20:40.267Z"
   },
   {
    "duration": 653,
    "start_time": "2022-01-11T16:20:40.270Z"
   },
   {
    "duration": 652,
    "start_time": "2022-01-11T16:20:40.272Z"
   },
   {
    "duration": 460,
    "start_time": "2022-01-11T16:20:48.087Z"
   },
   {
    "duration": 4,
    "start_time": "2022-01-11T16:20:52.979Z"
   },
   {
    "duration": 769,
    "start_time": "2022-01-11T16:21:07.365Z"
   },
   {
    "duration": 641,
    "start_time": "2022-01-11T16:21:09.707Z"
   },
   {
    "duration": 3,
    "start_time": "2022-01-11T16:21:19.039Z"
   },
   {
    "duration": 129,
    "start_time": "2022-01-11T16:21:22.511Z"
   },
   {
    "duration": 10,
    "start_time": "2022-01-11T16:21:26.107Z"
   },
   {
    "duration": 8,
    "start_time": "2022-01-11T16:21:29.558Z"
   },
   {
    "duration": 11,
    "start_time": "2022-01-11T16:21:33.367Z"
   },
   {
    "duration": 22,
    "start_time": "2022-01-11T16:21:36.499Z"
   },
   {
    "duration": 4,
    "start_time": "2022-01-11T16:21:41.817Z"
   },
   {
    "duration": 17,
    "start_time": "2022-01-11T16:21:49.305Z"
   },
   {
    "duration": 15,
    "start_time": "2022-01-11T16:21:54.598Z"
   },
   {
    "duration": 4,
    "start_time": "2022-01-11T16:22:04.357Z"
   },
   {
    "duration": 22,
    "start_time": "2022-01-11T16:22:08.857Z"
   },
   {
    "duration": 4,
    "start_time": "2022-01-11T16:22:26.670Z"
   },
   {
    "duration": 10,
    "start_time": "2022-01-11T16:22:44.210Z"
   },
   {
    "duration": 11,
    "start_time": "2022-01-11T16:22:58.177Z"
   },
   {
    "duration": 3,
    "start_time": "2022-01-11T16:22:59.839Z"
   },
   {
    "duration": 21,
    "start_time": "2022-01-11T16:23:00.240Z"
   },
   {
    "duration": 4,
    "start_time": "2022-01-11T16:23:10.997Z"
   },
   {
    "duration": 11,
    "start_time": "2022-01-11T16:23:29.407Z"
   },
   {
    "duration": 4,
    "start_time": "2022-01-11T16:23:37.249Z"
   },
   {
    "duration": 22,
    "start_time": "2022-01-11T16:23:39.769Z"
   },
   {
    "duration": 14,
    "start_time": "2022-01-11T16:23:43.658Z"
   },
   {
    "duration": 21,
    "start_time": "2022-01-11T16:23:44.830Z"
   },
   {
    "duration": 4,
    "start_time": "2022-01-11T16:24:09.179Z"
   },
   {
    "duration": 5,
    "start_time": "2022-01-11T16:25:04.047Z"
   },
   {
    "duration": 11,
    "start_time": "2022-01-11T16:25:53.609Z"
   },
   {
    "duration": 4,
    "start_time": "2022-01-11T16:25:58.057Z"
   },
   {
    "duration": 11,
    "start_time": "2022-01-11T16:26:19.287Z"
   },
   {
    "duration": 4,
    "start_time": "2022-01-11T16:26:23.279Z"
   },
   {
    "duration": 11,
    "start_time": "2022-01-11T16:26:58.869Z"
   },
   {
    "duration": 4,
    "start_time": "2022-01-11T16:27:01.119Z"
   },
   {
    "duration": 11,
    "start_time": "2022-01-11T16:27:20.977Z"
   },
   {
    "duration": 3,
    "start_time": "2022-01-11T16:27:25.003Z"
   },
   {
    "duration": 4,
    "start_time": "2022-01-11T16:27:41.029Z"
   },
   {
    "duration": 11,
    "start_time": "2022-01-11T16:27:46.397Z"
   },
   {
    "duration": 4,
    "start_time": "2022-01-11T16:27:50.799Z"
   },
   {
    "duration": 11,
    "start_time": "2022-01-11T16:28:41.817Z"
   },
   {
    "duration": 21,
    "start_time": "2022-01-11T16:28:46.599Z"
   },
   {
    "duration": 9151,
    "start_time": "2022-01-11T16:29:06.507Z"
   },
   {
    "duration": 756,
    "start_time": "2022-01-11T16:29:14.903Z"
   },
   {
    "duration": 9,
    "start_time": "2022-01-11T16:29:53.347Z"
   },
   {
    "duration": 3,
    "start_time": "2022-01-11T16:29:56.990Z"
   },
   {
    "duration": 22,
    "start_time": "2022-01-11T16:30:06.849Z"
   },
   {
    "duration": 9077,
    "start_time": "2022-01-11T16:30:09.047Z"
   },
   {
    "duration": 3,
    "start_time": "2022-01-11T16:31:04.278Z"
   },
   {
    "duration": 2,
    "start_time": "2022-01-11T16:31:22.649Z"
   },
   {
    "duration": 118,
    "start_time": "2022-01-11T16:31:22.665Z"
   },
   {
    "duration": 11,
    "start_time": "2022-01-11T16:31:22.785Z"
   },
   {
    "duration": 32,
    "start_time": "2022-01-11T16:31:22.798Z"
   },
   {
    "duration": 3,
    "start_time": "2022-01-11T16:31:22.832Z"
   },
   {
    "duration": 16,
    "start_time": "2022-01-11T16:31:22.836Z"
   },
   {
    "duration": 4,
    "start_time": "2022-01-11T16:31:22.853Z"
   },
   {
    "duration": 26,
    "start_time": "2022-01-11T16:31:22.858Z"
   },
   {
    "duration": 19,
    "start_time": "2022-01-11T16:31:22.886Z"
   },
   {
    "duration": 36,
    "start_time": "2022-01-11T16:31:22.908Z"
   },
   {
    "duration": 53,
    "start_time": "2022-01-11T16:31:22.946Z"
   },
   {
    "duration": 64,
    "start_time": "2022-01-11T16:31:23.001Z"
   },
   {
    "duration": 44,
    "start_time": "2022-01-11T16:31:23.066Z"
   },
   {
    "duration": 48,
    "start_time": "2022-01-11T16:31:23.112Z"
   },
   {
    "duration": 125,
    "start_time": "2022-01-11T16:31:23.161Z"
   },
   {
    "duration": 8,
    "start_time": "2022-01-11T16:31:23.288Z"
   },
   {
    "duration": 47,
    "start_time": "2022-01-11T16:31:23.298Z"
   },
   {
    "duration": 318,
    "start_time": "2022-01-11T16:31:23.347Z"
   },
   {
    "duration": 724,
    "start_time": "2022-01-11T16:31:22.943Z"
   },
   {
    "duration": 722,
    "start_time": "2022-01-11T16:31:22.947Z"
   },
   {
    "duration": 721,
    "start_time": "2022-01-11T16:31:22.949Z"
   },
   {
    "duration": 719,
    "start_time": "2022-01-11T16:31:22.952Z"
   },
   {
    "duration": 718,
    "start_time": "2022-01-11T16:31:22.955Z"
   },
   {
    "duration": 717,
    "start_time": "2022-01-11T16:31:22.957Z"
   },
   {
    "duration": 714,
    "start_time": "2022-01-11T16:31:22.961Z"
   },
   {
    "duration": 713,
    "start_time": "2022-01-11T16:31:22.963Z"
   },
   {
    "duration": 712,
    "start_time": "2022-01-11T16:31:22.966Z"
   },
   {
    "duration": 698,
    "start_time": "2022-01-11T16:31:22.981Z"
   },
   {
    "duration": 695,
    "start_time": "2022-01-11T16:31:22.985Z"
   },
   {
    "duration": 692,
    "start_time": "2022-01-11T16:31:22.989Z"
   },
   {
    "duration": 692,
    "start_time": "2022-01-11T16:31:22.991Z"
   },
   {
    "duration": 688,
    "start_time": "2022-01-11T16:31:22.996Z"
   },
   {
    "duration": 685,
    "start_time": "2022-01-11T16:31:23.000Z"
   },
   {
    "duration": 684,
    "start_time": "2022-01-11T16:31:23.002Z"
   },
   {
    "duration": 677,
    "start_time": "2022-01-11T16:31:23.011Z"
   },
   {
    "duration": 674,
    "start_time": "2022-01-11T16:31:23.015Z"
   },
   {
    "duration": 672,
    "start_time": "2022-01-11T16:31:23.018Z"
   },
   {
    "duration": 672,
    "start_time": "2022-01-11T16:31:23.020Z"
   },
   {
    "duration": 14,
    "start_time": "2022-01-11T16:31:45.200Z"
   },
   {
    "duration": 4,
    "start_time": "2022-01-11T16:31:48.251Z"
   },
   {
    "duration": 4,
    "start_time": "2022-01-11T16:32:12.877Z"
   },
   {
    "duration": 14,
    "start_time": "2022-01-11T16:33:15.261Z"
   },
   {
    "duration": 4,
    "start_time": "2022-01-11T16:33:18.687Z"
   },
   {
    "duration": 20,
    "start_time": "2022-01-11T16:33:31.318Z"
   },
   {
    "duration": 15,
    "start_time": "2022-01-11T16:33:36.677Z"
   },
   {
    "duration": 21,
    "start_time": "2022-01-11T16:33:38.938Z"
   },
   {
    "duration": 48,
    "start_time": "2022-01-11T16:33:42.517Z"
   },
   {
    "duration": 53,
    "start_time": "2022-01-11T16:33:45.049Z"
   },
   {
    "duration": 44,
    "start_time": "2022-01-11T16:33:47.877Z"
   },
   {
    "duration": 37,
    "start_time": "2022-01-11T16:33:51.507Z"
   },
   {
    "duration": 125,
    "start_time": "2022-01-11T16:33:56.967Z"
   },
   {
    "duration": 10,
    "start_time": "2022-01-11T16:34:00.191Z"
   },
   {
    "duration": 40,
    "start_time": "2022-01-11T16:34:03.709Z"
   },
   {
    "duration": 309,
    "start_time": "2022-01-11T16:34:13.537Z"
   },
   {
    "duration": 332,
    "start_time": "2022-01-11T16:34:48.705Z"
   },
   {
    "duration": 322,
    "start_time": "2022-01-11T16:34:52.669Z"
   },
   {
    "duration": 323,
    "start_time": "2022-01-11T16:35:01.213Z"
   },
   {
    "duration": 3367,
    "start_time": "2022-01-11T16:35:06.819Z"
   },
   {
    "duration": 765,
    "start_time": "2022-01-11T16:35:09.423Z"
   },
   {
    "duration": 2295,
    "start_time": "2022-01-11T16:35:13.367Z"
   },
   {
    "duration": 338,
    "start_time": "2022-01-11T16:35:23.998Z"
   },
   {
    "duration": 314,
    "start_time": "2022-01-11T16:36:36.668Z"
   },
   {
    "duration": 3,
    "start_time": "2022-01-11T16:37:04.087Z"
   },
   {
    "duration": 133,
    "start_time": "2022-01-11T16:37:08.309Z"
   },
   {
    "duration": 9,
    "start_time": "2022-01-11T16:37:12.059Z"
   },
   {
    "duration": 25,
    "start_time": "2022-01-11T16:37:15.939Z"
   },
   {
    "duration": 4,
    "start_time": "2022-01-11T16:37:21.310Z"
   },
   {
    "duration": 17,
    "start_time": "2022-01-11T16:37:25.280Z"
   },
   {
    "duration": 4,
    "start_time": "2022-01-11T16:37:28.215Z"
   },
   {
    "duration": 22,
    "start_time": "2022-01-11T16:37:39.186Z"
   },
   {
    "duration": 14,
    "start_time": "2022-01-11T16:37:51.947Z"
   },
   {
    "duration": 4,
    "start_time": "2022-01-11T16:37:55.099Z"
   },
   {
    "duration": 22,
    "start_time": "2022-01-11T16:38:05.029Z"
   },
   {
    "duration": 16,
    "start_time": "2022-01-11T16:38:13.609Z"
   },
   {
    "duration": 21,
    "start_time": "2022-01-11T16:38:17.667Z"
   },
   {
    "duration": 49,
    "start_time": "2022-01-11T16:38:21.789Z"
   },
   {
    "duration": 51,
    "start_time": "2022-01-11T16:38:25.149Z"
   },
   {
    "duration": 47,
    "start_time": "2022-01-11T16:38:28.839Z"
   },
   {
    "duration": 37,
    "start_time": "2022-01-11T16:38:31.837Z"
   },
   {
    "duration": 123,
    "start_time": "2022-01-11T16:38:38.118Z"
   },
   {
    "duration": 9,
    "start_time": "2022-01-11T16:38:41.268Z"
   },
   {
    "duration": 57,
    "start_time": "2022-01-11T16:38:44.380Z"
   },
   {
    "duration": 339,
    "start_time": "2022-01-11T16:38:49.907Z"
   },
   {
    "duration": 313,
    "start_time": "2022-01-11T16:44:09.232Z"
   },
   {
    "duration": 14,
    "start_time": "2022-01-11T16:49:30.738Z"
   },
   {
    "duration": 5,
    "start_time": "2022-01-11T16:49:38.509Z"
   },
   {
    "duration": 22,
    "start_time": "2022-01-11T16:49:44.323Z"
   },
   {
    "duration": 16,
    "start_time": "2022-01-11T16:49:49.517Z"
   },
   {
    "duration": 21,
    "start_time": "2022-01-11T16:49:51.870Z"
   },
   {
    "duration": 51,
    "start_time": "2022-01-11T16:49:55.899Z"
   },
   {
    "duration": 54,
    "start_time": "2022-01-11T16:49:59.138Z"
   },
   {
    "duration": 48,
    "start_time": "2022-01-11T16:50:01.980Z"
   },
   {
    "duration": 37,
    "start_time": "2022-01-11T16:50:05.109Z"
   },
   {
    "duration": 126,
    "start_time": "2022-01-11T16:50:10.235Z"
   },
   {
    "duration": 10,
    "start_time": "2022-01-11T16:50:13.572Z"
   },
   {
    "duration": 39,
    "start_time": "2022-01-11T16:50:16.960Z"
   },
   {
    "duration": 329,
    "start_time": "2022-01-11T16:50:22.550Z"
   },
   {
    "duration": 3,
    "start_time": "2022-01-11T16:50:41.824Z"
   },
   {
    "duration": 132,
    "start_time": "2022-01-11T16:50:41.828Z"
   },
   {
    "duration": 10,
    "start_time": "2022-01-11T16:50:41.962Z"
   },
   {
    "duration": 33,
    "start_time": "2022-01-11T16:50:41.974Z"
   },
   {
    "duration": 19,
    "start_time": "2022-01-11T16:50:42.009Z"
   },
   {
    "duration": 18,
    "start_time": "2022-01-11T16:50:42.029Z"
   },
   {
    "duration": 3,
    "start_time": "2022-01-11T16:50:42.049Z"
   },
   {
    "duration": 28,
    "start_time": "2022-01-11T16:50:42.054Z"
   },
   {
    "duration": 21,
    "start_time": "2022-01-11T16:50:42.085Z"
   },
   {
    "duration": 36,
    "start_time": "2022-01-11T16:50:42.109Z"
   },
   {
    "duration": 53,
    "start_time": "2022-01-11T16:50:42.146Z"
   },
   {
    "duration": 75,
    "start_time": "2022-01-11T16:50:42.201Z"
   },
   {
    "duration": 62,
    "start_time": "2022-01-11T16:50:42.278Z"
   },
   {
    "duration": 37,
    "start_time": "2022-01-11T16:50:42.342Z"
   },
   {
    "duration": 139,
    "start_time": "2022-01-11T16:50:42.381Z"
   },
   {
    "duration": 12,
    "start_time": "2022-01-11T16:50:42.521Z"
   },
   {
    "duration": 40,
    "start_time": "2022-01-11T16:50:42.535Z"
   },
   {
    "duration": 325,
    "start_time": "2022-01-11T16:50:42.576Z"
   },
   {
    "duration": 758,
    "start_time": "2022-01-11T16:50:42.146Z"
   },
   {
    "duration": 756,
    "start_time": "2022-01-11T16:50:42.149Z"
   },
   {
    "duration": 754,
    "start_time": "2022-01-11T16:50:42.151Z"
   },
   {
    "duration": 752,
    "start_time": "2022-01-11T16:50:42.154Z"
   },
   {
    "duration": 751,
    "start_time": "2022-01-11T16:50:42.156Z"
   },
   {
    "duration": 747,
    "start_time": "2022-01-11T16:50:42.161Z"
   },
   {
    "duration": 745,
    "start_time": "2022-01-11T16:50:42.164Z"
   },
   {
    "duration": 743,
    "start_time": "2022-01-11T16:50:42.166Z"
   },
   {
    "duration": 741,
    "start_time": "2022-01-11T16:50:42.169Z"
   },
   {
    "duration": 740,
    "start_time": "2022-01-11T16:50:42.171Z"
   },
   {
    "duration": 728,
    "start_time": "2022-01-11T16:50:42.184Z"
   },
   {
    "duration": 725,
    "start_time": "2022-01-11T16:50:42.187Z"
   },
   {
    "duration": 723,
    "start_time": "2022-01-11T16:50:42.190Z"
   },
   {
    "duration": 719,
    "start_time": "2022-01-11T16:50:42.195Z"
   },
   {
    "duration": 717,
    "start_time": "2022-01-11T16:50:42.198Z"
   },
   {
    "duration": 716,
    "start_time": "2022-01-11T16:50:42.200Z"
   },
   {
    "duration": 715,
    "start_time": "2022-01-11T16:50:42.202Z"
   },
   {
    "duration": 713,
    "start_time": "2022-01-11T16:50:42.205Z"
   },
   {
    "duration": 711,
    "start_time": "2022-01-11T16:50:42.208Z"
   },
   {
    "duration": 709,
    "start_time": "2022-01-11T16:50:42.211Z"
   },
   {
    "duration": 334,
    "start_time": "2022-01-11T16:51:12.198Z"
   },
   {
    "duration": 317,
    "start_time": "2022-01-11T16:51:18.717Z"
   },
   {
    "duration": 350,
    "start_time": "2022-01-11T16:51:23.978Z"
   },
   {
    "duration": 334,
    "start_time": "2022-01-11T16:51:53.878Z"
   },
   {
    "duration": 322,
    "start_time": "2022-01-11T16:59:14.660Z"
   },
   {
    "duration": 349,
    "start_time": "2022-01-11T16:59:23.309Z"
   },
   {
    "duration": 3,
    "start_time": "2022-01-11T16:59:30.039Z"
   },
   {
    "duration": 9197,
    "start_time": "2022-01-11T16:59:33.089Z"
   },
   {
    "duration": 723,
    "start_time": "2022-01-11T16:59:41.565Z"
   },
   {
    "duration": 370,
    "start_time": "2022-01-11T17:04:05.097Z"
   },
   {
    "duration": 332,
    "start_time": "2022-01-11T17:07:29.827Z"
   },
   {
    "duration": 369,
    "start_time": "2022-01-11T17:24:33.732Z"
   },
   {
    "duration": 360,
    "start_time": "2022-01-11T17:29:47.633Z"
   },
   {
    "duration": 2,
    "start_time": "2022-01-11T17:32:24.514Z"
   },
   {
    "duration": 615,
    "start_time": "2022-01-11T17:32:24.523Z"
   },
   {
    "duration": 38,
    "start_time": "2022-01-11T17:32:25.140Z"
   },
   {
    "duration": 24,
    "start_time": "2022-01-11T17:32:25.180Z"
   },
   {
    "duration": 6,
    "start_time": "2022-01-11T17:32:25.205Z"
   },
   {
    "duration": 19,
    "start_time": "2022-01-11T17:32:25.212Z"
   },
   {
    "duration": 3,
    "start_time": "2022-01-11T17:32:25.233Z"
   },
   {
    "duration": 22,
    "start_time": "2022-01-11T17:32:25.237Z"
   },
   {
    "duration": 15,
    "start_time": "2022-01-11T17:32:25.260Z"
   },
   {
    "duration": 20,
    "start_time": "2022-01-11T17:32:25.278Z"
   },
   {
    "duration": 72,
    "start_time": "2022-01-11T17:32:25.300Z"
   },
   {
    "duration": 69,
    "start_time": "2022-01-11T17:32:25.374Z"
   },
   {
    "duration": 45,
    "start_time": "2022-01-11T17:32:25.445Z"
   },
   {
    "duration": 50,
    "start_time": "2022-01-11T17:32:25.492Z"
   },
   {
    "duration": 117,
    "start_time": "2022-01-11T17:32:25.544Z"
   },
   {
    "duration": 9,
    "start_time": "2022-01-11T17:32:25.662Z"
   },
   {
    "duration": 43,
    "start_time": "2022-01-11T17:32:25.673Z"
   },
   {
    "duration": 476,
    "start_time": "2022-01-11T17:32:25.718Z"
   },
   {
    "duration": 754,
    "start_time": "2022-01-11T17:32:25.442Z"
   },
   {
    "duration": 752,
    "start_time": "2022-01-11T17:32:25.445Z"
   },
   {
    "duration": 751,
    "start_time": "2022-01-11T17:32:25.448Z"
   },
   {
    "duration": 750,
    "start_time": "2022-01-11T17:32:25.450Z"
   },
   {
    "duration": 749,
    "start_time": "2022-01-11T17:32:25.452Z"
   },
   {
    "duration": 747,
    "start_time": "2022-01-11T17:32:25.455Z"
   },
   {
    "duration": 744,
    "start_time": "2022-01-11T17:32:25.458Z"
   },
   {
    "duration": 744,
    "start_time": "2022-01-11T17:32:25.460Z"
   },
   {
    "duration": 727,
    "start_time": "2022-01-11T17:32:25.478Z"
   },
   {
    "duration": 724,
    "start_time": "2022-01-11T17:32:25.481Z"
   },
   {
    "duration": 721,
    "start_time": "2022-01-11T17:32:25.485Z"
   },
   {
    "duration": 717,
    "start_time": "2022-01-11T17:32:25.490Z"
   },
   {
    "duration": 715,
    "start_time": "2022-01-11T17:32:25.493Z"
   },
   {
    "duration": 714,
    "start_time": "2022-01-11T17:32:25.495Z"
   },
   {
    "duration": 712,
    "start_time": "2022-01-11T17:32:25.498Z"
   },
   {
    "duration": 710,
    "start_time": "2022-01-11T17:32:25.501Z"
   },
   {
    "duration": 701,
    "start_time": "2022-01-11T17:32:25.511Z"
   },
   {
    "duration": 700,
    "start_time": "2022-01-11T17:32:25.513Z"
   },
   {
    "duration": 698,
    "start_time": "2022-01-11T17:32:25.516Z"
   },
   {
    "duration": 696,
    "start_time": "2022-01-11T17:32:25.519Z"
   },
   {
    "duration": 319,
    "start_time": "2022-01-11T17:32:39.152Z"
   },
   {
    "duration": 537,
    "start_time": "2022-01-11T17:46:53.849Z"
   },
   {
    "duration": 2,
    "start_time": "2022-01-11T17:47:04.357Z"
   },
   {
    "duration": 128,
    "start_time": "2022-01-11T17:47:04.363Z"
   },
   {
    "duration": 9,
    "start_time": "2022-01-11T17:47:04.493Z"
   },
   {
    "duration": 37,
    "start_time": "2022-01-11T17:47:04.504Z"
   },
   {
    "duration": 5,
    "start_time": "2022-01-11T17:47:04.542Z"
   },
   {
    "duration": 11,
    "start_time": "2022-01-11T17:47:04.548Z"
   },
   {
    "duration": 4,
    "start_time": "2022-01-11T17:47:04.560Z"
   },
   {
    "duration": 23,
    "start_time": "2022-01-11T17:47:04.566Z"
   },
   {
    "duration": 44,
    "start_time": "2022-01-11T17:47:04.590Z"
   },
   {
    "duration": 22,
    "start_time": "2022-01-11T17:47:04.636Z"
   },
   {
    "duration": 51,
    "start_time": "2022-01-11T17:47:04.659Z"
   },
   {
    "duration": 52,
    "start_time": "2022-01-11T17:47:04.727Z"
   },
   {
    "duration": 61,
    "start_time": "2022-01-11T17:47:04.781Z"
   },
   {
    "duration": 36,
    "start_time": "2022-01-11T17:47:04.843Z"
   },
   {
    "duration": 141,
    "start_time": "2022-01-11T17:47:04.880Z"
   },
   {
    "duration": 10,
    "start_time": "2022-01-11T17:47:05.022Z"
   },
   {
    "duration": 39,
    "start_time": "2022-01-11T17:47:05.033Z"
   },
   {
    "duration": 341,
    "start_time": "2022-01-11T17:47:05.074Z"
   },
   {
    "duration": 652,
    "start_time": "2022-01-11T17:47:04.766Z"
   },
   {
    "duration": 651,
    "start_time": "2022-01-11T17:47:04.769Z"
   },
   {
    "duration": 650,
    "start_time": "2022-01-11T17:47:04.771Z"
   },
   {
    "duration": 648,
    "start_time": "2022-01-11T17:47:04.774Z"
   },
   {
    "duration": 648,
    "start_time": "2022-01-11T17:47:04.776Z"
   },
   {
    "duration": 646,
    "start_time": "2022-01-11T17:47:04.779Z"
   },
   {
    "duration": 644,
    "start_time": "2022-01-11T17:47:04.782Z"
   },
   {
    "duration": 635,
    "start_time": "2022-01-11T17:47:04.793Z"
   },
   {
    "duration": 632,
    "start_time": "2022-01-11T17:47:04.797Z"
   },
   {
    "duration": 630,
    "start_time": "2022-01-11T17:47:04.800Z"
   },
   {
    "duration": 630,
    "start_time": "2022-01-11T17:47:04.802Z"
   },
   {
    "duration": 619,
    "start_time": "2022-01-11T17:47:04.814Z"
   },
   {
    "duration": 610,
    "start_time": "2022-01-11T17:47:04.824Z"
   },
   {
    "duration": 607,
    "start_time": "2022-01-11T17:47:04.829Z"
   },
   {
    "duration": 606,
    "start_time": "2022-01-11T17:47:04.831Z"
   },
   {
    "duration": 604,
    "start_time": "2022-01-11T17:47:04.835Z"
   },
   {
    "duration": 602,
    "start_time": "2022-01-11T17:47:04.838Z"
   },
   {
    "duration": 601,
    "start_time": "2022-01-11T17:47:04.840Z"
   },
   {
    "duration": 599,
    "start_time": "2022-01-11T17:47:04.842Z"
   },
   {
    "duration": 597,
    "start_time": "2022-01-11T17:47:04.845Z"
   },
   {
    "duration": 3,
    "start_time": "2022-01-11T17:47:14.279Z"
   },
   {
    "duration": 122,
    "start_time": "2022-01-11T17:47:17.506Z"
   },
   {
    "duration": 9,
    "start_time": "2022-01-11T17:47:20.085Z"
   },
   {
    "duration": 22,
    "start_time": "2022-01-11T17:47:23.269Z"
   },
   {
    "duration": 4,
    "start_time": "2022-01-11T17:47:28.237Z"
   },
   {
    "duration": 14,
    "start_time": "2022-01-11T17:47:31.957Z"
   },
   {
    "duration": 5,
    "start_time": "2022-01-11T17:47:44.507Z"
   },
   {
    "duration": 22,
    "start_time": "2022-01-11T17:47:54.625Z"
   },
   {
    "duration": 17,
    "start_time": "2022-01-11T17:47:59.397Z"
   },
   {
    "duration": 37,
    "start_time": "2022-01-11T17:48:02.158Z"
   },
   {
    "duration": 54,
    "start_time": "2022-01-11T17:48:05.919Z"
   },
   {
    "duration": 47,
    "start_time": "2022-01-11T17:48:08.589Z"
   },
   {
    "duration": 38,
    "start_time": "2022-01-11T17:48:11.988Z"
   },
   {
    "duration": 125,
    "start_time": "2022-01-11T17:48:16.251Z"
   },
   {
    "duration": 11,
    "start_time": "2022-01-11T17:48:19.247Z"
   },
   {
    "duration": 40,
    "start_time": "2022-01-11T17:48:21.670Z"
   },
   {
    "duration": 322,
    "start_time": "2022-01-11T17:48:26.197Z"
   },
   {
    "duration": 554,
    "start_time": "2022-01-12T13:40:51.612Z"
   },
   {
    "duration": 179,
    "start_time": "2022-01-12T13:40:52.168Z"
   },
   {
    "duration": 17,
    "start_time": "2022-01-12T13:40:52.349Z"
   },
   {
    "duration": 24,
    "start_time": "2022-01-12T13:40:52.368Z"
   },
   {
    "duration": 3,
    "start_time": "2022-01-12T13:40:52.394Z"
   },
   {
    "duration": 23,
    "start_time": "2022-01-12T13:40:52.399Z"
   },
   {
    "duration": 4,
    "start_time": "2022-01-12T13:40:52.424Z"
   },
   {
    "duration": 25,
    "start_time": "2022-01-12T13:40:52.430Z"
   },
   {
    "duration": 38,
    "start_time": "2022-01-12T13:40:52.458Z"
   },
   {
    "duration": 23,
    "start_time": "2022-01-12T13:40:52.498Z"
   },
   {
    "duration": 71,
    "start_time": "2022-01-12T13:40:52.523Z"
   },
   {
    "duration": 57,
    "start_time": "2022-01-12T13:40:52.596Z"
   },
   {
    "duration": 69,
    "start_time": "2022-01-12T13:40:52.654Z"
   },
   {
    "duration": 42,
    "start_time": "2022-01-12T13:40:52.725Z"
   },
   {
    "duration": 243,
    "start_time": "2022-01-12T13:40:52.769Z"
   },
   {
    "duration": 151,
    "start_time": "2022-01-12T13:40:52.863Z"
   },
   {
    "duration": 148,
    "start_time": "2022-01-12T13:40:52.867Z"
   },
   {
    "duration": 145,
    "start_time": "2022-01-12T13:40:52.871Z"
   },
   {
    "duration": 144,
    "start_time": "2022-01-12T13:40:52.873Z"
   },
   {
    "duration": 141,
    "start_time": "2022-01-12T13:40:52.877Z"
   },
   {
    "duration": 139,
    "start_time": "2022-01-12T13:40:52.880Z"
   },
   {
    "duration": 138,
    "start_time": "2022-01-12T13:40:52.882Z"
   },
   {
    "duration": 136,
    "start_time": "2022-01-12T13:40:52.885Z"
   },
   {
    "duration": 134,
    "start_time": "2022-01-12T13:40:52.888Z"
   },
   {
    "duration": 133,
    "start_time": "2022-01-12T13:40:52.890Z"
   },
   {
    "duration": 131,
    "start_time": "2022-01-12T13:40:52.893Z"
   },
   {
    "duration": 129,
    "start_time": "2022-01-12T13:40:52.896Z"
   },
   {
    "duration": 128,
    "start_time": "2022-01-12T13:40:52.898Z"
   },
   {
    "duration": 127,
    "start_time": "2022-01-12T13:40:52.900Z"
   },
   {
    "duration": 125,
    "start_time": "2022-01-12T13:40:52.903Z"
   },
   {
    "duration": 123,
    "start_time": "2022-01-12T13:40:52.906Z"
   },
   {
    "duration": 122,
    "start_time": "2022-01-12T13:40:52.908Z"
   },
   {
    "duration": 120,
    "start_time": "2022-01-12T13:40:52.911Z"
   },
   {
    "duration": 118,
    "start_time": "2022-01-12T13:40:52.914Z"
   },
   {
    "duration": 116,
    "start_time": "2022-01-12T13:40:52.917Z"
   },
   {
    "duration": 103,
    "start_time": "2022-01-12T13:40:52.931Z"
   },
   {
    "duration": 101,
    "start_time": "2022-01-12T13:40:52.934Z"
   },
   {
    "duration": 100,
    "start_time": "2022-01-12T13:40:52.937Z"
   },
   {
    "duration": 11,
    "start_time": "2022-01-12T13:41:08.852Z"
   },
   {
    "duration": 12,
    "start_time": "2022-01-12T13:41:14.172Z"
   },
   {
    "duration": 3,
    "start_time": "2022-01-12T13:41:24.748Z"
   },
   {
    "duration": 17,
    "start_time": "2022-01-12T13:41:28.732Z"
   },
   {
    "duration": 15,
    "start_time": "2022-01-12T13:41:31.212Z"
   },
   {
    "duration": 16,
    "start_time": "2022-01-12T13:41:33.971Z"
   },
   {
    "duration": 15,
    "start_time": "2022-01-12T13:41:36.410Z"
   },
   {
    "duration": 17,
    "start_time": "2022-01-12T13:41:40.243Z"
   },
   {
    "duration": 14,
    "start_time": "2022-01-12T13:41:43.732Z"
   },
   {
    "duration": 196,
    "start_time": "2022-01-12T13:41:46.900Z"
   },
   {
    "duration": 198,
    "start_time": "2022-01-12T13:46:50.259Z"
   },
   {
    "duration": 184,
    "start_time": "2022-01-12T13:47:06.172Z"
   },
   {
    "duration": 9,
    "start_time": "2022-01-12T13:49:19.724Z"
   },
   {
    "duration": 5,
    "start_time": "2022-01-12T13:49:27.244Z"
   },
   {
    "duration": 5,
    "start_time": "2022-01-12T13:49:29.972Z"
   },
   {
    "duration": 177,
    "start_time": "2022-01-12T13:49:34.673Z"
   },
   {
    "duration": 5,
    "start_time": "2022-01-12T13:49:46.413Z"
   },
   {
    "duration": 3945,
    "start_time": "2022-01-12T13:49:49.501Z"
   },
   {
    "duration": 16,
    "start_time": "2022-01-12T13:49:53.433Z"
   },
   {
    "duration": 14,
    "start_time": "2022-01-12T13:49:53.436Z"
   },
   {
    "duration": 13,
    "start_time": "2022-01-12T13:49:53.439Z"
   },
   {
    "duration": 10,
    "start_time": "2022-01-12T13:49:53.443Z"
   },
   {
    "duration": 8,
    "start_time": "2022-01-12T13:49:53.445Z"
   },
   {
    "duration": 5,
    "start_time": "2022-01-12T13:49:54.010Z"
   },
   {
    "duration": 5,
    "start_time": "2022-01-12T13:49:58.957Z"
   },
   {
    "duration": 3,
    "start_time": "2022-01-12T13:50:02.731Z"
   },
   {
    "duration": 147,
    "start_time": "2022-01-12T13:50:02.751Z"
   },
   {
    "duration": 11,
    "start_time": "2022-01-12T13:50:02.900Z"
   },
   {
    "duration": 29,
    "start_time": "2022-01-12T13:50:02.913Z"
   },
   {
    "duration": 4,
    "start_time": "2022-01-12T13:50:02.944Z"
   },
   {
    "duration": 41,
    "start_time": "2022-01-12T13:50:02.950Z"
   },
   {
    "duration": 4,
    "start_time": "2022-01-12T13:50:02.993Z"
   },
   {
    "duration": 29,
    "start_time": "2022-01-12T13:50:02.999Z"
   },
   {
    "duration": 17,
    "start_time": "2022-01-12T13:50:03.029Z"
   },
   {
    "duration": 21,
    "start_time": "2022-01-12T13:50:03.049Z"
   },
   {
    "duration": 55,
    "start_time": "2022-01-12T13:50:03.092Z"
   },
   {
    "duration": 68,
    "start_time": "2022-01-12T13:50:03.149Z"
   },
   {
    "duration": 51,
    "start_time": "2022-01-12T13:50:03.219Z"
   },
   {
    "duration": 50,
    "start_time": "2022-01-12T13:50:03.272Z"
   },
   {
    "duration": 198,
    "start_time": "2022-01-12T13:50:03.324Z"
   },
   {
    "duration": 124,
    "start_time": "2022-01-12T13:50:03.400Z"
   },
   {
    "duration": 119,
    "start_time": "2022-01-12T13:50:03.406Z"
   },
   {
    "duration": 118,
    "start_time": "2022-01-12T13:50:03.408Z"
   },
   {
    "duration": 116,
    "start_time": "2022-01-12T13:50:03.411Z"
   },
   {
    "duration": 115,
    "start_time": "2022-01-12T13:50:03.414Z"
   },
   {
    "duration": 112,
    "start_time": "2022-01-12T13:50:03.417Z"
   },
   {
    "duration": 110,
    "start_time": "2022-01-12T13:50:03.420Z"
   },
   {
    "duration": 109,
    "start_time": "2022-01-12T13:50:03.422Z"
   },
   {
    "duration": 107,
    "start_time": "2022-01-12T13:50:03.425Z"
   },
   {
    "duration": 106,
    "start_time": "2022-01-12T13:50:03.427Z"
   },
   {
    "duration": 104,
    "start_time": "2022-01-12T13:50:03.430Z"
   },
   {
    "duration": 103,
    "start_time": "2022-01-12T13:50:03.432Z"
   },
   {
    "duration": 101,
    "start_time": "2022-01-12T13:50:03.435Z"
   },
   {
    "duration": 100,
    "start_time": "2022-01-12T13:50:03.437Z"
   },
   {
    "duration": 98,
    "start_time": "2022-01-12T13:50:03.440Z"
   },
   {
    "duration": 97,
    "start_time": "2022-01-12T13:50:03.442Z"
   },
   {
    "duration": 96,
    "start_time": "2022-01-12T13:50:03.444Z"
   },
   {
    "duration": 94,
    "start_time": "2022-01-12T13:50:03.447Z"
   },
   {
    "duration": 66,
    "start_time": "2022-01-12T13:50:03.476Z"
   },
   {
    "duration": 64,
    "start_time": "2022-01-12T13:50:03.479Z"
   },
   {
    "duration": 61,
    "start_time": "2022-01-12T13:50:03.483Z"
   },
   {
    "duration": 58,
    "start_time": "2022-01-12T13:50:03.487Z"
   },
   {
    "duration": 55,
    "start_time": "2022-01-12T13:50:03.491Z"
   },
   {
    "duration": 187,
    "start_time": "2022-01-12T13:50:12.124Z"
   },
   {
    "duration": 3,
    "start_time": "2022-01-12T13:50:20.292Z"
   },
   {
    "duration": 127,
    "start_time": "2022-01-12T13:50:22.852Z"
   },
   {
    "duration": 10,
    "start_time": "2022-01-12T13:50:25.774Z"
   },
   {
    "duration": 24,
    "start_time": "2022-01-12T13:50:31.340Z"
   },
   {
    "duration": 4,
    "start_time": "2022-01-12T13:50:36.540Z"
   },
   {
    "duration": 15,
    "start_time": "2022-01-12T13:50:41.229Z"
   },
   {
    "duration": 4,
    "start_time": "2022-01-12T13:50:45.225Z"
   },
   {
    "duration": 24,
    "start_time": "2022-01-12T13:50:48.625Z"
   },
   {
    "duration": 18,
    "start_time": "2022-01-12T13:50:52.500Z"
   },
   {
    "duration": 22,
    "start_time": "2022-01-12T13:50:55.711Z"
   },
   {
    "duration": 54,
    "start_time": "2022-01-12T13:50:58.797Z"
   },
   {
    "duration": 56,
    "start_time": "2022-01-12T13:51:01.572Z"
   },
   {
    "duration": 51,
    "start_time": "2022-01-12T13:51:04.852Z"
   },
   {
    "duration": 42,
    "start_time": "2022-01-12T13:51:08.412Z"
   },
   {
    "duration": 171,
    "start_time": "2022-01-12T13:51:13.203Z"
   },
   {
    "duration": 142,
    "start_time": "2022-01-12T13:51:30.252Z"
   },
   {
    "duration": 11,
    "start_time": "2022-01-12T13:51:35.254Z"
   },
   {
    "duration": 45,
    "start_time": "2022-01-12T13:51:38.376Z"
   },
   {
    "duration": 185,
    "start_time": "2022-01-12T13:51:56.344Z"
   },
   {
    "duration": 3,
    "start_time": "2022-01-12T13:52:11.829Z"
   },
   {
    "duration": 138,
    "start_time": "2022-01-12T13:52:15.770Z"
   },
   {
    "duration": 3,
    "start_time": "2022-01-12T13:55:25.645Z"
   },
   {
    "duration": 181,
    "start_time": "2022-01-12T13:55:26.453Z"
   },
   {
    "duration": 12,
    "start_time": "2022-01-12T13:55:26.821Z"
   },
   {
    "duration": 24,
    "start_time": "2022-01-12T13:55:27.202Z"
   },
   {
    "duration": 5,
    "start_time": "2022-01-12T13:55:28.106Z"
   },
   {
    "duration": 16,
    "start_time": "2022-01-12T13:55:28.573Z"
   },
   {
    "duration": 5,
    "start_time": "2022-01-12T13:55:29.005Z"
   },
   {
    "duration": 26,
    "start_time": "2022-01-12T13:55:30.702Z"
   },
   {
    "duration": 22,
    "start_time": "2022-01-12T13:55:32.213Z"
   },
   {
    "duration": 24,
    "start_time": "2022-01-12T13:55:33.574Z"
   },
   {
    "duration": 55,
    "start_time": "2022-01-12T13:55:34.767Z"
   },
   {
    "duration": 63,
    "start_time": "2022-01-12T13:55:36.010Z"
   },
   {
    "duration": 50,
    "start_time": "2022-01-12T13:55:36.606Z"
   },
   {
    "duration": 40,
    "start_time": "2022-01-12T13:55:38.924Z"
   },
   {
    "duration": 136,
    "start_time": "2022-01-12T13:55:40.733Z"
   },
   {
    "duration": 10,
    "start_time": "2022-01-12T13:55:42.213Z"
   },
   {
    "duration": 41,
    "start_time": "2022-01-12T13:55:46.552Z"
   },
   {
    "duration": 849,
    "start_time": "2022-01-12T13:55:48.743Z"
   },
   {
    "duration": 461,
    "start_time": "2022-01-12T13:55:57.415Z"
   },
   {
    "duration": 227,
    "start_time": "2022-01-12T13:56:06.811Z"
   },
   {
    "duration": 3,
    "start_time": "2022-01-12T13:57:34.745Z"
   },
   {
    "duration": 137,
    "start_time": "2022-01-12T13:57:34.759Z"
   },
   {
    "duration": 9,
    "start_time": "2022-01-12T13:57:34.898Z"
   },
   {
    "duration": 24,
    "start_time": "2022-01-12T13:57:34.910Z"
   },
   {
    "duration": 4,
    "start_time": "2022-01-12T13:57:34.936Z"
   },
   {
    "duration": 15,
    "start_time": "2022-01-12T13:57:34.941Z"
   },
   {
    "duration": 3,
    "start_time": "2022-01-12T13:57:34.958Z"
   },
   {
    "duration": 49,
    "start_time": "2022-01-12T13:57:34.963Z"
   },
   {
    "duration": 20,
    "start_time": "2022-01-12T13:57:35.014Z"
   },
   {
    "duration": 21,
    "start_time": "2022-01-12T13:57:35.037Z"
   },
   {
    "duration": 80,
    "start_time": "2022-01-12T13:57:35.060Z"
   },
   {
    "duration": 70,
    "start_time": "2022-01-12T13:57:35.141Z"
   },
   {
    "duration": 53,
    "start_time": "2022-01-12T13:57:35.213Z"
   },
   {
    "duration": 48,
    "start_time": "2022-01-12T13:57:35.268Z"
   },
   {
    "duration": 135,
    "start_time": "2022-01-12T13:57:35.318Z"
   },
   {
    "duration": 10,
    "start_time": "2022-01-12T13:57:35.454Z"
   },
   {
    "duration": 55,
    "start_time": "2022-01-12T13:57:35.466Z"
   },
   {
    "duration": 172,
    "start_time": "2022-01-12T13:57:35.523Z"
   },
   {
    "duration": 161,
    "start_time": "2022-01-12T13:57:35.536Z"
   },
   {
    "duration": 138,
    "start_time": "2022-01-12T13:57:35.560Z"
   },
   {
    "duration": 107,
    "start_time": "2022-01-12T13:57:35.593Z"
   },
   {
    "duration": 100,
    "start_time": "2022-01-12T13:57:35.601Z"
   },
   {
    "duration": 98,
    "start_time": "2022-01-12T13:57:35.604Z"
   },
   {
    "duration": 89,
    "start_time": "2022-01-12T13:57:35.614Z"
   },
   {
    "duration": 87,
    "start_time": "2022-01-12T13:57:35.617Z"
   },
   {
    "duration": 85,
    "start_time": "2022-01-12T13:57:35.620Z"
   },
   {
    "duration": 84,
    "start_time": "2022-01-12T13:57:35.622Z"
   },
   {
    "duration": 81,
    "start_time": "2022-01-12T13:57:35.626Z"
   },
   {
    "duration": 80,
    "start_time": "2022-01-12T13:57:35.628Z"
   },
   {
    "duration": 78,
    "start_time": "2022-01-12T13:57:35.631Z"
   },
   {
    "duration": 76,
    "start_time": "2022-01-12T13:57:35.633Z"
   },
   {
    "duration": 74,
    "start_time": "2022-01-12T13:57:35.636Z"
   },
   {
    "duration": 73,
    "start_time": "2022-01-12T13:57:35.638Z"
   },
   {
    "duration": 71,
    "start_time": "2022-01-12T13:57:35.641Z"
   },
   {
    "duration": 69,
    "start_time": "2022-01-12T13:57:35.643Z"
   },
   {
    "duration": 66,
    "start_time": "2022-01-12T13:57:35.647Z"
   },
   {
    "duration": 65,
    "start_time": "2022-01-12T13:57:35.649Z"
   },
   {
    "duration": 63,
    "start_time": "2022-01-12T13:57:35.652Z"
   },
   {
    "duration": 188,
    "start_time": "2022-01-12T13:58:00.093Z"
   },
   {
    "duration": 248,
    "start_time": "2022-01-12T13:58:16.607Z"
   },
   {
    "duration": 180,
    "start_time": "2022-01-12T13:58:24.886Z"
   },
   {
    "duration": 15,
    "start_time": "2022-01-12T13:59:08.167Z"
   },
   {
    "duration": 5,
    "start_time": "2022-01-12T13:59:11.469Z"
   },
   {
    "duration": 24,
    "start_time": "2022-01-12T13:59:16.318Z"
   },
   {
    "duration": 17,
    "start_time": "2022-01-12T13:59:20.325Z"
   },
   {
    "duration": 22,
    "start_time": "2022-01-12T13:59:23.047Z"
   },
   {
    "duration": 56,
    "start_time": "2022-01-12T13:59:26.489Z"
   },
   {
    "duration": 58,
    "start_time": "2022-01-12T13:59:29.087Z"
   },
   {
    "duration": 57,
    "start_time": "2022-01-12T13:59:31.501Z"
   },
   {
    "duration": 38,
    "start_time": "2022-01-12T13:59:34.297Z"
   },
   {
    "duration": 135,
    "start_time": "2022-01-12T13:59:40.661Z"
   },
   {
    "duration": 10,
    "start_time": "2022-01-12T13:59:44.606Z"
   },
   {
    "duration": 42,
    "start_time": "2022-01-12T13:59:48.926Z"
   },
   {
    "duration": 182,
    "start_time": "2022-01-12T13:59:53.085Z"
   },
   {
    "duration": 16,
    "start_time": "2022-01-12T14:01:20.165Z"
   },
   {
    "duration": 18,
    "start_time": "2022-01-12T14:01:50.565Z"
   },
   {
    "duration": 11,
    "start_time": "2022-01-12T14:02:01.246Z"
   },
   {
    "duration": 12,
    "start_time": "2022-01-12T14:02:10.206Z"
   },
   {
    "duration": 4,
    "start_time": "2022-01-12T14:02:18.974Z"
   },
   {
    "duration": 19,
    "start_time": "2022-01-12T14:02:22.205Z"
   },
   {
    "duration": 23,
    "start_time": "2022-01-12T14:02:25.565Z"
   },
   {
    "duration": 15,
    "start_time": "2022-01-12T14:02:28.638Z"
   },
   {
    "duration": 15,
    "start_time": "2022-01-12T14:02:34.485Z"
   },
   {
    "duration": 18,
    "start_time": "2022-01-12T14:02:36.525Z"
   },
   {
    "duration": 14,
    "start_time": "2022-01-12T14:02:43.886Z"
   },
   {
    "duration": 9,
    "start_time": "2022-01-12T14:04:11.636Z"
   },
   {
    "duration": 7,
    "start_time": "2022-01-12T14:04:48.156Z"
   },
   {
    "duration": 3487,
    "start_time": "2022-01-12T14:07:07.515Z"
   },
   {
    "duration": 3605,
    "start_time": "2022-01-12T14:07:17.116Z"
   },
   {
    "duration": 5,
    "start_time": "2022-01-12T14:07:49.756Z"
   },
   {
    "duration": 8,
    "start_time": "2022-01-12T14:07:57.236Z"
   },
   {
    "duration": 215,
    "start_time": "2022-01-12T14:08:23.476Z"
   },
   {
    "duration": 243,
    "start_time": "2022-01-12T14:08:32.275Z"
   },
   {
    "duration": 210,
    "start_time": "2022-01-12T14:08:44.956Z"
   },
   {
    "duration": 7,
    "start_time": "2022-01-12T14:08:56.356Z"
   },
   {
    "duration": 523,
    "start_time": "2022-01-12T14:10:00.245Z"
   },
   {
    "duration": 7,
    "start_time": "2022-01-12T14:10:13.115Z"
   },
   {
    "duration": 10,
    "start_time": "2022-01-12T14:10:41.637Z"
   },
   {
    "duration": 184,
    "start_time": "2022-01-12T14:11:06.675Z"
   },
   {
    "duration": 9,
    "start_time": "2022-01-12T14:11:15.996Z"
   },
   {
    "duration": 9,
    "start_time": "2022-01-12T14:11:38.644Z"
   },
   {
    "duration": 9,
    "start_time": "2022-01-12T14:11:50.756Z"
   },
   {
    "duration": 9,
    "start_time": "2022-01-12T14:12:03.676Z"
   },
   {
    "duration": 8,
    "start_time": "2022-01-12T14:12:10.796Z"
   },
   {
    "duration": 8,
    "start_time": "2022-01-12T14:12:18.296Z"
   },
   {
    "duration": 5,
    "start_time": "2022-01-12T14:13:38.676Z"
   },
   {
    "duration": 183,
    "start_time": "2022-01-12T14:13:47.377Z"
   },
   {
    "duration": 8,
    "start_time": "2022-01-12T14:14:05.155Z"
   },
   {
    "duration": 4,
    "start_time": "2022-01-12T14:15:25.448Z"
   },
   {
    "duration": 69,
    "start_time": "2022-01-12T14:20:29.305Z"
   },
   {
    "duration": 57,
    "start_time": "2022-01-12T14:20:50.351Z"
   },
   {
    "duration": 9,
    "start_time": "2022-01-12T14:26:32.056Z"
   },
   {
    "duration": 95,
    "start_time": "2022-01-12T14:30:51.152Z"
   },
   {
    "duration": 182,
    "start_time": "2022-01-12T14:35:10.091Z"
   },
   {
    "duration": 182,
    "start_time": "2022-01-12T14:35:39.530Z"
   },
   {
    "duration": 364,
    "start_time": "2022-01-12T14:37:58.769Z"
   },
   {
    "duration": 345,
    "start_time": "2022-01-12T14:38:27.849Z"
   },
   {
    "duration": 425,
    "start_time": "2022-01-12T14:38:46.219Z"
   },
   {
    "duration": 381,
    "start_time": "2022-01-12T14:38:56.880Z"
   },
   {
    "duration": 69,
    "start_time": "2022-01-12T14:56:19.982Z"
   },
   {
    "duration": 66,
    "start_time": "2022-01-12T14:59:47.127Z"
   },
   {
    "duration": 369,
    "start_time": "2022-01-12T15:00:07.613Z"
   },
   {
    "duration": 381,
    "start_time": "2022-01-12T15:02:18.085Z"
   },
   {
    "duration": 367,
    "start_time": "2022-01-12T15:02:44.211Z"
   },
   {
    "duration": 354,
    "start_time": "2022-01-12T15:03:14.487Z"
   },
   {
    "duration": 4,
    "start_time": "2022-01-12T15:04:06.813Z"
   },
   {
    "duration": 4,
    "start_time": "2022-01-12T15:04:27.205Z"
   },
   {
    "duration": 4,
    "start_time": "2022-01-12T15:05:12.839Z"
   },
   {
    "duration": 4608,
    "start_time": "2022-01-12T15:07:53.881Z"
   },
   {
    "duration": 104,
    "start_time": "2022-01-12T15:07:58.387Z"
   },
   {
    "duration": 102,
    "start_time": "2022-01-12T15:07:58.390Z"
   },
   {
    "duration": 97,
    "start_time": "2022-01-12T15:07:58.396Z"
   },
   {
    "duration": 6,
    "start_time": "2022-01-12T15:08:10.361Z"
   },
   {
    "duration": 4,
    "start_time": "2022-01-12T15:10:03.771Z"
   },
   {
    "duration": 4,
    "start_time": "2022-01-12T15:10:24.235Z"
   },
   {
    "duration": 4,
    "start_time": "2022-01-12T15:10:31.244Z"
   },
   {
    "duration": 4,
    "start_time": "2022-01-12T15:10:33.919Z"
   },
   {
    "duration": 4,
    "start_time": "2022-01-12T15:10:39.629Z"
   },
   {
    "duration": 4,
    "start_time": "2022-01-12T15:10:40.636Z"
   },
   {
    "duration": 3,
    "start_time": "2022-01-12T15:10:48.853Z"
   },
   {
    "duration": 145,
    "start_time": "2022-01-12T15:10:48.858Z"
   },
   {
    "duration": 11,
    "start_time": "2022-01-12T15:10:49.005Z"
   },
   {
    "duration": 27,
    "start_time": "2022-01-12T15:10:49.018Z"
   },
   {
    "duration": 6,
    "start_time": "2022-01-12T15:10:49.047Z"
   },
   {
    "duration": 48,
    "start_time": "2022-01-12T15:10:49.055Z"
   },
   {
    "duration": 4,
    "start_time": "2022-01-12T15:10:49.105Z"
   },
   {
    "duration": 25,
    "start_time": "2022-01-12T15:10:49.110Z"
   },
   {
    "duration": 18,
    "start_time": "2022-01-12T15:10:49.138Z"
   },
   {
    "duration": 48,
    "start_time": "2022-01-12T15:10:49.158Z"
   },
   {
    "duration": 60,
    "start_time": "2022-01-12T15:10:49.208Z"
   },
   {
    "duration": 72,
    "start_time": "2022-01-12T15:10:49.270Z"
   },
   {
    "duration": 65,
    "start_time": "2022-01-12T15:10:49.344Z"
   },
   {
    "duration": 40,
    "start_time": "2022-01-12T15:10:49.411Z"
   },
   {
    "duration": 143,
    "start_time": "2022-01-12T15:10:49.452Z"
   },
   {
    "duration": 9,
    "start_time": "2022-01-12T15:10:49.597Z"
   },
   {
    "duration": 52,
    "start_time": "2022-01-12T15:10:49.608Z"
   },
   {
    "duration": 180,
    "start_time": "2022-01-12T15:10:49.661Z"
   },
   {
    "duration": 160,
    "start_time": "2022-01-12T15:10:49.683Z"
   },
   {
    "duration": 153,
    "start_time": "2022-01-12T15:10:49.691Z"
   },
   {
    "duration": 135,
    "start_time": "2022-01-12T15:10:49.710Z"
   },
   {
    "duration": 131,
    "start_time": "2022-01-12T15:10:49.715Z"
   },
   {
    "duration": 130,
    "start_time": "2022-01-12T15:10:49.717Z"
   },
   {
    "duration": 128,
    "start_time": "2022-01-12T15:10:49.720Z"
   },
   {
    "duration": 127,
    "start_time": "2022-01-12T15:10:49.723Z"
   },
   {
    "duration": 125,
    "start_time": "2022-01-12T15:10:49.726Z"
   },
   {
    "duration": 124,
    "start_time": "2022-01-12T15:10:49.728Z"
   },
   {
    "duration": 122,
    "start_time": "2022-01-12T15:10:49.731Z"
   },
   {
    "duration": 122,
    "start_time": "2022-01-12T15:10:49.733Z"
   },
   {
    "duration": 121,
    "start_time": "2022-01-12T15:10:49.736Z"
   },
   {
    "duration": 119,
    "start_time": "2022-01-12T15:10:49.739Z"
   },
   {
    "duration": 118,
    "start_time": "2022-01-12T15:10:49.742Z"
   },
   {
    "duration": 118,
    "start_time": "2022-01-12T15:10:49.744Z"
   },
   {
    "duration": 116,
    "start_time": "2022-01-12T15:10:49.747Z"
   },
   {
    "duration": 115,
    "start_time": "2022-01-12T15:10:49.750Z"
   },
   {
    "duration": 114,
    "start_time": "2022-01-12T15:10:49.752Z"
   },
   {
    "duration": 113,
    "start_time": "2022-01-12T15:10:49.755Z"
   },
   {
    "duration": 111,
    "start_time": "2022-01-12T15:10:49.758Z"
   },
   {
    "duration": 2,
    "start_time": "2022-01-12T15:10:56.692Z"
   },
   {
    "duration": 137,
    "start_time": "2022-01-12T15:10:59.611Z"
   },
   {
    "duration": 12,
    "start_time": "2022-01-12T15:11:02.196Z"
   },
   {
    "duration": 24,
    "start_time": "2022-01-12T15:11:03.636Z"
   },
   {
    "duration": 4,
    "start_time": "2022-01-12T15:11:06.428Z"
   },
   {
    "duration": 21,
    "start_time": "2022-01-12T15:11:08.123Z"
   },
   {
    "duration": 5,
    "start_time": "2022-01-12T15:11:09.068Z"
   },
   {
    "duration": 25,
    "start_time": "2022-01-12T15:11:10.276Z"
   },
   {
    "duration": 18,
    "start_time": "2022-01-12T15:11:12.436Z"
   },
   {
    "duration": 25,
    "start_time": "2022-01-12T15:11:13.846Z"
   },
   {
    "duration": 57,
    "start_time": "2022-01-12T15:11:15.348Z"
   },
   {
    "duration": 58,
    "start_time": "2022-01-12T15:11:16.476Z"
   },
   {
    "duration": 59,
    "start_time": "2022-01-12T15:11:18.068Z"
   },
   {
    "duration": 42,
    "start_time": "2022-01-12T15:11:19.988Z"
   },
   {
    "duration": 142,
    "start_time": "2022-01-12T15:11:21.637Z"
   },
   {
    "duration": 11,
    "start_time": "2022-01-12T15:11:23.516Z"
   },
   {
    "duration": 47,
    "start_time": "2022-01-12T15:11:25.355Z"
   },
   {
    "duration": 185,
    "start_time": "2022-01-12T15:11:30.267Z"
   },
   {
    "duration": 21,
    "start_time": "2022-01-12T15:12:47.763Z"
   },
   {
    "duration": 24,
    "start_time": "2022-01-12T15:12:47.787Z"
   },
   {
    "duration": 24,
    "start_time": "2022-01-12T15:12:49.556Z"
   },
   {
    "duration": 19,
    "start_time": "2022-01-12T15:12:52.565Z"
   },
   {
    "duration": 24,
    "start_time": "2022-01-12T15:12:52.586Z"
   },
   {
    "duration": 58,
    "start_time": "2022-01-12T15:12:53.155Z"
   },
   {
    "duration": 59,
    "start_time": "2022-01-12T15:12:54.147Z"
   },
   {
    "duration": 54,
    "start_time": "2022-01-12T15:12:55.029Z"
   },
   {
    "duration": 42,
    "start_time": "2022-01-12T15:12:56.507Z"
   },
   {
    "duration": 141,
    "start_time": "2022-01-12T15:12:57.987Z"
   },
   {
    "duration": 11,
    "start_time": "2022-01-12T15:12:59.108Z"
   },
   {
    "duration": 43,
    "start_time": "2022-01-12T15:13:01.001Z"
   },
   {
    "duration": 184,
    "start_time": "2022-01-12T15:13:04.604Z"
   },
   {
    "duration": 188,
    "start_time": "2022-01-12T15:13:16.389Z"
   },
   {
    "duration": 189,
    "start_time": "2022-01-12T15:13:43.316Z"
   },
   {
    "duration": 2,
    "start_time": "2022-01-12T15:17:20.949Z"
   },
   {
    "duration": 155,
    "start_time": "2022-01-12T15:17:20.956Z"
   },
   {
    "duration": 11,
    "start_time": "2022-01-12T15:17:21.112Z"
   },
   {
    "duration": 26,
    "start_time": "2022-01-12T15:17:21.125Z"
   },
   {
    "duration": 7,
    "start_time": "2022-01-12T15:17:21.153Z"
   },
   {
    "duration": 41,
    "start_time": "2022-01-12T15:17:21.162Z"
   },
   {
    "duration": 6,
    "start_time": "2022-01-12T15:17:21.204Z"
   },
   {
    "duration": 25,
    "start_time": "2022-01-12T15:17:21.212Z"
   },
   {
    "duration": 21,
    "start_time": "2022-01-12T15:17:21.238Z"
   },
   {
    "duration": 36,
    "start_time": "2022-01-12T15:17:21.269Z"
   },
   {
    "duration": 56,
    "start_time": "2022-01-12T15:17:21.307Z"
   },
   {
    "duration": 75,
    "start_time": "2022-01-12T15:17:21.365Z"
   },
   {
    "duration": 64,
    "start_time": "2022-01-12T15:17:21.442Z"
   },
   {
    "duration": 39,
    "start_time": "2022-01-12T15:17:21.508Z"
   },
   {
    "duration": 145,
    "start_time": "2022-01-12T15:17:21.549Z"
   },
   {
    "duration": 11,
    "start_time": "2022-01-12T15:17:21.697Z"
   },
   {
    "duration": 55,
    "start_time": "2022-01-12T15:17:21.710Z"
   },
   {
    "duration": 206,
    "start_time": "2022-01-12T15:17:21.766Z"
   },
   {
    "duration": 127,
    "start_time": "2022-01-12T15:17:21.847Z"
   },
   {
    "duration": 127,
    "start_time": "2022-01-12T15:17:21.849Z"
   },
   {
    "duration": 123,
    "start_time": "2022-01-12T15:17:21.853Z"
   },
   {
    "duration": 122,
    "start_time": "2022-01-12T15:17:21.856Z"
   },
   {
    "duration": 78,
    "start_time": "2022-01-12T15:17:21.900Z"
   },
   {
    "duration": 76,
    "start_time": "2022-01-12T15:17:21.904Z"
   },
   {
    "duration": 74,
    "start_time": "2022-01-12T15:17:21.907Z"
   },
   {
    "duration": 71,
    "start_time": "2022-01-12T15:17:21.911Z"
   },
   {
    "duration": 69,
    "start_time": "2022-01-12T15:17:21.914Z"
   },
   {
    "duration": 60,
    "start_time": "2022-01-12T15:17:21.924Z"
   },
   {
    "duration": 58,
    "start_time": "2022-01-12T15:17:21.927Z"
   },
   {
    "duration": 56,
    "start_time": "2022-01-12T15:17:21.930Z"
   },
   {
    "duration": 54,
    "start_time": "2022-01-12T15:17:21.932Z"
   },
   {
    "duration": 52,
    "start_time": "2022-01-12T15:17:21.935Z"
   },
   {
    "duration": 50,
    "start_time": "2022-01-12T15:17:21.938Z"
   },
   {
    "duration": 49,
    "start_time": "2022-01-12T15:17:21.940Z"
   },
   {
    "duration": 49,
    "start_time": "2022-01-12T15:17:21.942Z"
   },
   {
    "duration": 29,
    "start_time": "2022-01-12T15:17:21.963Z"
   },
   {
    "duration": 17,
    "start_time": "2022-01-12T15:17:21.976Z"
   },
   {
    "duration": 10,
    "start_time": "2022-01-12T15:17:21.984Z"
   },
   {
    "duration": 3,
    "start_time": "2022-01-12T15:17:35.405Z"
   },
   {
    "duration": 124,
    "start_time": "2022-01-12T15:17:36.964Z"
   },
   {
    "duration": 11,
    "start_time": "2022-01-12T15:17:38.108Z"
   },
   {
    "duration": 24,
    "start_time": "2022-01-12T15:17:39.797Z"
   },
   {
    "duration": 4,
    "start_time": "2022-01-12T15:17:44.526Z"
   },
   {
    "duration": 22,
    "start_time": "2022-01-12T15:17:44.533Z"
   },
   {
    "duration": 4,
    "start_time": "2022-01-12T15:17:44.574Z"
   },
   {
    "duration": 22,
    "start_time": "2022-01-12T15:17:45.886Z"
   },
   {
    "duration": 16,
    "start_time": "2022-01-12T15:17:47.560Z"
   },
   {
    "duration": 23,
    "start_time": "2022-01-12T15:17:48.788Z"
   },
   {
    "duration": 55,
    "start_time": "2022-01-12T15:17:49.897Z"
   },
   {
    "duration": 56,
    "start_time": "2022-01-12T15:17:51.125Z"
   },
   {
    "duration": 51,
    "start_time": "2022-01-12T15:17:52.149Z"
   },
   {
    "duration": 42,
    "start_time": "2022-01-12T15:17:53.956Z"
   },
   {
    "duration": 135,
    "start_time": "2022-01-12T15:17:54.876Z"
   },
   {
    "duration": 11,
    "start_time": "2022-01-12T15:17:56.105Z"
   },
   {
    "duration": 45,
    "start_time": "2022-01-12T15:17:57.509Z"
   },
   {
    "duration": 220,
    "start_time": "2022-01-12T15:18:01.308Z"
   },
   {
    "duration": 181,
    "start_time": "2022-01-12T15:18:10.997Z"
   },
   {
    "duration": 173,
    "start_time": "2022-01-12T15:18:15.699Z"
   },
   {
    "duration": 4,
    "start_time": "2022-01-12T15:18:18.318Z"
   },
   {
    "duration": 5404,
    "start_time": "2022-01-12T15:18:19.428Z"
   },
   {
    "duration": 69,
    "start_time": "2022-01-12T15:18:24.765Z"
   },
   {
    "duration": 66,
    "start_time": "2022-01-12T15:18:24.769Z"
   },
   {
    "duration": 60,
    "start_time": "2022-01-12T15:18:24.776Z"
   },
   {
    "duration": 55,
    "start_time": "2022-01-12T15:18:24.782Z"
   },
   {
    "duration": 52,
    "start_time": "2022-01-12T15:18:24.785Z"
   },
   {
    "duration": 5,
    "start_time": "2022-01-12T15:24:40.708Z"
   },
   {
    "duration": 4,
    "start_time": "2022-01-12T15:24:58.427Z"
   },
   {
    "duration": 15,
    "start_time": "2022-01-12T15:25:03.510Z"
   },
   {
    "duration": 5,
    "start_time": "2022-01-12T15:25:07.036Z"
   },
   {
    "duration": 22,
    "start_time": "2022-01-12T15:25:12.068Z"
   },
   {
    "duration": 12,
    "start_time": "2022-01-12T15:25:21.316Z"
   },
   {
    "duration": 12,
    "start_time": "2022-01-12T15:25:31.840Z"
   },
   {
    "duration": 4,
    "start_time": "2022-01-12T15:25:36.164Z"
   },
   {
    "duration": 25,
    "start_time": "2022-01-12T15:25:39.276Z"
   },
   {
    "duration": 14,
    "start_time": "2022-01-12T15:25:42.268Z"
   },
   {
    "duration": 15,
    "start_time": "2022-01-12T15:25:42.716Z"
   },
   {
    "duration": 15,
    "start_time": "2022-01-12T15:25:43.096Z"
   },
   {
    "duration": 26,
    "start_time": "2022-01-12T15:25:43.517Z"
   },
   {
    "duration": 16,
    "start_time": "2022-01-12T15:25:44.152Z"
   },
   {
    "duration": 12,
    "start_time": "2022-01-12T15:25:45.708Z"
   },
   {
    "duration": 4,
    "start_time": "2022-01-12T15:25:48.956Z"
   },
   {
    "duration": 4,
    "start_time": "2022-01-12T15:25:50.428Z"
   },
   {
    "duration": 3,
    "start_time": "2022-01-12T15:25:53.684Z"
   },
   {
    "duration": 4426,
    "start_time": "2022-01-12T15:25:56.436Z"
   },
   {
    "duration": 3,
    "start_time": "2022-01-12T15:28:07.595Z"
   },
   {
    "duration": 4,
    "start_time": "2022-01-12T15:28:14.036Z"
   },
   {
    "duration": 4,
    "start_time": "2022-01-12T15:28:17.405Z"
   },
   {
    "duration": 2580,
    "start_time": "2022-01-12T15:28:20.158Z"
   },
   {
    "duration": 5,
    "start_time": "2022-01-12T15:29:47.964Z"
   },
   {
    "duration": 3,
    "start_time": "2022-01-12T15:35:56.639Z"
   },
   {
    "duration": 4854,
    "start_time": "2022-01-12T15:36:02.119Z"
   },
   {
    "duration": 3,
    "start_time": "2022-01-12T15:36:14.440Z"
   },
   {
    "duration": 4362,
    "start_time": "2022-01-12T15:36:21.878Z"
   },
   {
    "duration": 172,
    "start_time": "2022-01-12T15:36:39.069Z"
   },
   {
    "duration": 4,
    "start_time": "2022-01-12T15:36:49.432Z"
   },
   {
    "duration": 4,
    "start_time": "2022-01-12T15:36:53.153Z"
   },
   {
    "duration": 4,
    "start_time": "2022-01-12T15:36:56.637Z"
   },
   {
    "duration": 4,
    "start_time": "2022-01-12T15:37:11.999Z"
   },
   {
    "duration": 4,
    "start_time": "2022-01-12T15:37:13.799Z"
   },
   {
    "duration": 4,
    "start_time": "2022-01-12T15:37:24.040Z"
   },
   {
    "duration": 212,
    "start_time": "2022-01-12T15:39:46.798Z"
   },
   {
    "duration": 4,
    "start_time": "2022-01-12T15:41:52.200Z"
   },
   {
    "duration": 177,
    "start_time": "2022-01-12T15:42:38.813Z"
   },
   {
    "duration": 3,
    "start_time": "2022-01-12T15:48:51.667Z"
   },
   {
    "duration": 126,
    "start_time": "2022-01-12T15:48:53.485Z"
   },
   {
    "duration": 11,
    "start_time": "2022-01-12T15:48:54.666Z"
   },
   {
    "duration": 26,
    "start_time": "2022-01-12T15:48:55.852Z"
   },
   {
    "duration": 4,
    "start_time": "2022-01-12T15:48:57.827Z"
   },
   {
    "duration": 14,
    "start_time": "2022-01-12T15:49:00.955Z"
   },
   {
    "duration": 5,
    "start_time": "2022-01-12T15:49:02.067Z"
   },
   {
    "duration": 23,
    "start_time": "2022-01-12T15:49:04.155Z"
   },
   {
    "duration": 17,
    "start_time": "2022-01-12T15:49:06.235Z"
   },
   {
    "duration": 23,
    "start_time": "2022-01-12T15:49:07.627Z"
   },
   {
    "duration": 59,
    "start_time": "2022-01-12T15:49:09.042Z"
   },
   {
    "duration": 76,
    "start_time": "2022-01-12T15:49:11.794Z"
   },
   {
    "duration": 51,
    "start_time": "2022-01-12T15:49:12.837Z"
   },
   {
    "duration": 39,
    "start_time": "2022-01-12T15:49:14.474Z"
   },
   {
    "duration": 130,
    "start_time": "2022-01-12T15:49:16.275Z"
   },
   {
    "duration": 10,
    "start_time": "2022-01-12T15:49:17.584Z"
   },
   {
    "duration": 43,
    "start_time": "2022-01-12T15:49:19.191Z"
   },
   {
    "duration": 219,
    "start_time": "2022-01-12T15:49:22.841Z"
   },
   {
    "duration": 576,
    "start_time": "2022-01-12T15:49:47.599Z"
   },
   {
    "duration": 135,
    "start_time": "2022-01-12T15:49:52.248Z"
   },
   {
    "duration": 17,
    "start_time": "2022-01-12T15:49:53.642Z"
   },
   {
    "duration": 24,
    "start_time": "2022-01-12T15:49:54.870Z"
   },
   {
    "duration": 4,
    "start_time": "2022-01-12T15:49:58.487Z"
   },
   {
    "duration": 23,
    "start_time": "2022-01-12T15:50:01.399Z"
   },
   {
    "duration": 4,
    "start_time": "2022-01-12T15:50:01.471Z"
   },
   {
    "duration": 23,
    "start_time": "2022-01-12T15:50:03.159Z"
   },
   {
    "duration": 18,
    "start_time": "2022-01-12T15:50:04.879Z"
   },
   {
    "duration": 23,
    "start_time": "2022-01-12T15:50:06.278Z"
   },
   {
    "duration": 61,
    "start_time": "2022-01-12T15:50:07.599Z"
   },
   {
    "duration": 62,
    "start_time": "2022-01-12T15:50:08.879Z"
   },
   {
    "duration": 54,
    "start_time": "2022-01-12T15:50:09.911Z"
   },
   {
    "duration": 40,
    "start_time": "2022-01-12T15:50:12.279Z"
   },
   {
    "duration": 135,
    "start_time": "2022-01-12T15:50:13.839Z"
   },
   {
    "duration": 10,
    "start_time": "2022-01-12T15:50:15.550Z"
   },
   {
    "duration": 45,
    "start_time": "2022-01-12T15:50:17.199Z"
   },
   {
    "duration": 230,
    "start_time": "2022-01-12T15:50:22.279Z"
   },
   {
    "duration": 185,
    "start_time": "2022-01-12T15:50:25.286Z"
   },
   {
    "duration": 179,
    "start_time": "2022-01-12T16:02:16.711Z"
   },
   {
    "duration": 4,
    "start_time": "2022-01-12T16:02:22.973Z"
   },
   {
    "duration": 4,
    "start_time": "2022-01-12T16:03:25.799Z"
   },
   {
    "duration": 26,
    "start_time": "2022-01-12T16:03:55.039Z"
   },
   {
    "duration": 10,
    "start_time": "2022-01-12T16:04:47.021Z"
   },
   {
    "duration": 3,
    "start_time": "2022-01-12T16:04:51.681Z"
   },
   {
    "duration": 17,
    "start_time": "2022-01-12T16:04:54.631Z"
   },
   {
    "duration": 11,
    "start_time": "2022-01-12T16:05:00.656Z"
   },
   {
    "duration": 3,
    "start_time": "2022-01-12T16:05:04.080Z"
   },
   {
    "duration": 3,
    "start_time": "2022-01-12T16:05:07.071Z"
   },
   {
    "duration": 4,
    "start_time": "2022-01-12T16:05:10.008Z"
   },
   {
    "duration": 2517,
    "start_time": "2022-01-12T16:05:12.752Z"
   },
   {
    "duration": 4,
    "start_time": "2022-01-12T16:05:34.560Z"
   },
   {
    "duration": 4,
    "start_time": "2022-01-12T16:05:35.111Z"
   },
   {
    "duration": 4,
    "start_time": "2022-01-12T16:05:36.923Z"
   },
   {
    "duration": 5030,
    "start_time": "2022-01-12T16:05:38.960Z"
   },
   {
    "duration": 700,
    "start_time": "2022-01-12T16:06:46.799Z"
   },
   {
    "duration": 790,
    "start_time": "2022-01-12T16:07:33.639Z"
   },
   {
    "duration": 5,
    "start_time": "2022-01-12T16:07:50.919Z"
   },
   {
    "duration": 182,
    "start_time": "2022-01-12T16:08:06.318Z"
   },
   {
    "duration": 198,
    "start_time": "2022-01-12T16:08:16.111Z"
   },
   {
    "duration": 537,
    "start_time": "2022-01-12T16:08:36.320Z"
   },
   {
    "duration": 140,
    "start_time": "2022-01-12T16:08:37.705Z"
   },
   {
    "duration": 18,
    "start_time": "2022-01-12T16:08:39.959Z"
   },
   {
    "duration": 25,
    "start_time": "2022-01-12T16:08:41.119Z"
   },
   {
    "duration": 4,
    "start_time": "2022-01-12T16:08:44.038Z"
   },
   {
    "duration": 23,
    "start_time": "2022-01-12T16:08:47.591Z"
   },
   {
    "duration": 5,
    "start_time": "2022-01-12T16:08:53.119Z"
   },
   {
    "duration": 22,
    "start_time": "2022-01-12T16:08:55.127Z"
   },
   {
    "duration": 17,
    "start_time": "2022-01-12T16:08:56.568Z"
   },
   {
    "duration": 39,
    "start_time": "2022-01-12T16:08:56.879Z"
   },
   {
    "duration": 63,
    "start_time": "2022-01-12T16:08:57.918Z"
   },
   {
    "duration": 57,
    "start_time": "2022-01-12T16:08:58.711Z"
   },
   {
    "duration": 53,
    "start_time": "2022-01-12T16:09:00.271Z"
   },
   {
    "duration": 41,
    "start_time": "2022-01-12T16:09:00.951Z"
   },
   {
    "duration": 143,
    "start_time": "2022-01-12T16:09:02.639Z"
   },
   {
    "duration": 11,
    "start_time": "2022-01-12T16:09:04.438Z"
   },
   {
    "duration": 45,
    "start_time": "2022-01-12T16:09:05.710Z"
   },
   {
    "duration": 26,
    "start_time": "2022-01-12T16:09:11.599Z"
   },
   {
    "duration": 4,
    "start_time": "2022-01-12T16:09:15.519Z"
   },
   {
    "duration": 12,
    "start_time": "2022-01-12T16:09:17.887Z"
   },
   {
    "duration": 4,
    "start_time": "2022-01-12T16:09:19.887Z"
   },
   {
    "duration": 18,
    "start_time": "2022-01-12T16:09:21.435Z"
   },
   {
    "duration": 15,
    "start_time": "2022-01-12T16:09:22.271Z"
   },
   {
    "duration": 17,
    "start_time": "2022-01-12T16:09:22.831Z"
   },
   {
    "duration": 28,
    "start_time": "2022-01-12T16:09:23.478Z"
   },
   {
    "duration": 18,
    "start_time": "2022-01-12T16:09:23.870Z"
   },
   {
    "duration": 16,
    "start_time": "2022-01-12T16:09:24.430Z"
   },
   {
    "duration": 18,
    "start_time": "2022-01-12T16:09:27.711Z"
   },
   {
    "duration": 4,
    "start_time": "2022-01-12T16:09:31.197Z"
   },
   {
    "duration": 4,
    "start_time": "2022-01-12T16:09:49.438Z"
   },
   {
    "duration": 4,
    "start_time": "2022-01-12T16:09:52.241Z"
   },
   {
    "duration": 4562,
    "start_time": "2022-01-12T16:09:55.639Z"
   },
   {
    "duration": 7,
    "start_time": "2022-01-12T16:17:41.054Z"
   },
   {
    "duration": 6,
    "start_time": "2022-01-12T16:20:41.200Z"
   },
   {
    "duration": 4,
    "start_time": "2022-01-12T16:21:17.111Z"
   },
   {
    "duration": 4,
    "start_time": "2022-01-12T16:21:19.519Z"
   },
   {
    "duration": 4515,
    "start_time": "2022-01-12T16:29:40.377Z"
   },
   {
    "duration": 4773,
    "start_time": "2022-01-12T16:32:15.229Z"
   },
   {
    "duration": 5258,
    "start_time": "2022-01-12T16:32:26.027Z"
   },
   {
    "duration": 4,
    "start_time": "2022-01-12T16:33:17.428Z"
   },
   {
    "duration": 4572,
    "start_time": "2022-01-12T16:33:20.600Z"
   },
   {
    "duration": 5,
    "start_time": "2022-01-12T16:42:37.080Z"
   },
   {
    "duration": 8,
    "start_time": "2022-01-12T16:48:07.961Z"
   },
   {
    "duration": 4,
    "start_time": "2022-01-12T16:48:14.960Z"
   },
   {
    "duration": 4,
    "start_time": "2022-01-12T16:48:15.481Z"
   },
   {
    "duration": 4,
    "start_time": "2022-01-12T16:48:16.563Z"
   },
   {
    "duration": 3,
    "start_time": "2022-01-12T16:48:48.520Z"
   },
   {
    "duration": 143,
    "start_time": "2022-01-12T16:48:48.525Z"
   },
   {
    "duration": 23,
    "start_time": "2022-01-12T16:48:48.670Z"
   },
   {
    "duration": 25,
    "start_time": "2022-01-12T16:48:48.695Z"
   },
   {
    "duration": 4,
    "start_time": "2022-01-12T16:48:48.722Z"
   },
   {
    "duration": 20,
    "start_time": "2022-01-12T16:48:48.727Z"
   },
   {
    "duration": 4,
    "start_time": "2022-01-12T16:48:48.749Z"
   },
   {
    "duration": 51,
    "start_time": "2022-01-12T16:48:48.754Z"
   },
   {
    "duration": 18,
    "start_time": "2022-01-12T16:48:48.807Z"
   },
   {
    "duration": 22,
    "start_time": "2022-01-12T16:48:48.827Z"
   },
   {
    "duration": 69,
    "start_time": "2022-01-12T16:48:48.851Z"
   },
   {
    "duration": 55,
    "start_time": "2022-01-12T16:48:48.921Z"
   },
   {
    "duration": 59,
    "start_time": "2022-01-12T16:48:48.978Z"
   },
   {
    "duration": 54,
    "start_time": "2022-01-12T16:48:49.038Z"
   },
   {
    "duration": 127,
    "start_time": "2022-01-12T16:48:49.094Z"
   },
   {
    "duration": 10,
    "start_time": "2022-01-12T16:48:49.222Z"
   },
   {
    "duration": 44,
    "start_time": "2022-01-12T16:48:49.233Z"
   },
   {
    "duration": 33,
    "start_time": "2022-01-12T16:48:49.279Z"
   },
   {
    "duration": 4,
    "start_time": "2022-01-12T16:48:49.313Z"
   },
   {
    "duration": 13,
    "start_time": "2022-01-12T16:48:49.318Z"
   },
   {
    "duration": 3,
    "start_time": "2022-01-12T16:48:49.332Z"
   },
   {
    "duration": 16,
    "start_time": "2022-01-12T16:48:49.337Z"
   },
   {
    "duration": 42,
    "start_time": "2022-01-12T16:48:49.355Z"
   },
   {
    "duration": 14,
    "start_time": "2022-01-12T16:48:49.398Z"
   },
   {
    "duration": 13,
    "start_time": "2022-01-12T16:48:49.414Z"
   },
   {
    "duration": 24,
    "start_time": "2022-01-12T16:48:49.428Z"
   },
   {
    "duration": 35,
    "start_time": "2022-01-12T16:48:49.455Z"
   },
   {
    "duration": 10,
    "start_time": "2022-01-12T16:48:49.492Z"
   },
   {
    "duration": 22,
    "start_time": "2022-01-12T16:48:49.503Z"
   },
   {
    "duration": 18,
    "start_time": "2022-01-12T16:48:49.527Z"
   },
   {
    "duration": 19,
    "start_time": "2022-01-12T16:48:49.547Z"
   },
   {
    "duration": 37,
    "start_time": "2022-01-12T16:48:49.568Z"
   },
   {
    "duration": 14,
    "start_time": "2022-01-12T16:48:49.606Z"
   },
   {
    "duration": 37,
    "start_time": "2022-01-12T16:48:49.621Z"
   },
   {
    "duration": 36,
    "start_time": "2022-01-12T16:48:49.660Z"
   },
   {
    "duration": 12,
    "start_time": "2022-01-12T16:48:49.698Z"
   },
   {
    "duration": 47,
    "start_time": "2022-01-12T16:48:49.711Z"
   },
   {
    "duration": 175,
    "start_time": "2022-01-12T16:48:49.759Z"
   },
   {
    "duration": 161,
    "start_time": "2022-01-12T16:48:49.775Z"
   },
   {
    "duration": 160,
    "start_time": "2022-01-12T16:48:49.778Z"
   },
   {
    "duration": 24,
    "start_time": "2022-01-12T16:54:11.040Z"
   },
   {
    "duration": 32,
    "start_time": "2022-01-12T16:54:42.400Z"
   },
   {
    "duration": 236,
    "start_time": "2022-01-12T16:56:38.592Z"
   },
   {
    "duration": 23,
    "start_time": "2022-01-12T16:57:09.401Z"
   },
   {
    "duration": 24,
    "start_time": "2022-01-12T16:57:31.161Z"
   },
   {
    "duration": 335,
    "start_time": "2022-01-12T16:58:25.401Z"
   },
   {
    "duration": 328,
    "start_time": "2022-01-12T16:58:37.315Z"
   },
   {
    "duration": 184,
    "start_time": "2022-01-12T16:59:00.682Z"
   },
   {
    "duration": 174,
    "start_time": "2022-01-12T17:00:06.123Z"
   },
   {
    "duration": 202,
    "start_time": "2022-01-12T17:00:15.093Z"
   },
   {
    "duration": 160,
    "start_time": "2022-01-12T17:00:24.602Z"
   },
   {
    "duration": 5,
    "start_time": "2022-01-12T17:03:49.204Z"
   },
   {
    "duration": 22,
    "start_time": "2022-01-12T17:03:53.002Z"
   },
   {
    "duration": 19,
    "start_time": "2022-01-12T17:03:54.115Z"
   },
   {
    "duration": 13,
    "start_time": "2022-01-12T17:03:55.355Z"
   },
   {
    "duration": 5,
    "start_time": "2022-01-12T17:04:13.723Z"
   },
   {
    "duration": 374,
    "start_time": "2022-01-12T17:04:16.635Z"
   },
   {
    "duration": 4,
    "start_time": "2022-01-12T17:04:27.365Z"
   },
   {
    "duration": 19,
    "start_time": "2022-01-12T17:04:30.288Z"
   },
   {
    "duration": 54,
    "start_time": "2022-01-12T17:07:05.923Z"
   },
   {
    "duration": 4,
    "start_time": "2022-01-12T17:17:52.608Z"
   },
   {
    "duration": 17,
    "start_time": "2022-01-12T17:17:52.806Z"
   },
   {
    "duration": 15,
    "start_time": "2022-01-12T17:17:53.647Z"
   },
   {
    "duration": 16,
    "start_time": "2022-01-12T17:17:54.248Z"
   },
   {
    "duration": 3,
    "start_time": "2022-01-12T17:19:33.899Z"
   },
   {
    "duration": 460,
    "start_time": "2022-01-12T17:19:37.496Z"
   },
   {
    "duration": 4,
    "start_time": "2022-01-12T17:20:08.617Z"
   },
   {
    "duration": 19,
    "start_time": "2022-01-12T17:20:10.088Z"
   },
   {
    "duration": 4,
    "start_time": "2022-01-12T17:21:15.564Z"
   },
   {
    "duration": 19,
    "start_time": "2022-01-12T17:21:23.338Z"
   },
   {
    "duration": 4,
    "start_time": "2022-01-12T17:21:36.617Z"
   },
   {
    "duration": 6,
    "start_time": "2022-01-12T17:21:52.820Z"
   },
   {
    "duration": 4,
    "start_time": "2022-01-12T17:21:54.185Z"
   },
   {
    "duration": 18,
    "start_time": "2022-01-12T17:21:55.985Z"
   },
   {
    "duration": 4,
    "start_time": "2022-01-12T17:22:25.117Z"
   },
   {
    "duration": 58,
    "start_time": "2022-01-12T17:22:44.817Z"
   },
   {
    "duration": 64,
    "start_time": "2022-01-12T17:24:04.373Z"
   },
   {
    "duration": 64,
    "start_time": "2022-01-12T17:24:19.571Z"
   },
   {
    "duration": 191,
    "start_time": "2022-01-12T17:25:39.573Z"
   },
   {
    "duration": 32,
    "start_time": "2022-01-12T17:25:54.292Z"
   },
   {
    "duration": 4,
    "start_time": "2022-01-12T17:26:27.572Z"
   },
   {
    "duration": 20,
    "start_time": "2022-01-12T17:26:34.845Z"
   },
   {
    "duration": 17,
    "start_time": "2022-01-12T17:26:37.030Z"
   },
   {
    "duration": 13,
    "start_time": "2022-01-12T17:26:37.458Z"
   },
   {
    "duration": 31,
    "start_time": "2022-01-12T17:26:44.612Z"
   },
   {
    "duration": 8,
    "start_time": "2022-01-12T17:27:01.292Z"
   },
   {
    "duration": 24,
    "start_time": "2022-01-12T17:27:23.491Z"
   },
   {
    "duration": 173,
    "start_time": "2022-01-12T17:30:41.683Z"
   },
   {
    "duration": 178,
    "start_time": "2022-01-12T17:30:44.051Z"
   },
   {
    "duration": 160,
    "start_time": "2022-01-12T17:31:03.413Z"
   },
   {
    "duration": 333,
    "start_time": "2022-01-12T17:32:02.252Z"
   },
   {
    "duration": 226,
    "start_time": "2022-01-12T17:32:22.354Z"
   },
   {
    "duration": 198,
    "start_time": "2022-01-12T17:32:34.211Z"
   },
   {
    "duration": 337,
    "start_time": "2022-01-12T17:32:44.812Z"
   },
   {
    "duration": 176,
    "start_time": "2022-01-12T17:34:03.126Z"
   },
   {
    "duration": 219,
    "start_time": "2022-01-12T17:34:09.892Z"
   },
   {
    "duration": 151,
    "start_time": "2022-01-12T17:34:16.933Z"
   },
   {
    "duration": 25,
    "start_time": "2022-01-12T17:34:48.452Z"
   },
   {
    "duration": 9,
    "start_time": "2022-01-12T17:34:52.532Z"
   },
   {
    "duration": 237,
    "start_time": "2022-01-12T17:36:18.100Z"
   },
   {
    "duration": 24,
    "start_time": "2022-01-12T17:36:39.052Z"
   },
   {
    "duration": 60,
    "start_time": "2022-01-12T17:51:13.623Z"
   },
   {
    "duration": 58,
    "start_time": "2022-01-12T17:51:25.213Z"
   },
   {
    "duration": 189,
    "start_time": "2022-01-12T17:51:31.010Z"
   },
   {
    "duration": 197,
    "start_time": "2022-01-12T17:51:38.804Z"
   },
   {
    "duration": 222,
    "start_time": "2022-01-12T17:52:57.324Z"
   },
   {
    "duration": 58,
    "start_time": "2022-01-12T17:54:01.024Z"
   },
   {
    "duration": 59,
    "start_time": "2022-01-12T17:54:07.070Z"
   },
   {
    "duration": 6,
    "start_time": "2022-01-12T18:01:18.122Z"
   },
   {
    "duration": 6,
    "start_time": "2022-01-12T18:01:53.582Z"
   },
   {
    "duration": 6,
    "start_time": "2022-01-12T18:02:12.973Z"
   },
   {
    "duration": 3,
    "start_time": "2022-01-12T18:02:21.341Z"
   },
   {
    "duration": 145,
    "start_time": "2022-01-12T18:02:21.346Z"
   },
   {
    "duration": 12,
    "start_time": "2022-01-12T18:02:21.493Z"
   },
   {
    "duration": 31,
    "start_time": "2022-01-12T18:02:21.507Z"
   },
   {
    "duration": 5,
    "start_time": "2022-01-12T18:02:21.540Z"
   },
   {
    "duration": 13,
    "start_time": "2022-01-12T18:02:21.547Z"
   },
   {
    "duration": 32,
    "start_time": "2022-01-12T18:02:21.562Z"
   },
   {
    "duration": 28,
    "start_time": "2022-01-12T18:02:21.596Z"
   },
   {
    "duration": 17,
    "start_time": "2022-01-12T18:02:21.628Z"
   },
   {
    "duration": 53,
    "start_time": "2022-01-12T18:02:21.648Z"
   },
   {
    "duration": 56,
    "start_time": "2022-01-12T18:02:21.702Z"
   },
   {
    "duration": 79,
    "start_time": "2022-01-12T18:02:21.759Z"
   },
   {
    "duration": 53,
    "start_time": "2022-01-12T18:02:21.839Z"
   },
   {
    "duration": 38,
    "start_time": "2022-01-12T18:02:21.894Z"
   },
   {
    "duration": 138,
    "start_time": "2022-01-12T18:02:21.934Z"
   },
   {
    "duration": 17,
    "start_time": "2022-01-12T18:02:22.074Z"
   },
   {
    "duration": 44,
    "start_time": "2022-01-12T18:02:22.093Z"
   },
   {
    "duration": 22,
    "start_time": "2022-01-12T18:02:22.139Z"
   },
   {
    "duration": 33,
    "start_time": "2022-01-12T18:02:22.163Z"
   },
   {
    "duration": 4,
    "start_time": "2022-01-12T18:02:22.198Z"
   },
   {
    "duration": 24,
    "start_time": "2022-01-12T18:02:22.204Z"
   },
   {
    "duration": 15,
    "start_time": "2022-01-12T18:02:22.230Z"
   },
   {
    "duration": 14,
    "start_time": "2022-01-12T18:02:22.247Z"
   },
   {
    "duration": 40,
    "start_time": "2022-01-12T18:02:22.263Z"
   },
   {
    "duration": 16,
    "start_time": "2022-01-12T18:02:22.305Z"
   },
   {
    "duration": 15,
    "start_time": "2022-01-12T18:02:22.322Z"
   },
   {
    "duration": 5,
    "start_time": "2022-01-12T18:02:22.341Z"
   },
   {
    "duration": 12,
    "start_time": "2022-01-12T18:02:22.348Z"
   },
   {
    "duration": 12,
    "start_time": "2022-01-12T18:02:22.392Z"
   },
   {
    "duration": 4,
    "start_time": "2022-01-12T18:02:22.405Z"
   },
   {
    "duration": 23,
    "start_time": "2022-01-12T18:02:22.411Z"
   },
   {
    "duration": 21,
    "start_time": "2022-01-12T18:02:22.436Z"
   },
   {
    "duration": 13,
    "start_time": "2022-01-12T18:02:22.458Z"
   },
   {
    "duration": 177,
    "start_time": "2022-01-12T18:02:22.492Z"
   },
   {
    "duration": 74,
    "start_time": "2022-01-12T18:02:22.596Z"
   },
   {
    "duration": 70,
    "start_time": "2022-01-12T18:02:22.601Z"
   },
   {
    "duration": 68,
    "start_time": "2022-01-12T18:02:22.605Z"
   },
   {
    "duration": 11,
    "start_time": "2022-01-12T18:03:02.148Z"
   },
   {
    "duration": 7,
    "start_time": "2022-01-12T18:03:11.868Z"
   },
   {
    "duration": 198,
    "start_time": "2022-01-12T18:04:31.581Z"
   },
   {
    "duration": 196,
    "start_time": "2022-01-12T18:04:45.821Z"
   },
   {
    "duration": 202,
    "start_time": "2022-01-12T18:05:57.276Z"
   },
   {
    "duration": 193,
    "start_time": "2022-01-12T18:06:18.492Z"
   },
   {
    "duration": 190,
    "start_time": "2022-01-12T18:21:06.251Z"
   },
   {
    "duration": 200,
    "start_time": "2022-01-12T18:21:24.787Z"
   },
   {
    "duration": 196,
    "start_time": "2022-01-12T18:22:29.731Z"
   },
   {
    "duration": 198,
    "start_time": "2022-01-12T18:22:46.042Z"
   },
   {
    "duration": 189,
    "start_time": "2022-01-12T18:22:57.579Z"
   },
   {
    "duration": 191,
    "start_time": "2022-01-12T18:23:17.690Z"
   },
   {
    "duration": 195,
    "start_time": "2022-01-12T18:23:27.923Z"
   },
   {
    "duration": 226,
    "start_time": "2022-01-12T18:23:34.492Z"
   },
   {
    "duration": 10,
    "start_time": "2022-01-12T18:23:42.292Z"
   },
   {
    "duration": 13,
    "start_time": "2022-01-12T18:23:48.851Z"
   },
   {
    "duration": 5,
    "start_time": "2022-01-12T18:26:18.291Z"
   },
   {
    "duration": 9,
    "start_time": "2022-01-12T18:26:32.966Z"
   },
   {
    "duration": 5,
    "start_time": "2022-01-12T18:26:49.731Z"
   },
   {
    "duration": 4,
    "start_time": "2022-01-12T18:28:27.451Z"
   },
   {
    "duration": 3,
    "start_time": "2022-01-12T18:28:34.902Z"
   },
   {
    "duration": 141,
    "start_time": "2022-01-12T18:28:34.907Z"
   },
   {
    "duration": 10,
    "start_time": "2022-01-12T18:28:35.050Z"
   },
   {
    "duration": 49,
    "start_time": "2022-01-12T18:28:35.062Z"
   },
   {
    "duration": 4,
    "start_time": "2022-01-12T18:28:35.113Z"
   },
   {
    "duration": 17,
    "start_time": "2022-01-12T18:28:35.119Z"
   },
   {
    "duration": 4,
    "start_time": "2022-01-12T18:28:35.137Z"
   },
   {
    "duration": 49,
    "start_time": "2022-01-12T18:28:35.144Z"
   },
   {
    "duration": 17,
    "start_time": "2022-01-12T18:28:35.195Z"
   },
   {
    "duration": 25,
    "start_time": "2022-01-12T18:28:35.214Z"
   },
   {
    "duration": 88,
    "start_time": "2022-01-12T18:28:35.241Z"
   },
   {
    "duration": 70,
    "start_time": "2022-01-12T18:28:35.331Z"
   },
   {
    "duration": 55,
    "start_time": "2022-01-12T18:28:35.403Z"
   },
   {
    "duration": 46,
    "start_time": "2022-01-12T18:28:35.460Z"
   },
   {
    "duration": 134,
    "start_time": "2022-01-12T18:28:35.508Z"
   },
   {
    "duration": 10,
    "start_time": "2022-01-12T18:28:35.644Z"
   },
   {
    "duration": 48,
    "start_time": "2022-01-12T18:28:35.655Z"
   },
   {
    "duration": 25,
    "start_time": "2022-01-12T18:28:35.705Z"
   },
   {
    "duration": 10,
    "start_time": "2022-01-12T18:28:35.732Z"
   },
   {
    "duration": 3,
    "start_time": "2022-01-12T18:28:35.743Z"
   },
   {
    "duration": 21,
    "start_time": "2022-01-12T18:28:35.748Z"
   },
   {
    "duration": 26,
    "start_time": "2022-01-12T18:28:35.770Z"
   },
   {
    "duration": 16,
    "start_time": "2022-01-12T18:28:35.799Z"
   },
   {
    "duration": 14,
    "start_time": "2022-01-12T18:28:35.817Z"
   },
   {
    "duration": 70,
    "start_time": "2022-01-12T18:28:35.833Z"
   },
   {
    "duration": 14,
    "start_time": "2022-01-12T18:28:35.905Z"
   },
   {
    "duration": 5,
    "start_time": "2022-01-12T18:28:35.920Z"
   },
   {
    "duration": 12,
    "start_time": "2022-01-12T18:28:35.927Z"
   },
   {
    "duration": 8,
    "start_time": "2022-01-12T18:28:35.941Z"
   },
   {
    "duration": 20,
    "start_time": "2022-01-12T18:28:35.951Z"
   },
   {
    "duration": 34,
    "start_time": "2022-01-12T18:28:35.972Z"
   },
   {
    "duration": 19,
    "start_time": "2022-01-12T18:28:36.008Z"
   },
   {
    "duration": 64,
    "start_time": "2022-01-12T18:28:36.029Z"
   },
   {
    "duration": 12,
    "start_time": "2022-01-12T18:28:36.094Z"
   },
   {
    "duration": 5,
    "start_time": "2022-01-12T18:28:36.107Z"
   },
   {
    "duration": 10,
    "start_time": "2022-01-12T18:28:36.114Z"
   },
   {
    "duration": 5,
    "start_time": "2022-01-12T18:28:36.125Z"
   },
   {
    "duration": 4,
    "start_time": "2022-01-12T18:31:33.332Z"
   },
   {
    "duration": 19,
    "start_time": "2022-01-12T18:31:35.491Z"
   },
   {
    "duration": 5,
    "start_time": "2022-01-12T18:34:26.670Z"
   },
   {
    "duration": 20,
    "start_time": "2022-01-12T18:34:29.621Z"
   },
   {
    "duration": 20,
    "start_time": "2022-01-12T18:34:30.955Z"
   },
   {
    "duration": 5306,
    "start_time": "2022-01-12T18:34:31.620Z"
   },
   {
    "duration": 4,
    "start_time": "2022-01-12T18:37:27.319Z"
   },
   {
    "duration": 26,
    "start_time": "2022-01-12T18:37:33.796Z"
   },
   {
    "duration": 4,
    "start_time": "2022-01-12T18:38:11.521Z"
   },
   {
    "duration": 29,
    "start_time": "2022-01-12T18:38:12.588Z"
   },
   {
    "duration": 28,
    "start_time": "2022-01-12T18:38:19.008Z"
   },
   {
    "duration": 5109,
    "start_time": "2022-01-12T18:38:24.988Z"
   },
   {
    "duration": 27,
    "start_time": "2022-01-12T18:38:38.700Z"
   },
   {
    "duration": 30,
    "start_time": "2022-01-12T18:38:43.117Z"
   },
   {
    "duration": 4906,
    "start_time": "2022-01-12T18:38:47.860Z"
   },
   {
    "duration": 4961,
    "start_time": "2022-01-12T18:40:37.988Z"
   },
   {
    "duration": 5111,
    "start_time": "2022-01-12T18:41:30.349Z"
   },
   {
    "duration": 27,
    "start_time": "2022-01-12T18:41:44.188Z"
   },
   {
    "duration": 30,
    "start_time": "2022-01-12T18:41:48.668Z"
   },
   {
    "duration": 4,
    "start_time": "2022-01-12T18:42:04.229Z"
   },
   {
    "duration": 4,
    "start_time": "2022-01-12T18:42:53.989Z"
   },
   {
    "duration": 356,
    "start_time": "2022-01-12T18:42:55.585Z"
   },
   {
    "duration": 4,
    "start_time": "2022-01-12T18:45:02.253Z"
   },
   {
    "duration": 26,
    "start_time": "2022-01-12T18:45:05.725Z"
   },
   {
    "duration": 30,
    "start_time": "2022-01-12T18:45:09.009Z"
   },
   {
    "duration": 4,
    "start_time": "2022-01-12T18:46:03.411Z"
   },
   {
    "duration": 18,
    "start_time": "2022-01-12T18:46:05.320Z"
   },
   {
    "duration": 19,
    "start_time": "2022-01-12T18:46:05.969Z"
   },
   {
    "duration": 5035,
    "start_time": "2022-01-12T18:46:06.762Z"
   },
   {
    "duration": -322,
    "start_time": "2022-01-12T18:46:12.122Z"
   },
   {
    "duration": 3,
    "start_time": "2022-01-12T18:48:40.050Z"
   },
   {
    "duration": 139,
    "start_time": "2022-01-12T18:48:40.054Z"
   },
   {
    "duration": 12,
    "start_time": "2022-01-12T18:48:40.195Z"
   },
   {
    "duration": 30,
    "start_time": "2022-01-12T18:48:40.209Z"
   },
   {
    "duration": 5,
    "start_time": "2022-01-12T18:48:40.241Z"
   },
   {
    "duration": 16,
    "start_time": "2022-01-12T18:48:40.248Z"
   },
   {
    "duration": 29,
    "start_time": "2022-01-12T18:48:40.266Z"
   },
   {
    "duration": 25,
    "start_time": "2022-01-12T18:48:40.296Z"
   },
   {
    "duration": 16,
    "start_time": "2022-01-12T18:48:40.323Z"
   },
   {
    "duration": 24,
    "start_time": "2022-01-12T18:48:40.341Z"
   },
   {
    "duration": 53,
    "start_time": "2022-01-12T18:48:40.392Z"
   },
   {
    "duration": 69,
    "start_time": "2022-01-12T18:48:40.447Z"
   },
   {
    "duration": 49,
    "start_time": "2022-01-12T18:48:40.518Z"
   },
   {
    "duration": 52,
    "start_time": "2022-01-12T18:48:40.568Z"
   },
   {
    "duration": 141,
    "start_time": "2022-01-12T18:48:40.622Z"
   },
   {
    "duration": 10,
    "start_time": "2022-01-12T18:48:40.765Z"
   },
   {
    "duration": 51,
    "start_time": "2022-01-12T18:48:40.777Z"
   },
   {
    "duration": 26,
    "start_time": "2022-01-12T18:48:40.830Z"
   },
   {
    "duration": 11,
    "start_time": "2022-01-12T18:48:40.858Z"
   },
   {
    "duration": 4,
    "start_time": "2022-01-12T18:48:40.870Z"
   },
   {
    "duration": 18,
    "start_time": "2022-01-12T18:48:40.892Z"
   },
   {
    "duration": 14,
    "start_time": "2022-01-12T18:48:40.911Z"
   },
   {
    "duration": 14,
    "start_time": "2022-01-12T18:48:40.927Z"
   },
   {
    "duration": 14,
    "start_time": "2022-01-12T18:48:40.942Z"
   },
   {
    "duration": 49,
    "start_time": "2022-01-12T18:48:40.958Z"
   },
   {
    "duration": 13,
    "start_time": "2022-01-12T18:48:41.009Z"
   },
   {
    "duration": 5,
    "start_time": "2022-01-12T18:48:41.026Z"
   },
   {
    "duration": 15,
    "start_time": "2022-01-12T18:48:41.033Z"
   },
   {
    "duration": 8,
    "start_time": "2022-01-12T18:48:41.049Z"
   },
   {
    "duration": 4,
    "start_time": "2022-01-12T18:48:41.059Z"
   },
   {
    "duration": 19,
    "start_time": "2022-01-12T18:48:41.091Z"
   },
   {
    "duration": 18,
    "start_time": "2022-01-12T18:48:41.112Z"
   },
   {
    "duration": 13,
    "start_time": "2022-01-12T18:48:41.132Z"
   },
   {
    "duration": 45,
    "start_time": "2022-01-12T18:48:41.147Z"
   },
   {
    "duration": 13,
    "start_time": "2022-01-12T18:48:41.194Z"
   },
   {
    "duration": 4,
    "start_time": "2022-01-12T18:48:41.208Z"
   },
   {
    "duration": 9,
    "start_time": "2022-01-12T18:48:41.214Z"
   },
   {
    "duration": 4,
    "start_time": "2022-01-12T18:48:41.225Z"
   },
   {
    "duration": 5,
    "start_time": "2022-01-12T18:49:10.850Z"
   },
   {
    "duration": 20,
    "start_time": "2022-01-12T18:49:42.737Z"
   },
   {
    "duration": 23,
    "start_time": "2022-01-12T18:49:45.601Z"
   },
   {
    "duration": 19,
    "start_time": "2022-01-12T18:49:48.402Z"
   },
   {
    "duration": 22,
    "start_time": "2022-01-12T18:51:10.629Z"
   },
   {
    "duration": 551,
    "start_time": "2022-01-12T18:53:32.707Z"
   },
   {
    "duration": 141,
    "start_time": "2022-01-12T18:53:33.260Z"
   },
   {
    "duration": 17,
    "start_time": "2022-01-12T18:53:33.403Z"
   },
   {
    "duration": 24,
    "start_time": "2022-01-12T18:53:33.422Z"
   },
   {
    "duration": 5,
    "start_time": "2022-01-12T18:53:33.448Z"
   },
   {
    "duration": 48,
    "start_time": "2022-01-12T18:53:33.454Z"
   },
   {
    "duration": 8,
    "start_time": "2022-01-12T18:53:33.503Z"
   },
   {
    "duration": 26,
    "start_time": "2022-01-12T18:53:33.513Z"
   },
   {
    "duration": 18,
    "start_time": "2022-01-12T18:53:33.542Z"
   },
   {
    "duration": 42,
    "start_time": "2022-01-12T18:53:33.562Z"
   },
   {
    "duration": 60,
    "start_time": "2022-01-12T18:53:33.606Z"
   },
   {
    "duration": 79,
    "start_time": "2022-01-12T18:53:33.668Z"
   },
   {
    "duration": 62,
    "start_time": "2022-01-12T18:53:33.749Z"
   },
   {
    "duration": 39,
    "start_time": "2022-01-12T18:53:33.813Z"
   },
   {
    "duration": 151,
    "start_time": "2022-01-12T18:53:33.854Z"
   },
   {
    "duration": 10,
    "start_time": "2022-01-12T18:53:34.007Z"
   },
   {
    "duration": 43,
    "start_time": "2022-01-12T18:53:34.018Z"
   },
   {
    "duration": 50,
    "start_time": "2022-01-12T18:53:34.063Z"
   },
   {
    "duration": 11,
    "start_time": "2022-01-12T18:53:34.115Z"
   },
   {
    "duration": 5,
    "start_time": "2022-01-12T18:53:34.128Z"
   },
   {
    "duration": 20,
    "start_time": "2022-01-12T18:53:34.134Z"
   },
   {
    "duration": 39,
    "start_time": "2022-01-12T18:53:34.155Z"
   },
   {
    "duration": 16,
    "start_time": "2022-01-12T18:53:34.195Z"
   },
   {
    "duration": 15,
    "start_time": "2022-01-12T18:53:34.213Z"
   },
   {
    "duration": 19,
    "start_time": "2022-01-12T18:53:34.229Z"
   },
   {
    "duration": 48,
    "start_time": "2022-01-12T18:53:34.250Z"
   },
   {
    "duration": 6,
    "start_time": "2022-01-12T18:53:34.303Z"
   },
   {
    "duration": 21,
    "start_time": "2022-01-12T18:53:34.311Z"
   },
   {
    "duration": 11,
    "start_time": "2022-01-12T18:53:34.334Z"
   },
   {
    "duration": 53,
    "start_time": "2022-01-12T18:53:34.347Z"
   },
   {
    "duration": 20,
    "start_time": "2022-01-12T18:53:34.401Z"
   },
   {
    "duration": 19,
    "start_time": "2022-01-12T18:53:34.422Z"
   },
   {
    "duration": 13,
    "start_time": "2022-01-12T18:53:34.442Z"
   },
   {
    "duration": 46,
    "start_time": "2022-01-12T18:53:34.456Z"
   },
   {
    "duration": 11,
    "start_time": "2022-01-12T18:53:34.503Z"
   },
   {
    "duration": 5,
    "start_time": "2022-01-12T18:53:34.516Z"
   },
   {
    "duration": 13,
    "start_time": "2022-01-12T18:53:34.523Z"
   },
   {
    "duration": 5,
    "start_time": "2022-01-12T18:53:34.537Z"
   },
   {
    "duration": 3,
    "start_time": "2022-01-12T19:01:14.008Z"
   },
   {
    "duration": 147,
    "start_time": "2022-01-12T19:01:14.016Z"
   },
   {
    "duration": 12,
    "start_time": "2022-01-12T19:01:14.165Z"
   },
   {
    "duration": 29,
    "start_time": "2022-01-12T19:01:14.190Z"
   },
   {
    "duration": 5,
    "start_time": "2022-01-12T19:01:14.221Z"
   },
   {
    "duration": 18,
    "start_time": "2022-01-12T19:01:14.229Z"
   },
   {
    "duration": 4,
    "start_time": "2022-01-12T19:01:14.249Z"
   },
   {
    "duration": 52,
    "start_time": "2022-01-12T19:01:14.255Z"
   },
   {
    "duration": 18,
    "start_time": "2022-01-12T19:01:14.311Z"
   },
   {
    "duration": 25,
    "start_time": "2022-01-12T19:01:14.331Z"
   },
   {
    "duration": 82,
    "start_time": "2022-01-12T19:01:14.358Z"
   },
   {
    "duration": 63,
    "start_time": "2022-01-12T19:01:14.442Z"
   },
   {
    "duration": 50,
    "start_time": "2022-01-12T19:01:14.507Z"
   },
   {
    "duration": 55,
    "start_time": "2022-01-12T19:01:14.559Z"
   },
   {
    "duration": 5,
    "start_time": "2022-01-12T19:01:14.616Z"
   },
   {
    "duration": 12,
    "start_time": "2022-01-12T19:01:14.623Z"
   },
   {
    "duration": 62,
    "start_time": "2022-01-12T19:01:14.637Z"
   },
   {
    "duration": 23,
    "start_time": "2022-01-12T19:01:14.701Z"
   },
   {
    "duration": 11,
    "start_time": "2022-01-12T19:01:14.726Z"
   },
   {
    "duration": 4,
    "start_time": "2022-01-12T19:01:14.738Z"
   },
   {
    "duration": 59,
    "start_time": "2022-01-12T19:01:14.743Z"
   },
   {
    "duration": 15,
    "start_time": "2022-01-12T19:01:14.804Z"
   },
   {
    "duration": 15,
    "start_time": "2022-01-12T19:01:14.821Z"
   },
   {
    "duration": 13,
    "start_time": "2022-01-12T19:01:14.840Z"
   },
   {
    "duration": 48,
    "start_time": "2022-01-12T19:01:14.855Z"
   },
   {
    "duration": 21,
    "start_time": "2022-01-12T19:01:14.904Z"
   },
   {
    "duration": 7,
    "start_time": "2022-01-12T19:01:14.928Z"
   },
   {
    "duration": 38,
    "start_time": "2022-01-12T19:01:14.937Z"
   },
   {
    "duration": 21,
    "start_time": "2022-01-12T19:01:14.976Z"
   },
   {
    "duration": 19,
    "start_time": "2022-01-12T19:01:14.999Z"
   },
   {
    "duration": 23,
    "start_time": "2022-01-12T19:01:15.021Z"
   },
   {
    "duration": 46,
    "start_time": "2022-01-12T19:01:15.046Z"
   },
   {
    "duration": 13,
    "start_time": "2022-01-12T19:01:15.093Z"
   },
   {
    "duration": 12,
    "start_time": "2022-01-12T19:01:15.108Z"
   },
   {
    "duration": 12,
    "start_time": "2022-01-12T19:01:15.122Z"
   },
   {
    "duration": 8,
    "start_time": "2022-01-12T19:01:15.135Z"
   },
   {
    "duration": 10,
    "start_time": "2022-01-12T19:01:15.145Z"
   },
   {
    "duration": 5,
    "start_time": "2022-01-12T19:01:15.157Z"
   },
   {
    "duration": 67,
    "start_time": "2022-06-24T05:01:42.495Z"
   },
   {
    "duration": 405,
    "start_time": "2022-06-24T05:01:48.572Z"
   },
   {
    "duration": 294,
    "start_time": "2022-06-24T05:01:49.914Z"
   },
   {
    "duration": 17,
    "start_time": "2022-06-24T05:02:10.164Z"
   },
   {
    "duration": 44,
    "start_time": "2022-06-24T05:02:47.907Z"
   },
   {
    "duration": 391,
    "start_time": "2022-07-01T04:19:27.270Z"
   },
   {
    "duration": 197,
    "start_time": "2022-07-01T04:19:28.578Z"
   },
   {
    "duration": 16,
    "start_time": "2022-07-01T04:19:29.933Z"
   },
   {
    "duration": 27,
    "start_time": "2022-07-01T04:19:31.686Z"
   },
   {
    "duration": 4,
    "start_time": "2022-07-01T04:19:36.012Z"
   },
   {
    "duration": 5,
    "start_time": "2022-07-01T04:19:49.937Z"
   },
   {
    "duration": 11,
    "start_time": "2022-07-01T04:20:28.491Z"
   },
   {
    "duration": 18,
    "start_time": "2022-07-01T04:21:39.246Z"
   },
   {
    "duration": 21,
    "start_time": "2022-07-01T04:21:58.086Z"
   },
   {
    "duration": 4,
    "start_time": "2022-07-01T04:22:01.486Z"
   },
   {
    "duration": 34,
    "start_time": "2022-07-01T04:22:34.519Z"
   },
   {
    "duration": 18,
    "start_time": "2022-07-01T04:24:38.512Z"
   },
   {
    "duration": 23,
    "start_time": "2022-07-01T04:24:52.933Z"
   },
   {
    "duration": 80,
    "start_time": "2022-07-01T04:25:39.095Z"
   },
   {
    "duration": 63,
    "start_time": "2022-07-01T04:25:45.765Z"
   },
   {
    "duration": 20,
    "start_time": "2022-07-01T04:26:07.123Z"
   },
   {
    "duration": 58,
    "start_time": "2022-07-01T04:26:08.585Z"
   },
   {
    "duration": 75,
    "start_time": "2022-07-01T04:26:11.098Z"
   },
   {
    "duration": 59,
    "start_time": "2022-07-01T04:26:17.682Z"
   },
   {
    "duration": 36,
    "start_time": "2022-07-01T04:27:14.164Z"
   },
   {
    "duration": 3,
    "start_time": "2022-07-01T04:29:29.061Z"
   },
   {
    "duration": 18,
    "start_time": "2022-07-01T04:32:57.637Z"
   },
   {
    "duration": 17,
    "start_time": "2022-07-01T04:33:06.242Z"
   },
   {
    "duration": 17,
    "start_time": "2022-07-01T04:33:16.529Z"
   },
   {
    "duration": 13,
    "start_time": "2022-07-01T04:33:55.863Z"
   },
   {
    "duration": 3,
    "start_time": "2022-07-01T04:35:56.785Z"
   },
   {
    "duration": 5,
    "start_time": "2022-07-01T04:37:14.373Z"
   },
   {
    "duration": 33,
    "start_time": "2022-07-01T04:39:02.755Z"
   },
   {
    "duration": 64,
    "start_time": "2022-07-01T04:40:43.761Z"
   },
   {
    "duration": 36,
    "start_time": "2022-07-01T04:40:54.331Z"
   },
   {
    "duration": 12,
    "start_time": "2022-07-01T04:40:55.171Z"
   },
   {
    "duration": 14,
    "start_time": "2022-07-01T04:40:56.379Z"
   },
   {
    "duration": 16,
    "start_time": "2022-07-01T04:40:57.822Z"
   },
   {
    "duration": 17,
    "start_time": "2022-07-01T04:41:01.704Z"
   },
   {
    "duration": 22,
    "start_time": "2022-07-01T04:41:13.152Z"
   },
   {
    "duration": 12,
    "start_time": "2022-07-01T04:43:10.733Z"
   },
   {
    "duration": 13,
    "start_time": "2022-07-01T04:47:43.623Z"
   }
  ],
  "colab": {
   "collapsed_sections": [
    "E0vqbgi9ay0H",
    "VUC88oWjTJw2"
   ],
   "name": "yandex_music_project_2021.2.ipynb",
   "provenance": []
  },
  "kernelspec": {
   "display_name": "Python 3 (ipykernel)",
   "language": "python",
   "name": "python3"
  },
  "language_info": {
   "codemirror_mode": {
    "name": "ipython",
    "version": 3
   },
   "file_extension": ".py",
   "mimetype": "text/x-python",
   "name": "python",
   "nbconvert_exporter": "python",
   "pygments_lexer": "ipython3",
   "version": "3.9.5"
  },
  "toc": {
   "base_numbering": 1,
   "nav_menu": {},
   "number_sections": true,
   "sideBar": true,
   "skip_h1_title": true,
   "title_cell": "Table of Contents",
   "title_sidebar": "Contents",
   "toc_cell": false,
   "toc_position": {},
   "toc_section_display": true,
   "toc_window_display": true
  }
 },
 "nbformat": 4,
 "nbformat_minor": 1
}
