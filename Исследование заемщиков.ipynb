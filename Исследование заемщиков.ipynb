{
 "cells": [
  {
   "cell_type": "markdown",
   "metadata": {},
   "source": [
    "# Исследование надёжности заёмщиков\n",
    "**Заказчик — кредитный отдел банка.** Нужно разобраться, влияет ли семейное положение и количество детей клиента на факт погашения кредита в срок. Входные данные от банка — статистика о платёжеспособности клиентов.\n",
    "\n",
    "Результаты исследования будут учтены при построении модели кредитного скоринга — специальной системы, которая оценивает способность потенциального заёмщика вернуть кредит банку.\n",
    "\n",
    "**Данные, с которыми предстоит работать:**\n",
    "\n",
    "    -children — количество детей в семье\n",
    "    -days_employed — общий трудовой стаж в днях\n",
    "    -dob_years — возраст клиента в годах\n",
    "    -education — уровень образования клиента\n",
    "    -education_id — идентификатор уровня образования\n",
    "    -family_status — семейное положение\n",
    "    -family_status_id — идентификатор семейного положения\n",
    "    -gender — пол клиента\n",
    "    -income_type — тип занятости\n",
    "    -debt — имел ли задолженность по возврату кредитов\n",
    "    -total_income — ежемесячный доход\n",
    "    -purpose — цель получения кредита\n",
    "    \n",
    "**План выполнения проекта:**\n",
    "\n",
    "    Шаг 1. Загрузка данных и учение общей информации¶\n",
    "    Шаг 2. Предобработка данных\n",
    "        - Проверить типы данных;\n",
    "        - Поработать с дубликатами;\n",
    "        - Выделить леммы;\n",
    "        - Категоризировтаь данные;\n",
    "        - Выявить зависимости возврата кредита вовремя от признаков;\n",
    "    Шаг 3. Ответы на вопросы:\n",
    "        - Есть ли зависимость между наличием детей и возвратом кредита в срок?\n",
    "        - Есть ли зависимость между семейным положением и возвратом кредита в срок?\n",
    "        - Есть ли зависимость между уровнем дохода и возвратом кредита в срок?\n",
    "        - Как разные цели кредита влияют на его возврат в срок?    \n",
    "    Шаг 4. Общий вывод."
   ]
  },
  {
   "cell_type": "markdown",
   "metadata": {},
   "source": [
    "## Шаг 1. Загрузка данных и учение общей информации"
   ]
  },
  {
   "cell_type": "code",
   "execution_count": 1,
   "metadata": {},
   "outputs": [
    {
     "name": "stdout",
     "output_type": "stream",
     "text": [
      "<class 'pandas.core.frame.DataFrame'>\n",
      "RangeIndex: 21525 entries, 0 to 21524\n",
      "Data columns (total 12 columns):\n",
      " #   Column            Non-Null Count  Dtype  \n",
      "---  ------            --------------  -----  \n",
      " 0   children          21525 non-null  int64  \n",
      " 1   days_employed     19351 non-null  float64\n",
      " 2   dob_years         21525 non-null  int64  \n",
      " 3   education         21525 non-null  object \n",
      " 4   education_id      21525 non-null  int64  \n",
      " 5   family_status     21525 non-null  object \n",
      " 6   family_status_id  21525 non-null  int64  \n",
      " 7   gender            21525 non-null  object \n",
      " 8   income_type       21525 non-null  object \n",
      " 9   debt              21525 non-null  int64  \n",
      " 10  total_income      19351 non-null  float64\n",
      " 11  purpose           21525 non-null  object \n",
      "dtypes: float64(2), int64(5), object(5)\n",
      "memory usage: 2.0+ MB\n"
     ]
    },
    {
     "data": {
      "text/html": [
       "<div>\n",
       "<style scoped>\n",
       "    .dataframe tbody tr th:only-of-type {\n",
       "        vertical-align: middle;\n",
       "    }\n",
       "\n",
       "    .dataframe tbody tr th {\n",
       "        vertical-align: top;\n",
       "    }\n",
       "\n",
       "    .dataframe thead th {\n",
       "        text-align: right;\n",
       "    }\n",
       "</style>\n",
       "<table border=\"1\" class=\"dataframe\">\n",
       "  <thead>\n",
       "    <tr style=\"text-align: right;\">\n",
       "      <th></th>\n",
       "      <th>children</th>\n",
       "      <th>days_employed</th>\n",
       "      <th>dob_years</th>\n",
       "      <th>education</th>\n",
       "      <th>education_id</th>\n",
       "      <th>family_status</th>\n",
       "      <th>family_status_id</th>\n",
       "      <th>gender</th>\n",
       "      <th>income_type</th>\n",
       "      <th>debt</th>\n",
       "      <th>total_income</th>\n",
       "      <th>purpose</th>\n",
       "    </tr>\n",
       "  </thead>\n",
       "  <tbody>\n",
       "    <tr>\n",
       "      <th>0</th>\n",
       "      <td>1</td>\n",
       "      <td>-8437.673028</td>\n",
       "      <td>42</td>\n",
       "      <td>высшее</td>\n",
       "      <td>0</td>\n",
       "      <td>женат / замужем</td>\n",
       "      <td>0</td>\n",
       "      <td>F</td>\n",
       "      <td>сотрудник</td>\n",
       "      <td>0</td>\n",
       "      <td>253875.639453</td>\n",
       "      <td>покупка жилья</td>\n",
       "    </tr>\n",
       "    <tr>\n",
       "      <th>1</th>\n",
       "      <td>1</td>\n",
       "      <td>-4024.803754</td>\n",
       "      <td>36</td>\n",
       "      <td>среднее</td>\n",
       "      <td>1</td>\n",
       "      <td>женат / замужем</td>\n",
       "      <td>0</td>\n",
       "      <td>F</td>\n",
       "      <td>сотрудник</td>\n",
       "      <td>0</td>\n",
       "      <td>112080.014102</td>\n",
       "      <td>приобретение автомобиля</td>\n",
       "    </tr>\n",
       "    <tr>\n",
       "      <th>2</th>\n",
       "      <td>0</td>\n",
       "      <td>-5623.422610</td>\n",
       "      <td>33</td>\n",
       "      <td>Среднее</td>\n",
       "      <td>1</td>\n",
       "      <td>женат / замужем</td>\n",
       "      <td>0</td>\n",
       "      <td>M</td>\n",
       "      <td>сотрудник</td>\n",
       "      <td>0</td>\n",
       "      <td>145885.952297</td>\n",
       "      <td>покупка жилья</td>\n",
       "    </tr>\n",
       "    <tr>\n",
       "      <th>3</th>\n",
       "      <td>3</td>\n",
       "      <td>-4124.747207</td>\n",
       "      <td>32</td>\n",
       "      <td>среднее</td>\n",
       "      <td>1</td>\n",
       "      <td>женат / замужем</td>\n",
       "      <td>0</td>\n",
       "      <td>M</td>\n",
       "      <td>сотрудник</td>\n",
       "      <td>0</td>\n",
       "      <td>267628.550329</td>\n",
       "      <td>дополнительное образование</td>\n",
       "    </tr>\n",
       "    <tr>\n",
       "      <th>4</th>\n",
       "      <td>0</td>\n",
       "      <td>340266.072047</td>\n",
       "      <td>53</td>\n",
       "      <td>среднее</td>\n",
       "      <td>1</td>\n",
       "      <td>гражданский брак</td>\n",
       "      <td>1</td>\n",
       "      <td>F</td>\n",
       "      <td>пенсионер</td>\n",
       "      <td>0</td>\n",
       "      <td>158616.077870</td>\n",
       "      <td>сыграть свадьбу</td>\n",
       "    </tr>\n",
       "    <tr>\n",
       "      <th>5</th>\n",
       "      <td>0</td>\n",
       "      <td>-926.185831</td>\n",
       "      <td>27</td>\n",
       "      <td>высшее</td>\n",
       "      <td>0</td>\n",
       "      <td>гражданский брак</td>\n",
       "      <td>1</td>\n",
       "      <td>M</td>\n",
       "      <td>компаньон</td>\n",
       "      <td>0</td>\n",
       "      <td>255763.565419</td>\n",
       "      <td>покупка жилья</td>\n",
       "    </tr>\n",
       "    <tr>\n",
       "      <th>6</th>\n",
       "      <td>0</td>\n",
       "      <td>-2879.202052</td>\n",
       "      <td>43</td>\n",
       "      <td>высшее</td>\n",
       "      <td>0</td>\n",
       "      <td>женат / замужем</td>\n",
       "      <td>0</td>\n",
       "      <td>F</td>\n",
       "      <td>компаньон</td>\n",
       "      <td>0</td>\n",
       "      <td>240525.971920</td>\n",
       "      <td>операции с жильем</td>\n",
       "    </tr>\n",
       "    <tr>\n",
       "      <th>7</th>\n",
       "      <td>0</td>\n",
       "      <td>-152.779569</td>\n",
       "      <td>50</td>\n",
       "      <td>СРЕДНЕЕ</td>\n",
       "      <td>1</td>\n",
       "      <td>женат / замужем</td>\n",
       "      <td>0</td>\n",
       "      <td>M</td>\n",
       "      <td>сотрудник</td>\n",
       "      <td>0</td>\n",
       "      <td>135823.934197</td>\n",
       "      <td>образование</td>\n",
       "    </tr>\n",
       "    <tr>\n",
       "      <th>8</th>\n",
       "      <td>2</td>\n",
       "      <td>-6929.865299</td>\n",
       "      <td>35</td>\n",
       "      <td>ВЫСШЕЕ</td>\n",
       "      <td>0</td>\n",
       "      <td>гражданский брак</td>\n",
       "      <td>1</td>\n",
       "      <td>F</td>\n",
       "      <td>сотрудник</td>\n",
       "      <td>0</td>\n",
       "      <td>95856.832424</td>\n",
       "      <td>на проведение свадьбы</td>\n",
       "    </tr>\n",
       "    <tr>\n",
       "      <th>9</th>\n",
       "      <td>0</td>\n",
       "      <td>-2188.756445</td>\n",
       "      <td>41</td>\n",
       "      <td>среднее</td>\n",
       "      <td>1</td>\n",
       "      <td>женат / замужем</td>\n",
       "      <td>0</td>\n",
       "      <td>M</td>\n",
       "      <td>сотрудник</td>\n",
       "      <td>0</td>\n",
       "      <td>144425.938277</td>\n",
       "      <td>покупка жилья для семьи</td>\n",
       "    </tr>\n",
       "  </tbody>\n",
       "</table>\n",
       "</div>"
      ],
      "text/plain": [
       "   children  days_employed  dob_years education  education_id  \\\n",
       "0         1   -8437.673028         42    высшее             0   \n",
       "1         1   -4024.803754         36   среднее             1   \n",
       "2         0   -5623.422610         33   Среднее             1   \n",
       "3         3   -4124.747207         32   среднее             1   \n",
       "4         0  340266.072047         53   среднее             1   \n",
       "5         0    -926.185831         27    высшее             0   \n",
       "6         0   -2879.202052         43    высшее             0   \n",
       "7         0    -152.779569         50   СРЕДНЕЕ             1   \n",
       "8         2   -6929.865299         35    ВЫСШЕЕ             0   \n",
       "9         0   -2188.756445         41   среднее             1   \n",
       "\n",
       "      family_status  family_status_id gender income_type  debt   total_income  \\\n",
       "0   женат / замужем                 0      F   сотрудник     0  253875.639453   \n",
       "1   женат / замужем                 0      F   сотрудник     0  112080.014102   \n",
       "2   женат / замужем                 0      M   сотрудник     0  145885.952297   \n",
       "3   женат / замужем                 0      M   сотрудник     0  267628.550329   \n",
       "4  гражданский брак                 1      F   пенсионер     0  158616.077870   \n",
       "5  гражданский брак                 1      M   компаньон     0  255763.565419   \n",
       "6   женат / замужем                 0      F   компаньон     0  240525.971920   \n",
       "7   женат / замужем                 0      M   сотрудник     0  135823.934197   \n",
       "8  гражданский брак                 1      F   сотрудник     0   95856.832424   \n",
       "9   женат / замужем                 0      M   сотрудник     0  144425.938277   \n",
       "\n",
       "                      purpose  \n",
       "0               покупка жилья  \n",
       "1     приобретение автомобиля  \n",
       "2               покупка жилья  \n",
       "3  дополнительное образование  \n",
       "4             сыграть свадьбу  \n",
       "5               покупка жилья  \n",
       "6           операции с жильем  \n",
       "7                 образование  \n",
       "8       на проведение свадьбы  \n",
       "9     покупка жилья для семьи  "
      ]
     },
     "execution_count": 1,
     "metadata": {},
     "output_type": "execute_result"
    }
   ],
   "source": [
    "import pandas as pd\n",
    "data = pd.read_csv('/datasets/data.csv')\n",
    "data.info()\n",
    "data.head(10)\n"
   ]
  },
  {
   "cell_type": "markdown",
   "metadata": {},
   "source": [
    "**Вывод** \n",
    "<br>Файл содержит 12 колонок с информацией о заемщиках. Из них 2 столбца типа float64, 5 столбцов типа int64 и 5 столбцов типа object. В датафрейфме имеются пропуски значений в days_employed, total_income, исследуем их на следующем этапе.\n"
   ]
  },
  {
   "cell_type": "markdown",
   "metadata": {},
   "source": [
    "## Шаг 2. Предобработка данных"
   ]
  },
  {
   "cell_type": "markdown",
   "metadata": {},
   "source": [
    "### Обработка пропусков"
   ]
  },
  {
   "cell_type": "code",
   "execution_count": 2,
   "metadata": {},
   "outputs": [
    {
     "data": {
      "text/plain": [
       "children               0\n",
       "days_employed       2174\n",
       "dob_years              0\n",
       "education              0\n",
       "education_id           0\n",
       "family_status          0\n",
       "family_status_id       0\n",
       "gender                 0\n",
       "income_type            0\n",
       "debt                   0\n",
       "total_income        2174\n",
       "purpose                0\n",
       "dtype: int64"
      ]
     },
     "execution_count": 2,
     "metadata": {},
     "output_type": "execute_result"
    }
   ],
   "source": [
    "#методом .isna() находим пропуски и .sum() суммируем их\n",
    "data.isna().sum() "
   ]
  },
  {
   "cell_type": "code",
   "execution_count": 3,
   "metadata": {},
   "outputs": [
    {
     "name": "stdout",
     "output_type": "stream",
     "text": [
      "<class 'pandas.core.frame.DataFrame'>\n",
      "RangeIndex: 21525 entries, 0 to 21524\n",
      "Data columns (total 12 columns):\n",
      " #   Column            Non-Null Count  Dtype  \n",
      "---  ------            --------------  -----  \n",
      " 0   children          21525 non-null  int64  \n",
      " 1   days_employed     19351 non-null  float64\n",
      " 2   dob_years         21525 non-null  int64  \n",
      " 3   education         21525 non-null  object \n",
      " 4   education_id      21525 non-null  int64  \n",
      " 5   family_status     21525 non-null  object \n",
      " 6   family_status_id  21525 non-null  int64  \n",
      " 7   gender            21525 non-null  object \n",
      " 8   income_type       21525 non-null  object \n",
      " 9   debt              21525 non-null  int64  \n",
      " 10  total_income      21525 non-null  float64\n",
      " 11  purpose           21525 non-null  object \n",
      "dtypes: float64(2), int64(5), object(5)\n",
      "memory usage: 2.0+ MB\n"
     ]
    }
   ],
   "source": [
    "#заменяем пропущенные значения на средние значения в 'total_income'\n",
    "data_income = data.groupby('income_type')['total_income'].transform('mean')  \n",
    "data['total_income'] = data['total_income'].fillna(data_income)\n",
    "data.info()"
   ]
  },
  {
   "cell_type": "code",
   "execution_count": 4,
   "metadata": {},
   "outputs": [
    {
     "name": "stdout",
     "output_type": "stream",
     "text": [
      "<class 'pandas.core.frame.DataFrame'>\n",
      "RangeIndex: 21525 entries, 0 to 21524\n",
      "Data columns (total 12 columns):\n",
      " #   Column            Non-Null Count  Dtype  \n",
      "---  ------            --------------  -----  \n",
      " 0   children          21525 non-null  int64  \n",
      " 1   days_employed     21525 non-null  float64\n",
      " 2   dob_years         21525 non-null  int64  \n",
      " 3   education         21525 non-null  object \n",
      " 4   education_id      21525 non-null  int64  \n",
      " 5   family_status     21525 non-null  object \n",
      " 6   family_status_id  21525 non-null  int64  \n",
      " 7   gender            21525 non-null  object \n",
      " 8   income_type       21525 non-null  object \n",
      " 9   debt              21525 non-null  int64  \n",
      " 10  total_income      21525 non-null  float64\n",
      " 11  purpose           21525 non-null  object \n",
      "dtypes: float64(2), int64(5), object(5)\n",
      "memory usage: 2.0+ MB\n"
     ]
    }
   ],
   "source": [
    "#заменяем пропущенные значения на средние значения в 'days_employed'\n",
    "data_employed = data.groupby('income_type')['days_employed'].transform('mean')  \n",
    "data['days_employed'] = data['days_employed'].fillna(data_employed).abs()\n",
    "data.info()"
   ]
  },
  {
   "cell_type": "markdown",
   "metadata": {},
   "source": [
    "**Вывод** Без обработки пропусков, теряются важные значения, поэтому б"
   ]
  },
  {
   "cell_type": "markdown",
   "metadata": {},
   "source": [
    "### Замена типа данных"
   ]
  },
  {
   "cell_type": "code",
   "execution_count": 5,
   "metadata": {},
   "outputs": [
    {
     "name": "stdout",
     "output_type": "stream",
     "text": [
      "<class 'pandas.core.frame.DataFrame'>\n",
      "RangeIndex: 21525 entries, 0 to 21524\n",
      "Data columns (total 12 columns):\n",
      " #   Column            Non-Null Count  Dtype \n",
      "---  ------            --------------  ----- \n",
      " 0   children          21525 non-null  int64 \n",
      " 1   days_employed     21525 non-null  int64 \n",
      " 2   dob_years         21525 non-null  int64 \n",
      " 3   education         21525 non-null  object\n",
      " 4   education_id      21525 non-null  int64 \n",
      " 5   family_status     21525 non-null  object\n",
      " 6   family_status_id  21525 non-null  int64 \n",
      " 7   gender            21525 non-null  object\n",
      " 8   income_type       21525 non-null  object\n",
      " 9   debt              21525 non-null  int64 \n",
      " 10  total_income      21525 non-null  int64 \n",
      " 11  purpose           21525 non-null  object\n",
      "dtypes: int64(7), object(5)\n",
      "memory usage: 2.0+ MB\n"
     ]
    }
   ],
   "source": [
    "#методом.astype() переводим данные в нужный нам тип\n",
    "data['days_employed'] = data['days_employed'].astype('int') \n",
    "data['total_income'] = data['total_income'].astype('int')\n",
    "data.info()\n",
    "\n"
   ]
  },
  {
   "cell_type": "markdown",
   "metadata": {},
   "source": [
    "**Вывод** Незамененые тип данных приводит к потере данных\n"
   ]
  },
  {
   "cell_type": "markdown",
   "metadata": {},
   "source": [
    "### Обработка дубликатов"
   ]
  },
  {
   "cell_type": "code",
   "execution_count": 6,
   "metadata": {},
   "outputs": [
    {
     "data": {
      "text/html": [
       "<div>\n",
       "<style scoped>\n",
       "    .dataframe tbody tr th:only-of-type {\n",
       "        vertical-align: middle;\n",
       "    }\n",
       "\n",
       "    .dataframe tbody tr th {\n",
       "        vertical-align: top;\n",
       "    }\n",
       "\n",
       "    .dataframe thead th {\n",
       "        text-align: right;\n",
       "    }\n",
       "</style>\n",
       "<table border=\"1\" class=\"dataframe\">\n",
       "  <thead>\n",
       "    <tr style=\"text-align: right;\">\n",
       "      <th></th>\n",
       "      <th>children</th>\n",
       "      <th>days_employed</th>\n",
       "      <th>dob_years</th>\n",
       "      <th>education</th>\n",
       "      <th>education_id</th>\n",
       "      <th>family_status</th>\n",
       "      <th>family_status_id</th>\n",
       "      <th>gender</th>\n",
       "      <th>income_type</th>\n",
       "      <th>debt</th>\n",
       "      <th>total_income</th>\n",
       "      <th>purpose</th>\n",
       "    </tr>\n",
       "  </thead>\n",
       "  <tbody>\n",
       "    <tr>\n",
       "      <th>0</th>\n",
       "      <td>1</td>\n",
       "      <td>8437</td>\n",
       "      <td>42</td>\n",
       "      <td>высшее</td>\n",
       "      <td>0</td>\n",
       "      <td>женат / замужем</td>\n",
       "      <td>0</td>\n",
       "      <td>F</td>\n",
       "      <td>сотрудник</td>\n",
       "      <td>0</td>\n",
       "      <td>253875</td>\n",
       "      <td>покупка жилья</td>\n",
       "    </tr>\n",
       "    <tr>\n",
       "      <th>1</th>\n",
       "      <td>1</td>\n",
       "      <td>4024</td>\n",
       "      <td>36</td>\n",
       "      <td>среднее</td>\n",
       "      <td>1</td>\n",
       "      <td>женат / замужем</td>\n",
       "      <td>0</td>\n",
       "      <td>F</td>\n",
       "      <td>сотрудник</td>\n",
       "      <td>0</td>\n",
       "      <td>112080</td>\n",
       "      <td>приобретение автомобиля</td>\n",
       "    </tr>\n",
       "    <tr>\n",
       "      <th>2</th>\n",
       "      <td>0</td>\n",
       "      <td>5623</td>\n",
       "      <td>33</td>\n",
       "      <td>среднее</td>\n",
       "      <td>1</td>\n",
       "      <td>женат / замужем</td>\n",
       "      <td>0</td>\n",
       "      <td>M</td>\n",
       "      <td>сотрудник</td>\n",
       "      <td>0</td>\n",
       "      <td>145885</td>\n",
       "      <td>покупка жилья</td>\n",
       "    </tr>\n",
       "    <tr>\n",
       "      <th>3</th>\n",
       "      <td>3</td>\n",
       "      <td>4124</td>\n",
       "      <td>32</td>\n",
       "      <td>среднее</td>\n",
       "      <td>1</td>\n",
       "      <td>женат / замужем</td>\n",
       "      <td>0</td>\n",
       "      <td>M</td>\n",
       "      <td>сотрудник</td>\n",
       "      <td>0</td>\n",
       "      <td>267628</td>\n",
       "      <td>дополнительное образование</td>\n",
       "    </tr>\n",
       "    <tr>\n",
       "      <th>4</th>\n",
       "      <td>0</td>\n",
       "      <td>340266</td>\n",
       "      <td>53</td>\n",
       "      <td>среднее</td>\n",
       "      <td>1</td>\n",
       "      <td>гражданский брак</td>\n",
       "      <td>1</td>\n",
       "      <td>F</td>\n",
       "      <td>пенсионер</td>\n",
       "      <td>0</td>\n",
       "      <td>158616</td>\n",
       "      <td>сыграть свадьбу</td>\n",
       "    </tr>\n",
       "    <tr>\n",
       "      <th>...</th>\n",
       "      <td>...</td>\n",
       "      <td>...</td>\n",
       "      <td>...</td>\n",
       "      <td>...</td>\n",
       "      <td>...</td>\n",
       "      <td>...</td>\n",
       "      <td>...</td>\n",
       "      <td>...</td>\n",
       "      <td>...</td>\n",
       "      <td>...</td>\n",
       "      <td>...</td>\n",
       "      <td>...</td>\n",
       "    </tr>\n",
       "    <tr>\n",
       "      <th>21449</th>\n",
       "      <td>1</td>\n",
       "      <td>4529</td>\n",
       "      <td>43</td>\n",
       "      <td>среднее</td>\n",
       "      <td>1</td>\n",
       "      <td>гражданский брак</td>\n",
       "      <td>1</td>\n",
       "      <td>F</td>\n",
       "      <td>компаньон</td>\n",
       "      <td>0</td>\n",
       "      <td>224791</td>\n",
       "      <td>операции с жильем</td>\n",
       "    </tr>\n",
       "    <tr>\n",
       "      <th>21450</th>\n",
       "      <td>0</td>\n",
       "      <td>343937</td>\n",
       "      <td>67</td>\n",
       "      <td>среднее</td>\n",
       "      <td>1</td>\n",
       "      <td>женат / замужем</td>\n",
       "      <td>0</td>\n",
       "      <td>F</td>\n",
       "      <td>пенсионер</td>\n",
       "      <td>0</td>\n",
       "      <td>155999</td>\n",
       "      <td>сделка с автомобилем</td>\n",
       "    </tr>\n",
       "    <tr>\n",
       "      <th>21451</th>\n",
       "      <td>1</td>\n",
       "      <td>2113</td>\n",
       "      <td>38</td>\n",
       "      <td>среднее</td>\n",
       "      <td>1</td>\n",
       "      <td>гражданский брак</td>\n",
       "      <td>1</td>\n",
       "      <td>M</td>\n",
       "      <td>сотрудник</td>\n",
       "      <td>1</td>\n",
       "      <td>89672</td>\n",
       "      <td>недвижимость</td>\n",
       "    </tr>\n",
       "    <tr>\n",
       "      <th>21452</th>\n",
       "      <td>3</td>\n",
       "      <td>3112</td>\n",
       "      <td>38</td>\n",
       "      <td>среднее</td>\n",
       "      <td>1</td>\n",
       "      <td>женат / замужем</td>\n",
       "      <td>0</td>\n",
       "      <td>M</td>\n",
       "      <td>сотрудник</td>\n",
       "      <td>1</td>\n",
       "      <td>244093</td>\n",
       "      <td>на покупку своего автомобиля</td>\n",
       "    </tr>\n",
       "    <tr>\n",
       "      <th>21453</th>\n",
       "      <td>2</td>\n",
       "      <td>1984</td>\n",
       "      <td>40</td>\n",
       "      <td>среднее</td>\n",
       "      <td>1</td>\n",
       "      <td>женат / замужем</td>\n",
       "      <td>0</td>\n",
       "      <td>F</td>\n",
       "      <td>сотрудник</td>\n",
       "      <td>0</td>\n",
       "      <td>82047</td>\n",
       "      <td>на покупку автомобиля</td>\n",
       "    </tr>\n",
       "  </tbody>\n",
       "</table>\n",
       "<p>21454 rows × 12 columns</p>\n",
       "</div>"
      ],
      "text/plain": [
       "       children  days_employed  dob_years education  education_id  \\\n",
       "0             1           8437         42    высшее             0   \n",
       "1             1           4024         36   среднее             1   \n",
       "2             0           5623         33   среднее             1   \n",
       "3             3           4124         32   среднее             1   \n",
       "4             0         340266         53   среднее             1   \n",
       "...         ...            ...        ...       ...           ...   \n",
       "21449         1           4529         43   среднее             1   \n",
       "21450         0         343937         67   среднее             1   \n",
       "21451         1           2113         38   среднее             1   \n",
       "21452         3           3112         38   среднее             1   \n",
       "21453         2           1984         40   среднее             1   \n",
       "\n",
       "          family_status  family_status_id gender income_type  debt  \\\n",
       "0       женат / замужем                 0      F   сотрудник     0   \n",
       "1       женат / замужем                 0      F   сотрудник     0   \n",
       "2       женат / замужем                 0      M   сотрудник     0   \n",
       "3       женат / замужем                 0      M   сотрудник     0   \n",
       "4      гражданский брак                 1      F   пенсионер     0   \n",
       "...                 ...               ...    ...         ...   ...   \n",
       "21449  гражданский брак                 1      F   компаньон     0   \n",
       "21450   женат / замужем                 0      F   пенсионер     0   \n",
       "21451  гражданский брак                 1      M   сотрудник     1   \n",
       "21452   женат / замужем                 0      M   сотрудник     1   \n",
       "21453   женат / замужем                 0      F   сотрудник     0   \n",
       "\n",
       "       total_income                       purpose  \n",
       "0            253875                 покупка жилья  \n",
       "1            112080       приобретение автомобиля  \n",
       "2            145885                 покупка жилья  \n",
       "3            267628    дополнительное образование  \n",
       "4            158616               сыграть свадьбу  \n",
       "...             ...                           ...  \n",
       "21449        224791             операции с жильем  \n",
       "21450        155999          сделка с автомобилем  \n",
       "21451         89672                  недвижимость  \n",
       "21452        244093  на покупку своего автомобиля  \n",
       "21453         82047         на покупку автомобиля  \n",
       "\n",
       "[21454 rows x 12 columns]"
      ]
     },
     "execution_count": 6,
     "metadata": {},
     "output_type": "execute_result"
    }
   ],
   "source": [
    "#методом .str.lower() в текстовом столбце 'education' и 'family_status' приведу к нижнему регистру\n",
    "data['education'] = data['education'].str.lower()\n",
    "data['family_status'] = data['family_status'].str.lower()\n",
    "data.drop_duplicates().reset_index(drop=True)"
   ]
  },
  {
   "cell_type": "code",
   "execution_count": 7,
   "metadata": {},
   "outputs": [
    {
     "data": {
      "text/plain": [
       "71"
      ]
     },
     "execution_count": 7,
     "metadata": {},
     "output_type": "execute_result"
    }
   ],
   "source": [
    "#методом .duplicated() находим кол-во дубликатов\n",
    "data.duplicated().sum() "
   ]
  },
  {
   "cell_type": "code",
   "execution_count": 8,
   "metadata": {},
   "outputs": [
    {
     "data": {
      "text/plain": [
       "0"
      ]
     },
     "execution_count": 8,
     "metadata": {},
     "output_type": "execute_result"
    }
   ],
   "source": [
    "#методом.drop_duplicates() избавляемся от них\n",
    "data = data.drop_duplicates() \n",
    "data.duplicated().sum()"
   ]
  },
  {
   "cell_type": "markdown",
   "metadata": {},
   "source": [
    "**Вывод** \n",
    "В столбце \"education\" много одинаковых по смыслу значений, но в разном регистре. Это возможно из-за того, что поле \"Образование\" при заполнении пользователяим не валидировалось и не приводило все заполненные данные в однообразный вид.\n",
    "Переведем все строковые значения в один регистр. Дубликаты во всем датафрейме найдены с помощью метода duplicated() в сочетании с методом sum(). Он вернул 71 дубликат. Для удаления использовался метод drop_duplicates()."
   ]
  },
  {
   "cell_type": "markdown",
   "metadata": {},
   "source": [
    "### Лемматизация"
   ]
  },
  {
   "cell_type": "code",
   "execution_count": 9,
   "metadata": {},
   "outputs": [
    {
     "data": {
      "text/plain": [
       "Counter({'покупка': 5897,\n",
       "         ' ': 33570,\n",
       "         'жилье': 4460,\n",
       "         '\\n': 21454,\n",
       "         'приобретение': 461,\n",
       "         'автомобиль': 4306,\n",
       "         'дополнительный': 906,\n",
       "         'образование': 4013,\n",
       "         'сыграть': 765,\n",
       "         'свадьба': 2324,\n",
       "         'операция': 2604,\n",
       "         'с': 2918,\n",
       "         'на': 2222,\n",
       "         'проведение': 768,\n",
       "         'для': 1289,\n",
       "         'семья': 638,\n",
       "         'недвижимость': 6351,\n",
       "         'коммерческий': 1311,\n",
       "         'жилой': 1230,\n",
       "         'строительство': 1878,\n",
       "         'собственный': 635,\n",
       "         'подержать': 478,\n",
       "         'свой': 2230,\n",
       "         'со': 627,\n",
       "         'заниматься': 904,\n",
       "         'сделка': 941,\n",
       "         'подержанный': 486,\n",
       "         'получение': 1314,\n",
       "         'высокий': 1374,\n",
       "         'профильный': 436,\n",
       "         'сдача': 651,\n",
       "         'ремонт': 607})"
      ]
     },
     "metadata": {},
     "output_type": "display_data"
    }
   ],
   "source": [
    "from pymystem3 import Mystem\n",
    "m = Mystem()\n",
    "lemmas = data['purpose'].apply(m.lemmatize)\n",
    "lemmas\n",
    "word = [] # Цикл для подсчета лемм\n",
    "for index in lemmas:\n",
    "    word.extend(index)\n",
    "from collections import Counter\n",
    "count_lem = Counter(word)\n",
    "display(count_lem)"
   ]
  },
  {
   "cell_type": "code",
   "execution_count": 10,
   "metadata": {},
   "outputs": [
    {
     "data": {
      "text/plain": [
       "свадьба                                   791\n",
       "на проведение свадьбы                     768\n",
       "сыграть свадьбу                           765\n",
       "операции с недвижимостью                  675\n",
       "покупка коммерческой недвижимости         661\n",
       "операции с жильем                         652\n",
       "покупка жилья для сдачи                   651\n",
       "операции с коммерческой недвижимостью     650\n",
       "покупка жилья                             646\n",
       "жилье                                     646\n",
       "покупка жилья для семьи                   638\n",
       "строительство собственной недвижимости    635\n",
       "недвижимость                              633\n",
       "операции со своей недвижимостью           627\n",
       "строительство жилой недвижимости          624\n",
       "покупка недвижимости                      621\n",
       "покупка своего жилья                      620\n",
       "строительство недвижимости                619\n",
       "ремонт жилью                              607\n",
       "покупка жилой недвижимости                606\n",
       "на покупку своего автомобиля              505\n",
       "заняться высшим образованием              496\n",
       "автомобиль                                494\n",
       "сделка с подержанным автомобилем          486\n",
       "на покупку подержанного автомобиля        478\n",
       "свой автомобиль                           478\n",
       "автомобили                                478\n",
       "на покупку автомобиля                     471\n",
       "приобретение автомобиля                   461\n",
       "дополнительное образование                460\n",
       "сделка с автомобилем                      455\n",
       "высшее образование                        452\n",
       "образование                               447\n",
       "получение дополнительного образования     446\n",
       "получение образования                     442\n",
       "профильное образование                    436\n",
       "получение высшего образования             426\n",
       "заняться образованием                     408\n",
       "Name: purpose, dtype: int64"
      ]
     },
     "metadata": {},
     "output_type": "display_data"
    }
   ],
   "source": [
    "display(data['purpose'].value_counts())"
   ]
  },
  {
   "cell_type": "code",
   "execution_count": 11,
   "metadata": {},
   "outputs": [
    {
     "data": {
      "text/plain": [
       "недвижимость    10811\n",
       "автомобили       4306\n",
       "обучение         4013\n",
       "свадьба          2324\n",
       "Name: purpose_id, dtype: int64"
      ]
     },
     "metadata": {},
     "output_type": "display_data"
    }
   ],
   "source": [
    "def purpose_group (lemmas):\n",
    "    if 'жиль' in lemmas or 'недвижим' in lemmas:\n",
    "        return 'недвижимость'\n",
    "    if 'авто' in lemmas:\n",
    "        return 'автомобили'\n",
    "    if 'образов' in lemmas:\n",
    "        return 'обучение'\n",
    "    if 'свадь' in lemmas:\n",
    "        return 'свадьба'\n",
    "    return 'потерял данные'\n",
    "   \n",
    " \n",
    "data['purpose_id'] = data['purpose'].apply(purpose_group)\n",
    "\n",
    "display(data['purpose_id'].value_counts())\n"
   ]
  },
  {
   "cell_type": "markdown",
   "metadata": {},
   "source": [
    "**Вывод** С помощью лемм выделили цели и кол-во их"
   ]
  },
  {
   "cell_type": "markdown",
   "metadata": {},
   "source": [
    "### Категоризация данных"
   ]
  },
  {
   "cell_type": "code",
   "execution_count": 12,
   "metadata": {},
   "outputs": [
    {
     "data": {
      "text/plain": [
       "бездетные      14091\n",
       "с детьми        6907\n",
       "многодетные      456\n",
       "Name: children_category, dtype: int64"
      ]
     },
     "execution_count": 12,
     "metadata": {},
     "output_type": "execute_result"
    }
   ],
   "source": [
    "def children_group(children):\n",
    "    if children == 0:\n",
    "        return 'бездетные'\n",
    "    if children <= 2:\n",
    "        return 'с детьми'\n",
    "    return 'многодетные'\n",
    "data['children_category'] = data['children'].apply(children_group)\n",
    "data['children_category'].value_counts()"
   ]
  },
  {
   "cell_type": "code",
   "execution_count": 13,
   "metadata": {},
   "outputs": [
    {
     "data": {
      "text/plain": [
       "средний уровень дохода    14178\n",
       "низкий уровень дохода      4463\n",
       "высокий уровень дохода     2813\n",
       "Name: income_category, dtype: int64"
      ]
     },
     "metadata": {},
     "output_type": "display_data"
    }
   ],
   "source": [
    "def income_group(row):\n",
    "    total_income = row['total_income']\n",
    "    if 0 <= total_income <= 100000:\n",
    "        return 'низкий уровень дохода'\n",
    "    if 100001 <= total_income <= 250000:\n",
    "        return 'средний уровень дохода'\n",
    "    return 'высокий уровень дохода'\n",
    "\n",
    "data['income_category'] = data.apply(income_group, axis=1)\n",
    "display(data['income_category'].value_counts())"
   ]
  },
  {
   "cell_type": "code",
   "execution_count": 14,
   "metadata": {},
   "outputs": [
    {
     "data": {
      "text/plain": [
       "в браке                  12339\n",
       "гражданский брак          4151\n",
       "не жента / не замужем     2810\n",
       "в разводе                 1195\n",
       "вдовец/вдова               959\n",
       "Name: status_category, dtype: int64"
      ]
     },
     "execution_count": 14,
     "metadata": {},
     "output_type": "execute_result"
    }
   ],
   "source": [
    "def status_group(family_status_id):\n",
    "    if family_status_id == 0:\n",
    "        return 'в браке'\n",
    "    if family_status_id == 1:\n",
    "        return 'гражданский брак'\n",
    "    if family_status_id == 2:\n",
    "        return 'вдовец/вдова'\n",
    "    if family_status_id == 3:\n",
    "        return 'в разводе'\n",
    "    return 'не жента / не замужем'\n",
    "data['status_category'] = data['family_status_id'].apply(status_group)\n",
    "data['status_category'].value_counts()"
   ]
  },
  {
   "cell_type": "markdown",
   "metadata": {},
   "source": [
    "**Вывод** С помощью категоризации данных выделили важные значения для последующего ответа на заданные вопросы"
   ]
  },
  {
   "cell_type": "markdown",
   "metadata": {},
   "source": [
    "## Шаг 3. Ответы на вопросы:\n",
    "    Есть ли зависимость между наличием детей и возвратом кредита в срок?\n",
    "    Есть ли зависимость между семейным положением и возвратом кредита в срок?\n",
    "    Есть ли зависимость между уровнем дохода и возвратом кредита в срок?\n",
    "    Как разные цели кредита влияют на его возврат в срок?\n",
    "    "
   ]
  },
  {
   "cell_type": "markdown",
   "metadata": {},
   "source": [
    "### Есть ли зависимость между наличием детей и возвратом кредита в срок?"
   ]
  },
  {
   "cell_type": "code",
   "execution_count": 15,
   "metadata": {},
   "outputs": [
    {
     "data": {
      "text/html": [
       "<div>\n",
       "<style scoped>\n",
       "    .dataframe tbody tr th:only-of-type {\n",
       "        vertical-align: middle;\n",
       "    }\n",
       "\n",
       "    .dataframe tbody tr th {\n",
       "        vertical-align: top;\n",
       "    }\n",
       "\n",
       "    .dataframe thead th {\n",
       "        text-align: right;\n",
       "    }\n",
       "</style>\n",
       "<table border=\"1\" class=\"dataframe\">\n",
       "  <thead>\n",
       "    <tr style=\"text-align: right;\">\n",
       "      <th>debt</th>\n",
       "      <th>0</th>\n",
       "      <th>1</th>\n",
       "    </tr>\n",
       "    <tr>\n",
       "      <th>children_category</th>\n",
       "      <th></th>\n",
       "      <th></th>\n",
       "    </tr>\n",
       "  </thead>\n",
       "  <tbody>\n",
       "    <tr>\n",
       "      <th>бездетные</th>\n",
       "      <td>13028</td>\n",
       "      <td>1063</td>\n",
       "    </tr>\n",
       "    <tr>\n",
       "      <th>многодетные</th>\n",
       "      <td>417</td>\n",
       "      <td>39</td>\n",
       "    </tr>\n",
       "    <tr>\n",
       "      <th>с детьми</th>\n",
       "      <td>6268</td>\n",
       "      <td>639</td>\n",
       "    </tr>\n",
       "  </tbody>\n",
       "</table>\n",
       "</div>"
      ],
      "text/plain": [
       "debt                   0     1\n",
       "children_category             \n",
       "бездетные          13028  1063\n",
       "многодетные          417    39\n",
       "с детьми            6268   639"
      ]
     },
     "execution_count": 15,
     "metadata": {},
     "output_type": "execute_result"
    }
   ],
   "source": [
    "data_pivot_ch = data.pivot_table(index=['children_category'], columns = 'debt', values = 'children', aggfunc = 'count')\n",
    "data_pivot_ch\n",
    "\n"
   ]
  },
  {
   "cell_type": "code",
   "execution_count": 16,
   "metadata": {},
   "outputs": [
    {
     "data": {
      "text/plain": [
       "children_category\n",
       "бездетные      7.543822\n",
       "многодетные    8.552632\n",
       "с детьми       9.251484\n",
       "dtype: float64"
      ]
     },
     "execution_count": 16,
     "metadata": {},
     "output_type": "execute_result"
    }
   ],
   "source": [
    "children_conversion = data_pivot_ch[1] / (data_pivot_ch[0] + data_pivot_ch[1]) * 100\n",
    "children_conversion"
   ]
  },
  {
   "cell_type": "markdown",
   "metadata": {},
   "source": [
    "**Вывод** Категория с детьми и многотодетные вовзвращают кредит невовремя по сравнению с категорией без детей\n"
   ]
  },
  {
   "cell_type": "markdown",
   "metadata": {},
   "source": [
    "### Есть ли зависимость между семейным положением и возвратом кредита в срок?"
   ]
  },
  {
   "cell_type": "code",
   "execution_count": 17,
   "metadata": {},
   "outputs": [
    {
     "data": {
      "text/html": [
       "<div>\n",
       "<style scoped>\n",
       "    .dataframe tbody tr th:only-of-type {\n",
       "        vertical-align: middle;\n",
       "    }\n",
       "\n",
       "    .dataframe tbody tr th {\n",
       "        vertical-align: top;\n",
       "    }\n",
       "\n",
       "    .dataframe thead th {\n",
       "        text-align: right;\n",
       "    }\n",
       "</style>\n",
       "<table border=\"1\" class=\"dataframe\">\n",
       "  <thead>\n",
       "    <tr style=\"text-align: right;\">\n",
       "      <th>debt</th>\n",
       "      <th>0</th>\n",
       "      <th>1</th>\n",
       "    </tr>\n",
       "    <tr>\n",
       "      <th>status_category</th>\n",
       "      <th></th>\n",
       "      <th></th>\n",
       "    </tr>\n",
       "  </thead>\n",
       "  <tbody>\n",
       "    <tr>\n",
       "      <th>в браке</th>\n",
       "      <td>11408</td>\n",
       "      <td>931</td>\n",
       "    </tr>\n",
       "    <tr>\n",
       "      <th>в разводе</th>\n",
       "      <td>1110</td>\n",
       "      <td>85</td>\n",
       "    </tr>\n",
       "    <tr>\n",
       "      <th>вдовец/вдова</th>\n",
       "      <td>896</td>\n",
       "      <td>63</td>\n",
       "    </tr>\n",
       "    <tr>\n",
       "      <th>гражданский брак</th>\n",
       "      <td>3763</td>\n",
       "      <td>388</td>\n",
       "    </tr>\n",
       "    <tr>\n",
       "      <th>не жента / не замужем</th>\n",
       "      <td>2536</td>\n",
       "      <td>274</td>\n",
       "    </tr>\n",
       "  </tbody>\n",
       "</table>\n",
       "</div>"
      ],
      "text/plain": [
       "debt                       0    1\n",
       "status_category                  \n",
       "в браке                11408  931\n",
       "в разводе               1110   85\n",
       "вдовец/вдова             896   63\n",
       "гражданский брак        3763  388\n",
       "не жента / не замужем   2536  274"
      ]
     },
     "execution_count": 17,
     "metadata": {},
     "output_type": "execute_result"
    }
   ],
   "source": [
    "data_pivot_st = data.pivot_table(index=['status_category'], columns = 'debt', values = 'family_status_id', aggfunc = 'count')\n",
    "data_pivot_st"
   ]
  },
  {
   "cell_type": "code",
   "execution_count": 18,
   "metadata": {},
   "outputs": [
    {
     "data": {
      "text/plain": [
       "status_category\n",
       "вдовец/вдова             6.569343\n",
       "в разводе                7.112971\n",
       "в браке                  7.545182\n",
       "гражданский брак         9.347145\n",
       "не жента / не замужем    9.750890\n",
       "dtype: float64"
      ]
     },
     "execution_count": 18,
     "metadata": {},
     "output_type": "execute_result"
    }
   ],
   "source": [
    "status_conversion = data_pivot_st[1] / (data_pivot_st[0] + data_pivot_st[1]) * 100\n",
    "status_conversion.sort_values()"
   ]
  },
  {
   "cell_type": "markdown",
   "metadata": {},
   "source": [
    "**Вывод** Не женатые/не замужние и в гражданском браке имеют плохую статистику по возврату кредита в срок"
   ]
  },
  {
   "cell_type": "markdown",
   "metadata": {},
   "source": [
    "### Есть ли зависимость между уровнем дохода и возвратом кредита в срок?"
   ]
  },
  {
   "cell_type": "code",
   "execution_count": 19,
   "metadata": {},
   "outputs": [
    {
     "data": {
      "text/html": [
       "<div>\n",
       "<style scoped>\n",
       "    .dataframe tbody tr th:only-of-type {\n",
       "        vertical-align: middle;\n",
       "    }\n",
       "\n",
       "    .dataframe tbody tr th {\n",
       "        vertical-align: top;\n",
       "    }\n",
       "\n",
       "    .dataframe thead th {\n",
       "        text-align: right;\n",
       "    }\n",
       "</style>\n",
       "<table border=\"1\" class=\"dataframe\">\n",
       "  <thead>\n",
       "    <tr style=\"text-align: right;\">\n",
       "      <th>debt</th>\n",
       "      <th>0</th>\n",
       "      <th>1</th>\n",
       "    </tr>\n",
       "    <tr>\n",
       "      <th>income_category</th>\n",
       "      <th></th>\n",
       "      <th></th>\n",
       "    </tr>\n",
       "  </thead>\n",
       "  <tbody>\n",
       "    <tr>\n",
       "      <th>высокий уровень дохода</th>\n",
       "      <td>2619</td>\n",
       "      <td>194</td>\n",
       "    </tr>\n",
       "    <tr>\n",
       "      <th>низкий уровень дохода</th>\n",
       "      <td>4109</td>\n",
       "      <td>354</td>\n",
       "    </tr>\n",
       "    <tr>\n",
       "      <th>средний уровень дохода</th>\n",
       "      <td>12985</td>\n",
       "      <td>1193</td>\n",
       "    </tr>\n",
       "  </tbody>\n",
       "</table>\n",
       "</div>"
      ],
      "text/plain": [
       "debt                        0     1\n",
       "income_category                    \n",
       "высокий уровень дохода   2619   194\n",
       "низкий уровень дохода    4109   354\n",
       "средний уровень дохода  12985  1193"
      ]
     },
     "execution_count": 19,
     "metadata": {},
     "output_type": "execute_result"
    }
   ],
   "source": [
    "data_pivot_ti = data.pivot_table(index=['income_category'], columns = 'debt', values = 'total_income', aggfunc = 'count')\n",
    "data_pivot_ti"
   ]
  },
  {
   "cell_type": "code",
   "execution_count": 20,
   "metadata": {},
   "outputs": [
    {
     "data": {
      "text/plain": [
       "income_category\n",
       "высокий уровень дохода    6.896552\n",
       "низкий уровень дохода     7.931884\n",
       "средний уровень дохода    8.414445\n",
       "dtype: float64"
      ]
     },
     "execution_count": 20,
     "metadata": {},
     "output_type": "execute_result"
    }
   ],
   "source": [
    "income_conversion = data_pivot_ti [1] / (data_pivot_ti [0] + data_pivot_ti [1]) * 100\n",
    "income_conversion"
   ]
  },
  {
   "cell_type": "markdown",
   "metadata": {},
   "source": [
    "**Вывод** Поразительно, люди с низким уровнем дохода обошли группу лиц со средним уровнем по возврату кредита в срок"
   ]
  },
  {
   "cell_type": "markdown",
   "metadata": {},
   "source": [
    "### Как разные цели кредита влияют на его возврат в срок?"
   ]
  },
  {
   "cell_type": "code",
   "execution_count": 21,
   "metadata": {},
   "outputs": [
    {
     "data": {
      "text/html": [
       "<div>\n",
       "<style scoped>\n",
       "    .dataframe tbody tr th:only-of-type {\n",
       "        vertical-align: middle;\n",
       "    }\n",
       "\n",
       "    .dataframe tbody tr th {\n",
       "        vertical-align: top;\n",
       "    }\n",
       "\n",
       "    .dataframe thead th {\n",
       "        text-align: right;\n",
       "    }\n",
       "</style>\n",
       "<table border=\"1\" class=\"dataframe\">\n",
       "  <thead>\n",
       "    <tr style=\"text-align: right;\">\n",
       "      <th>debt</th>\n",
       "      <th>0</th>\n",
       "      <th>1</th>\n",
       "    </tr>\n",
       "    <tr>\n",
       "      <th>purpose_id</th>\n",
       "      <th></th>\n",
       "      <th></th>\n",
       "    </tr>\n",
       "  </thead>\n",
       "  <tbody>\n",
       "    <tr>\n",
       "      <th>автомобили</th>\n",
       "      <td>3903</td>\n",
       "      <td>403</td>\n",
       "    </tr>\n",
       "    <tr>\n",
       "      <th>недвижимость</th>\n",
       "      <td>10029</td>\n",
       "      <td>782</td>\n",
       "    </tr>\n",
       "    <tr>\n",
       "      <th>обучение</th>\n",
       "      <td>3643</td>\n",
       "      <td>370</td>\n",
       "    </tr>\n",
       "    <tr>\n",
       "      <th>свадьба</th>\n",
       "      <td>2138</td>\n",
       "      <td>186</td>\n",
       "    </tr>\n",
       "  </tbody>\n",
       "</table>\n",
       "</div>"
      ],
      "text/plain": [
       "debt              0    1\n",
       "purpose_id              \n",
       "автомобили     3903  403\n",
       "недвижимость  10029  782\n",
       "обучение       3643  370\n",
       "свадьба        2138  186"
      ]
     },
     "execution_count": 21,
     "metadata": {},
     "output_type": "execute_result"
    }
   ],
   "source": [
    "data_pivot_pr = data.pivot_table(index=['purpose_id'], columns = 'debt', values = 'purpose', aggfunc = 'count')\n",
    "data_pivot_pr"
   ]
  },
  {
   "cell_type": "code",
   "execution_count": 22,
   "metadata": {},
   "outputs": [
    {
     "data": {
      "text/plain": [
       "purpose_id\n",
       "недвижимость    7.233373\n",
       "свадьба         8.003442\n",
       "обучение        9.220035\n",
       "автомобили      9.359034\n",
       "dtype: float64"
      ]
     },
     "execution_count": 22,
     "metadata": {},
     "output_type": "execute_result"
    }
   ],
   "source": [
    "purpose_conversion = data_pivot_pr[1] / (data_pivot_pr[0] + data_pivot_pr[1]) * 100\n",
    "purpose_conversion.sort_values()"
   ]
  },
  {
   "cell_type": "markdown",
   "metadata": {},
   "source": [
    "**Вывод** \n",
    "\n",
    "Автомобиль и обучение опаздывают с возвратом кредита в срок, тоже неожиданно, думал в лидерах будет недвижимость..."
   ]
  },
  {
   "cell_type": "markdown",
   "metadata": {},
   "source": [
    "## Шаг 4. Общий вывод"
   ]
  },
  {
   "cell_type": "markdown",
   "metadata": {},
   "source": [
    "**Вывод** \n",
    "1. Зависимости, которые удалось вычислить, для меня были неожиданны, процент не возврата кредита в срок намного больше, а так же группа лиц с низким уровнем дохода намного лучше осуществляют возврат кредита в срок, чем другие группы.\n",
    "2. Пропущенные значения в 1ом моем варианте я заменил на 0, что оказалось неверно, так как терялись важные значения для последующего подсчета категорий и их зависимостей, во 2ом варианте произвел замену пропущенных значений на средние значения, данные изменились.\n",
    "3. С помощью категоризации данных мы разделили нужный нам столбец на категории и вычислили кол-во нужны нам значений для последующего ответа на посталвенные вопросы, как та или ина категория групп людей связана между собой."
   ]
  },
  {
   "cell_type": "code",
   "execution_count": null,
   "metadata": {},
   "outputs": [],
   "source": []
  }
 ],
 "metadata": {
  "ExecuteTimeLog": [
   {
    "duration": 626,
    "start_time": "2022-01-25T16:45:36.560Z"
   },
   {
    "duration": 637,
    "start_time": "2022-01-25T16:54:38.521Z"
   },
   {
    "duration": 17,
    "start_time": "2022-01-25T16:59:29.986Z"
   },
   {
    "duration": 70,
    "start_time": "2022-01-25T17:01:09.711Z"
   },
   {
    "duration": 67,
    "start_time": "2022-01-25T17:06:49.721Z"
   },
   {
    "duration": 233,
    "start_time": "2022-01-25T17:10:53.869Z"
   },
   {
    "duration": 9,
    "start_time": "2022-01-25T17:11:08.279Z"
   },
   {
    "duration": 17,
    "start_time": "2022-01-25T17:11:33.979Z"
   },
   {
    "duration": 24,
    "start_time": "2022-01-25T17:12:00.861Z"
   },
   {
    "duration": 176,
    "start_time": "2022-01-25T17:12:13.219Z"
   },
   {
    "duration": 179,
    "start_time": "2022-01-25T17:12:19.290Z"
   },
   {
    "duration": 180,
    "start_time": "2022-01-25T17:12:23.929Z"
   },
   {
    "duration": 238,
    "start_time": "2022-01-25T17:12:32.649Z"
   },
   {
    "duration": 11,
    "start_time": "2022-01-25T17:12:44.060Z"
   },
   {
    "duration": 70,
    "start_time": "2022-01-25T17:13:13.410Z"
   },
   {
    "duration": 69,
    "start_time": "2022-01-25T17:13:18.089Z"
   },
   {
    "duration": 10,
    "start_time": "2022-01-25T17:13:23.360Z"
   },
   {
    "duration": 20,
    "start_time": "2022-01-25T17:13:30.670Z"
   },
   {
    "duration": 23,
    "start_time": "2022-01-25T17:14:29.430Z"
   },
   {
    "duration": 189,
    "start_time": "2022-01-25T17:17:37.199Z"
   },
   {
    "duration": 24,
    "start_time": "2022-01-25T17:17:46.979Z"
   },
   {
    "duration": 43,
    "start_time": "2022-01-25T17:18:52.890Z"
   },
   {
    "duration": 26,
    "start_time": "2022-01-25T17:19:09.679Z"
   },
   {
    "duration": 24,
    "start_time": "2022-01-25T17:19:19.741Z"
   },
   {
    "duration": 17,
    "start_time": "2022-01-25T17:19:23.654Z"
   },
   {
    "duration": 69,
    "start_time": "2022-01-25T17:19:32.462Z"
   },
   {
    "duration": 10,
    "start_time": "2022-01-25T17:19:42.530Z"
   },
   {
    "duration": 27,
    "start_time": "2022-01-25T17:19:47.300Z"
   },
   {
    "duration": 35,
    "start_time": "2022-01-25T17:19:51.100Z"
   },
   {
    "duration": 60,
    "start_time": "2022-01-25T17:19:53.370Z"
   },
   {
    "duration": 686,
    "start_time": "2022-01-30T13:04:04.235Z"
   },
   {
    "duration": 12,
    "start_time": "2022-01-30T13:04:31.449Z"
   },
   {
    "duration": 20,
    "start_time": "2022-01-30T13:05:45.835Z"
   },
   {
    "duration": 56,
    "start_time": "2022-01-30T13:06:40.444Z"
   },
   {
    "duration": 14,
    "start_time": "2022-01-30T13:17:35.653Z"
   },
   {
    "duration": 14,
    "start_time": "2022-01-30T13:17:43.531Z"
   },
   {
    "duration": 24,
    "start_time": "2022-01-30T13:17:44.774Z"
   },
   {
    "duration": 12,
    "start_time": "2022-01-30T13:17:48.498Z"
   },
   {
    "duration": 71,
    "start_time": "2022-01-30T13:17:52.947Z"
   },
   {
    "duration": 11,
    "start_time": "2022-01-30T13:17:56.810Z"
   },
   {
    "duration": 16,
    "start_time": "2022-01-30T13:17:59.799Z"
   },
   {
    "duration": 5,
    "start_time": "2022-01-30T13:22:45.265Z"
   },
   {
    "duration": 15,
    "start_time": "2022-01-30T13:23:38.961Z"
   },
   {
    "duration": 331,
    "start_time": "2022-01-30T13:24:00.225Z"
   },
   {
    "duration": 278,
    "start_time": "2022-01-30T13:24:12.048Z"
   },
   {
    "duration": 19,
    "start_time": "2022-01-30T13:24:17.159Z"
   },
   {
    "duration": 15,
    "start_time": "2022-01-30T13:27:39.952Z"
   },
   {
    "duration": 15,
    "start_time": "2022-01-30T13:27:42.672Z"
   },
   {
    "duration": 13,
    "start_time": "2022-01-30T13:27:46.443Z"
   },
   {
    "duration": 71,
    "start_time": "2022-01-30T13:27:50.334Z"
   },
   {
    "duration": 11,
    "start_time": "2022-01-30T13:27:55.630Z"
   },
   {
    "duration": 16,
    "start_time": "2022-01-30T13:27:59.653Z"
   },
   {
    "duration": 22,
    "start_time": "2022-01-30T13:42:38.567Z"
   },
   {
    "duration": 323,
    "start_time": "2022-01-30T13:42:46.045Z"
   },
   {
    "duration": 71,
    "start_time": "2022-01-30T13:43:07.608Z"
   },
   {
    "duration": 11,
    "start_time": "2022-01-30T13:43:12.044Z"
   },
   {
    "duration": 20,
    "start_time": "2022-01-30T13:43:16.077Z"
   },
   {
    "duration": 23,
    "start_time": "2022-01-30T13:46:19.872Z"
   },
   {
    "duration": 416,
    "start_time": "2022-01-30T13:54:45.971Z"
   },
   {
    "duration": 51,
    "start_time": "2022-01-30T13:54:49.699Z"
   },
   {
    "duration": 4524,
    "start_time": "2022-01-30T13:55:01.554Z"
   },
   {
    "duration": 4135,
    "start_time": "2022-01-30T13:57:34.932Z"
   },
   {
    "duration": 89,
    "start_time": "2022-01-30T13:59:31.403Z"
   },
   {
    "duration": 85,
    "start_time": "2022-01-30T13:59:39.483Z"
   },
   {
    "duration": 4381,
    "start_time": "2022-01-30T14:00:01.899Z"
   },
   {
    "duration": 56,
    "start_time": "2022-01-30T14:00:10.714Z"
   },
   {
    "duration": 4448,
    "start_time": "2022-01-30T14:00:13.915Z"
   },
   {
    "duration": 4331,
    "start_time": "2022-01-30T14:00:36.353Z"
   },
   {
    "duration": 4461,
    "start_time": "2022-01-30T14:01:29.779Z"
   },
   {
    "duration": 4490,
    "start_time": "2022-01-30T14:01:40.330Z"
   },
   {
    "duration": 275,
    "start_time": "2022-01-30T14:06:59.631Z"
   },
   {
    "duration": 3892,
    "start_time": "2022-01-30T14:07:14.379Z"
   },
   {
    "duration": 4171,
    "start_time": "2022-01-30T14:13:07.962Z"
   },
   {
    "duration": 29,
    "start_time": "2022-01-30T14:16:39.810Z"
   },
   {
    "duration": 73,
    "start_time": "2022-01-30T14:16:44.328Z"
   },
   {
    "duration": 11,
    "start_time": "2022-01-30T14:16:48.908Z"
   },
   {
    "duration": 21,
    "start_time": "2022-01-30T14:16:52.553Z"
   },
   {
    "duration": 26,
    "start_time": "2022-01-30T14:16:56.137Z"
   },
   {
    "duration": 47,
    "start_time": "2022-01-30T14:16:59.704Z"
   },
   {
    "duration": 4168,
    "start_time": "2022-01-30T14:17:02.227Z"
   },
   {
    "duration": 270,
    "start_time": "2022-01-30T15:10:22.457Z"
   },
   {
    "duration": 43,
    "start_time": "2022-01-30T15:10:42.011Z"
   },
   {
    "duration": 9,
    "start_time": "2022-01-30T15:20:06.212Z"
   },
   {
    "duration": 74,
    "start_time": "2022-01-30T15:23:40.188Z"
   },
   {
    "duration": 893,
    "start_time": "2022-01-31T17:13:09.722Z"
   },
   {
    "duration": 17,
    "start_time": "2022-01-31T17:13:14.481Z"
   },
   {
    "duration": 25,
    "start_time": "2022-01-31T17:13:19.140Z"
   },
   {
    "duration": 36,
    "start_time": "2022-01-31T17:13:23.600Z"
   },
   {
    "duration": 62,
    "start_time": "2022-01-31T17:13:25.797Z"
   },
   {
    "duration": 5050,
    "start_time": "2022-01-31T17:13:30.452Z"
   },
   {
    "duration": 71,
    "start_time": "2022-01-31T17:13:51.135Z"
   },
   {
    "duration": 67,
    "start_time": "2022-01-31T17:14:10.185Z"
   },
   {
    "duration": 1359,
    "start_time": "2022-01-31T17:18:47.033Z"
   },
   {
    "duration": 11,
    "start_time": "2022-01-31T17:18:53.352Z"
   },
   {
    "duration": 1274,
    "start_time": "2022-01-31T17:18:57.840Z"
   },
   {
    "duration": 87,
    "start_time": "2022-01-31T17:19:30.151Z"
   },
   {
    "duration": 70,
    "start_time": "2022-01-31T17:19:45.522Z"
   },
   {
    "duration": 79,
    "start_time": "2022-01-31T17:21:07.827Z"
   },
   {
    "duration": 9,
    "start_time": "2022-01-31T17:31:39.887Z"
   },
   {
    "duration": 59,
    "start_time": "2022-01-31T17:31:50.905Z"
   },
   {
    "duration": 11,
    "start_time": "2022-01-31T17:32:50.419Z"
   },
   {
    "duration": 67,
    "start_time": "2022-01-31T17:35:00.865Z"
   },
   {
    "duration": 82,
    "start_time": "2022-01-31T17:36:23.940Z"
   },
   {
    "duration": 357,
    "start_time": "2022-02-03T10:07:35.823Z"
   },
   {
    "duration": 644,
    "start_time": "2022-02-03T10:07:43.193Z"
   },
   {
    "duration": 9,
    "start_time": "2022-02-03T10:07:47.975Z"
   },
   {
    "duration": 12,
    "start_time": "2022-02-03T10:07:51.992Z"
   },
   {
    "duration": 19,
    "start_time": "2022-02-03T10:07:59.571Z"
   },
   {
    "duration": 22,
    "start_time": "2022-02-03T10:08:03.044Z"
   },
   {
    "duration": 2859,
    "start_time": "2022-02-03T10:08:08.104Z"
   },
   {
    "duration": 8,
    "start_time": "2022-02-03T10:08:14.734Z"
   },
   {
    "duration": 6,
    "start_time": "2022-02-03T10:10:49.093Z"
   },
   {
    "duration": 13,
    "start_time": "2022-02-03T10:10:53.831Z"
   },
   {
    "duration": 63,
    "start_time": "2022-02-03T10:10:59.515Z"
   },
   {
    "duration": 9,
    "start_time": "2022-02-03T10:11:03.321Z"
   },
   {
    "duration": 10,
    "start_time": "2022-02-03T10:11:06.718Z"
   },
   {
    "duration": 5,
    "start_time": "2022-02-03T10:11:11.178Z"
   },
   {
    "duration": 16,
    "start_time": "2022-02-03T10:11:12.104Z"
   },
   {
    "duration": 29,
    "start_time": "2022-02-03T10:11:14.654Z"
   },
   {
    "duration": 2799,
    "start_time": "2022-02-03T10:11:18.775Z"
   },
   {
    "duration": 7,
    "start_time": "2022-02-03T10:11:24.605Z"
   },
   {
    "duration": 32,
    "start_time": "2022-02-03T10:11:28.542Z"
   },
   {
    "duration": 11,
    "start_time": "2022-02-03T10:17:57.281Z"
   },
   {
    "duration": 12,
    "start_time": "2022-02-03T10:20:11.395Z"
   },
   {
    "duration": 10,
    "start_time": "2022-02-03T10:20:18.644Z"
   },
   {
    "duration": 329,
    "start_time": "2022-02-03T10:26:50.803Z"
   },
   {
    "duration": 18,
    "start_time": "2022-02-03T10:27:02.554Z"
   },
   {
    "duration": 18,
    "start_time": "2022-02-03T10:28:43.433Z"
   },
   {
    "duration": 15,
    "start_time": "2022-02-03T10:30:08.594Z"
   },
   {
    "duration": 16,
    "start_time": "2022-02-03T10:33:33.143Z"
   },
   {
    "duration": 15,
    "start_time": "2022-02-03T10:34:35.728Z"
   },
   {
    "duration": 17,
    "start_time": "2022-02-03T10:36:46.413Z"
   },
   {
    "duration": 10,
    "start_time": "2022-02-03T10:44:22.175Z"
   },
   {
    "duration": 11,
    "start_time": "2022-02-03T10:44:33.329Z"
   },
   {
    "duration": 19,
    "start_time": "2022-02-03T10:46:02.241Z"
   },
   {
    "duration": 13,
    "start_time": "2022-02-03T10:46:27.127Z"
   },
   {
    "duration": 1509,
    "start_time": "2022-02-03T10:51:32.053Z"
   },
   {
    "duration": 12,
    "start_time": "2022-02-03T10:54:26.405Z"
   },
   {
    "duration": 15,
    "start_time": "2022-02-03T11:02:31.370Z"
   },
   {
    "duration": 1595,
    "start_time": "2022-02-03T11:03:18.402Z"
   },
   {
    "duration": 3,
    "start_time": "2022-02-03T11:03:24.770Z"
   },
   {
    "duration": 1539,
    "start_time": "2022-02-03T11:03:46.210Z"
   },
   {
    "duration": 1619,
    "start_time": "2022-02-03T11:05:20.613Z"
   },
   {
    "duration": 1440,
    "start_time": "2022-02-03T11:06:04.378Z"
   },
   {
    "duration": 1221,
    "start_time": "2022-02-03T11:06:26.689Z"
   },
   {
    "duration": 2056,
    "start_time": "2022-02-03T11:07:20.898Z"
   },
   {
    "duration": 99,
    "start_time": "2022-02-03T11:10:39.258Z"
   },
   {
    "duration": 16,
    "start_time": "2022-02-03T11:11:03.289Z"
   },
   {
    "duration": 15,
    "start_time": "2022-02-03T11:11:23.162Z"
   },
   {
    "duration": 15,
    "start_time": "2022-02-03T11:11:42.170Z"
   },
   {
    "duration": 11,
    "start_time": "2022-02-03T11:11:49.522Z"
   },
   {
    "duration": 19,
    "start_time": "2022-02-03T11:11:59.210Z"
   },
   {
    "duration": 13,
    "start_time": "2022-02-03T11:12:30.770Z"
   },
   {
    "duration": 11,
    "start_time": "2022-02-03T11:12:57.330Z"
   },
   {
    "duration": 19,
    "start_time": "2022-02-03T11:13:08.250Z"
   },
   {
    "duration": 338,
    "start_time": "2022-02-03T11:15:14.562Z"
   },
   {
    "duration": 181,
    "start_time": "2022-02-03T11:15:39.290Z"
   },
   {
    "duration": 177,
    "start_time": "2022-02-03T11:17:14.332Z"
   },
   {
    "duration": 235,
    "start_time": "2022-02-03T11:18:55.210Z"
   },
   {
    "duration": 180,
    "start_time": "2022-02-03T11:22:13.290Z"
   },
   {
    "duration": 182,
    "start_time": "2022-02-03T11:22:40.382Z"
   },
   {
    "duration": 188,
    "start_time": "2022-02-03T11:22:57.250Z"
   },
   {
    "duration": 178,
    "start_time": "2022-02-03T11:23:34.410Z"
   },
   {
    "duration": 6061,
    "start_time": "2022-02-03T11:25:25.565Z"
   },
   {
    "duration": 7243,
    "start_time": "2022-02-03T11:25:54.087Z"
   },
   {
    "duration": 62,
    "start_time": "2022-02-03T11:26:43.286Z"
   },
   {
    "duration": 5,
    "start_time": "2022-02-03T11:27:39.434Z"
   },
   {
    "duration": 17,
    "start_time": "2022-02-03T11:27:42.223Z"
   },
   {
    "duration": 64,
    "start_time": "2022-02-03T11:27:47.030Z"
   },
   {
    "duration": 10,
    "start_time": "2022-02-03T11:27:50.235Z"
   },
   {
    "duration": 11,
    "start_time": "2022-02-03T11:27:53.896Z"
   },
   {
    "duration": 14,
    "start_time": "2022-02-03T11:27:57.705Z"
   },
   {
    "duration": 22,
    "start_time": "2022-02-03T11:28:00.184Z"
   },
   {
    "duration": 2899,
    "start_time": "2022-02-03T11:28:03.764Z"
   },
   {
    "duration": 8,
    "start_time": "2022-02-03T11:28:09.446Z"
   },
   {
    "duration": 13,
    "start_time": "2022-02-03T11:28:13.113Z"
   },
   {
    "duration": 11,
    "start_time": "2022-02-03T11:28:27.694Z"
   },
   {
    "duration": 22,
    "start_time": "2022-02-03T11:28:47.344Z"
   },
   {
    "duration": 187,
    "start_time": "2022-02-03T11:30:17.175Z"
   },
   {
    "duration": 191,
    "start_time": "2022-02-03T11:30:33.094Z"
   },
   {
    "duration": 16,
    "start_time": "2022-02-03T11:33:12.184Z"
   },
   {
    "duration": 14,
    "start_time": "2022-02-03T11:41:00.106Z"
   },
   {
    "duration": 13,
    "start_time": "2022-02-03T11:41:46.198Z"
   },
   {
    "duration": 425,
    "start_time": "2022-02-03T11:42:39.247Z"
   },
   {
    "duration": 16,
    "start_time": "2022-02-03T11:42:45.726Z"
   },
   {
    "duration": 20,
    "start_time": "2022-02-03T11:43:11.688Z"
   },
   {
    "duration": 66,
    "start_time": "2022-02-03T11:43:16.916Z"
   },
   {
    "duration": 8,
    "start_time": "2022-02-03T11:43:21.628Z"
   },
   {
    "duration": 343,
    "start_time": "2022-02-03T11:43:24.515Z"
   },
   {
    "duration": 349,
    "start_time": "2022-02-03T11:43:58.024Z"
   },
   {
    "duration": 12,
    "start_time": "2022-02-03T11:44:05.186Z"
   },
   {
    "duration": 18,
    "start_time": "2022-02-03T11:44:33.146Z"
   },
   {
    "duration": 17,
    "start_time": "2022-02-03T11:44:38.967Z"
   },
   {
    "duration": 20,
    "start_time": "2022-02-03T11:44:43.677Z"
   },
   {
    "duration": 35,
    "start_time": "2022-02-03T11:44:46.034Z"
   },
   {
    "duration": 3380,
    "start_time": "2022-02-03T11:44:48.834Z"
   },
   {
    "duration": 10,
    "start_time": "2022-02-03T11:44:55.399Z"
   },
   {
    "duration": 13,
    "start_time": "2022-02-03T11:44:59.218Z"
   },
   {
    "duration": 12,
    "start_time": "2022-02-03T11:45:05.566Z"
   },
   {
    "duration": 209,
    "start_time": "2022-02-03T11:45:11.584Z"
   },
   {
    "duration": 215,
    "start_time": "2022-02-03T11:45:39.615Z"
   },
   {
    "duration": 17,
    "start_time": "2022-02-03T11:45:49.828Z"
   },
   {
    "duration": 17,
    "start_time": "2022-02-03T11:45:54.746Z"
   },
   {
    "duration": 21,
    "start_time": "2022-02-03T11:48:11.634Z"
   },
   {
    "duration": 27,
    "start_time": "2022-02-03T11:48:26.579Z"
   },
   {
    "duration": 8,
    "start_time": "2022-02-03T11:49:28.626Z"
   },
   {
    "duration": 5,
    "start_time": "2022-02-03T11:51:11.092Z"
   },
   {
    "duration": 71,
    "start_time": "2022-02-03T11:53:25.397Z"
   },
   {
    "duration": 67,
    "start_time": "2022-02-03T11:53:42.307Z"
   },
   {
    "duration": 387,
    "start_time": "2022-02-03T11:54:27.805Z"
   },
   {
    "duration": 56,
    "start_time": "2022-02-03T11:54:36.655Z"
   },
   {
    "duration": 62,
    "start_time": "2022-02-03T11:54:50.453Z"
   },
   {
    "duration": 78,
    "start_time": "2022-02-03T11:55:36.687Z"
   },
   {
    "duration": 4,
    "start_time": "2022-02-03T11:59:35.435Z"
   },
   {
    "duration": 12,
    "start_time": "2022-02-03T11:59:52.565Z"
   },
   {
    "duration": 69,
    "start_time": "2022-02-03T12:00:20.406Z"
   },
   {
    "duration": 13,
    "start_time": "2022-02-03T12:01:08.395Z"
   },
   {
    "duration": 342,
    "start_time": "2022-02-03T12:02:14.718Z"
   },
   {
    "duration": 15,
    "start_time": "2022-02-03T12:02:24.351Z"
   },
   {
    "duration": 5,
    "start_time": "2022-02-03T12:03:14.853Z"
   },
   {
    "duration": 105,
    "start_time": "2022-02-03T12:14:18.066Z"
   },
   {
    "duration": 14,
    "start_time": "2022-02-03T12:15:06.456Z"
   },
   {
    "duration": 16,
    "start_time": "2022-02-03T12:15:51.465Z"
   },
   {
    "duration": 383,
    "start_time": "2022-02-03T12:16:16.544Z"
   },
   {
    "duration": 13,
    "start_time": "2022-02-03T12:16:33.325Z"
   },
   {
    "duration": 362,
    "start_time": "2022-02-03T12:16:38.158Z"
   },
   {
    "duration": 18,
    "start_time": "2022-02-03T12:16:40.947Z"
   },
   {
    "duration": 27,
    "start_time": "2022-02-03T12:16:51.356Z"
   },
   {
    "duration": 6,
    "start_time": "2022-02-03T12:16:55.036Z"
   },
   {
    "duration": 17,
    "start_time": "2022-02-03T12:16:58.721Z"
   },
   {
    "duration": 5,
    "start_time": "2022-02-03T12:17:01.215Z"
   },
   {
    "duration": 17,
    "start_time": "2022-02-03T12:17:04.015Z"
   },
   {
    "duration": 13,
    "start_time": "2022-02-03T12:25:09.529Z"
   },
   {
    "duration": 13,
    "start_time": "2022-02-03T12:26:12.536Z"
   },
   {
    "duration": 17,
    "start_time": "2022-02-03T12:27:04.207Z"
   },
   {
    "duration": 5,
    "start_time": "2022-02-03T12:27:42.740Z"
   },
   {
    "duration": 63,
    "start_time": "2022-02-03T12:28:49.312Z"
   },
   {
    "duration": 6,
    "start_time": "2022-02-03T12:45:40.995Z"
   },
   {
    "duration": 96,
    "start_time": "2022-02-03T12:45:51.544Z"
   },
   {
    "duration": 5,
    "start_time": "2022-02-03T12:46:00.298Z"
   },
   {
    "duration": 6,
    "start_time": "2022-02-03T12:46:30.315Z"
   },
   {
    "duration": 5,
    "start_time": "2022-02-03T12:54:14.656Z"
   },
   {
    "duration": 6,
    "start_time": "2022-02-03T12:55:48.206Z"
   },
   {
    "duration": 610,
    "start_time": "2022-02-12T08:52:35.847Z"
   },
   {
    "duration": 11,
    "start_time": "2022-02-12T08:52:36.459Z"
   },
   {
    "duration": 27,
    "start_time": "2022-02-12T08:52:36.472Z"
   },
   {
    "duration": 15,
    "start_time": "2022-02-12T08:52:36.501Z"
   },
   {
    "duration": 16,
    "start_time": "2022-02-12T08:52:36.517Z"
   },
   {
    "duration": 29,
    "start_time": "2022-02-12T08:52:36.534Z"
   },
   {
    "duration": 3767,
    "start_time": "2022-02-12T08:52:36.565Z"
   },
   {
    "duration": 12,
    "start_time": "2022-02-12T08:52:40.334Z"
   },
   {
    "duration": 24,
    "start_time": "2022-02-12T08:52:40.348Z"
   },
   {
    "duration": 27,
    "start_time": "2022-02-12T08:52:40.374Z"
   },
   {
    "duration": 267,
    "start_time": "2022-02-12T08:52:40.403Z"
   },
   {
    "duration": 14,
    "start_time": "2022-02-12T08:52:40.672Z"
   },
   {
    "duration": 27,
    "start_time": "2022-02-12T08:52:40.698Z"
   },
   {
    "duration": 7,
    "start_time": "2022-02-12T08:52:40.727Z"
   },
   {
    "duration": 20,
    "start_time": "2022-02-12T08:52:40.736Z"
   },
   {
    "duration": 6,
    "start_time": "2022-02-12T08:52:40.758Z"
   },
   {
    "duration": 51,
    "start_time": "2022-02-12T08:52:40.765Z"
   },
   {
    "duration": 6,
    "start_time": "2022-02-12T08:52:40.818Z"
   },
   {
    "duration": 22,
    "start_time": "2022-02-12T08:52:40.825Z"
   },
   {
    "duration": 6,
    "start_time": "2022-02-12T08:52:40.849Z"
   },
   {
    "duration": 4,
    "start_time": "2022-02-12T08:52:40.857Z"
   },
   {
    "duration": 299,
    "start_time": "2022-02-15T08:38:42.437Z"
   },
   {
    "duration": 628,
    "start_time": "2022-02-15T13:56:46.664Z"
   },
   {
    "duration": 9,
    "start_time": "2022-02-15T13:56:52.095Z"
   },
   {
    "duration": 399,
    "start_time": "2022-02-15T13:58:48.735Z"
   },
   {
    "duration": 413,
    "start_time": "2022-02-15T13:59:07.375Z"
   },
   {
    "duration": 1407,
    "start_time": "2022-02-15T13:59:08.874Z"
   },
   {
    "duration": 10,
    "start_time": "2022-02-15T14:00:25.458Z"
   },
   {
    "duration": 11,
    "start_time": "2022-02-15T14:01:05.765Z"
   },
   {
    "duration": 11,
    "start_time": "2022-02-15T14:01:12.271Z"
   },
   {
    "duration": 13,
    "start_time": "2022-02-15T14:05:04.896Z"
   },
   {
    "duration": 60,
    "start_time": "2022-02-15T15:26:43.654Z"
   },
   {
    "duration": 13,
    "start_time": "2022-02-15T15:26:50.482Z"
   },
   {
    "duration": 386,
    "start_time": "2022-02-15T15:26:54.613Z"
   },
   {
    "duration": 13,
    "start_time": "2022-02-15T15:27:29.578Z"
   },
   {
    "duration": 15,
    "start_time": "2022-02-15T15:27:40.843Z"
   },
   {
    "duration": 12,
    "start_time": "2022-02-15T15:27:45.623Z"
   },
   {
    "duration": 13,
    "start_time": "2022-02-15T15:28:17.461Z"
   },
   {
    "duration": 105,
    "start_time": "2022-02-15T15:29:26.811Z"
   },
   {
    "duration": 8,
    "start_time": "2022-02-15T15:30:28.433Z"
   },
   {
    "duration": 6,
    "start_time": "2022-02-15T15:30:37.180Z"
   },
   {
    "duration": 6,
    "start_time": "2022-02-15T15:30:41.383Z"
   },
   {
    "duration": 14,
    "start_time": "2022-02-15T15:31:14.292Z"
   },
   {
    "duration": 61,
    "start_time": "2022-02-15T15:48:52.522Z"
   },
   {
    "duration": 324,
    "start_time": "2022-02-15T15:51:03.072Z"
   },
   {
    "duration": 348,
    "start_time": "2022-02-15T15:51:13.226Z"
   },
   {
    "duration": 15,
    "start_time": "2022-02-15T15:51:28.092Z"
   },
   {
    "duration": 21,
    "start_time": "2022-02-15T15:51:56.824Z"
   },
   {
    "duration": 12,
    "start_time": "2022-02-15T15:52:02.041Z"
   },
   {
    "duration": 381,
    "start_time": "2022-02-15T15:54:09.378Z"
   },
   {
    "duration": 351,
    "start_time": "2022-02-15T15:54:30.365Z"
   },
   {
    "duration": 9,
    "start_time": "2022-02-15T15:54:57.101Z"
   },
   {
    "duration": 10,
    "start_time": "2022-02-15T16:00:27.526Z"
   },
   {
    "duration": 7,
    "start_time": "2022-02-15T16:02:27.482Z"
   },
   {
    "duration": 567,
    "start_time": "2022-02-15T16:02:36.626Z"
   },
   {
    "duration": 376,
    "start_time": "2022-02-15T16:12:36.204Z"
   },
   {
    "duration": 8,
    "start_time": "2022-02-15T16:13:15.723Z"
   },
   {
    "duration": 61,
    "start_time": "2022-02-15T16:13:28.460Z"
   },
   {
    "duration": 9,
    "start_time": "2022-02-15T16:13:33.374Z"
   },
   {
    "duration": 12,
    "start_time": "2022-02-15T16:13:36.783Z"
   },
   {
    "duration": 17,
    "start_time": "2022-02-15T16:14:12.006Z"
   },
   {
    "duration": 26,
    "start_time": "2022-02-15T16:18:09.043Z"
   },
   {
    "duration": 18,
    "start_time": "2022-02-15T16:18:27.005Z"
   },
   {
    "duration": 371,
    "start_time": "2022-02-15T16:21:37.909Z"
   },
   {
    "duration": 328,
    "start_time": "2022-02-15T16:21:48.018Z"
   },
   {
    "duration": 326,
    "start_time": "2022-02-15T16:22:43.367Z"
   },
   {
    "duration": 326,
    "start_time": "2022-02-15T16:23:08.526Z"
   },
   {
    "duration": 322,
    "start_time": "2022-02-15T16:23:32.554Z"
   },
   {
    "duration": 328,
    "start_time": "2022-02-15T16:24:24.664Z"
   },
   {
    "duration": 333,
    "start_time": "2022-02-15T16:24:51.714Z"
   },
   {
    "duration": 328,
    "start_time": "2022-02-15T16:25:38.800Z"
   },
   {
    "duration": 53,
    "start_time": "2022-02-15T16:27:35.689Z"
   },
   {
    "duration": 8860,
    "start_time": "2022-02-15T16:28:05.927Z"
   },
   {
    "duration": 9,
    "start_time": "2022-02-15T16:28:24.827Z"
   },
   {
    "duration": 8919,
    "start_time": "2022-02-15T16:28:30.469Z"
   },
   {
    "duration": 8669,
    "start_time": "2022-02-15T16:28:43.797Z"
   },
   {
    "duration": 8,
    "start_time": "2022-02-15T16:35:06.909Z"
   },
   {
    "duration": 8,
    "start_time": "2022-02-15T16:35:23.190Z"
   },
   {
    "duration": 9,
    "start_time": "2022-02-15T16:36:22.844Z"
   },
   {
    "duration": 12,
    "start_time": "2022-02-15T16:36:35.484Z"
   },
   {
    "duration": 18,
    "start_time": "2022-02-15T16:36:59.643Z"
   },
   {
    "duration": 16,
    "start_time": "2022-02-15T16:37:24.285Z"
   },
   {
    "duration": 19,
    "start_time": "2022-02-15T16:38:06.142Z"
   },
   {
    "duration": 15,
    "start_time": "2022-02-15T16:38:54.652Z"
   },
   {
    "duration": 61,
    "start_time": "2022-02-15T16:39:03.354Z"
   },
   {
    "duration": 9,
    "start_time": "2022-02-15T16:39:12.694Z"
   },
   {
    "duration": 19,
    "start_time": "2022-02-15T16:39:16.855Z"
   },
   {
    "duration": 9,
    "start_time": "2022-02-15T16:39:53.573Z"
   },
   {
    "duration": 9,
    "start_time": "2022-02-15T16:40:16.840Z"
   },
   {
    "duration": 12,
    "start_time": "2022-02-15T16:40:20.691Z"
   },
   {
    "duration": 13,
    "start_time": "2022-02-15T16:40:24.340Z"
   },
   {
    "duration": 12,
    "start_time": "2022-02-15T16:40:42.554Z"
   },
   {
    "duration": 14,
    "start_time": "2022-02-15T16:43:09.863Z"
   },
   {
    "duration": 25,
    "start_time": "2022-02-15T16:43:12.559Z"
   },
   {
    "duration": 3650,
    "start_time": "2022-02-15T16:43:22.553Z"
   },
   {
    "duration": 14,
    "start_time": "2022-02-15T16:43:26.388Z"
   },
   {
    "duration": 11,
    "start_time": "2022-02-15T16:43:37.142Z"
   },
   {
    "duration": 208,
    "start_time": "2022-02-15T16:43:42.771Z"
   },
   {
    "duration": 11,
    "start_time": "2022-02-15T16:43:47.293Z"
   },
   {
    "duration": 387,
    "start_time": "2022-02-15T16:44:37.734Z"
   },
   {
    "duration": 20,
    "start_time": "2022-02-15T16:44:45.530Z"
   },
   {
    "duration": 10,
    "start_time": "2022-02-15T16:44:51.192Z"
   },
   {
    "duration": 5,
    "start_time": "2022-02-15T16:45:16.585Z"
   },
   {
    "duration": 5,
    "start_time": "2022-02-15T16:45:25.816Z"
   },
   {
    "duration": 18,
    "start_time": "2022-02-15T16:46:13.257Z"
   },
   {
    "duration": 5,
    "start_time": "2022-02-15T16:46:29.722Z"
   },
   {
    "duration": 391,
    "start_time": "2022-02-15T16:47:16.413Z"
   },
   {
    "duration": 474,
    "start_time": "2022-02-15T16:47:37.343Z"
   },
   {
    "duration": 400,
    "start_time": "2022-02-15T16:48:08.905Z"
   },
   {
    "duration": 6,
    "start_time": "2022-02-15T16:48:19.653Z"
   },
   {
    "duration": 5,
    "start_time": "2022-02-15T16:48:28.234Z"
   },
   {
    "duration": 6,
    "start_time": "2022-02-15T16:50:30.221Z"
   },
   {
    "duration": 5,
    "start_time": "2022-02-15T16:50:43.808Z"
   },
   {
    "duration": 6,
    "start_time": "2022-02-15T16:51:05.310Z"
   },
   {
    "duration": 5,
    "start_time": "2022-02-15T16:51:12.352Z"
   },
   {
    "duration": 16,
    "start_time": "2022-02-15T16:52:10.351Z"
   },
   {
    "duration": 6,
    "start_time": "2022-02-15T16:52:12.780Z"
   },
   {
    "duration": 17,
    "start_time": "2022-02-15T16:53:13.626Z"
   },
   {
    "duration": 5,
    "start_time": "2022-02-15T16:53:42.396Z"
   },
   {
    "duration": 631,
    "start_time": "2022-07-01T14:53:41.641Z"
   },
   {
    "duration": 15,
    "start_time": "2022-07-01T14:54:51.153Z"
   },
   {
    "duration": 10,
    "start_time": "2022-07-01T14:55:02.144Z"
   },
   {
    "duration": 33,
    "start_time": "2022-07-01T14:55:23.359Z"
   },
   {
    "duration": 27,
    "start_time": "2022-07-01T14:56:15.579Z"
   },
   {
    "duration": 18,
    "start_time": "2022-07-01T14:56:36.712Z"
   },
   {
    "duration": 16,
    "start_time": "2022-07-01T14:57:29.736Z"
   },
   {
    "duration": 17,
    "start_time": "2022-07-01T14:57:56.432Z"
   },
   {
    "duration": 30,
    "start_time": "2022-07-01T14:58:03.487Z"
   },
   {
    "duration": 88,
    "start_time": "2022-07-01T15:07:15.780Z"
   },
   {
    "duration": 11,
    "start_time": "2022-07-01T15:12:35.884Z"
   },
   {
    "duration": 20,
    "start_time": "2022-07-01T15:12:37.269Z"
   },
   {
    "duration": 19,
    "start_time": "2022-07-01T15:12:41.357Z"
   },
   {
    "duration": 63,
    "start_time": "2022-07-01T15:14:24.624Z"
   },
   {
    "duration": 18,
    "start_time": "2022-07-01T15:14:42.244Z"
   },
   {
    "duration": 16,
    "start_time": "2022-07-01T15:14:46.670Z"
   },
   {
    "duration": 78,
    "start_time": "2022-07-01T15:16:11.759Z"
   },
   {
    "duration": 11,
    "start_time": "2022-07-01T15:16:14.519Z"
   },
   {
    "duration": 17,
    "start_time": "2022-07-01T15:16:15.178Z"
   },
   {
    "duration": 17,
    "start_time": "2022-07-01T15:16:15.800Z"
   },
   {
    "duration": 16,
    "start_time": "2022-07-01T15:16:19.661Z"
   },
   {
    "duration": 54,
    "start_time": "2022-07-01T15:16:28.119Z"
   },
   {
    "duration": 23,
    "start_time": "2022-07-01T15:16:33.017Z"
   },
   {
    "duration": 30,
    "start_time": "2022-07-01T15:16:35.810Z"
   },
   {
    "duration": 52,
    "start_time": "2022-07-01T15:31:23.600Z"
   },
   {
    "duration": 21,
    "start_time": "2022-07-01T15:31:37.909Z"
   },
   {
    "duration": 38,
    "start_time": "2022-07-01T15:31:38.185Z"
   },
   {
    "duration": 88,
    "start_time": "2022-07-01T15:32:37.067Z"
   },
   {
    "duration": 8,
    "start_time": "2022-07-01T15:32:45.295Z"
   },
   {
    "duration": 7,
    "start_time": "2022-07-01T15:32:50.911Z"
   },
   {
    "duration": 89,
    "start_time": "2022-07-01T15:32:57.601Z"
   },
   {
    "duration": 9,
    "start_time": "2022-07-01T15:32:59.597Z"
   },
   {
    "duration": 20,
    "start_time": "2022-07-01T15:33:00.047Z"
   },
   {
    "duration": 22,
    "start_time": "2022-07-01T15:33:00.489Z"
   },
   {
    "duration": 16,
    "start_time": "2022-07-01T15:33:02.340Z"
   },
   {
    "duration": 69,
    "start_time": "2022-07-01T15:33:03.831Z"
   },
   {
    "duration": 18,
    "start_time": "2022-07-01T15:33:04.805Z"
   },
   {
    "duration": 54,
    "start_time": "2022-07-01T15:33:06.153Z"
   },
   {
    "duration": 14,
    "start_time": "2022-07-01T15:36:02.804Z"
   },
   {
    "duration": 149,
    "start_time": "2022-07-01T15:36:08.207Z"
   },
   {
    "duration": 15,
    "start_time": "2022-07-01T15:36:21.815Z"
   },
   {
    "duration": 21,
    "start_time": "2022-07-01T15:37:40.483Z"
   },
   {
    "duration": 7,
    "start_time": "2022-07-01T15:37:41.083Z"
   },
   {
    "duration": 15,
    "start_time": "2022-07-01T15:37:42.840Z"
   },
   {
    "duration": 6,
    "start_time": "2022-07-01T15:37:45.315Z"
   },
   {
    "duration": 20,
    "start_time": "2022-07-01T15:38:37.646Z"
   },
   {
    "duration": 7,
    "start_time": "2022-07-01T15:38:38.854Z"
   },
   {
    "duration": 16,
    "start_time": "2022-07-01T15:38:45.079Z"
   },
   {
    "duration": 557,
    "start_time": "2022-08-10T04:33:07.322Z"
   },
   {
    "duration": 8,
    "start_time": "2022-08-10T04:33:07.881Z"
   },
   {
    "duration": 16,
    "start_time": "2022-08-10T04:33:07.890Z"
   },
   {
    "duration": 15,
    "start_time": "2022-08-10T04:33:07.908Z"
   },
   {
    "duration": 37,
    "start_time": "2022-08-10T04:33:07.924Z"
   },
   {
    "duration": 50,
    "start_time": "2022-08-10T04:33:07.962Z"
   },
   {
    "duration": 16,
    "start_time": "2022-08-10T04:33:08.013Z"
   },
   {
    "duration": 53,
    "start_time": "2022-08-10T04:33:08.031Z"
   },
   {
    "duration": 3116,
    "start_time": "2022-08-10T04:33:08.086Z"
   },
   {
    "duration": 8,
    "start_time": "2022-08-10T04:33:11.204Z"
   },
   {
    "duration": 15,
    "start_time": "2022-08-10T04:33:11.213Z"
   },
   {
    "duration": 29,
    "start_time": "2022-08-10T04:33:11.230Z"
   },
   {
    "duration": 140,
    "start_time": "2022-08-10T04:33:11.261Z"
   },
   {
    "duration": 10,
    "start_time": "2022-08-10T04:33:11.402Z"
   },
   {
    "duration": 21,
    "start_time": "2022-08-10T04:33:11.414Z"
   },
   {
    "duration": 20,
    "start_time": "2022-08-10T04:33:11.436Z"
   },
   {
    "duration": 15,
    "start_time": "2022-08-10T04:33:11.458Z"
   },
   {
    "duration": 6,
    "start_time": "2022-08-10T04:33:11.474Z"
   },
   {
    "duration": 16,
    "start_time": "2022-08-10T04:33:11.481Z"
   },
   {
    "duration": 5,
    "start_time": "2022-08-10T04:33:11.498Z"
   },
   {
    "duration": 16,
    "start_time": "2022-08-10T04:33:11.505Z"
   },
   {
    "duration": 6,
    "start_time": "2022-08-10T04:33:11.555Z"
   }
  ],
  "kernelspec": {
   "display_name": "Python 3 (ipykernel)",
   "language": "python",
   "name": "python3"
  },
  "language_info": {
   "codemirror_mode": {
    "name": "ipython",
    "version": 3
   },
   "file_extension": ".py",
   "mimetype": "text/x-python",
   "name": "python",
   "nbconvert_exporter": "python",
   "pygments_lexer": "ipython3",
   "version": "3.9.5"
  },
  "toc": {
   "base_numbering": 1,
   "nav_menu": {},
   "number_sections": true,
   "sideBar": true,
   "skip_h1_title": true,
   "title_cell": "Table of Contents",
   "title_sidebar": "Contents",
   "toc_cell": false,
   "toc_position": {},
   "toc_section_display": true,
   "toc_window_display": false
  }
 },
 "nbformat": 4,
 "nbformat_minor": 2
}
